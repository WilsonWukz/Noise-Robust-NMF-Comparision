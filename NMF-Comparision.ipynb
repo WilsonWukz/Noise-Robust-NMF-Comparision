{
 "cells": [
  {
   "cell_type": "markdown",
   "id": "bc7e38aa-4205-41aa-a178-e3b380eaba8b",
   "metadata": {},
   "source": [
    "# Import and Set the Default Random Seed"
   ]
  },
  {
   "cell_type": "code",
   "execution_count": 2,
   "id": "0cc42368-d117-4720-9b5d-50a88ac75754",
   "metadata": {},
   "outputs": [],
   "source": [
    "#All Imported Packages\n",
    "import os\n",
    "import time\n",
    "import numpy as np\n",
    "import pandas as pd\n",
    "from math import log\n",
    "from tqdm import tqdm\n",
    "from PIL import Image\n",
    "from collections import Counter\n",
    "import matplotlib.pyplot as plt\n",
    "from sklearn.cluster import KMeans\n",
    "from scipy.cluster.vq import kmeans2\n",
    "from sklearn.metrics import accuracy_score\n",
    "from scipy.optimize import linear_sum_assignment\n",
    "from sklearn.metrics import normalized_mutual_info_score\n",
    "\n",
    "# Default Random Seeds\n",
    "np.random.seed(42)"
   ]
  },
  {
   "cell_type": "markdown",
   "id": "30306367-9375-4ca3-95d9-84ea30d27ea5",
   "metadata": {},
   "source": [
    "# Define Data Loading"
   ]
  },
  {
   "cell_type": "code",
   "execution_count": 3,
   "id": "28e94254-e093-4c18-8f82-cfb0403b1d11",
   "metadata": {},
   "outputs": [],
   "source": [
    "def load_data(root='data/CroppedYaleB', reduce=4):\n",
    "    \"\"\" \n",
    "    Load ORL (or Extended YaleB) dataset to numpy array.\n",
    "    \n",
    "    Args:\n",
    "        root: path to dataset.\n",
    "        reduce: scale factor for zooming out images.\n",
    "        \n",
    "    \"\"\" \n",
    "    images, labels = [], []\n",
    "\n",
    "    for i, person in enumerate(sorted(os.listdir(root))):\n",
    "        \n",
    "        if not os.path.isdir(os.path.join(root, person)):\n",
    "            continue\n",
    "        \n",
    "        for fname in os.listdir(os.path.join(root, person)):    \n",
    "            \n",
    "            if fname.endswith('Ambient.pgm'):\n",
    "                continue\n",
    "            \n",
    "            if not fname.endswith('.pgm'):\n",
    "                continue\n",
    "                \n",
    "            img = Image.open(os.path.join(root, person, fname))\n",
    "            img = img.convert('L') \n",
    "\n",
    "            img = img.resize([s//reduce for s in img.size])\n",
    "\n",
    "            img  = np.asarray(img, dtype='float32')\n",
    "            # Normalize pixel values to [0,1]\n",
    "            img = img / 255\n",
    "\n",
    "            # Mean centering or variance scaling\n",
    "            img /= np.linalg.norm(img) + 1e-8\n",
    "\n",
    "            # convert image to numpy array.\n",
    "            img = img.reshape((-1,1))\n",
    "\n",
    "            # collect data and label.\n",
    "            images.append(img)\n",
    "            labels.append(i)\n",
    "\n",
    "    # concate all images and labels.\n",
    "    images = np.concatenate(images, axis=1)\n",
    "    labels = np.array(labels)\n",
    "\n",
    "    return images, labels"
   ]
  },
  {
   "cell_type": "markdown",
   "id": "83a6e891-54cb-412b-9fd5-e824e62e2c24",
   "metadata": {},
   "source": [
    "# Define Salt & Pepper Noise Function"
   ]
  },
  {
   "cell_type": "code",
   "execution_count": 4,
   "id": "dc5f487c-ddb7-4089-bec0-b746efcc2be0",
   "metadata": {},
   "outputs": [],
   "source": [
    "def salt_pepper(X, p=0.4, r=0.3):\n",
    "    \"\"\"\n",
    "    Add salt-and-pepper noise to an image matrix (X) ensuring the total\n",
    "    proportion of corrupted pixels is exactly 'p'.\n",
    "\n",
    "    Args:\n",
    "        X (np.ndarray): Original image matrix with values in [0,1].\n",
    "        p (float): Total proportion of pixels to corrupt (p).\n",
    "        r (float): Fraction of corrupted pixels to set as white (salt).\n",
    "\n",
    "    Returns:\n",
    "        X_noisy (np.ndarray): Noisy image matrix.\n",
    "        noise (np.ndarray): Noise matrix (1.0 for salt, -1.0 for pepper, 0.0 otherwise).\n",
    "    \"\"\"\n",
    "        \n",
    "    X_noisy = X.copy()\n",
    "    noise = np.zeros_like(X, dtype=np.float32)\n",
    "    \n",
    "    num_pixels = X_noisy.size\n",
    "    num_noise = int(num_pixels * p)\n",
    "\n",
    "    if num_noise == 0:\n",
    "        return X_noisy, noise\n",
    "\n",
    "    all_noise_coord = np.random.choice(num_pixels, num_noise, replace=False)\n",
    "    \n",
    "    num_salt = int(num_noise * r)\n",
    "    num_pepper = num_noise - num_salt\n",
    "    \n",
    "    np.random.shuffle(all_noise_coord)\n",
    "    salt_coord = all_noise_coord[:num_salt]\n",
    "    pepper_coord = all_noise_coord[num_salt:]\n",
    "\n",
    "    X_noisy.flat[salt_coord] = 1.0\n",
    "    noise.flat[salt_coord] = 1.0\n",
    "    \n",
    "    X_noisy.flat[pepper_coord] = 0.0\n",
    "    noise.flat[pepper_coord] = -1.0\n",
    "        \n",
    "    return X_noisy, noise"
   ]
  },
  {
   "cell_type": "code",
   "execution_count": 5,
   "id": "e67aefa0-0436-4363-abaa-26e81a8855d2",
   "metadata": {},
   "outputs": [],
   "source": [
    "def load_data_salt_pepper(root='data/CroppedYaleB', reduce=4, p=0, r=0):\n",
    "    \"\"\" \n",
    "    Load ORL (or Extended YaleB) dataset to numpy array.\n",
    "    \n",
    "    Args:\n",
    "        root: path to dataset.\n",
    "        reduce: scale factor for zooming out images.\n",
    "        \n",
    "    \"\"\" \n",
    "    images, labels = [], []\n",
    "\n",
    "    for i, person in enumerate(sorted(os.listdir(root))):\n",
    "        \n",
    "        if not os.path.isdir(os.path.join(root, person)):\n",
    "            continue\n",
    "        \n",
    "        for fname in os.listdir(os.path.join(root, person)):    \n",
    "            \n",
    "            # Remove background images in Extended YaleB dataset.\n",
    "            if fname.endswith('Ambient.pgm'):\n",
    "                continue\n",
    "            \n",
    "            if not fname.endswith('.pgm'):\n",
    "                continue\n",
    "                \n",
    "            # load image.\n",
    "            img = Image.open(os.path.join(root, person, fname))\n",
    "            img = img.convert('L') # grey image.\n",
    "\n",
    "            # reduce computation complexity.\n",
    "            img = img.resize([s//reduce for s in img.size])\n",
    "\n",
    "            # Convert to float\n",
    "            img  = np.asarray(img, dtype='float32')\n",
    "            img /= 255.0 \n",
    "            \n",
    "            # apply salt and pepper BEFORE L2 normalization\n",
    "            img, noise_mask = salt_pepper(img, p=p, r=r)\n",
    "            \n",
    "            # then L2-normalize\n",
    "            img /= (np.linalg.norm(img) + 1e-8)\n",
    "            \n",
    "            # convert image to numpy array.\n",
    "            img = img.reshape((-1,1))\n",
    "\n",
    "            # collect data and label.\n",
    "            images.append(img)\n",
    "            labels.append(i)\n",
    "\n",
    "    # concate all images and labels.\n",
    "    images = np.concatenate(images, axis=1)\n",
    "    labels = np.array(labels)\n",
    "\n",
    "    return images, labels"
   ]
  },
  {
   "cell_type": "markdown",
   "id": "3ce1f331-bd5a-4827-9897-3cb403e54b74",
   "metadata": {},
   "source": [
    "# Define NMF Algorithms"
   ]
  },
  {
   "cell_type": "markdown",
   "id": "409f64f8-fede-4f32-8736-16303f3b056e",
   "metadata": {},
   "source": [
    "## L2-Norm Based Non-negative Matrix Factorization (L2-Norm NMF)"
   ]
  },
  {
   "cell_type": "code",
   "execution_count": 7,
   "id": "3e64b0ea-9bd5-44db-8eff-cde847e74b46",
   "metadata": {},
   "outputs": [],
   "source": [
    "def L2_nmf(X, K, lr=0.001, steps=5000, tol=1e-2, verbose = True):\n",
    "    \"\"\"\n",
    "    Non-negative Matrix Factorization (NMF) for \n",
    "    the basic L2 (Frobenius) objective function.\n",
    "\n",
    "    Parameters:\n",
    "    1. X: Input matrix (M x N), must be non-negative.\n",
    "    2. K: Rank of factorization (number of latent features).\n",
    "    3. steps: Maximum number of iterations.\n",
    "    4. tol: Tolerance for early stopping based on error change.\n",
    "    5. verbose: If True, prints error every 10 steps.\n",
    "    \n",
    "    Returns:\n",
    "    W: Basis matrix (M x K).\n",
    "    H: Coefficient matrix (K x N).\n",
    "    WH: The final reconstructed matrix W @ H.\n",
    "    \"\"\"\n",
    "    M , N = X.shape\n",
    "    # X = X / np.linalg.norm(X, \"fro\")\n",
    "    W = np.random.rand(M, K) * np.sqrt(np.mean(X))\n",
    "    H = np.random.rand(K, N) * np.sqrt(np.mean(X))\n",
    "\n",
    "    tol = tol\n",
    "    prev_e=0\n",
    "    \n",
    "    for step in range(steps):\n",
    "        WH = W @ H\n",
    "        e = np.linalg.norm(X - WH, \"fro\")**2\n",
    "\n",
    "        dW = -2 * X @ H.T + 2 * W @ (H @ H.T)\n",
    "        dH = -2 * W.T @ X + 2 * (W.T @ W) @ H\n",
    "\n",
    "        W -= lr * dW\n",
    "        H -= lr * dH\n",
    "\n",
    "        # enforce non-negativity\n",
    "        W = np.maximum(W, 0)\n",
    "        H = np.maximum(H, 0)\n",
    "\n",
    "        if step % 10 == 0:\n",
    "            print(f'step:{step}, e:{e:.4f}')\n",
    "        if step > 0:\n",
    "            rel_change = abs(e - prev_e) / (prev_e + 1e-12)\n",
    "            if rel_change < tol:   \n",
    "                print(f'Converged at step {step}, e = {e:.4f}, rel_change={rel_change:.3e}')\n",
    "                break\n",
    "        prev_e = e\n",
    "\n",
    "    return W, H, WH, step+1"
   ]
  },
  {
   "cell_type": "markdown",
   "id": "2592632d-82c4-419d-801a-c16b21d252cf",
   "metadata": {},
   "source": [
    "## Lee--Seung Multiplicative Update NMF (MU-L2)"
   ]
  },
  {
   "cell_type": "code",
   "execution_count": 8,
   "id": "88e8e7b2-097b-431b-8adc-1e58431ad71e",
   "metadata": {},
   "outputs": [],
   "source": [
    "def L2Lee_Seung(X, K, steps=10000, tol=1e-2, epsilon=1e-9, verbose=True):\n",
    "    \"\"\"\n",
    "    Non-negative Matrix Factorization (NMF) using Lee & Seung's \n",
    "    Multiplicative Update (MU) rules for the L2 (Frobenius) objective function.\n",
    "\n",
    "    Parameters:\n",
    "    1. X: Input matrix (M x N), must be non-negative.\n",
    "    2. K: Rank of factorization (number of latent features).\n",
    "    3. steps: Maximum number of iterations.\n",
    "    4. tol: Tolerance for early stopping based on error change.\n",
    "    5. verbose: If True, prints error every 10 steps.\n",
    "    \n",
    "    Returns:\n",
    "    W: Basis matrix (M x K).\n",
    "    H: Coefficient matrix (K x N).\n",
    "    reconstruction: The final reconstructed matrix W @ H.\n",
    "    \"\"\"\n",
    "    M, N = X.shape\n",
    "    avg_X = np.mean(X)\n",
    "    W = np.random.rand(M, K) * np.sqrt(avg_X)\n",
    "    H = np.random.rand(K, N) * np.sqrt(avg_X)\n",
    "\n",
    "    prev_e = 0\n",
    "    epsilon = epsilon\n",
    "    for step in range(steps):\n",
    "        WH = W @ H\n",
    "        e = np.linalg.norm(X - WH, \"fro\")**2\n",
    "\n",
    "        numerator_H = W.T @ X\n",
    "        denominator_H = W.T @ W @ H\n",
    "\n",
    "        epsilon = epsilon         \n",
    "        H *= (numerator_H / (denominator_H + epsilon))\n",
    "\n",
    "        numerator_W = X @ H.T\n",
    "        denominator_W = W @ H @ H.T\n",
    "        W *= (numerator_W / (denominator_W + epsilon))\n",
    "\n",
    "        \n",
    "        if verbose and step % 10 == 0:\n",
    "            print(f'step:{step}, e:{e:.4f}')\n",
    "            \n",
    "        if step > 0:\n",
    "            rel_change = abs(e - prev_e) / (prev_e + 1e-12)\n",
    "            if rel_change < tol:   \n",
    "                print(f'Converged at step {step}, e = {e:.4f}, rel_change={rel_change:.3e}')\n",
    "                break\n",
    "        prev_e = e\n",
    "\n",
    "    return W, H, WH, step+1"
   ]
  },
  {
   "cell_type": "markdown",
   "id": "c8170f43-84ff-49be-9234-216a65c0a988",
   "metadata": {},
   "source": [
    "## L1-Norm Regularized Robust NMF"
   ]
  },
  {
   "cell_type": "code",
   "execution_count": 9,
   "id": "d5329514-e8a5-4958-ab0c-a1bd3d6c48d8",
   "metadata": {},
   "outputs": [],
   "source": [
    "def l1_nmf_corrected(X, rank=40, steps=500, tol=1e-4, \n",
    "                     lambda_h=0.0, lambda_w=0.0, eps=1e-8):\n",
    "    m, n = X.shape\n",
    "    norm_X = np.linalg.norm(X)\n",
    "    lambda_h = lambda_h / norm_X\n",
    "    lambda_w = lambda_w / norm_X\n",
    "    \n",
    "    W = np.abs(np.random.randn(m, rank)).astype(np.float32)\n",
    "    H = np.abs(np.random.randn(rank, n)).astype(np.float32)\n",
    "    \n",
    "    # 外层IRLS迭代（权重更新）\n",
    "    for irls_iter in range(10):  # 通常5-10次IRLS迭代\n",
    "        # 1. 计算当前重构和残差（IRLS外层固定权重）\n",
    "        WH = W @ H\n",
    "        E_mat = X - WH\n",
    "        weight = 1.0 / np.sqrt(E_mat**2 + eps)  # 权重仅在此更新\n",
    "        \n",
    "        # 2. 内层NMF迭代（固定权重求解加权L2）\n",
    "        prev_E = np.inf\n",
    "        for step in range(steps):\n",
    "            # 更新H（带正则化）\n",
    "            num_H = W.T @ (weight * X)\n",
    "            den_H = W.T @ (weight * WH)\n",
    "            H *= num_H / (den_H + lambda_h + eps)  # 同时考虑H正则化\n",
    "            \n",
    "            # 更新W（带正则化）\n",
    "            WH = W @ H\n",
    "            num_W = (weight * X) @ H.T\n",
    "            den_W = (weight * WH) @ H.T\n",
    "            W *= num_W / (den_W + lambda_w + eps)  # 同时考虑W正则化\n",
    "            \n",
    "            # 收敛检查（使用加权Frobenius误差）\n",
    "            weighted_error = weight * (X - W @ H)\n",
    "            E_sq = np.sum(weighted_error ** 2)\n",
    "            if abs(E_sq - prev_E) / (prev_E + 1e-12) < tol:\n",
    "                break\n",
    "            prev_E = E_sq\n",
    "    \n",
    "    return W, H, W @ H, step + 1"
   ]
  },
  {
   "cell_type": "markdown",
   "id": "48d6a2fc-07a9-4816-9150-cc636c7e2787",
   "metadata": {},
   "source": [
    "## Hypersurface Cost-Based NMF (HCNMF)"
   ]
  },
  {
   "cell_type": "code",
   "execution_count": 10,
   "id": "1281d5a3-d2c9-4d7b-97bb-c60052d95bcd",
   "metadata": {},
   "outputs": [],
   "source": [
    "def hypersurface_nmf(X, rank=30, steps=100, tol=1e-3, delta=0.1, eps=1e-8, verbose=False):\n",
    "    \"\"\"\n",
    "    Corrected Hypersurface Cost-based NMF:\n",
    "        f(E) = sum( sqrt(1 + (E/delta)^2) - 1 )\n",
    "    \"\"\"\n",
    "    m, n = X.shape\n",
    "    W = np.abs(np.random.randn(m, rank)).astype(np.float32)\n",
    "    H = np.abs(np.random.randn(rank, n)).astype(np.float32)\n",
    "    \n",
    "    # 初始化超曲面代价\n",
    "    prev_cost = float('inf')\n",
    "    \n",
    "    for step in range(steps):\n",
    "        WH = W @ H\n",
    "        E = X - WH\n",
    "        \n",
    "        # 关键修复1: 正确计算权重\n",
    "        denom = np.sqrt(delta**2 + E**2)  # 注意：分母是sqrt(δ² + E²)\n",
    "        weights = 1.0 / (denom + eps)     # 避免除零\n",
    "        \n",
    "        # 更新H (使用标准加权NMF规则)\n",
    "        num_H = W.T @ (X * weights)\n",
    "        den_H = W.T @ (WH * weights) + eps\n",
    "        H *= num_H / den_H\n",
    "        \n",
    "        # 更新W (注意：使用更新后的H)\n",
    "        WH = W @ H\n",
    "        E = X - WH\n",
    "        denom = np.sqrt(delta**2 + E**2)\n",
    "        weights = 1.0 / (denom + eps)\n",
    "        \n",
    "        num_W = (X * weights) @ H.T\n",
    "        den_W = (WH * weights) @ H.T + eps\n",
    "        W *= num_W / den_W\n",
    "        \n",
    "        # 非负投影\n",
    "        W = np.clip(W, eps, None)\n",
    "        H = np.clip(H, eps, None)\n",
    "        \n",
    "        # 关键修复2: 使用超曲面代价判断收敛\n",
    "        current_cost = np.sum(np.sqrt(1 + (X - W @ H)**2 / delta**2) - 1)\n",
    "        \n",
    "        if verbose and (step % max(1, steps//10) == 0 or step == steps-1):\n",
    "            print(f\"step {step+1}/{steps} | Cost={current_cost:.6f} | Δ={abs(current_cost - prev_cost):.3e}\")\n",
    "        \n",
    "        # 检查收敛\n",
    "        if step > 0:\n",
    "            rel_change = abs(current_cost - prev_cost) / (prev_cost + 1e-12)\n",
    "            if rel_change < tol:\n",
    "                if verbose:\n",
    "                    print(f'Converged at step {step} | Cost={current_cost:.4f} | rel_change={rel_change:.3e}')\n",
    "                break\n",
    "        \n",
    "        prev_cost = current_cost\n",
    "\n",
    "    return W, H, W @ H, step + 1"
   ]
  },
  {
   "cell_type": "markdown",
   "id": "9aabdb32-4521-4e6b-9ae9-af5752e3bd97",
   "metadata": {},
   "source": [
    "## Deep NMF: Stacked NMF"
   ]
  },
  {
   "cell_type": "code",
   "execution_count": 11,
   "id": "2dccac18-50a8-4e88-82c9-9e136ab3324f",
   "metadata": {},
   "outputs": [],
   "source": [
    "import numpy as np\n",
    "def nmf_mu(X, K, steps=200, eps=1e-9, tol=None, verbose=False):\n",
    "    M, N = X.shape\n",
    "    avg_X = np.mean(X)\n",
    "    W = np.random.rand(M, K) * np.sqrt(avg_X)\n",
    "    H = np.random.rand(K, N) * np.sqrt(avg_X)\n",
    "\n",
    "    prev_e = 0\n",
    "    epsilon = eps\n",
    "    for step in range(steps):\n",
    "        WH = W @ H\n",
    "        e = np.linalg.norm(X - WH, \"fro\")**2\n",
    "\n",
    "        numerator_H = W.T @ X\n",
    "        denominator_H = W.T @ W @ H\n",
    "\n",
    "        epsilon = epsilon         \n",
    "        H *= (numerator_H / (denominator_H + epsilon))\n",
    "\n",
    "        numerator_W = X @ H.T\n",
    "        denominator_W = W @ H @ H.T\n",
    "        W *= (numerator_W / (denominator_W + epsilon))\n",
    "\n",
    "        \n",
    "        if verbose and step % 10 == 0:\n",
    "            print(f'step:{step}, e:{e:.4f}')\n",
    "            \n",
    "        if step > 0:\n",
    "            rel_change = abs(e - prev_e) / (prev_e + 1e-12)\n",
    "            if rel_change < tol:   \n",
    "                print(f'Converged at step {step}, e = {e:.4f}, rel_change={rel_change:.3e}')\n",
    "                break\n",
    "        prev_e = e\n",
    "\n",
    "    return W, H, step+1\n",
    "\n",
    "    \n",
    "def stacked_nmf_pretrain(X, layer_ranks, steps_per_layer=200, tol=1e-3,  eps=1e-9, verbose=False):\n",
    "    Y = X.copy()\n",
    "    Ws = []\n",
    "    H_final = None\n",
    "    for i, K in enumerate(layer_ranks):\n",
    "        if verbose:\n",
    "            print(f\"Pretraining layer {i+1}/{len(layer_ranks)}: factorizing matrix shape {Y.shape} -> rank {K}\")\n",
    "        W_i, H_i, step = nmf_mu(Y, K, steps = steps_per_layer, tol = tol, eps = eps, verbose = verbose)\n",
    "        Ws.append(W_i)\n",
    "        # for next layer, use H_i as data\n",
    "        Y = H_i\n",
    "        H_final = H_i  # final H will be last H_i\n",
    "    return Ws, H_final, step\n",
    "\n",
    "def reconstruct_from_stacked(Ws, H):\n",
    "    \"\"\"\n",
    "    Compute full reconstruction WH = W1 W2 ... WL H.\n",
    "    Ws: list of W_i, shapes must chain: W1(m,K1), W2(K1,K2), ...\n",
    "    H: final H (K_L, n)\n",
    "    \"\"\"\n",
    "    P = Ws[0]\n",
    "    for W in Ws[1:]:\n",
    "        P = P @ W\n",
    "    return P @ H\n",
    "    \n",
    "def stackedNMF(X, layer_ranks=[10, 6], steps_per_layer = 100, tol = 1e-3, eps=1e-9):\n",
    "    Ws, H_final, step = stacked_nmf_pretrain(X, layer_ranks, steps_per_layer=steps_per_layer, tol=tol,  eps=eps, verbose=False)\n",
    "    PH = reconstruct_from_stacked(Ws, H_final)\n",
    "    return H_final, PH, step"
   ]
  },
  {
   "cell_type": "markdown",
   "id": "08a008b4-77e1-486f-8acc-577a1320506a",
   "metadata": {},
   "source": [
    "# Define Evaluation Indicators (RRE, ACC, NMI)"
   ]
  },
  {
   "cell_type": "code",
   "execution_count": 12,
   "id": "df8fdf74-6db1-4653-993e-ee62bde9cbe9",
   "metadata": {},
   "outputs": [],
   "source": [
    "def relative_reconstruction_error(X, WH):\n",
    "    \"\"\"Compute the relative reconstruction error (RRE).\"\"\"\n",
    "    return np.linalg.norm(X - WH, 'fro') / (np.linalg.norm(X, 'fro') + 1e-12)\n",
    "\n",
    "def assign_cluster_label(X, Y):\n",
    "    kmeans = KMeans(n_clusters=len(set(Y))).fit(X)\n",
    "    Y_pred = np.zeros(Y.shape)\n",
    "    for i in set(kmeans.labels_):\n",
    "        ind = kmeans.labels_ == i\n",
    "        Y_pred[ind] = Counter(Y[ind]).most_common(1)[0][0]\n",
    "    return Y_pred\n",
    "    \n",
    "def evaluate_clustering(H, Y_true):\n",
    "    Y_pred = assign_cluster_label(H.T, Y_true)\n",
    "    acc = accuracy_score(Y_true, Y_pred)\n",
    "    nmi = normalized_mutual_info_score(Y_true, Y_pred)\n",
    "    print('Acc(NMI) = {:.4f} ({:.4f})'.format(acc, nmi))\n",
    "    return acc, nmi"
   ]
  },
  {
   "cell_type": "markdown",
   "id": "6a1ce021-675b-46e7-9559-56b6c6f0fdf8",
   "metadata": {},
   "source": [
    "# Test on ORL"
   ]
  },
  {
   "cell_type": "code",
   "execution_count": 13,
   "id": "d74bdf98-6b24-46f5-8013-db6142c132cd",
   "metadata": {},
   "outputs": [],
   "source": [
    "Data = 'ORL'"
   ]
  },
  {
   "cell_type": "markdown",
   "id": "76eca2af-5e80-4c52-b828-080716d6e090",
   "metadata": {},
   "source": [
    "## L2-Norm Based NMF"
   ]
  },
  {
   "cell_type": "code",
   "execution_count": 69,
   "id": "5528624f-48b6-48c7-abfe-00a04a133933",
   "metadata": {
    "scrolled": true
   },
   "outputs": [
    {
     "name": "stdout",
     "output_type": "stream",
     "text": [
      "step:0, e:27990.3098\n",
      "step:10, e:120.8248\n",
      "step:20, e:67.8195\n",
      "step:30, e:63.0898\n",
      "step:40, e:60.3754\n",
      "step:50, e:57.9227\n",
      "step:60, e:55.6929\n",
      "step:70, e:53.6621\n",
      "step:80, e:51.8106\n",
      "step:90, e:50.1201\n",
      "step:100, e:48.5749\n",
      "step:110, e:47.1607\n",
      "step:120, e:45.8649\n",
      "step:130, e:44.6768\n",
      "step:140, e:43.5866\n",
      "step:150, e:42.5852\n",
      "step:160, e:41.6643\n",
      "step:170, e:40.8167\n",
      "step:180, e:40.0360\n",
      "step:190, e:39.3159\n",
      "step:200, e:38.6509\n",
      "step:210, e:38.0364\n",
      "step:220, e:37.4678\n",
      "step:230, e:36.9411\n",
      "step:240, e:36.4525\n",
      "step:250, e:35.9989\n",
      "step:260, e:35.5770\n",
      "step:270, e:35.1840\n",
      "step:280, e:34.8172\n",
      "Converged at step 284, e = 34.6773, rel_change=9.974e-04\n",
      "Acc(NMI) = 0.2575 (0.4575)\n"
     ]
    },
    {
     "name": "stderr",
     "output_type": "stream",
     "text": [
      "D:\\Software\\Anaconda3\\anaconda3\\Lib\\site-packages\\sklearn\\cluster\\_kmeans.py:1429: UserWarning: KMeans is known to have a memory leak on Windows with MKL, when there are less chunks than available threads. You can avoid it by setting the environment variable OMP_NUM_THREADS=2.\n",
      "  warnings.warn(\n"
     ]
    },
    {
     "name": "stdout",
     "output_type": "stream",
     "text": [
      "step:0, e:25652.0430\n",
      "step:10, e:158.9074\n",
      "step:20, e:101.9868\n",
      "step:30, e:97.1986\n",
      "step:40, e:94.7741\n",
      "step:50, e:92.5843\n",
      "step:60, e:90.5844\n",
      "step:70, e:88.7555\n",
      "step:80, e:87.0804\n",
      "step:90, e:85.5442\n",
      "step:100, e:84.1340\n",
      "step:110, e:82.8381\n",
      "step:120, e:81.6461\n",
      "step:130, e:80.5491\n",
      "step:140, e:79.5384\n",
      "step:150, e:78.6069\n",
      "step:160, e:77.7475\n",
      "step:170, e:76.9541\n",
      "Converged at step 170, e = 76.9541, rel_change=9.933e-04\n",
      "Acc(NMI) = 0.1800 (0.3355)\n"
     ]
    },
    {
     "name": "stderr",
     "output_type": "stream",
     "text": [
      "D:\\Software\\Anaconda3\\anaconda3\\Lib\\site-packages\\sklearn\\cluster\\_kmeans.py:1429: UserWarning: KMeans is known to have a memory leak on Windows with MKL, when there are less chunks than available threads. You can avoid it by setting the environment variable OMP_NUM_THREADS=2.\n",
      "  warnings.warn(\n"
     ]
    },
    {
     "name": "stdout",
     "output_type": "stream",
     "text": [
      "step:0, e:23676.8378\n",
      "step:10, e:195.3109\n",
      "step:20, e:133.5415\n",
      "step:30, e:128.4356\n",
      "step:40, e:126.3499\n",
      "step:50, e:124.5005\n",
      "step:60, e:122.8088\n",
      "step:70, e:121.2585\n",
      "step:80, e:119.8359\n",
      "step:90, e:118.5288\n",
      "Converged at step 99, e = 117.4422, rel_change=9.933e-04\n",
      "Acc(NMI) = 0.1650 (0.2923)\n"
     ]
    },
    {
     "name": "stderr",
     "output_type": "stream",
     "text": [
      "D:\\Software\\Anaconda3\\anaconda3\\Lib\\site-packages\\sklearn\\cluster\\_kmeans.py:1429: UserWarning: KMeans is known to have a memory leak on Windows with MKL, when there are less chunks than available threads. You can avoid it by setting the environment variable OMP_NUM_THREADS=2.\n",
      "  warnings.warn(\n"
     ]
    },
    {
     "name": "stdout",
     "output_type": "stream",
     "text": [
      "step:0, e:21374.7922\n",
      "step:10, e:227.0822\n",
      "step:20, e:158.2510\n",
      "step:30, e:152.5628\n",
      "step:40, e:150.7208\n",
      "step:50, e:149.1497\n",
      "Converged at step 52, e = 148.8518, rel_change=9.953e-04\n",
      "Acc(NMI) = 0.1725 (0.3311)\n"
     ]
    },
    {
     "name": "stderr",
     "output_type": "stream",
     "text": [
      "D:\\Software\\Anaconda3\\anaconda3\\Lib\\site-packages\\sklearn\\cluster\\_kmeans.py:1429: UserWarning: KMeans is known to have a memory leak on Windows with MKL, when there are less chunks than available threads. You can avoid it by setting the environment variable OMP_NUM_THREADS=2.\n",
      "  warnings.warn(\n"
     ]
    },
    {
     "name": "stdout",
     "output_type": "stream",
     "text": [
      "step:0, e:20044.9171\n",
      "step:10, e:238.0160\n",
      "step:20, e:170.2853\n",
      "step:30, e:164.9246\n",
      "Converged at step 34, e = 164.2228, rel_change=9.721e-04\n"
     ]
    },
    {
     "name": "stderr",
     "output_type": "stream",
     "text": [
      "D:\\Software\\Anaconda3\\anaconda3\\Lib\\site-packages\\sklearn\\cluster\\_kmeans.py:1429: UserWarning: KMeans is known to have a memory leak on Windows with MKL, when there are less chunks than available threads. You can avoid it by setting the environment variable OMP_NUM_THREADS=2.\n",
      "  warnings.warn(\n"
     ]
    },
    {
     "name": "stdout",
     "output_type": "stream",
     "text": [
      "Acc(NMI) = 0.1600 (0.3278)\n",
      "step:0, e:20363.2825\n",
      "step:10, e:238.8373\n",
      "step:20, e:170.7705\n",
      "step:30, e:165.4280\n",
      "Converged at step 33, e = 164.9133, rel_change=9.589e-04\n",
      "Acc(NMI) = 0.1625 (0.3107)\n"
     ]
    },
    {
     "name": "stderr",
     "output_type": "stream",
     "text": [
      "D:\\Software\\Anaconda3\\anaconda3\\Lib\\site-packages\\sklearn\\cluster\\_kmeans.py:1429: UserWarning: KMeans is known to have a memory leak on Windows with MKL, when there are less chunks than available threads. You can avoid it by setting the environment variable OMP_NUM_THREADS=2.\n",
      "  warnings.warn(\n"
     ]
    },
    {
     "name": "stdout",
     "output_type": "stream",
     "text": [
      "step:0, e:28315.2754\n",
      "step:10, e:120.3992\n",
      "step:20, e:67.9102\n",
      "step:30, e:63.2001\n",
      "step:40, e:60.4514\n",
      "step:50, e:57.9652\n",
      "step:60, e:55.7043\n",
      "step:70, e:53.6442\n",
      "step:80, e:51.7645\n",
      "step:90, e:50.0477\n",
      "step:100, e:48.4779\n",
      "step:110, e:47.0409\n",
      "step:120, e:45.7241\n",
      "step:130, e:44.5166\n",
      "step:140, e:43.4083\n",
      "step:150, e:42.3904\n",
      "step:160, e:41.4547\n",
      "step:170, e:40.5937\n",
      "step:180, e:39.8010\n",
      "step:190, e:39.0701\n",
      "step:200, e:38.3956\n",
      "step:210, e:37.7725\n",
      "step:220, e:37.1961\n",
      "step:230, e:36.6624\n",
      "step:240, e:36.1675\n",
      "step:250, e:35.7082\n",
      "step:260, e:35.2812\n",
      "step:270, e:34.8839\n",
      "step:280, e:34.5134\n",
      "Converged at step 287, e = 34.2688, rel_change=9.986e-04\n",
      "Acc(NMI) = 0.3050 (0.4796)\n"
     ]
    },
    {
     "name": "stderr",
     "output_type": "stream",
     "text": [
      "D:\\Software\\Anaconda3\\anaconda3\\Lib\\site-packages\\sklearn\\cluster\\_kmeans.py:1429: UserWarning: KMeans is known to have a memory leak on Windows with MKL, when there are less chunks than available threads. You can avoid it by setting the environment variable OMP_NUM_THREADS=2.\n",
      "  warnings.warn(\n"
     ]
    },
    {
     "name": "stdout",
     "output_type": "stream",
     "text": [
      "step:0, e:25228.7074\n",
      "step:10, e:159.2457\n",
      "step:20, e:102.0016\n",
      "step:30, e:97.1178\n",
      "step:40, e:94.7067\n",
      "step:50, e:92.5356\n",
      "step:60, e:90.5534\n",
      "step:70, e:88.7409\n",
      "step:80, e:87.0811\n",
      "step:90, e:85.5593\n",
      "step:100, e:84.1630\n",
      "step:110, e:82.8802\n",
      "step:120, e:81.7004\n",
      "step:130, e:80.6143\n",
      "step:140, e:79.6134\n",
      "step:150, e:78.6902\n",
      "step:160, e:77.8383\n",
      "Converged at step 168, e = 77.2038, rel_change=9.982e-04\n",
      "Acc(NMI) = 0.1775 (0.3650)\n"
     ]
    },
    {
     "name": "stderr",
     "output_type": "stream",
     "text": [
      "D:\\Software\\Anaconda3\\anaconda3\\Lib\\site-packages\\sklearn\\cluster\\_kmeans.py:1429: UserWarning: KMeans is known to have a memory leak on Windows with MKL, when there are less chunks than available threads. You can avoid it by setting the environment variable OMP_NUM_THREADS=2.\n",
      "  warnings.warn(\n"
     ]
    },
    {
     "name": "stdout",
     "output_type": "stream",
     "text": [
      "step:0, e:23027.2587\n",
      "step:10, e:195.9838\n",
      "step:20, e:133.6932\n",
      "step:30, e:128.5412\n",
      "step:40, e:126.4802\n",
      "step:50, e:124.6540\n",
      "step:60, e:122.9805\n",
      "step:70, e:121.4451\n",
      "step:80, e:120.0344\n",
      "step:90, e:118.7370\n",
      "Converged at step 97, e = 117.8906, rel_change=9.995e-04\n",
      "Acc(NMI) = 0.1800 (0.3335)\n"
     ]
    },
    {
     "name": "stderr",
     "output_type": "stream",
     "text": [
      "D:\\Software\\Anaconda3\\anaconda3\\Lib\\site-packages\\sklearn\\cluster\\_kmeans.py:1429: UserWarning: KMeans is known to have a memory leak on Windows with MKL, when there are less chunks than available threads. You can avoid it by setting the environment variable OMP_NUM_THREADS=2.\n",
      "  warnings.warn(\n"
     ]
    },
    {
     "name": "stdout",
     "output_type": "stream",
     "text": [
      "step:0, e:21406.1549\n",
      "step:10, e:226.1478\n",
      "step:20, e:157.6588\n",
      "step:30, e:152.0272\n",
      "step:40, e:150.2237\n",
      "Converged at step 49, e = 148.8366, rel_change=9.978e-04\n",
      "Acc(NMI) = 0.1700 (0.3140)\n"
     ]
    },
    {
     "name": "stderr",
     "output_type": "stream",
     "text": [
      "D:\\Software\\Anaconda3\\anaconda3\\Lib\\site-packages\\sklearn\\cluster\\_kmeans.py:1429: UserWarning: KMeans is known to have a memory leak on Windows with MKL, when there are less chunks than available threads. You can avoid it by setting the environment variable OMP_NUM_THREADS=2.\n",
      "  warnings.warn(\n"
     ]
    },
    {
     "name": "stdout",
     "output_type": "stream",
     "text": [
      "step:0, e:20340.3380\n",
      "step:10, e:240.0382\n",
      "step:20, e:170.4268\n",
      "step:30, e:164.7996\n",
      "Converged at step 34, e = 164.0804, rel_change=9.883e-04\n",
      "Acc(NMI) = 0.1825 (0.3285)\n"
     ]
    },
    {
     "name": "stderr",
     "output_type": "stream",
     "text": [
      "D:\\Software\\Anaconda3\\anaconda3\\Lib\\site-packages\\sklearn\\cluster\\_kmeans.py:1429: UserWarning: KMeans is known to have a memory leak on Windows with MKL, when there are less chunks than available threads. You can avoid it by setting the environment variable OMP_NUM_THREADS=2.\n",
      "  warnings.warn(\n"
     ]
    },
    {
     "name": "stdout",
     "output_type": "stream",
     "text": [
      "step:0, e:20325.7008\n",
      "step:10, e:237.7124\n",
      "step:20, e:170.5490\n",
      "step:30, e:165.2609\n",
      "Converged at step 33, e = 164.7540, rel_change=9.442e-04\n",
      "Acc(NMI) = 0.1650 (0.3164)\n"
     ]
    },
    {
     "name": "stderr",
     "output_type": "stream",
     "text": [
      "D:\\Software\\Anaconda3\\anaconda3\\Lib\\site-packages\\sklearn\\cluster\\_kmeans.py:1429: UserWarning: KMeans is known to have a memory leak on Windows with MKL, when there are less chunks than available threads. You can avoid it by setting the environment variable OMP_NUM_THREADS=2.\n",
      "  warnings.warn(\n"
     ]
    },
    {
     "name": "stdout",
     "output_type": "stream",
     "text": [
      "step:0, e:28197.8811\n",
      "step:10, e:118.8052\n",
      "step:20, e:66.8962\n",
      "step:30, e:62.3325\n",
      "step:40, e:59.6895\n",
      "step:50, e:57.2982\n",
      "step:60, e:55.1234\n",
      "step:70, e:53.1425\n",
      "step:80, e:51.3359\n",
      "step:90, e:49.6859\n",
      "step:100, e:48.1773\n",
      "step:110, e:46.7967\n",
      "step:120, e:45.5321\n",
      "step:130, e:44.3727\n",
      "step:140, e:43.3088\n",
      "step:150, e:42.3320\n",
      "step:160, e:41.4343\n",
      "step:170, e:40.6087\n",
      "step:180, e:39.8487\n",
      "step:190, e:39.1482\n",
      "step:200, e:38.5019\n",
      "step:210, e:37.9053\n",
      "step:220, e:37.3539\n",
      "step:230, e:36.8436\n",
      "step:240, e:36.3708\n",
      "step:250, e:35.9323\n",
      "step:260, e:35.5248\n",
      "step:270, e:35.1456\n",
      "Converged at step 278, e = 34.8610, rel_change=9.946e-04\n",
      "Acc(NMI) = 0.2500 (0.4330)\n"
     ]
    },
    {
     "name": "stderr",
     "output_type": "stream",
     "text": [
      "D:\\Software\\Anaconda3\\anaconda3\\Lib\\site-packages\\sklearn\\cluster\\_kmeans.py:1429: UserWarning: KMeans is known to have a memory leak on Windows with MKL, when there are less chunks than available threads. You can avoid it by setting the environment variable OMP_NUM_THREADS=2.\n",
      "  warnings.warn(\n"
     ]
    },
    {
     "name": "stdout",
     "output_type": "stream",
     "text": [
      "step:0, e:25433.2565\n",
      "step:10, e:162.0230\n",
      "step:20, e:101.9549\n",
      "step:30, e:96.7480\n",
      "step:40, e:94.2988\n",
      "step:50, e:92.1041\n",
      "step:60, e:90.1040\n",
      "step:70, e:88.2783\n",
      "step:80, e:86.6095\n",
      "step:90, e:85.0822\n",
      "step:100, e:83.6829\n",
      "step:110, e:82.3999\n",
      "step:120, e:81.2221\n",
      "step:130, e:80.1400\n",
      "step:140, e:79.1451\n",
      "step:150, e:78.2295\n",
      "step:160, e:77.3861\n",
      "Converged at step 167, e = 76.8355, rel_change=9.979e-04\n",
      "Acc(NMI) = 0.1800 (0.3387)\n"
     ]
    },
    {
     "name": "stderr",
     "output_type": "stream",
     "text": [
      "D:\\Software\\Anaconda3\\anaconda3\\Lib\\site-packages\\sklearn\\cluster\\_kmeans.py:1429: UserWarning: KMeans is known to have a memory leak on Windows with MKL, when there are less chunks than available threads. You can avoid it by setting the environment variable OMP_NUM_THREADS=2.\n",
      "  warnings.warn(\n"
     ]
    },
    {
     "name": "stdout",
     "output_type": "stream",
     "text": [
      "step:0, e:22913.2342\n",
      "step:10, e:197.4255\n",
      "step:20, e:133.6422\n",
      "step:30, e:128.3604\n",
      "step:40, e:126.2707\n",
      "step:50, e:124.4226\n",
      "step:60, e:122.7318\n",
      "step:70, e:121.1828\n",
      "step:80, e:119.7617\n",
      "step:90, e:118.4565\n",
      "Converged at step 98, e = 117.4885, rel_change=9.991e-04\n",
      "Acc(NMI) = 0.1800 (0.3384)\n"
     ]
    },
    {
     "name": "stderr",
     "output_type": "stream",
     "text": [
      "D:\\Software\\Anaconda3\\anaconda3\\Lib\\site-packages\\sklearn\\cluster\\_kmeans.py:1429: UserWarning: KMeans is known to have a memory leak on Windows with MKL, when there are less chunks than available threads. You can avoid it by setting the environment variable OMP_NUM_THREADS=2.\n",
      "  warnings.warn(\n"
     ]
    },
    {
     "name": "stdout",
     "output_type": "stream",
     "text": [
      "step:0, e:20981.9730\n",
      "step:10, e:223.4711\n",
      "step:20, e:157.1704\n",
      "step:30, e:151.7944\n",
      "step:40, e:150.0384\n",
      "Converged at step 47, e = 148.9715, rel_change=9.943e-04\n",
      "Acc(NMI) = 0.1675 (0.3128)\n"
     ]
    },
    {
     "name": "stderr",
     "output_type": "stream",
     "text": [
      "D:\\Software\\Anaconda3\\anaconda3\\Lib\\site-packages\\sklearn\\cluster\\_kmeans.py:1429: UserWarning: KMeans is known to have a memory leak on Windows with MKL, when there are less chunks than available threads. You can avoid it by setting the environment variable OMP_NUM_THREADS=2.\n",
      "  warnings.warn(\n"
     ]
    },
    {
     "name": "stdout",
     "output_type": "stream",
     "text": [
      "step:0, e:20520.6093\n",
      "step:10, e:238.2360\n",
      "step:20, e:170.3485\n",
      "step:30, e:164.9552\n",
      "Converged at step 34, e = 164.2499, rel_change=9.750e-04\n",
      "Acc(NMI) = 0.1775 (0.3243)\n"
     ]
    },
    {
     "name": "stderr",
     "output_type": "stream",
     "text": [
      "D:\\Software\\Anaconda3\\anaconda3\\Lib\\site-packages\\sklearn\\cluster\\_kmeans.py:1429: UserWarning: KMeans is known to have a memory leak on Windows with MKL, when there are less chunks than available threads. You can avoid it by setting the environment variable OMP_NUM_THREADS=2.\n",
      "  warnings.warn(\n"
     ]
    },
    {
     "name": "stdout",
     "output_type": "stream",
     "text": [
      "step:0, e:19989.8487\n",
      "step:10, e:237.7461\n",
      "step:20, e:170.1733\n",
      "step:30, e:164.8742\n",
      "Converged at step 33, e = 164.3697, rel_change=9.413e-04\n"
     ]
    },
    {
     "name": "stderr",
     "output_type": "stream",
     "text": [
      "D:\\Software\\Anaconda3\\anaconda3\\Lib\\site-packages\\sklearn\\cluster\\_kmeans.py:1429: UserWarning: KMeans is known to have a memory leak on Windows with MKL, when there are less chunks than available threads. You can avoid it by setting the environment variable OMP_NUM_THREADS=2.\n",
      "  warnings.warn(\n"
     ]
    },
    {
     "name": "stdout",
     "output_type": "stream",
     "text": [
      "Acc(NMI) = 0.1575 (0.3190)\n",
      "step:0, e:28820.0253\n",
      "step:10, e:120.5329\n",
      "step:20, e:66.9559\n",
      "step:30, e:62.2544\n",
      "step:40, e:59.5845\n",
      "step:50, e:57.1758\n",
      "step:60, e:54.9885\n",
      "step:70, e:52.9983\n",
      "step:80, e:51.1848\n",
      "step:90, e:49.5302\n",
      "step:100, e:48.0186\n",
      "step:110, e:46.6364\n",
      "step:120, e:45.3714\n",
      "step:130, e:44.2119\n",
      "step:140, e:43.1486\n",
      "step:150, e:42.1723\n",
      "step:160, e:41.2749\n",
      "step:170, e:40.4492\n",
      "step:180, e:39.6891\n",
      "step:190, e:38.9882\n",
      "step:200, e:38.3417\n",
      "step:210, e:37.7441\n",
      "step:220, e:37.1914\n",
      "step:230, e:36.6795\n",
      "step:240, e:36.2047\n",
      "step:250, e:35.7636\n",
      "step:260, e:35.3529\n",
      "step:270, e:34.9702\n",
      "step:280, e:34.6129\n",
      "Converged at step 280, e = 34.6129, rel_change=9.998e-04\n",
      "Acc(NMI) = 0.2650 (0.4549)\n"
     ]
    },
    {
     "name": "stderr",
     "output_type": "stream",
     "text": [
      "D:\\Software\\Anaconda3\\anaconda3\\Lib\\site-packages\\sklearn\\cluster\\_kmeans.py:1429: UserWarning: KMeans is known to have a memory leak on Windows with MKL, when there are less chunks than available threads. You can avoid it by setting the environment variable OMP_NUM_THREADS=2.\n",
      "  warnings.warn(\n"
     ]
    },
    {
     "name": "stdout",
     "output_type": "stream",
     "text": [
      "step:0, e:25290.6456\n",
      "step:10, e:159.2967\n",
      "step:20, e:102.3177\n",
      "step:30, e:97.4115\n",
      "step:40, e:94.9802\n",
      "step:50, e:92.7913\n",
      "step:60, e:90.7950\n",
      "step:70, e:88.9716\n",
      "step:80, e:87.3039\n",
      "step:90, e:85.7764\n",
      "step:100, e:84.3756\n",
      "step:110, e:83.0896\n",
      "step:120, e:81.9078\n",
      "step:130, e:80.8206\n",
      "step:140, e:79.8193\n",
      "step:150, e:78.8961\n",
      "step:160, e:78.0445\n",
      "Converged at step 168, e = 77.4102, rel_change=9.951e-04\n",
      "Acc(NMI) = 0.1950 (0.3481)\n"
     ]
    },
    {
     "name": "stderr",
     "output_type": "stream",
     "text": [
      "D:\\Software\\Anaconda3\\anaconda3\\Lib\\site-packages\\sklearn\\cluster\\_kmeans.py:1429: UserWarning: KMeans is known to have a memory leak on Windows with MKL, when there are less chunks than available threads. You can avoid it by setting the environment variable OMP_NUM_THREADS=2.\n",
      "  warnings.warn(\n"
     ]
    },
    {
     "name": "stdout",
     "output_type": "stream",
     "text": [
      "step:0, e:23159.8380\n",
      "step:10, e:196.9835\n",
      "step:20, e:133.1833\n",
      "step:30, e:127.9530\n",
      "step:40, e:125.8734\n",
      "step:50, e:124.0331\n",
      "step:60, e:122.3500\n",
      "step:70, e:120.8080\n",
      "step:80, e:119.3935\n",
      "step:90, e:118.0946\n",
      "Converged at step 98, e = 117.1315, rel_change=9.968e-04\n",
      "Acc(NMI) = 0.1700 (0.3205)\n"
     ]
    },
    {
     "name": "stderr",
     "output_type": "stream",
     "text": [
      "D:\\Software\\Anaconda3\\anaconda3\\Lib\\site-packages\\sklearn\\cluster\\_kmeans.py:1429: UserWarning: KMeans is known to have a memory leak on Windows with MKL, when there are less chunks than available threads. You can avoid it by setting the environment variable OMP_NUM_THREADS=2.\n",
      "  warnings.warn(\n"
     ]
    },
    {
     "name": "stdout",
     "output_type": "stream",
     "text": [
      "step:0, e:21087.7368\n",
      "step:10, e:223.6227\n",
      "step:20, e:157.5337\n",
      "step:30, e:152.2116\n",
      "step:40, e:150.4487\n",
      "Converged at step 48, e = 149.2228, rel_change=9.943e-04\n",
      "Acc(NMI) = 0.1825 (0.3384)\n"
     ]
    },
    {
     "name": "stderr",
     "output_type": "stream",
     "text": [
      "D:\\Software\\Anaconda3\\anaconda3\\Lib\\site-packages\\sklearn\\cluster\\_kmeans.py:1429: UserWarning: KMeans is known to have a memory leak on Windows with MKL, when there are less chunks than available threads. You can avoid it by setting the environment variable OMP_NUM_THREADS=2.\n",
      "  warnings.warn(\n"
     ]
    },
    {
     "name": "stdout",
     "output_type": "stream",
     "text": [
      "step:0, e:19950.5126\n",
      "step:10, e:238.2367\n",
      "step:20, e:170.4109\n",
      "step:30, e:164.9881\n",
      "Converged at step 34, e = 164.2806, rel_change=9.776e-04\n"
     ]
    },
    {
     "name": "stderr",
     "output_type": "stream",
     "text": [
      "D:\\Software\\Anaconda3\\anaconda3\\Lib\\site-packages\\sklearn\\cluster\\_kmeans.py:1429: UserWarning: KMeans is known to have a memory leak on Windows with MKL, when there are less chunks than available threads. You can avoid it by setting the environment variable OMP_NUM_THREADS=2.\n",
      "  warnings.warn(\n"
     ]
    },
    {
     "name": "stdout",
     "output_type": "stream",
     "text": [
      "Acc(NMI) = 0.1675 (0.3107)\n",
      "step:0, e:20527.3518\n",
      "step:10, e:239.5649\n",
      "step:20, e:170.4777\n",
      "step:30, e:165.1111\n",
      "Converged at step 33, e = 164.6018, rel_change=9.500e-04\n",
      "Acc(NMI) = 0.1675 (0.3289)\n"
     ]
    },
    {
     "name": "stderr",
     "output_type": "stream",
     "text": [
      "D:\\Software\\Anaconda3\\anaconda3\\Lib\\site-packages\\sklearn\\cluster\\_kmeans.py:1429: UserWarning: KMeans is known to have a memory leak on Windows with MKL, when there are less chunks than available threads. You can avoid it by setting the environment variable OMP_NUM_THREADS=2.\n",
      "  warnings.warn(\n"
     ]
    },
    {
     "name": "stdout",
     "output_type": "stream",
     "text": [
      "step:0, e:28213.0563\n",
      "step:10, e:120.0841\n",
      "step:20, e:68.1160\n",
      "step:30, e:63.4690\n",
      "step:40, e:60.7106\n",
      "step:50, e:58.2134\n",
      "step:60, e:55.9412\n",
      "step:70, e:53.8702\n",
      "step:80, e:51.9797\n",
      "step:90, e:50.2516\n",
      "step:100, e:48.6704\n",
      "step:110, e:47.2220\n",
      "step:120, e:45.8940\n",
      "step:130, e:44.6757\n",
      "step:140, e:43.5572\n",
      "step:150, e:42.5293\n",
      "step:160, e:41.5839\n",
      "step:170, e:40.7143\n",
      "step:180, e:39.9134\n",
      "step:190, e:39.1753\n",
      "step:200, e:38.4943\n",
      "step:210, e:37.8656\n",
      "step:220, e:37.2847\n",
      "step:230, e:36.7478\n",
      "step:240, e:36.2508\n",
      "step:250, e:35.7900\n",
      "step:260, e:35.3625\n",
      "step:270, e:34.9653\n",
      "step:280, e:34.5957\n",
      "Converged at step 286, e = 34.3862, rel_change=9.967e-04\n",
      "Acc(NMI) = 0.2825 (0.4549)\n"
     ]
    },
    {
     "name": "stderr",
     "output_type": "stream",
     "text": [
      "D:\\Software\\Anaconda3\\anaconda3\\Lib\\site-packages\\sklearn\\cluster\\_kmeans.py:1429: UserWarning: KMeans is known to have a memory leak on Windows with MKL, when there are less chunks than available threads. You can avoid it by setting the environment variable OMP_NUM_THREADS=2.\n",
      "  warnings.warn(\n"
     ]
    },
    {
     "name": "stdout",
     "output_type": "stream",
     "text": [
      "step:0, e:25672.3972\n",
      "step:10, e:161.3531\n",
      "step:20, e:102.4838\n",
      "step:30, e:97.4106\n",
      "step:40, e:94.9281\n",
      "step:50, e:92.6953\n",
      "step:60, e:90.6579\n",
      "step:70, e:88.7954\n",
      "step:80, e:87.0907\n",
      "step:90, e:85.5285\n",
      "step:100, e:84.0955\n",
      "step:110, e:82.7801\n",
      "step:120, e:81.5712\n",
      "step:130, e:80.4590\n",
      "step:140, e:79.4349\n",
      "step:150, e:78.4912\n",
      "step:160, e:77.6209\n",
      "step:170, e:76.8178\n",
      "Converged at step 172, e = 76.6647, rel_change=9.935e-04\n",
      "Acc(NMI) = 0.1875 (0.3378)\n"
     ]
    },
    {
     "name": "stderr",
     "output_type": "stream",
     "text": [
      "D:\\Software\\Anaconda3\\anaconda3\\Lib\\site-packages\\sklearn\\cluster\\_kmeans.py:1429: UserWarning: KMeans is known to have a memory leak on Windows with MKL, when there are less chunks than available threads. You can avoid it by setting the environment variable OMP_NUM_THREADS=2.\n",
      "  warnings.warn(\n"
     ]
    },
    {
     "name": "stdout",
     "output_type": "stream",
     "text": [
      "step:0, e:23063.6629\n",
      "step:10, e:195.1796\n",
      "step:20, e:133.3932\n",
      "step:30, e:128.2343\n",
      "step:40, e:126.1520\n",
      "step:50, e:124.3075\n",
      "step:60, e:122.6192\n",
      "step:70, e:121.0717\n",
      "step:80, e:119.6512\n",
      "step:90, e:118.3454\n",
      "Converged at step 99, e = 117.2597, rel_change=9.940e-04\n",
      "Acc(NMI) = 0.1600 (0.3032)\n"
     ]
    },
    {
     "name": "stderr",
     "output_type": "stream",
     "text": [
      "D:\\Software\\Anaconda3\\anaconda3\\Lib\\site-packages\\sklearn\\cluster\\_kmeans.py:1429: UserWarning: KMeans is known to have a memory leak on Windows with MKL, when there are less chunks than available threads. You can avoid it by setting the environment variable OMP_NUM_THREADS=2.\n",
      "  warnings.warn(\n"
     ]
    },
    {
     "name": "stdout",
     "output_type": "stream",
     "text": [
      "step:0, e:21138.6748\n",
      "step:10, e:223.5149\n",
      "step:20, e:157.4511\n",
      "step:30, e:152.1401\n",
      "step:40, e:150.3706\n",
      "Converged at step 48, e = 149.1389, rel_change=9.993e-04\n",
      "Acc(NMI) = 0.1675 (0.3268)\n"
     ]
    },
    {
     "name": "stderr",
     "output_type": "stream",
     "text": [
      "D:\\Software\\Anaconda3\\anaconda3\\Lib\\site-packages\\sklearn\\cluster\\_kmeans.py:1429: UserWarning: KMeans is known to have a memory leak on Windows with MKL, when there are less chunks than available threads. You can avoid it by setting the environment variable OMP_NUM_THREADS=2.\n",
      "  warnings.warn(\n"
     ]
    },
    {
     "name": "stdout",
     "output_type": "stream",
     "text": [
      "step:0, e:20235.8212\n",
      "step:10, e:238.4147\n",
      "step:20, e:170.2748\n",
      "step:30, e:164.7840\n",
      "Converged at step 34, e = 164.0746, rel_change=9.765e-04\n",
      "Acc(NMI) = 0.1625 (0.3023)\n"
     ]
    },
    {
     "name": "stderr",
     "output_type": "stream",
     "text": [
      "D:\\Software\\Anaconda3\\anaconda3\\Lib\\site-packages\\sklearn\\cluster\\_kmeans.py:1429: UserWarning: KMeans is known to have a memory leak on Windows with MKL, when there are less chunks than available threads. You can avoid it by setting the environment variable OMP_NUM_THREADS=2.\n",
      "  warnings.warn(\n"
     ]
    },
    {
     "name": "stdout",
     "output_type": "stream",
     "text": [
      "step:0, e:20586.1441\n",
      "step:10, e:236.4743\n",
      "step:20, e:169.8434\n",
      "step:30, e:164.7485\n",
      "Converged at step 32, e = 164.4128, rel_change=9.738e-04\n",
      "Acc(NMI) = 0.1725 (0.3152)\n"
     ]
    },
    {
     "name": "stderr",
     "output_type": "stream",
     "text": [
      "D:\\Software\\Anaconda3\\anaconda3\\Lib\\site-packages\\sklearn\\cluster\\_kmeans.py:1429: UserWarning: KMeans is known to have a memory leak on Windows with MKL, when there are less chunks than available threads. You can avoid it by setting the environment variable OMP_NUM_THREADS=2.\n",
      "  warnings.warn(\n"
     ]
    }
   ],
   "source": [
    "Algo = 'L2'\n",
    "Data = 'ORL'\n",
    "dataset = 'data/ORL'\n",
    "reduce = 3\n",
    "X, Y = load_data(dataset, reduce=reduce)\n",
    "K = len(set(Y))\n",
    "seeds = [0,1,2,3,4]\n",
    "pr_lst = [(0,0),(0.1,0.1),(0.2,0.2),(0.3,0.3),(0.4,0.4),(0.5,0.5)]\n",
    "record_L2_ORL = []\n",
    "steps = 10000\n",
    "lr = 1e-3\n",
    "tol = 1e-3\n",
    "\n",
    "\n",
    "for seed in seeds:\n",
    "    np.random.seed(seed)\n",
    "    for p, r in pr_lst:\n",
    "        # X_noisy, noise = salt_pepper(X, p, r)\n",
    "        X_noisy, Y = load_data_salt_pepper(dataset, reduce, p, r)\n",
    "        start = time.time()\n",
    "        W, H ,WH, step = L2_nmf(X_noisy, K, lr, steps, tol, verbose=True)\n",
    "        end = time.time()\n",
    "        timeusing = end - start\n",
    "        rre = relative_reconstruction_error(X_noisy, WH)\n",
    "        acc, nmi = evaluate_clustering(H, Y)\n",
    "        record_L2_ORL.append(((p,r),acc,nmi,rre,lr,tol,step,seed,timeusing))"
   ]
  },
  {
   "cell_type": "code",
   "execution_count": 70,
   "id": "6b37cccf-060a-4f1a-8297-362dd0d9bbb7",
   "metadata": {
    "scrolled": true
   },
   "outputs": [
    {
     "name": "stdout",
     "output_type": "stream",
     "text": [
      "         (p,r)     acc       nmi       rre     lr    tol  step  seed      time\n",
      "0       (0, 0)  0.2575  0.457519  0.294437  0.001  0.001   285     0  1.481257\n",
      "1   (0.1, 0.1)  0.1800  0.335515  0.438617  0.001  0.001   171     0  0.954528\n",
      "2   (0.2, 0.2)  0.1650  0.292343  0.541854  0.001  0.001   100     0  0.586041\n",
      "3   (0.3, 0.3)  0.1725  0.331080  0.610024  0.001  0.001    53     0  0.341824\n",
      "4   (0.4, 0.4)  0.1600  0.327789  0.640747  0.001  0.001    35     0  0.214390\n",
      "5   (0.5, 0.5)  0.1625  0.310667  0.642093  0.001  0.001    34     0  0.260028\n",
      "6       (0, 0)  0.3050  0.479639  0.292698  0.001  0.001   288     1  1.541099\n",
      "7   (0.1, 0.1)  0.1775  0.364984  0.439329  0.001  0.001   169     1  0.883424\n",
      "8   (0.2, 0.2)  0.1800  0.333471  0.542887  0.001  0.001    98     1  0.555524\n",
      "9   (0.3, 0.3)  0.1700  0.313990  0.609993  0.001  0.001    50     1  0.314520\n",
      "10  (0.4, 0.4)  0.1825  0.328547  0.640469  0.001  0.001    35     1  0.234084\n",
      "11  (0.5, 0.5)  0.1650  0.316366  0.641783  0.001  0.001    34     1  0.250484\n",
      "12      (0, 0)  0.2500  0.433000  0.295216  0.001  0.001   279     2  1.435286\n",
      "13  (0.1, 0.1)  0.1800  0.338674  0.438279  0.001  0.001   168     2  0.997193\n",
      "14  (0.2, 0.2)  0.1800  0.338380  0.541961  0.001  0.001    99     2  0.571469\n",
      "15  (0.3, 0.3)  0.1675  0.312828  0.610269  0.001  0.001    48     2  0.304211\n",
      "16  (0.4, 0.4)  0.1775  0.324251  0.640800  0.001  0.001    35     2  0.252498\n",
      "17  (0.5, 0.5)  0.1575  0.319010  0.641034  0.001  0.001    34     2  0.212348\n",
      "18      (0, 0)  0.2650  0.454924  0.294164  0.001  0.001   281     3  1.696571\n",
      "19  (0.1, 0.1)  0.1950  0.348146  0.439915  0.001  0.001   169     3  0.859029\n",
      "20  (0.2, 0.2)  0.1700  0.320471  0.541137  0.001  0.001    99     3  0.510114\n",
      "21  (0.3, 0.3)  0.1825  0.338421  0.610784  0.001  0.001    49     3  0.286133\n",
      "22  (0.4, 0.4)  0.1675  0.310709  0.640860  0.001  0.001    35     3  0.208646\n",
      "23  (0.5, 0.5)  0.1675  0.328948  0.641486  0.001  0.001    34     3  0.221792\n",
      "24      (0, 0)  0.2825  0.454874  0.293199  0.001  0.001   287     4  1.330157\n",
      "25  (0.1, 0.1)  0.1875  0.337843  0.437792  0.001  0.001   173     4  0.971176\n",
      "26  (0.2, 0.2)  0.1600  0.303203  0.541432  0.001  0.001   100     4  0.560931\n",
      "27  (0.3, 0.3)  0.1675  0.326827  0.610612  0.001  0.001    49     4  0.302776\n",
      "28  (0.4, 0.4)  0.1625  0.302251  0.640458  0.001  0.001    35     4  0.229869\n",
      "29  (0.5, 0.5)  0.1725  0.315183  0.641118  0.001  0.001    33     4  0.240453\n",
      "        (p,r)  RRE_mean   RRE_std  ACC_mean   ACC_std  NMI_mean   NMI_std\n",
      "0      (0, 0)  0.293943  0.001002     0.272  0.022037  0.455991  0.016527\n",
      "1  (0.1, 0.1)  0.438787  0.000843     0.184  0.007202  0.345032  0.012150\n",
      "2  (0.2, 0.2)  0.541854  0.000665     0.171  0.008944  0.317574  0.019603\n",
      "3  (0.3, 0.3)  0.610337  0.000352     0.172  0.006225  0.324629  0.011058\n",
      "4  (0.4, 0.4)  0.640667  0.000190     0.170  0.009682  0.318709  0.011670\n",
      "5  (0.5, 0.5)  0.641503  0.000446     0.165  0.005590  0.318035  0.006805\n"
     ]
    }
   ],
   "source": [
    "df_L2_ORL = pd.DataFrame(record_L2_ORL, columns=['(p,r)','acc','nmi','rre','lr','tol','step','seed', 'time'])\n",
    "print(df_L2_ORL)\n",
    "summary = df_L2_ORL.groupby(['(p,r)']).agg(\n",
    "    RRE_mean=('rre', 'mean'),\n",
    "    RRE_std=('rre', 'std'),\n",
    "    ACC_mean=('acc', 'mean'),\n",
    "    ACC_std=('acc', 'std'),\n",
    "    NMI_mean=('nmi', 'mean'),\n",
    "    NMI_std=('nmi', 'std')\n",
    ").reset_index()\n",
    "print(summary)\n",
    "df_L2_ORL.to_excel(f'{Algo}_{Data}.xlsx', index=True)"
   ]
  },
  {
   "cell_type": "markdown",
   "id": "a2dec5d1-ac0c-447b-a62c-3002dc634b72",
   "metadata": {},
   "source": [
    "## Lee--Seung Multiplicative Update NMF (MU-L2)"
   ]
  },
  {
   "cell_type": "code",
   "execution_count": 71,
   "id": "6cdeebbd-4aeb-4151-a567-86d53159e177",
   "metadata": {
    "scrolled": true
   },
   "outputs": [
    {
     "name": "stdout",
     "output_type": "stream",
     "text": [
      "step:0, e:27990.3098\n",
      "step:10, e:32.9568\n",
      "step:20, e:29.4600\n",
      "step:30, e:23.3307\n",
      "step:40, e:18.9276\n",
      "step:50, e:16.0972\n",
      "step:60, e:14.2564\n",
      "step:70, e:12.9469\n",
      "step:80, e:11.9709\n",
      "step:90, e:11.2182\n",
      "step:100, e:10.6164\n",
      "step:110, e:10.1214\n",
      "step:120, e:9.7075\n",
      "step:130, e:9.3581\n",
      "step:140, e:9.0609\n",
      "step:150, e:8.8064\n",
      "step:160, e:8.5871\n",
      "step:170, e:8.3973\n",
      "step:180, e:8.2320\n",
      "step:190, e:8.0875\n",
      "step:200, e:7.9607\n",
      "step:210, e:7.8489\n",
      "step:220, e:7.7503\n",
      "step:230, e:7.6629\n",
      "Converged at step 238, e = 7.6002, rel_change=9.897e-04\n",
      "Acc(NMI) = 0.7025 (0.8283)\n"
     ]
    },
    {
     "name": "stderr",
     "output_type": "stream",
     "text": [
      "D:\\Software\\Anaconda3\\anaconda3\\Lib\\site-packages\\sklearn\\cluster\\_kmeans.py:1429: UserWarning: KMeans is known to have a memory leak on Windows with MKL, when there are less chunks than available threads. You can avoid it by setting the environment variable OMP_NUM_THREADS=2.\n",
      "  warnings.warn(\n"
     ]
    },
    {
     "name": "stdout",
     "output_type": "stream",
     "text": [
      "step:0, e:25652.0430\n",
      "step:10, e:69.6239\n",
      "step:20, e:66.5013\n",
      "step:30, e:60.7676\n",
      "step:40, e:56.2927\n",
      "step:50, e:53.2752\n",
      "step:60, e:51.3006\n",
      "step:70, e:49.8994\n",
      "step:80, e:48.8517\n",
      "step:90, e:48.0458\n",
      "step:100, e:47.4128\n",
      "Converged at step 109, e = 46.9522, rel_change=9.990e-04\n"
     ]
    },
    {
     "name": "stderr",
     "output_type": "stream",
     "text": [
      "D:\\Software\\Anaconda3\\anaconda3\\Lib\\site-packages\\sklearn\\cluster\\_kmeans.py:1429: UserWarning: KMeans is known to have a memory leak on Windows with MKL, when there are less chunks than available threads. You can avoid it by setting the environment variable OMP_NUM_THREADS=2.\n",
      "  warnings.warn(\n"
     ]
    },
    {
     "name": "stdout",
     "output_type": "stream",
     "text": [
      "Acc(NMI) = 0.6150 (0.7710)\n",
      "step:0, e:23676.8378\n",
      "step:10, e:104.8333\n",
      "step:20, e:101.3426\n",
      "step:30, e:96.1211\n",
      "step:40, e:92.0050\n",
      "step:50, e:89.0936\n",
      "step:60, e:87.0749\n",
      "step:70, e:85.6286\n",
      "step:80, e:84.5545\n",
      "Converged at step 85, e = 84.1174, rel_change=9.854e-04\n",
      "Acc(NMI) = 0.4200 (0.6034)\n"
     ]
    },
    {
     "name": "stderr",
     "output_type": "stream",
     "text": [
      "D:\\Software\\Anaconda3\\anaconda3\\Lib\\site-packages\\sklearn\\cluster\\_kmeans.py:1429: UserWarning: KMeans is known to have a memory leak on Windows with MKL, when there are less chunks than available threads. You can avoid it by setting the environment variable OMP_NUM_THREADS=2.\n",
      "  warnings.warn(\n"
     ]
    },
    {
     "name": "stdout",
     "output_type": "stream",
     "text": [
      "step:0, e:21374.7922\n",
      "step:10, e:132.6215\n",
      "step:20, e:129.0762\n",
      "step:30, e:124.2460\n",
      "step:40, e:120.1663\n",
      "step:50, e:117.3586\n",
      "step:60, e:115.3759\n",
      "step:70, e:113.9364\n",
      "Converged at step 74, e = 113.4711, rel_change=9.801e-04\n",
      "Acc(NMI) = 0.2925 (0.4719)\n"
     ]
    },
    {
     "name": "stderr",
     "output_type": "stream",
     "text": [
      "D:\\Software\\Anaconda3\\anaconda3\\Lib\\site-packages\\sklearn\\cluster\\_kmeans.py:1429: UserWarning: KMeans is known to have a memory leak on Windows with MKL, when there are less chunks than available threads. You can avoid it by setting the environment variable OMP_NUM_THREADS=2.\n",
      "  warnings.warn(\n"
     ]
    },
    {
     "name": "stdout",
     "output_type": "stream",
     "text": [
      "step:0, e:20044.9171\n",
      "step:10, e:148.2157\n",
      "step:20, e:144.5473\n",
      "step:30, e:140.1185\n",
      "step:40, e:136.2738\n",
      "step:50, e:133.5816\n",
      "step:60, e:131.6954\n",
      "Converged at step 67, e = 130.6947, rel_change=9.954e-04\n",
      "Acc(NMI) = 0.2325 (0.4148)\n"
     ]
    },
    {
     "name": "stderr",
     "output_type": "stream",
     "text": [
      "D:\\Software\\Anaconda3\\anaconda3\\Lib\\site-packages\\sklearn\\cluster\\_kmeans.py:1429: UserWarning: KMeans is known to have a memory leak on Windows with MKL, when there are less chunks than available threads. You can avoid it by setting the environment variable OMP_NUM_THREADS=2.\n",
      "  warnings.warn(\n"
     ]
    },
    {
     "name": "stdout",
     "output_type": "stream",
     "text": [
      "step:0, e:20363.2825\n",
      "step:10, e:150.5101\n",
      "step:20, e:146.9660\n",
      "step:30, e:142.9133\n",
      "step:40, e:139.4171\n",
      "step:50, e:136.8995\n",
      "step:60, e:135.1201\n",
      "Converged at step 64, e = 134.5557, rel_change=9.990e-04\n",
      "Acc(NMI) = 0.1925 (0.3571)\n"
     ]
    },
    {
     "name": "stderr",
     "output_type": "stream",
     "text": [
      "D:\\Software\\Anaconda3\\anaconda3\\Lib\\site-packages\\sklearn\\cluster\\_kmeans.py:1429: UserWarning: KMeans is known to have a memory leak on Windows with MKL, when there are less chunks than available threads. You can avoid it by setting the environment variable OMP_NUM_THREADS=2.\n",
      "  warnings.warn(\n"
     ]
    },
    {
     "name": "stdout",
     "output_type": "stream",
     "text": [
      "step:0, e:28315.2754\n",
      "step:10, e:33.0261\n",
      "step:20, e:29.7449\n",
      "step:30, e:23.9175\n",
      "step:40, e:19.4114\n",
      "step:50, e:16.2876\n",
      "step:60, e:14.2716\n",
      "step:70, e:12.8707\n",
      "step:80, e:11.8528\n",
      "step:90, e:11.0851\n",
      "step:100, e:10.4830\n",
      "step:110, e:9.9962\n",
      "step:120, e:9.5948\n",
      "step:130, e:9.2598\n",
      "step:140, e:8.9774\n",
      "step:150, e:8.7373\n",
      "step:160, e:8.5315\n",
      "step:170, e:8.3538\n",
      "step:180, e:8.1992\n",
      "step:190, e:8.0639\n",
      "step:200, e:7.9448\n",
      "step:210, e:7.8395\n",
      "step:220, e:7.7460\n",
      "step:230, e:7.6626\n",
      "Converged at step 234, e = 7.6318, rel_change=9.925e-04\n",
      "Acc(NMI) = 0.7050 (0.8325)\n"
     ]
    },
    {
     "name": "stderr",
     "output_type": "stream",
     "text": [
      "D:\\Software\\Anaconda3\\anaconda3\\Lib\\site-packages\\sklearn\\cluster\\_kmeans.py:1429: UserWarning: KMeans is known to have a memory leak on Windows with MKL, when there are less chunks than available threads. You can avoid it by setting the environment variable OMP_NUM_THREADS=2.\n",
      "  warnings.warn(\n"
     ]
    },
    {
     "name": "stdout",
     "output_type": "stream",
     "text": [
      "step:0, e:25228.7074\n",
      "step:10, e:69.6469\n",
      "step:20, e:65.9861\n",
      "step:30, e:60.2129\n",
      "step:40, e:56.0185\n",
      "step:50, e:53.1147\n",
      "step:60, e:51.1567\n",
      "step:70, e:49.7609\n",
      "step:80, e:48.7230\n",
      "step:90, e:47.9267\n",
      "step:100, e:47.2991\n",
      "step:110, e:46.7928\n",
      "Converged at step 110, e = 46.7928, rel_change=9.856e-04\n",
      "Acc(NMI) = 0.6100 (0.7587)\n"
     ]
    },
    {
     "name": "stderr",
     "output_type": "stream",
     "text": [
      "D:\\Software\\Anaconda3\\anaconda3\\Lib\\site-packages\\sklearn\\cluster\\_kmeans.py:1429: UserWarning: KMeans is known to have a memory leak on Windows with MKL, when there are less chunks than available threads. You can avoid it by setting the environment variable OMP_NUM_THREADS=2.\n",
      "  warnings.warn(\n"
     ]
    },
    {
     "name": "stdout",
     "output_type": "stream",
     "text": [
      "step:0, e:23027.2587\n",
      "step:10, e:105.0028\n",
      "step:20, e:101.8361\n",
      "step:30, e:96.4726\n",
      "step:40, e:91.9541\n",
      "step:50, e:89.0360\n",
      "step:60, e:87.0819\n",
      "step:70, e:85.7035\n",
      "step:80, e:84.6883\n",
      "Converged at step 82, e = 84.5173, rel_change=9.974e-04\n",
      "Acc(NMI) = 0.4000 (0.5874)\n"
     ]
    },
    {
     "name": "stderr",
     "output_type": "stream",
     "text": [
      "D:\\Software\\Anaconda3\\anaconda3\\Lib\\site-packages\\sklearn\\cluster\\_kmeans.py:1429: UserWarning: KMeans is known to have a memory leak on Windows with MKL, when there are less chunks than available threads. You can avoid it by setting the environment variable OMP_NUM_THREADS=2.\n",
      "  warnings.warn(\n"
     ]
    },
    {
     "name": "stdout",
     "output_type": "stream",
     "text": [
      "step:0, e:21406.1549\n",
      "step:10, e:132.5395\n",
      "step:20, e:128.8652\n",
      "step:30, e:123.9558\n",
      "step:40, e:119.8732\n",
      "step:50, e:117.0236\n",
      "step:60, e:115.0467\n",
      "step:70, e:113.6513\n",
      "Converged at step 72, e = 113.4230, rel_change=9.893e-04\n",
      "Acc(NMI) = 0.2950 (0.4744)\n"
     ]
    },
    {
     "name": "stderr",
     "output_type": "stream",
     "text": [
      "D:\\Software\\Anaconda3\\anaconda3\\Lib\\site-packages\\sklearn\\cluster\\_kmeans.py:1429: UserWarning: KMeans is known to have a memory leak on Windows with MKL, when there are less chunks than available threads. You can avoid it by setting the environment variable OMP_NUM_THREADS=2.\n",
      "  warnings.warn(\n"
     ]
    },
    {
     "name": "stdout",
     "output_type": "stream",
     "text": [
      "step:0, e:20340.3380\n",
      "step:10, e:148.0623\n",
      "step:20, e:144.4214\n",
      "step:30, e:140.0049\n",
      "step:40, e:136.1813\n",
      "step:50, e:133.5010\n",
      "step:60, e:131.6326\n",
      "Converged at step 67, e = 130.6500, rel_change=9.743e-04\n",
      "Acc(NMI) = 0.2275 (0.4010)\n"
     ]
    },
    {
     "name": "stderr",
     "output_type": "stream",
     "text": [
      "D:\\Software\\Anaconda3\\anaconda3\\Lib\\site-packages\\sklearn\\cluster\\_kmeans.py:1429: UserWarning: KMeans is known to have a memory leak on Windows with MKL, when there are less chunks than available threads. You can avoid it by setting the environment variable OMP_NUM_THREADS=2.\n",
      "  warnings.warn(\n"
     ]
    },
    {
     "name": "stdout",
     "output_type": "stream",
     "text": [
      "step:0, e:20325.7008\n",
      "step:10, e:150.7509\n",
      "step:20, e:147.1928\n",
      "step:30, e:143.0454\n",
      "step:40, e:139.4963\n",
      "step:50, e:136.9578\n",
      "step:60, e:135.1550\n",
      "Converged at step 65, e = 134.4504, rel_change=9.828e-04\n",
      "Acc(NMI) = 0.1900 (0.3353)\n"
     ]
    },
    {
     "name": "stderr",
     "output_type": "stream",
     "text": [
      "D:\\Software\\Anaconda3\\anaconda3\\Lib\\site-packages\\sklearn\\cluster\\_kmeans.py:1429: UserWarning: KMeans is known to have a memory leak on Windows with MKL, when there are less chunks than available threads. You can avoid it by setting the environment variable OMP_NUM_THREADS=2.\n",
      "  warnings.warn(\n"
     ]
    },
    {
     "name": "stdout",
     "output_type": "stream",
     "text": [
      "step:0, e:28197.8811\n",
      "step:10, e:32.9495\n",
      "step:20, e:29.4074\n",
      "step:30, e:23.3915\n",
      "step:40, e:19.2308\n",
      "step:50, e:16.3818\n",
      "step:60, e:14.3941\n",
      "step:70, e:12.9838\n",
      "step:80, e:11.9759\n",
      "step:90, e:11.2183\n",
      "step:100, e:10.6187\n",
      "step:110, e:10.1287\n",
      "step:120, e:9.7213\n",
      "step:130, e:9.3797\n",
      "step:140, e:9.0915\n",
      "step:150, e:8.8472\n",
      "step:160, e:8.6389\n",
      "step:170, e:8.4601\n",
      "step:180, e:8.3055\n",
      "step:190, e:8.1707\n",
      "step:200, e:8.0524\n",
      "step:210, e:7.9478\n",
      "step:220, e:7.8548\n",
      "step:230, e:7.7716\n",
      "Converged at step 232, e = 7.7561, rel_change=9.977e-04\n"
     ]
    },
    {
     "name": "stderr",
     "output_type": "stream",
     "text": [
      "D:\\Software\\Anaconda3\\anaconda3\\Lib\\site-packages\\sklearn\\cluster\\_kmeans.py:1429: UserWarning: KMeans is known to have a memory leak on Windows with MKL, when there are less chunks than available threads. You can avoid it by setting the environment variable OMP_NUM_THREADS=2.\n",
      "  warnings.warn(\n"
     ]
    },
    {
     "name": "stdout",
     "output_type": "stream",
     "text": [
      "Acc(NMI) = 0.6975 (0.8216)\n",
      "step:0, e:25433.2565\n",
      "step:10, e:69.6603\n",
      "step:20, e:66.4146\n",
      "step:30, e:60.8306\n",
      "step:40, e:56.5137\n",
      "step:50, e:53.4022\n",
      "step:60, e:51.2813\n",
      "step:70, e:49.8011\n",
      "step:80, e:48.7273\n",
      "step:90, e:47.9192\n",
      "step:100, e:47.2921\n",
      "Converged at step 109, e = 46.8386, rel_change=9.841e-04\n",
      "Acc(NMI) = 0.6375 (0.7869)\n"
     ]
    },
    {
     "name": "stderr",
     "output_type": "stream",
     "text": [
      "D:\\Software\\Anaconda3\\anaconda3\\Lib\\site-packages\\sklearn\\cluster\\_kmeans.py:1429: UserWarning: KMeans is known to have a memory leak on Windows with MKL, when there are less chunks than available threads. You can avoid it by setting the environment variable OMP_NUM_THREADS=2.\n",
      "  warnings.warn(\n"
     ]
    },
    {
     "name": "stdout",
     "output_type": "stream",
     "text": [
      "step:0, e:22913.2342\n",
      "step:10, e:104.8277\n",
      "step:20, e:101.4537\n",
      "step:30, e:96.1475\n",
      "step:40, e:91.8600\n",
      "step:50, e:88.9330\n",
      "step:60, e:86.9493\n",
      "step:70, e:85.5442\n",
      "step:80, e:84.5007\n",
      "Converged at step 84, e = 84.1558, rel_change=9.847e-04\n",
      "Acc(NMI) = 0.4100 (0.6136)\n"
     ]
    },
    {
     "name": "stderr",
     "output_type": "stream",
     "text": [
      "D:\\Software\\Anaconda3\\anaconda3\\Lib\\site-packages\\sklearn\\cluster\\_kmeans.py:1429: UserWarning: KMeans is known to have a memory leak on Windows with MKL, when there are less chunks than available threads. You can avoid it by setting the environment variable OMP_NUM_THREADS=2.\n",
      "  warnings.warn(\n"
     ]
    },
    {
     "name": "stdout",
     "output_type": "stream",
     "text": [
      "step:0, e:20981.9730\n",
      "step:10, e:132.5144\n",
      "step:20, e:128.9621\n",
      "step:30, e:124.1394\n",
      "step:40, e:120.0378\n",
      "step:50, e:117.2392\n",
      "step:60, e:115.3014\n",
      "step:70, e:113.9221\n",
      "Converged at step 72, e = 113.6946, rel_change=9.846e-04\n",
      "Acc(NMI) = 0.3050 (0.4800)\n"
     ]
    },
    {
     "name": "stderr",
     "output_type": "stream",
     "text": [
      "D:\\Software\\Anaconda3\\anaconda3\\Lib\\site-packages\\sklearn\\cluster\\_kmeans.py:1429: UserWarning: KMeans is known to have a memory leak on Windows with MKL, when there are less chunks than available threads. You can avoid it by setting the environment variable OMP_NUM_THREADS=2.\n",
      "  warnings.warn(\n"
     ]
    },
    {
     "name": "stdout",
     "output_type": "stream",
     "text": [
      "step:0, e:20520.6093\n",
      "step:10, e:148.1174\n",
      "step:20, e:144.4061\n",
      "step:30, e:139.8971\n",
      "step:40, e:136.0622\n",
      "step:50, e:133.4005\n",
      "step:60, e:131.5505\n",
      "Converged at step 66, e = 130.7013, rel_change=9.991e-04\n",
      "Acc(NMI) = 0.2300 (0.3961)\n"
     ]
    },
    {
     "name": "stderr",
     "output_type": "stream",
     "text": [
      "D:\\Software\\Anaconda3\\anaconda3\\Lib\\site-packages\\sklearn\\cluster\\_kmeans.py:1429: UserWarning: KMeans is known to have a memory leak on Windows with MKL, when there are less chunks than available threads. You can avoid it by setting the environment variable OMP_NUM_THREADS=2.\n",
      "  warnings.warn(\n"
     ]
    },
    {
     "name": "stdout",
     "output_type": "stream",
     "text": [
      "step:0, e:19989.8487\n",
      "step:10, e:150.5425\n",
      "step:20, e:146.9557\n",
      "step:30, e:142.8416\n",
      "step:40, e:139.3305\n",
      "step:50, e:136.8068\n",
      "step:60, e:135.0099\n",
      "Converged at step 65, e = 134.3049, rel_change=9.856e-04\n"
     ]
    },
    {
     "name": "stderr",
     "output_type": "stream",
     "text": [
      "D:\\Software\\Anaconda3\\anaconda3\\Lib\\site-packages\\sklearn\\cluster\\_kmeans.py:1429: UserWarning: KMeans is known to have a memory leak on Windows with MKL, when there are less chunks than available threads. You can avoid it by setting the environment variable OMP_NUM_THREADS=2.\n",
      "  warnings.warn(\n"
     ]
    },
    {
     "name": "stdout",
     "output_type": "stream",
     "text": [
      "Acc(NMI) = 0.1850 (0.3290)\n",
      "step:0, e:28820.0253\n",
      "step:10, e:33.0704\n",
      "step:20, e:30.2143\n",
      "step:30, e:23.6026\n",
      "step:40, e:18.9042\n",
      "step:50, e:16.1479\n",
      "step:60, e:14.2718\n",
      "step:70, e:12.8923\n",
      "step:80, e:11.8635\n",
      "step:90, e:11.0811\n",
      "step:100, e:10.4703\n",
      "step:110, e:9.9819\n",
      "step:120, e:9.5837\n",
      "step:130, e:9.2544\n",
      "step:140, e:8.9789\n",
      "step:150, e:8.7462\n",
      "step:160, e:8.5478\n",
      "step:170, e:8.3770\n",
      "step:180, e:8.2288\n",
      "step:190, e:8.0992\n",
      "step:200, e:7.9853\n",
      "step:210, e:7.8844\n",
      "step:220, e:7.7947\n",
      "Converged at step 229, e = 7.7222, rel_change=9.977e-04\n",
      "Acc(NMI) = 0.6775 (0.8186)\n"
     ]
    },
    {
     "name": "stderr",
     "output_type": "stream",
     "text": [
      "D:\\Software\\Anaconda3\\anaconda3\\Lib\\site-packages\\sklearn\\cluster\\_kmeans.py:1429: UserWarning: KMeans is known to have a memory leak on Windows with MKL, when there are less chunks than available threads. You can avoid it by setting the environment variable OMP_NUM_THREADS=2.\n",
      "  warnings.warn(\n"
     ]
    },
    {
     "name": "stdout",
     "output_type": "stream",
     "text": [
      "step:0, e:25290.6456\n",
      "step:10, e:69.5480\n",
      "step:20, e:65.7108\n",
      "step:30, e:60.4694\n",
      "step:40, e:56.3396\n",
      "step:50, e:53.2849\n",
      "step:60, e:51.2985\n",
      "step:70, e:49.8829\n",
      "step:80, e:48.8178\n",
      "step:90, e:47.9970\n",
      "step:100, e:47.3526\n",
      "step:110, e:46.8373\n",
      "Converged at step 110, e = 46.8373, rel_change=9.969e-04\n",
      "Acc(NMI) = 0.5800 (0.7531)\n"
     ]
    },
    {
     "name": "stderr",
     "output_type": "stream",
     "text": [
      "D:\\Software\\Anaconda3\\anaconda3\\Lib\\site-packages\\sklearn\\cluster\\_kmeans.py:1429: UserWarning: KMeans is known to have a memory leak on Windows with MKL, when there are less chunks than available threads. You can avoid it by setting the environment variable OMP_NUM_THREADS=2.\n",
      "  warnings.warn(\n"
     ]
    },
    {
     "name": "stdout",
     "output_type": "stream",
     "text": [
      "step:0, e:23159.8380\n",
      "step:10, e:104.7105\n",
      "step:20, e:101.3311\n",
      "step:30, e:96.0067\n",
      "step:40, e:91.7564\n",
      "step:50, e:88.9308\n",
      "step:60, e:87.0076\n",
      "step:70, e:85.6127\n",
      "step:80, e:84.5602\n",
      "Converged at step 85, e = 84.1275, rel_change=9.776e-04\n",
      "Acc(NMI) = 0.3750 (0.5689)\n"
     ]
    },
    {
     "name": "stderr",
     "output_type": "stream",
     "text": [
      "D:\\Software\\Anaconda3\\anaconda3\\Lib\\site-packages\\sklearn\\cluster\\_kmeans.py:1429: UserWarning: KMeans is known to have a memory leak on Windows with MKL, when there are less chunks than available threads. You can avoid it by setting the environment variable OMP_NUM_THREADS=2.\n",
      "  warnings.warn(\n"
     ]
    },
    {
     "name": "stdout",
     "output_type": "stream",
     "text": [
      "step:0, e:21087.7368\n",
      "step:10, e:132.6617\n",
      "step:20, e:129.1982\n",
      "step:30, e:124.4465\n",
      "step:40, e:120.2317\n",
      "step:50, e:117.3935\n",
      "step:60, e:115.4480\n",
      "step:70, e:114.0607\n",
      "Converged at step 72, e = 113.8316, rel_change=9.900e-04\n",
      "Acc(NMI) = 0.2875 (0.4683)\n"
     ]
    },
    {
     "name": "stderr",
     "output_type": "stream",
     "text": [
      "D:\\Software\\Anaconda3\\anaconda3\\Lib\\site-packages\\sklearn\\cluster\\_kmeans.py:1429: UserWarning: KMeans is known to have a memory leak on Windows with MKL, when there are less chunks than available threads. You can avoid it by setting the environment variable OMP_NUM_THREADS=2.\n",
      "  warnings.warn(\n"
     ]
    },
    {
     "name": "stdout",
     "output_type": "stream",
     "text": [
      "step:0, e:19950.5126\n",
      "step:10, e:148.1562\n",
      "step:20, e:144.5118\n",
      "step:30, e:140.0990\n",
      "step:40, e:136.2530\n",
      "step:50, e:133.5409\n",
      "step:60, e:131.6475\n",
      "Converged at step 67, e = 130.6492, rel_change=9.906e-04\n",
      "Acc(NMI) = 0.2150 (0.3722)\n"
     ]
    },
    {
     "name": "stderr",
     "output_type": "stream",
     "text": [
      "D:\\Software\\Anaconda3\\anaconda3\\Lib\\site-packages\\sklearn\\cluster\\_kmeans.py:1429: UserWarning: KMeans is known to have a memory leak on Windows with MKL, when there are less chunks than available threads. You can avoid it by setting the environment variable OMP_NUM_THREADS=2.\n",
      "  warnings.warn(\n"
     ]
    },
    {
     "name": "stdout",
     "output_type": "stream",
     "text": [
      "step:0, e:20527.3518\n",
      "step:10, e:150.5131\n",
      "step:20, e:146.8924\n",
      "step:30, e:142.7357\n",
      "step:40, e:139.2049\n",
      "step:50, e:136.6941\n",
      "step:60, e:134.9261\n",
      "Converged at step 64, e = 134.3677, rel_change=9.884e-04\n",
      "Acc(NMI) = 0.1850 (0.3417)\n"
     ]
    },
    {
     "name": "stderr",
     "output_type": "stream",
     "text": [
      "D:\\Software\\Anaconda3\\anaconda3\\Lib\\site-packages\\sklearn\\cluster\\_kmeans.py:1429: UserWarning: KMeans is known to have a memory leak on Windows with MKL, when there are less chunks than available threads. You can avoid it by setting the environment variable OMP_NUM_THREADS=2.\n",
      "  warnings.warn(\n"
     ]
    },
    {
     "name": "stdout",
     "output_type": "stream",
     "text": [
      "step:0, e:28213.0563\n",
      "step:10, e:33.0334\n",
      "step:20, e:29.9348\n",
      "step:30, e:23.8824\n",
      "step:40, e:19.2504\n",
      "step:50, e:16.2927\n",
      "step:60, e:14.3553\n",
      "step:70, e:12.9711\n",
      "step:80, e:11.9409\n",
      "step:90, e:11.1521\n",
      "step:100, e:10.5353\n",
      "step:110, e:10.0443\n",
      "step:120, e:9.6469\n",
      "step:130, e:9.3199\n",
      "step:140, e:9.0469\n",
      "step:150, e:8.8156\n",
      "step:160, e:8.6172\n",
      "step:170, e:8.4450\n",
      "step:180, e:8.2942\n",
      "step:190, e:8.1612\n",
      "step:200, e:8.0429\n",
      "step:210, e:7.9373\n",
      "step:220, e:7.8425\n",
      "step:230, e:7.7570\n",
      "Converged at step 236, e = 7.7098, rel_change=9.950e-04\n",
      "Acc(NMI) = 0.7300 (0.8462)\n"
     ]
    },
    {
     "name": "stderr",
     "output_type": "stream",
     "text": [
      "D:\\Software\\Anaconda3\\anaconda3\\Lib\\site-packages\\sklearn\\cluster\\_kmeans.py:1429: UserWarning: KMeans is known to have a memory leak on Windows with MKL, when there are less chunks than available threads. You can avoid it by setting the environment variable OMP_NUM_THREADS=2.\n",
      "  warnings.warn(\n"
     ]
    },
    {
     "name": "stdout",
     "output_type": "stream",
     "text": [
      "step:0, e:25672.3972\n",
      "step:10, e:69.3853\n",
      "step:20, e:65.4271\n",
      "step:30, e:59.9026\n",
      "step:40, e:55.8588\n",
      "step:50, e:53.0873\n",
      "step:60, e:51.1760\n",
      "step:70, e:49.7893\n",
      "step:80, e:48.7446\n",
      "step:90, e:47.9364\n",
      "step:100, e:47.2982\n",
      "step:110, e:46.7851\n",
      "Converged at step 110, e = 46.7851, rel_change=9.963e-04\n",
      "Acc(NMI) = 0.6625 (0.8076)\n"
     ]
    },
    {
     "name": "stderr",
     "output_type": "stream",
     "text": [
      "D:\\Software\\Anaconda3\\anaconda3\\Lib\\site-packages\\sklearn\\cluster\\_kmeans.py:1429: UserWarning: KMeans is known to have a memory leak on Windows with MKL, when there are less chunks than available threads. You can avoid it by setting the environment variable OMP_NUM_THREADS=2.\n",
      "  warnings.warn(\n"
     ]
    },
    {
     "name": "stdout",
     "output_type": "stream",
     "text": [
      "step:0, e:23063.6629\n",
      "step:10, e:104.7239\n",
      "step:20, e:101.2124\n",
      "step:30, e:95.8850\n",
      "step:40, e:91.7898\n",
      "step:50, e:88.9784\n",
      "step:60, e:87.0280\n",
      "step:70, e:85.6257\n",
      "step:80, e:84.5785\n",
      "Converged at step 84, e = 84.2316, rel_change=9.898e-04\n",
      "Acc(NMI) = 0.4000 (0.5905)\n"
     ]
    },
    {
     "name": "stderr",
     "output_type": "stream",
     "text": [
      "D:\\Software\\Anaconda3\\anaconda3\\Lib\\site-packages\\sklearn\\cluster\\_kmeans.py:1429: UserWarning: KMeans is known to have a memory leak on Windows with MKL, when there are less chunks than available threads. You can avoid it by setting the environment variable OMP_NUM_THREADS=2.\n",
      "  warnings.warn(\n"
     ]
    },
    {
     "name": "stdout",
     "output_type": "stream",
     "text": [
      "step:0, e:21138.6748\n",
      "step:10, e:132.6656\n",
      "step:20, e:129.1316\n",
      "step:30, e:124.2466\n",
      "step:40, e:120.0645\n",
      "step:50, e:117.2223\n",
      "step:60, e:115.2757\n",
      "step:70, e:113.8921\n",
      "Converged at step 72, e = 113.6638, rel_change=9.884e-04\n",
      "Acc(NMI) = 0.2775 (0.4565)\n"
     ]
    },
    {
     "name": "stderr",
     "output_type": "stream",
     "text": [
      "D:\\Software\\Anaconda3\\anaconda3\\Lib\\site-packages\\sklearn\\cluster\\_kmeans.py:1429: UserWarning: KMeans is known to have a memory leak on Windows with MKL, when there are less chunks than available threads. You can avoid it by setting the environment variable OMP_NUM_THREADS=2.\n",
      "  warnings.warn(\n"
     ]
    },
    {
     "name": "stdout",
     "output_type": "stream",
     "text": [
      "step:0, e:20235.8212\n",
      "step:10, e:148.1977\n",
      "step:20, e:144.5477\n",
      "step:30, e:140.0241\n",
      "step:40, e:136.1003\n",
      "step:50, e:133.3622\n",
      "step:60, e:131.4525\n",
      "Converged at step 67, e = 130.4471, rel_change=9.987e-04\n",
      "Acc(NMI) = 0.2125 (0.3761)\n"
     ]
    },
    {
     "name": "stderr",
     "output_type": "stream",
     "text": [
      "D:\\Software\\Anaconda3\\anaconda3\\Lib\\site-packages\\sklearn\\cluster\\_kmeans.py:1429: UserWarning: KMeans is known to have a memory leak on Windows with MKL, when there are less chunks than available threads. You can avoid it by setting the environment variable OMP_NUM_THREADS=2.\n",
      "  warnings.warn(\n"
     ]
    },
    {
     "name": "stdout",
     "output_type": "stream",
     "text": [
      "step:0, e:20586.1441\n",
      "step:10, e:150.5844\n",
      "step:20, e:147.0702\n",
      "step:30, e:142.9982\n",
      "step:40, e:139.4409\n",
      "step:50, e:136.8541\n",
      "step:60, e:135.0044\n",
      "Converged at step 66, e = 134.1441, rel_change=9.887e-04\n",
      "Acc(NMI) = 0.1850 (0.3517)\n"
     ]
    },
    {
     "name": "stderr",
     "output_type": "stream",
     "text": [
      "D:\\Software\\Anaconda3\\anaconda3\\Lib\\site-packages\\sklearn\\cluster\\_kmeans.py:1429: UserWarning: KMeans is known to have a memory leak on Windows with MKL, when there are less chunks than available threads. You can avoid it by setting the environment variable OMP_NUM_THREADS=2.\n",
      "  warnings.warn(\n"
     ]
    }
   ],
   "source": [
    "Algo = 'MU'\n",
    "Data = 'ORL'\n",
    "dataset = 'data/ORL'\n",
    "reduce = 3\n",
    "X, Y = load_data(dataset, reduce=reduce)\n",
    "K = len(set(Y))\n",
    "seeds = [0,1,2,3,4]\n",
    "pr_lst = [(0,0),(0.1,0.1),(0.2,0.2),(0.3,0.3),(0.4,0.4),(0.5,0.5)]\n",
    "record_MU_ORL = []\n",
    "steps = 10000\n",
    "tol = 1e-3\n",
    "epsilon=1e-9\n",
    "\n",
    "for seed in seeds:\n",
    "    np.random.seed(seed)\n",
    "    for p, r in pr_lst:\n",
    "        # X_noisy, noise = salt_pepper(X, p, r)\n",
    "        X_noisy, Y = load_data_salt_pepper(dataset, reduce, p, r)\n",
    "        start = time.time()\n",
    "        W, H, WH, step = L2Lee_Seung(X_noisy, K, steps, tol, epsilon, verbose=True)\n",
    "        end = time.time()\n",
    "        timeusing = end - start\n",
    "        rre = relative_reconstruction_error(X_noisy, WH)\n",
    "        acc, nmi = evaluate_clustering(H, Y)\n",
    "        record_MU_ORL.append(((p,r),acc,nmi,rre,tol,step,seed, timeusing))"
   ]
  },
  {
   "cell_type": "code",
   "execution_count": 72,
   "id": "776a0eb0-ed29-4f63-8cd6-01968ce8e06f",
   "metadata": {
    "scrolled": true
   },
   "outputs": [
    {
     "name": "stdout",
     "output_type": "stream",
     "text": [
      "         (p,r)     acc       nmi       rre    tol  step  seed      time\n",
      "0       (0, 0)  0.7025  0.828253  0.137842  0.001   239     0  1.246517\n",
      "1   (0.1, 0.1)  0.6150  0.770987  0.342608  0.001   110     0  0.624735\n",
      "2   (0.2, 0.2)  0.4200  0.603352  0.458578  0.001    86     0  0.477152\n",
      "3   (0.3, 0.3)  0.2925  0.471869  0.532614  0.001    75     0  0.426628\n",
      "4   (0.4, 0.4)  0.2325  0.414753  0.571609  0.001    68     0  0.412698\n",
      "5   (0.5, 0.5)  0.1925  0.357068  0.579991  0.001    65     0  0.403633\n",
      "6       (0, 0)  0.7050  0.832489  0.138128  0.001   235     1  1.206605\n",
      "7   (0.1, 0.1)  0.6100  0.758731  0.342026  0.001   111     1  0.617091\n",
      "8   (0.2, 0.2)  0.4000  0.587405  0.459666  0.001    83     1  0.424754\n",
      "9   (0.3, 0.3)  0.2950  0.474355  0.532501  0.001    73     1  0.435355\n",
      "10  (0.4, 0.4)  0.2275  0.401014  0.571511  0.001    68     1  0.349675\n",
      "11  (0.5, 0.5)  0.1900  0.335312  0.579764  0.001    66     1  0.379247\n",
      "12      (0, 0)  0.6975  0.821575  0.139249  0.001   233     2  1.187276\n",
      "13  (0.1, 0.1)  0.6375  0.786898  0.342194  0.001   110     2  0.607054\n",
      "14  (0.2, 0.2)  0.4100  0.613625  0.458682  0.001    85     2  0.480825\n",
      "15  (0.3, 0.3)  0.3050  0.480019  0.533138  0.001    73     2  0.443151\n",
      "16  (0.4, 0.4)  0.2300  0.396086  0.571623  0.001    67     2  0.394462\n",
      "17  (0.5, 0.5)  0.1850  0.329034  0.579450  0.001    66     2  0.416944\n",
      "18      (0, 0)  0.6775  0.818650  0.138944  0.001   230     3  1.166506\n",
      "19  (0.1, 0.1)  0.5800  0.753140  0.342189  0.001   111     3  0.606348\n",
      "20  (0.2, 0.2)  0.3750  0.568865  0.458605  0.001    86     3  0.464812\n",
      "21  (0.3, 0.3)  0.2875  0.468317  0.533460  0.001    73     3  0.373250\n",
      "22  (0.4, 0.4)  0.2150  0.372194  0.571509  0.001    68     3  0.338719\n",
      "23  (0.5, 0.5)  0.1850  0.341684  0.579585  0.001    65     3  0.370653\n",
      "24      (0, 0)  0.7300  0.846207  0.138832  0.001   237     4  1.200085\n",
      "25  (0.1, 0.1)  0.6625  0.807630  0.341998  0.001   111     4  0.582820\n",
      "26  (0.2, 0.2)  0.4000  0.590532  0.458889  0.001    85     4  0.483831\n",
      "27  (0.3, 0.3)  0.2775  0.456450  0.533066  0.001    73     4  0.484493\n",
      "28  (0.4, 0.4)  0.2125  0.376144  0.571067  0.001    68     4  0.375384\n",
      "29  (0.5, 0.5)  0.1850  0.351715  0.579103  0.001    67     4  0.383073\n",
      "        (p,r)  RRE_mean   RRE_std  ACC_mean   ACC_std  NMI_mean   NMI_std\n",
      "0      (0, 0)  0.138599  0.000589    0.7025  0.018792  0.829435  0.010841\n",
      "1  (0.1, 0.1)  0.342203  0.000244    0.6210  0.030954  0.775477  0.022157\n",
      "2  (0.2, 0.2)  0.458884  0.000454    0.4010  0.016733  0.592756  0.016972\n",
      "3  (0.3, 0.3)  0.532956  0.000395    0.2915  0.010093  0.470202  0.008790\n",
      "4  (0.4, 0.4)  0.571464  0.000228    0.2235  0.009117  0.392038  0.017744\n",
      "5  (0.5, 0.5)  0.579579  0.000334    0.1875  0.003536  0.342963  0.011508\n"
     ]
    }
   ],
   "source": [
    "df_MU_ORL = pd.DataFrame(record_MU_ORL, columns=['(p,r)','acc','nmi','rre','tol','step','seed','time'])\n",
    "print(df_MU_ORL)\n",
    "summary = df_MU_ORL.groupby(['(p,r)']).agg(\n",
    "    RRE_mean=('rre', 'mean'),\n",
    "    RRE_std=('rre', 'std'),\n",
    "    ACC_mean=('acc', 'mean'),\n",
    "    ACC_std=('acc', 'std'),\n",
    "    NMI_mean=('nmi', 'mean'),\n",
    "    NMI_std=('nmi', 'std')\n",
    ").reset_index()\n",
    "print(summary)\n",
    "df_MU_ORL.to_excel(f'{Algo}_{Data}.xlsx', index=True)"
   ]
  },
  {
   "cell_type": "markdown",
   "id": "1fc292d9-a893-4b9d-8d73-4873ae7ece77",
   "metadata": {},
   "source": [
    "## L1-Norm Regularized Robust NMF"
   ]
  },
  {
   "cell_type": "code",
   "execution_count": 14,
   "id": "cc06873f-6654-4262-81fa-9fd2d144647e",
   "metadata": {
    "scrolled": true
   },
   "outputs": [
    {
     "name": "stderr",
     "output_type": "stream",
     "text": [
      "C:\\Users\\lenovo\\AppData\\Local\\Temp\\ipykernel_1840\\282225574.py:35: RuntimeWarning: invalid value encountered in scalar divide\n",
      "  if abs(E_sq - prev_E) / (prev_E + 1e-12) < tol:\n",
      "D:\\Software\\Anaconda3\\anaconda3\\Lib\\site-packages\\sklearn\\cluster\\_kmeans.py:1429: UserWarning: KMeans is known to have a memory leak on Windows with MKL, when there are less chunks than available threads. You can avoid it by setting the environment variable OMP_NUM_THREADS=2.\n",
      "  warnings.warn(\n"
     ]
    },
    {
     "name": "stdout",
     "output_type": "stream",
     "text": [
      "Acc(NMI) = 0.6800 (0.8161)\n"
     ]
    },
    {
     "name": "stderr",
     "output_type": "stream",
     "text": [
      "C:\\Users\\lenovo\\AppData\\Local\\Temp\\ipykernel_1840\\282225574.py:35: RuntimeWarning: invalid value encountered in scalar divide\n",
      "  if abs(E_sq - prev_E) / (prev_E + 1e-12) < tol:\n",
      "D:\\Software\\Anaconda3\\anaconda3\\Lib\\site-packages\\sklearn\\cluster\\_kmeans.py:1429: UserWarning: KMeans is known to have a memory leak on Windows with MKL, when there are less chunks than available threads. You can avoid it by setting the environment variable OMP_NUM_THREADS=2.\n",
      "  warnings.warn(\n"
     ]
    },
    {
     "name": "stdout",
     "output_type": "stream",
     "text": [
      "Acc(NMI) = 0.6850 (0.8208)\n"
     ]
    },
    {
     "name": "stderr",
     "output_type": "stream",
     "text": [
      "C:\\Users\\lenovo\\AppData\\Local\\Temp\\ipykernel_1840\\282225574.py:35: RuntimeWarning: invalid value encountered in scalar divide\n",
      "  if abs(E_sq - prev_E) / (prev_E + 1e-12) < tol:\n",
      "D:\\Software\\Anaconda3\\anaconda3\\Lib\\site-packages\\sklearn\\cluster\\_kmeans.py:1429: UserWarning: KMeans is known to have a memory leak on Windows with MKL, when there are less chunks than available threads. You can avoid it by setting the environment variable OMP_NUM_THREADS=2.\n",
      "  warnings.warn(\n"
     ]
    },
    {
     "name": "stdout",
     "output_type": "stream",
     "text": [
      "Acc(NMI) = 0.6950 (0.8377)\n"
     ]
    },
    {
     "name": "stderr",
     "output_type": "stream",
     "text": [
      "C:\\Users\\lenovo\\AppData\\Local\\Temp\\ipykernel_1840\\282225574.py:35: RuntimeWarning: invalid value encountered in scalar divide\n",
      "  if abs(E_sq - prev_E) / (prev_E + 1e-12) < tol:\n",
      "D:\\Software\\Anaconda3\\anaconda3\\Lib\\site-packages\\sklearn\\cluster\\_kmeans.py:1429: UserWarning: KMeans is known to have a memory leak on Windows with MKL, when there are less chunks than available threads. You can avoid it by setting the environment variable OMP_NUM_THREADS=2.\n",
      "  warnings.warn(\n"
     ]
    },
    {
     "name": "stdout",
     "output_type": "stream",
     "text": [
      "Acc(NMI) = 0.7250 (0.8410)\n"
     ]
    },
    {
     "name": "stderr",
     "output_type": "stream",
     "text": [
      "C:\\Users\\lenovo\\AppData\\Local\\Temp\\ipykernel_1840\\282225574.py:35: RuntimeWarning: invalid value encountered in scalar divide\n",
      "  if abs(E_sq - prev_E) / (prev_E + 1e-12) < tol:\n",
      "D:\\Software\\Anaconda3\\anaconda3\\Lib\\site-packages\\sklearn\\cluster\\_kmeans.py:1429: UserWarning: KMeans is known to have a memory leak on Windows with MKL, when there are less chunks than available threads. You can avoid it by setting the environment variable OMP_NUM_THREADS=2.\n",
      "  warnings.warn(\n"
     ]
    },
    {
     "name": "stdout",
     "output_type": "stream",
     "text": [
      "Acc(NMI) = 0.6700 (0.8019)\n"
     ]
    },
    {
     "name": "stderr",
     "output_type": "stream",
     "text": [
      "C:\\Users\\lenovo\\AppData\\Local\\Temp\\ipykernel_1840\\282225574.py:35: RuntimeWarning: invalid value encountered in scalar divide\n",
      "  if abs(E_sq - prev_E) / (prev_E + 1e-12) < tol:\n",
      "D:\\Software\\Anaconda3\\anaconda3\\Lib\\site-packages\\sklearn\\cluster\\_kmeans.py:1429: UserWarning: KMeans is known to have a memory leak on Windows with MKL, when there are less chunks than available threads. You can avoid it by setting the environment variable OMP_NUM_THREADS=2.\n",
      "  warnings.warn(\n"
     ]
    },
    {
     "name": "stdout",
     "output_type": "stream",
     "text": [
      "Acc(NMI) = 0.7125 (0.8392)\n"
     ]
    },
    {
     "name": "stderr",
     "output_type": "stream",
     "text": [
      "C:\\Users\\lenovo\\AppData\\Local\\Temp\\ipykernel_1840\\282225574.py:35: RuntimeWarning: invalid value encountered in scalar divide\n",
      "  if abs(E_sq - prev_E) / (prev_E + 1e-12) < tol:\n",
      "D:\\Software\\Anaconda3\\anaconda3\\Lib\\site-packages\\sklearn\\cluster\\_kmeans.py:1429: UserWarning: KMeans is known to have a memory leak on Windows with MKL, when there are less chunks than available threads. You can avoid it by setting the environment variable OMP_NUM_THREADS=2.\n",
      "  warnings.warn(\n"
     ]
    },
    {
     "name": "stdout",
     "output_type": "stream",
     "text": [
      "Acc(NMI) = 0.7125 (0.8311)\n"
     ]
    },
    {
     "name": "stderr",
     "output_type": "stream",
     "text": [
      "C:\\Users\\lenovo\\AppData\\Local\\Temp\\ipykernel_1840\\282225574.py:35: RuntimeWarning: invalid value encountered in scalar divide\n",
      "  if abs(E_sq - prev_E) / (prev_E + 1e-12) < tol:\n",
      "D:\\Software\\Anaconda3\\anaconda3\\Lib\\site-packages\\sklearn\\cluster\\_kmeans.py:1429: UserWarning: KMeans is known to have a memory leak on Windows with MKL, when there are less chunks than available threads. You can avoid it by setting the environment variable OMP_NUM_THREADS=2.\n",
      "  warnings.warn(\n"
     ]
    },
    {
     "name": "stdout",
     "output_type": "stream",
     "text": [
      "Acc(NMI) = 0.6525 (0.8093)\n"
     ]
    },
    {
     "name": "stderr",
     "output_type": "stream",
     "text": [
      "C:\\Users\\lenovo\\AppData\\Local\\Temp\\ipykernel_1840\\282225574.py:35: RuntimeWarning: invalid value encountered in scalar divide\n",
      "  if abs(E_sq - prev_E) / (prev_E + 1e-12) < tol:\n",
      "D:\\Software\\Anaconda3\\anaconda3\\Lib\\site-packages\\sklearn\\cluster\\_kmeans.py:1429: UserWarning: KMeans is known to have a memory leak on Windows with MKL, when there are less chunks than available threads. You can avoid it by setting the environment variable OMP_NUM_THREADS=2.\n",
      "  warnings.warn(\n"
     ]
    },
    {
     "name": "stdout",
     "output_type": "stream",
     "text": [
      "Acc(NMI) = 0.7375 (0.8631)\n"
     ]
    },
    {
     "name": "stderr",
     "output_type": "stream",
     "text": [
      "C:\\Users\\lenovo\\AppData\\Local\\Temp\\ipykernel_1840\\282225574.py:35: RuntimeWarning: invalid value encountered in scalar divide\n",
      "  if abs(E_sq - prev_E) / (prev_E + 1e-12) < tol:\n",
      "D:\\Software\\Anaconda3\\anaconda3\\Lib\\site-packages\\sklearn\\cluster\\_kmeans.py:1429: UserWarning: KMeans is known to have a memory leak on Windows with MKL, when there are less chunks than available threads. You can avoid it by setting the environment variable OMP_NUM_THREADS=2.\n",
      "  warnings.warn(\n"
     ]
    },
    {
     "name": "stdout",
     "output_type": "stream",
     "text": [
      "Acc(NMI) = 0.7275 (0.8554)\n"
     ]
    },
    {
     "name": "stderr",
     "output_type": "stream",
     "text": [
      "C:\\Users\\lenovo\\AppData\\Local\\Temp\\ipykernel_1840\\282225574.py:35: RuntimeWarning: invalid value encountered in scalar divide\n",
      "  if abs(E_sq - prev_E) / (prev_E + 1e-12) < tol:\n",
      "D:\\Software\\Anaconda3\\anaconda3\\Lib\\site-packages\\sklearn\\cluster\\_kmeans.py:1429: UserWarning: KMeans is known to have a memory leak on Windows with MKL, when there are less chunks than available threads. You can avoid it by setting the environment variable OMP_NUM_THREADS=2.\n",
      "  warnings.warn(\n"
     ]
    },
    {
     "name": "stdout",
     "output_type": "stream",
     "text": [
      "Acc(NMI) = 0.6850 (0.8298)\n"
     ]
    },
    {
     "name": "stderr",
     "output_type": "stream",
     "text": [
      "C:\\Users\\lenovo\\AppData\\Local\\Temp\\ipykernel_1840\\282225574.py:35: RuntimeWarning: invalid value encountered in scalar divide\n",
      "  if abs(E_sq - prev_E) / (prev_E + 1e-12) < tol:\n",
      "D:\\Software\\Anaconda3\\anaconda3\\Lib\\site-packages\\sklearn\\cluster\\_kmeans.py:1429: UserWarning: KMeans is known to have a memory leak on Windows with MKL, when there are less chunks than available threads. You can avoid it by setting the environment variable OMP_NUM_THREADS=2.\n",
      "  warnings.warn(\n"
     ]
    },
    {
     "name": "stdout",
     "output_type": "stream",
     "text": [
      "Acc(NMI) = 0.6700 (0.8154)\n"
     ]
    },
    {
     "name": "stderr",
     "output_type": "stream",
     "text": [
      "C:\\Users\\lenovo\\AppData\\Local\\Temp\\ipykernel_1840\\282225574.py:35: RuntimeWarning: invalid value encountered in scalar divide\n",
      "  if abs(E_sq - prev_E) / (prev_E + 1e-12) < tol:\n",
      "D:\\Software\\Anaconda3\\anaconda3\\Lib\\site-packages\\sklearn\\cluster\\_kmeans.py:1429: UserWarning: KMeans is known to have a memory leak on Windows with MKL, when there are less chunks than available threads. You can avoid it by setting the environment variable OMP_NUM_THREADS=2.\n",
      "  warnings.warn(\n"
     ]
    },
    {
     "name": "stdout",
     "output_type": "stream",
     "text": [
      "Acc(NMI) = 0.6725 (0.8449)\n"
     ]
    },
    {
     "name": "stderr",
     "output_type": "stream",
     "text": [
      "C:\\Users\\lenovo\\AppData\\Local\\Temp\\ipykernel_1840\\282225574.py:35: RuntimeWarning: invalid value encountered in scalar divide\n",
      "  if abs(E_sq - prev_E) / (prev_E + 1e-12) < tol:\n",
      "D:\\Software\\Anaconda3\\anaconda3\\Lib\\site-packages\\sklearn\\cluster\\_kmeans.py:1429: UserWarning: KMeans is known to have a memory leak on Windows with MKL, when there are less chunks than available threads. You can avoid it by setting the environment variable OMP_NUM_THREADS=2.\n",
      "  warnings.warn(\n"
     ]
    },
    {
     "name": "stdout",
     "output_type": "stream",
     "text": [
      "Acc(NMI) = 0.7250 (0.8443)\n"
     ]
    },
    {
     "name": "stderr",
     "output_type": "stream",
     "text": [
      "C:\\Users\\lenovo\\AppData\\Local\\Temp\\ipykernel_1840\\282225574.py:35: RuntimeWarning: invalid value encountered in scalar divide\n",
      "  if abs(E_sq - prev_E) / (prev_E + 1e-12) < tol:\n",
      "D:\\Software\\Anaconda3\\anaconda3\\Lib\\site-packages\\sklearn\\cluster\\_kmeans.py:1429: UserWarning: KMeans is known to have a memory leak on Windows with MKL, when there are less chunks than available threads. You can avoid it by setting the environment variable OMP_NUM_THREADS=2.\n",
      "  warnings.warn(\n"
     ]
    },
    {
     "name": "stdout",
     "output_type": "stream",
     "text": [
      "Acc(NMI) = 0.7425 (0.8640)\n"
     ]
    },
    {
     "name": "stderr",
     "output_type": "stream",
     "text": [
      "C:\\Users\\lenovo\\AppData\\Local\\Temp\\ipykernel_1840\\282225574.py:35: RuntimeWarning: invalid value encountered in scalar divide\n",
      "  if abs(E_sq - prev_E) / (prev_E + 1e-12) < tol:\n",
      "D:\\Software\\Anaconda3\\anaconda3\\Lib\\site-packages\\sklearn\\cluster\\_kmeans.py:1429: UserWarning: KMeans is known to have a memory leak on Windows with MKL, when there are less chunks than available threads. You can avoid it by setting the environment variable OMP_NUM_THREADS=2.\n",
      "  warnings.warn(\n"
     ]
    },
    {
     "name": "stdout",
     "output_type": "stream",
     "text": [
      "Acc(NMI) = 0.6725 (0.8283)\n"
     ]
    },
    {
     "name": "stderr",
     "output_type": "stream",
     "text": [
      "C:\\Users\\lenovo\\AppData\\Local\\Temp\\ipykernel_1840\\282225574.py:35: RuntimeWarning: invalid value encountered in scalar divide\n",
      "  if abs(E_sq - prev_E) / (prev_E + 1e-12) < tol:\n",
      "D:\\Software\\Anaconda3\\anaconda3\\Lib\\site-packages\\sklearn\\cluster\\_kmeans.py:1429: UserWarning: KMeans is known to have a memory leak on Windows with MKL, when there are less chunks than available threads. You can avoid it by setting the environment variable OMP_NUM_THREADS=2.\n",
      "  warnings.warn(\n"
     ]
    },
    {
     "name": "stdout",
     "output_type": "stream",
     "text": [
      "Acc(NMI) = 0.7400 (0.8511)\n"
     ]
    },
    {
     "name": "stderr",
     "output_type": "stream",
     "text": [
      "C:\\Users\\lenovo\\AppData\\Local\\Temp\\ipykernel_1840\\282225574.py:35: RuntimeWarning: invalid value encountered in scalar divide\n",
      "  if abs(E_sq - prev_E) / (prev_E + 1e-12) < tol:\n",
      "D:\\Software\\Anaconda3\\anaconda3\\Lib\\site-packages\\sklearn\\cluster\\_kmeans.py:1429: UserWarning: KMeans is known to have a memory leak on Windows with MKL, when there are less chunks than available threads. You can avoid it by setting the environment variable OMP_NUM_THREADS=2.\n",
      "  warnings.warn(\n"
     ]
    },
    {
     "name": "stdout",
     "output_type": "stream",
     "text": [
      "Acc(NMI) = 0.7250 (0.8553)\n"
     ]
    },
    {
     "name": "stderr",
     "output_type": "stream",
     "text": [
      "C:\\Users\\lenovo\\AppData\\Local\\Temp\\ipykernel_1840\\282225574.py:35: RuntimeWarning: invalid value encountered in scalar divide\n",
      "  if abs(E_sq - prev_E) / (prev_E + 1e-12) < tol:\n",
      "D:\\Software\\Anaconda3\\anaconda3\\Lib\\site-packages\\sklearn\\cluster\\_kmeans.py:1429: UserWarning: KMeans is known to have a memory leak on Windows with MKL, when there are less chunks than available threads. You can avoid it by setting the environment variable OMP_NUM_THREADS=2.\n",
      "  warnings.warn(\n"
     ]
    },
    {
     "name": "stdout",
     "output_type": "stream",
     "text": [
      "Acc(NMI) = 0.6775 (0.8395)\n"
     ]
    },
    {
     "name": "stderr",
     "output_type": "stream",
     "text": [
      "C:\\Users\\lenovo\\AppData\\Local\\Temp\\ipykernel_1840\\282225574.py:35: RuntimeWarning: invalid value encountered in scalar divide\n",
      "  if abs(E_sq - prev_E) / (prev_E + 1e-12) < tol:\n",
      "D:\\Software\\Anaconda3\\anaconda3\\Lib\\site-packages\\sklearn\\cluster\\_kmeans.py:1429: UserWarning: KMeans is known to have a memory leak on Windows with MKL, when there are less chunks than available threads. You can avoid it by setting the environment variable OMP_NUM_THREADS=2.\n",
      "  warnings.warn(\n"
     ]
    },
    {
     "name": "stdout",
     "output_type": "stream",
     "text": [
      "Acc(NMI) = 0.7325 (0.8558)\n"
     ]
    },
    {
     "name": "stderr",
     "output_type": "stream",
     "text": [
      "C:\\Users\\lenovo\\AppData\\Local\\Temp\\ipykernel_1840\\282225574.py:35: RuntimeWarning: invalid value encountered in scalar divide\n",
      "  if abs(E_sq - prev_E) / (prev_E + 1e-12) < tol:\n",
      "D:\\Software\\Anaconda3\\anaconda3\\Lib\\site-packages\\sklearn\\cluster\\_kmeans.py:1429: UserWarning: KMeans is known to have a memory leak on Windows with MKL, when there are less chunks than available threads. You can avoid it by setting the environment variable OMP_NUM_THREADS=2.\n",
      "  warnings.warn(\n"
     ]
    },
    {
     "name": "stdout",
     "output_type": "stream",
     "text": [
      "Acc(NMI) = 0.7000 (0.8326)\n"
     ]
    },
    {
     "name": "stderr",
     "output_type": "stream",
     "text": [
      "C:\\Users\\lenovo\\AppData\\Local\\Temp\\ipykernel_1840\\282225574.py:35: RuntimeWarning: invalid value encountered in scalar divide\n",
      "  if abs(E_sq - prev_E) / (prev_E + 1e-12) < tol:\n",
      "D:\\Software\\Anaconda3\\anaconda3\\Lib\\site-packages\\sklearn\\cluster\\_kmeans.py:1429: UserWarning: KMeans is known to have a memory leak on Windows with MKL, when there are less chunks than available threads. You can avoid it by setting the environment variable OMP_NUM_THREADS=2.\n",
      "  warnings.warn(\n"
     ]
    },
    {
     "name": "stdout",
     "output_type": "stream",
     "text": [
      "Acc(NMI) = 0.7050 (0.8444)\n"
     ]
    },
    {
     "name": "stderr",
     "output_type": "stream",
     "text": [
      "C:\\Users\\lenovo\\AppData\\Local\\Temp\\ipykernel_1840\\282225574.py:35: RuntimeWarning: invalid value encountered in scalar divide\n",
      "  if abs(E_sq - prev_E) / (prev_E + 1e-12) < tol:\n",
      "D:\\Software\\Anaconda3\\anaconda3\\Lib\\site-packages\\sklearn\\cluster\\_kmeans.py:1429: UserWarning: KMeans is known to have a memory leak on Windows with MKL, when there are less chunks than available threads. You can avoid it by setting the environment variable OMP_NUM_THREADS=2.\n",
      "  warnings.warn(\n"
     ]
    },
    {
     "name": "stdout",
     "output_type": "stream",
     "text": [
      "Acc(NMI) = 0.6875 (0.8330)\n"
     ]
    },
    {
     "name": "stderr",
     "output_type": "stream",
     "text": [
      "C:\\Users\\lenovo\\AppData\\Local\\Temp\\ipykernel_1840\\282225574.py:35: RuntimeWarning: invalid value encountered in scalar divide\n",
      "  if abs(E_sq - prev_E) / (prev_E + 1e-12) < tol:\n",
      "D:\\Software\\Anaconda3\\anaconda3\\Lib\\site-packages\\sklearn\\cluster\\_kmeans.py:1429: UserWarning: KMeans is known to have a memory leak on Windows with MKL, when there are less chunks than available threads. You can avoid it by setting the environment variable OMP_NUM_THREADS=2.\n",
      "  warnings.warn(\n"
     ]
    },
    {
     "name": "stdout",
     "output_type": "stream",
     "text": [
      "Acc(NMI) = 0.6975 (0.8272)\n"
     ]
    },
    {
     "name": "stderr",
     "output_type": "stream",
     "text": [
      "C:\\Users\\lenovo\\AppData\\Local\\Temp\\ipykernel_1840\\282225574.py:35: RuntimeWarning: invalid value encountered in scalar divide\n",
      "  if abs(E_sq - prev_E) / (prev_E + 1e-12) < tol:\n",
      "D:\\Software\\Anaconda3\\anaconda3\\Lib\\site-packages\\sklearn\\cluster\\_kmeans.py:1429: UserWarning: KMeans is known to have a memory leak on Windows with MKL, when there are less chunks than available threads. You can avoid it by setting the environment variable OMP_NUM_THREADS=2.\n",
      "  warnings.warn(\n"
     ]
    },
    {
     "name": "stdout",
     "output_type": "stream",
     "text": [
      "Acc(NMI) = 0.6925 (0.8252)\n"
     ]
    },
    {
     "name": "stderr",
     "output_type": "stream",
     "text": [
      "C:\\Users\\lenovo\\AppData\\Local\\Temp\\ipykernel_1840\\282225574.py:35: RuntimeWarning: invalid value encountered in scalar divide\n",
      "  if abs(E_sq - prev_E) / (prev_E + 1e-12) < tol:\n",
      "D:\\Software\\Anaconda3\\anaconda3\\Lib\\site-packages\\sklearn\\cluster\\_kmeans.py:1429: UserWarning: KMeans is known to have a memory leak on Windows with MKL, when there are less chunks than available threads. You can avoid it by setting the environment variable OMP_NUM_THREADS=2.\n",
      "  warnings.warn(\n"
     ]
    },
    {
     "name": "stdout",
     "output_type": "stream",
     "text": [
      "Acc(NMI) = 0.7025 (0.8271)\n"
     ]
    },
    {
     "name": "stderr",
     "output_type": "stream",
     "text": [
      "C:\\Users\\lenovo\\AppData\\Local\\Temp\\ipykernel_1840\\282225574.py:35: RuntimeWarning: invalid value encountered in scalar divide\n",
      "  if abs(E_sq - prev_E) / (prev_E + 1e-12) < tol:\n",
      "D:\\Software\\Anaconda3\\anaconda3\\Lib\\site-packages\\sklearn\\cluster\\_kmeans.py:1429: UserWarning: KMeans is known to have a memory leak on Windows with MKL, when there are less chunks than available threads. You can avoid it by setting the environment variable OMP_NUM_THREADS=2.\n",
      "  warnings.warn(\n"
     ]
    },
    {
     "name": "stdout",
     "output_type": "stream",
     "text": [
      "Acc(NMI) = 0.6950 (0.8301)\n"
     ]
    },
    {
     "name": "stderr",
     "output_type": "stream",
     "text": [
      "C:\\Users\\lenovo\\AppData\\Local\\Temp\\ipykernel_1840\\282225574.py:35: RuntimeWarning: invalid value encountered in scalar divide\n",
      "  if abs(E_sq - prev_E) / (prev_E + 1e-12) < tol:\n",
      "D:\\Software\\Anaconda3\\anaconda3\\Lib\\site-packages\\sklearn\\cluster\\_kmeans.py:1429: UserWarning: KMeans is known to have a memory leak on Windows with MKL, when there are less chunks than available threads. You can avoid it by setting the environment variable OMP_NUM_THREADS=2.\n",
      "  warnings.warn(\n"
     ]
    },
    {
     "name": "stdout",
     "output_type": "stream",
     "text": [
      "Acc(NMI) = 0.7175 (0.8337)\n"
     ]
    },
    {
     "name": "stderr",
     "output_type": "stream",
     "text": [
      "C:\\Users\\lenovo\\AppData\\Local\\Temp\\ipykernel_1840\\282225574.py:35: RuntimeWarning: invalid value encountered in scalar divide\n",
      "  if abs(E_sq - prev_E) / (prev_E + 1e-12) < tol:\n",
      "D:\\Software\\Anaconda3\\anaconda3\\Lib\\site-packages\\sklearn\\cluster\\_kmeans.py:1429: UserWarning: KMeans is known to have a memory leak on Windows with MKL, when there are less chunks than available threads. You can avoid it by setting the environment variable OMP_NUM_THREADS=2.\n",
      "  warnings.warn(\n"
     ]
    },
    {
     "name": "stdout",
     "output_type": "stream",
     "text": [
      "Acc(NMI) = 0.7800 (0.8687)\n"
     ]
    },
    {
     "name": "stderr",
     "output_type": "stream",
     "text": [
      "C:\\Users\\lenovo\\AppData\\Local\\Temp\\ipykernel_1840\\282225574.py:35: RuntimeWarning: invalid value encountered in scalar divide\n",
      "  if abs(E_sq - prev_E) / (prev_E + 1e-12) < tol:\n",
      "D:\\Software\\Anaconda3\\anaconda3\\Lib\\site-packages\\sklearn\\cluster\\_kmeans.py:1429: UserWarning: KMeans is known to have a memory leak on Windows with MKL, when there are less chunks than available threads. You can avoid it by setting the environment variable OMP_NUM_THREADS=2.\n",
      "  warnings.warn(\n"
     ]
    },
    {
     "name": "stdout",
     "output_type": "stream",
     "text": [
      "Acc(NMI) = 0.7175 (0.8333)\n"
     ]
    },
    {
     "name": "stderr",
     "output_type": "stream",
     "text": [
      "C:\\Users\\lenovo\\AppData\\Local\\Temp\\ipykernel_1840\\282225574.py:35: RuntimeWarning: invalid value encountered in scalar divide\n",
      "  if abs(E_sq - prev_E) / (prev_E + 1e-12) < tol:\n",
      "D:\\Software\\Anaconda3\\anaconda3\\Lib\\site-packages\\sklearn\\cluster\\_kmeans.py:1429: UserWarning: KMeans is known to have a memory leak on Windows with MKL, when there are less chunks than available threads. You can avoid it by setting the environment variable OMP_NUM_THREADS=2.\n",
      "  warnings.warn(\n"
     ]
    },
    {
     "name": "stdout",
     "output_type": "stream",
     "text": [
      "Acc(NMI) = 0.6825 (0.8219)\n"
     ]
    },
    {
     "name": "stderr",
     "output_type": "stream",
     "text": [
      "C:\\Users\\lenovo\\AppData\\Local\\Temp\\ipykernel_1840\\282225574.py:35: RuntimeWarning: invalid value encountered in scalar divide\n",
      "  if abs(E_sq - prev_E) / (prev_E + 1e-12) < tol:\n",
      "D:\\Software\\Anaconda3\\anaconda3\\Lib\\site-packages\\sklearn\\cluster\\_kmeans.py:1429: UserWarning: KMeans is known to have a memory leak on Windows with MKL, when there are less chunks than available threads. You can avoid it by setting the environment variable OMP_NUM_THREADS=2.\n",
      "  warnings.warn(\n"
     ]
    },
    {
     "name": "stdout",
     "output_type": "stream",
     "text": [
      "Acc(NMI) = 0.7200 (0.8394)\n"
     ]
    },
    {
     "name": "stderr",
     "output_type": "stream",
     "text": [
      "C:\\Users\\lenovo\\AppData\\Local\\Temp\\ipykernel_1840\\282225574.py:35: RuntimeWarning: invalid value encountered in scalar divide\n",
      "  if abs(E_sq - prev_E) / (prev_E + 1e-12) < tol:\n",
      "D:\\Software\\Anaconda3\\anaconda3\\Lib\\site-packages\\sklearn\\cluster\\_kmeans.py:1429: UserWarning: KMeans is known to have a memory leak on Windows with MKL, when there are less chunks than available threads. You can avoid it by setting the environment variable OMP_NUM_THREADS=2.\n",
      "  warnings.warn(\n"
     ]
    },
    {
     "name": "stdout",
     "output_type": "stream",
     "text": [
      "Acc(NMI) = 0.6975 (0.8370)\n"
     ]
    },
    {
     "name": "stderr",
     "output_type": "stream",
     "text": [
      "C:\\Users\\lenovo\\AppData\\Local\\Temp\\ipykernel_1840\\282225574.py:35: RuntimeWarning: invalid value encountered in scalar divide\n",
      "  if abs(E_sq - prev_E) / (prev_E + 1e-12) < tol:\n",
      "D:\\Software\\Anaconda3\\anaconda3\\Lib\\site-packages\\sklearn\\cluster\\_kmeans.py:1429: UserWarning: KMeans is known to have a memory leak on Windows with MKL, when there are less chunks than available threads. You can avoid it by setting the environment variable OMP_NUM_THREADS=2.\n",
      "  warnings.warn(\n"
     ]
    },
    {
     "name": "stdout",
     "output_type": "stream",
     "text": [
      "Acc(NMI) = 0.6775 (0.8136)\n"
     ]
    },
    {
     "name": "stderr",
     "output_type": "stream",
     "text": [
      "C:\\Users\\lenovo\\AppData\\Local\\Temp\\ipykernel_1840\\282225574.py:35: RuntimeWarning: invalid value encountered in scalar divide\n",
      "  if abs(E_sq - prev_E) / (prev_E + 1e-12) < tol:\n",
      "D:\\Software\\Anaconda3\\anaconda3\\Lib\\site-packages\\sklearn\\cluster\\_kmeans.py:1429: UserWarning: KMeans is known to have a memory leak on Windows with MKL, when there are less chunks than available threads. You can avoid it by setting the environment variable OMP_NUM_THREADS=2.\n",
      "  warnings.warn(\n"
     ]
    },
    {
     "name": "stdout",
     "output_type": "stream",
     "text": [
      "Acc(NMI) = 0.6475 (0.8038)\n"
     ]
    },
    {
     "name": "stderr",
     "output_type": "stream",
     "text": [
      "C:\\Users\\lenovo\\AppData\\Local\\Temp\\ipykernel_1840\\282225574.py:35: RuntimeWarning: invalid value encountered in scalar divide\n",
      "  if abs(E_sq - prev_E) / (prev_E + 1e-12) < tol:\n",
      "D:\\Software\\Anaconda3\\anaconda3\\Lib\\site-packages\\sklearn\\cluster\\_kmeans.py:1429: UserWarning: KMeans is known to have a memory leak on Windows with MKL, when there are less chunks than available threads. You can avoid it by setting the environment variable OMP_NUM_THREADS=2.\n",
      "  warnings.warn(\n"
     ]
    },
    {
     "name": "stdout",
     "output_type": "stream",
     "text": [
      "Acc(NMI) = 0.6550 (0.8158)\n"
     ]
    },
    {
     "name": "stderr",
     "output_type": "stream",
     "text": [
      "C:\\Users\\lenovo\\AppData\\Local\\Temp\\ipykernel_1840\\282225574.py:35: RuntimeWarning: invalid value encountered in scalar divide\n",
      "  if abs(E_sq - prev_E) / (prev_E + 1e-12) < tol:\n",
      "D:\\Software\\Anaconda3\\anaconda3\\Lib\\site-packages\\sklearn\\cluster\\_kmeans.py:1429: UserWarning: KMeans is known to have a memory leak on Windows with MKL, when there are less chunks than available threads. You can avoid it by setting the environment variable OMP_NUM_THREADS=2.\n",
      "  warnings.warn(\n"
     ]
    },
    {
     "name": "stdout",
     "output_type": "stream",
     "text": [
      "Acc(NMI) = 0.7000 (0.8299)\n"
     ]
    },
    {
     "name": "stderr",
     "output_type": "stream",
     "text": [
      "C:\\Users\\lenovo\\AppData\\Local\\Temp\\ipykernel_1840\\282225574.py:35: RuntimeWarning: invalid value encountered in scalar divide\n",
      "  if abs(E_sq - prev_E) / (prev_E + 1e-12) < tol:\n",
      "D:\\Software\\Anaconda3\\anaconda3\\Lib\\site-packages\\sklearn\\cluster\\_kmeans.py:1429: UserWarning: KMeans is known to have a memory leak on Windows with MKL, when there are less chunks than available threads. You can avoid it by setting the environment variable OMP_NUM_THREADS=2.\n",
      "  warnings.warn(\n"
     ]
    },
    {
     "name": "stdout",
     "output_type": "stream",
     "text": [
      "Acc(NMI) = 0.7050 (0.8426)\n"
     ]
    },
    {
     "name": "stderr",
     "output_type": "stream",
     "text": [
      "C:\\Users\\lenovo\\AppData\\Local\\Temp\\ipykernel_1840\\282225574.py:35: RuntimeWarning: invalid value encountered in scalar divide\n",
      "  if abs(E_sq - prev_E) / (prev_E + 1e-12) < tol:\n",
      "D:\\Software\\Anaconda3\\anaconda3\\Lib\\site-packages\\sklearn\\cluster\\_kmeans.py:1429: UserWarning: KMeans is known to have a memory leak on Windows with MKL, when there are less chunks than available threads. You can avoid it by setting the environment variable OMP_NUM_THREADS=2.\n",
      "  warnings.warn(\n"
     ]
    },
    {
     "name": "stdout",
     "output_type": "stream",
     "text": [
      "Acc(NMI) = 0.7225 (0.8383)\n"
     ]
    },
    {
     "name": "stderr",
     "output_type": "stream",
     "text": [
      "C:\\Users\\lenovo\\AppData\\Local\\Temp\\ipykernel_1840\\282225574.py:35: RuntimeWarning: invalid value encountered in scalar divide\n",
      "  if abs(E_sq - prev_E) / (prev_E + 1e-12) < tol:\n",
      "D:\\Software\\Anaconda3\\anaconda3\\Lib\\site-packages\\sklearn\\cluster\\_kmeans.py:1429: UserWarning: KMeans is known to have a memory leak on Windows with MKL, when there are less chunks than available threads. You can avoid it by setting the environment variable OMP_NUM_THREADS=2.\n",
      "  warnings.warn(\n"
     ]
    },
    {
     "name": "stdout",
     "output_type": "stream",
     "text": [
      "Acc(NMI) = 0.7250 (0.8416)\n"
     ]
    },
    {
     "name": "stderr",
     "output_type": "stream",
     "text": [
      "C:\\Users\\lenovo\\AppData\\Local\\Temp\\ipykernel_1840\\282225574.py:35: RuntimeWarning: invalid value encountered in scalar divide\n",
      "  if abs(E_sq - prev_E) / (prev_E + 1e-12) < tol:\n",
      "D:\\Software\\Anaconda3\\anaconda3\\Lib\\site-packages\\sklearn\\cluster\\_kmeans.py:1429: UserWarning: KMeans is known to have a memory leak on Windows with MKL, when there are less chunks than available threads. You can avoid it by setting the environment variable OMP_NUM_THREADS=2.\n",
      "  warnings.warn(\n"
     ]
    },
    {
     "name": "stdout",
     "output_type": "stream",
     "text": [
      "Acc(NMI) = 0.7100 (0.8428)\n"
     ]
    },
    {
     "name": "stderr",
     "output_type": "stream",
     "text": [
      "C:\\Users\\lenovo\\AppData\\Local\\Temp\\ipykernel_1840\\282225574.py:35: RuntimeWarning: invalid value encountered in scalar divide\n",
      "  if abs(E_sq - prev_E) / (prev_E + 1e-12) < tol:\n",
      "D:\\Software\\Anaconda3\\anaconda3\\Lib\\site-packages\\sklearn\\cluster\\_kmeans.py:1429: UserWarning: KMeans is known to have a memory leak on Windows with MKL, when there are less chunks than available threads. You can avoid it by setting the environment variable OMP_NUM_THREADS=2.\n",
      "  warnings.warn(\n"
     ]
    },
    {
     "name": "stdout",
     "output_type": "stream",
     "text": [
      "Acc(NMI) = 0.7550 (0.8689)\n"
     ]
    },
    {
     "name": "stderr",
     "output_type": "stream",
     "text": [
      "C:\\Users\\lenovo\\AppData\\Local\\Temp\\ipykernel_1840\\282225574.py:35: RuntimeWarning: invalid value encountered in scalar divide\n",
      "  if abs(E_sq - prev_E) / (prev_E + 1e-12) < tol:\n",
      "D:\\Software\\Anaconda3\\anaconda3\\Lib\\site-packages\\sklearn\\cluster\\_kmeans.py:1429: UserWarning: KMeans is known to have a memory leak on Windows with MKL, when there are less chunks than available threads. You can avoid it by setting the environment variable OMP_NUM_THREADS=2.\n",
      "  warnings.warn(\n"
     ]
    },
    {
     "name": "stdout",
     "output_type": "stream",
     "text": [
      "Acc(NMI) = 0.6875 (0.8241)\n"
     ]
    },
    {
     "name": "stderr",
     "output_type": "stream",
     "text": [
      "C:\\Users\\lenovo\\AppData\\Local\\Temp\\ipykernel_1840\\282225574.py:35: RuntimeWarning: invalid value encountered in scalar divide\n",
      "  if abs(E_sq - prev_E) / (prev_E + 1e-12) < tol:\n",
      "D:\\Software\\Anaconda3\\anaconda3\\Lib\\site-packages\\sklearn\\cluster\\_kmeans.py:1429: UserWarning: KMeans is known to have a memory leak on Windows with MKL, when there are less chunks than available threads. You can avoid it by setting the environment variable OMP_NUM_THREADS=2.\n",
      "  warnings.warn(\n"
     ]
    },
    {
     "name": "stdout",
     "output_type": "stream",
     "text": [
      "Acc(NMI) = 0.7350 (0.8441)\n"
     ]
    },
    {
     "name": "stderr",
     "output_type": "stream",
     "text": [
      "C:\\Users\\lenovo\\AppData\\Local\\Temp\\ipykernel_1840\\282225574.py:35: RuntimeWarning: invalid value encountered in scalar divide\n",
      "  if abs(E_sq - prev_E) / (prev_E + 1e-12) < tol:\n",
      "D:\\Software\\Anaconda3\\anaconda3\\Lib\\site-packages\\sklearn\\cluster\\_kmeans.py:1429: UserWarning: KMeans is known to have a memory leak on Windows with MKL, when there are less chunks than available threads. You can avoid it by setting the environment variable OMP_NUM_THREADS=2.\n",
      "  warnings.warn(\n"
     ]
    },
    {
     "name": "stdout",
     "output_type": "stream",
     "text": [
      "Acc(NMI) = 0.7125 (0.8449)\n"
     ]
    },
    {
     "name": "stderr",
     "output_type": "stream",
     "text": [
      "C:\\Users\\lenovo\\AppData\\Local\\Temp\\ipykernel_1840\\282225574.py:35: RuntimeWarning: invalid value encountered in scalar divide\n",
      "  if abs(E_sq - prev_E) / (prev_E + 1e-12) < tol:\n",
      "D:\\Software\\Anaconda3\\anaconda3\\Lib\\site-packages\\sklearn\\cluster\\_kmeans.py:1429: UserWarning: KMeans is known to have a memory leak on Windows with MKL, when there are less chunks than available threads. You can avoid it by setting the environment variable OMP_NUM_THREADS=2.\n",
      "  warnings.warn(\n"
     ]
    },
    {
     "name": "stdout",
     "output_type": "stream",
     "text": [
      "Acc(NMI) = 0.7200 (0.8372)\n"
     ]
    },
    {
     "name": "stderr",
     "output_type": "stream",
     "text": [
      "C:\\Users\\lenovo\\AppData\\Local\\Temp\\ipykernel_1840\\282225574.py:35: RuntimeWarning: invalid value encountered in scalar divide\n",
      "  if abs(E_sq - prev_E) / (prev_E + 1e-12) < tol:\n",
      "D:\\Software\\Anaconda3\\anaconda3\\Lib\\site-packages\\sklearn\\cluster\\_kmeans.py:1429: UserWarning: KMeans is known to have a memory leak on Windows with MKL, when there are less chunks than available threads. You can avoid it by setting the environment variable OMP_NUM_THREADS=2.\n",
      "  warnings.warn(\n"
     ]
    },
    {
     "name": "stdout",
     "output_type": "stream",
     "text": [
      "Acc(NMI) = 0.6700 (0.8187)\n"
     ]
    },
    {
     "name": "stderr",
     "output_type": "stream",
     "text": [
      "C:\\Users\\lenovo\\AppData\\Local\\Temp\\ipykernel_1840\\282225574.py:35: RuntimeWarning: invalid value encountered in scalar divide\n",
      "  if abs(E_sq - prev_E) / (prev_E + 1e-12) < tol:\n",
      "D:\\Software\\Anaconda3\\anaconda3\\Lib\\site-packages\\sklearn\\cluster\\_kmeans.py:1429: UserWarning: KMeans is known to have a memory leak on Windows with MKL, when there are less chunks than available threads. You can avoid it by setting the environment variable OMP_NUM_THREADS=2.\n",
      "  warnings.warn(\n"
     ]
    },
    {
     "name": "stdout",
     "output_type": "stream",
     "text": [
      "Acc(NMI) = 0.7125 (0.8441)\n"
     ]
    },
    {
     "name": "stderr",
     "output_type": "stream",
     "text": [
      "C:\\Users\\lenovo\\AppData\\Local\\Temp\\ipykernel_1840\\282225574.py:35: RuntimeWarning: invalid value encountered in scalar divide\n",
      "  if abs(E_sq - prev_E) / (prev_E + 1e-12) < tol:\n",
      "D:\\Software\\Anaconda3\\anaconda3\\Lib\\site-packages\\sklearn\\cluster\\_kmeans.py:1429: UserWarning: KMeans is known to have a memory leak on Windows with MKL, when there are less chunks than available threads. You can avoid it by setting the environment variable OMP_NUM_THREADS=2.\n",
      "  warnings.warn(\n"
     ]
    },
    {
     "name": "stdout",
     "output_type": "stream",
     "text": [
      "Acc(NMI) = 0.7600 (0.8737)\n"
     ]
    },
    {
     "name": "stderr",
     "output_type": "stream",
     "text": [
      "C:\\Users\\lenovo\\AppData\\Local\\Temp\\ipykernel_1840\\282225574.py:35: RuntimeWarning: invalid value encountered in scalar divide\n",
      "  if abs(E_sq - prev_E) / (prev_E + 1e-12) < tol:\n",
      "D:\\Software\\Anaconda3\\anaconda3\\Lib\\site-packages\\sklearn\\cluster\\_kmeans.py:1429: UserWarning: KMeans is known to have a memory leak on Windows with MKL, when there are less chunks than available threads. You can avoid it by setting the environment variable OMP_NUM_THREADS=2.\n",
      "  warnings.warn(\n"
     ]
    },
    {
     "name": "stdout",
     "output_type": "stream",
     "text": [
      "Acc(NMI) = 0.7050 (0.8302)\n"
     ]
    },
    {
     "name": "stderr",
     "output_type": "stream",
     "text": [
      "C:\\Users\\lenovo\\AppData\\Local\\Temp\\ipykernel_1840\\282225574.py:35: RuntimeWarning: invalid value encountered in scalar divide\n",
      "  if abs(E_sq - prev_E) / (prev_E + 1e-12) < tol:\n",
      "D:\\Software\\Anaconda3\\anaconda3\\Lib\\site-packages\\sklearn\\cluster\\_kmeans.py:1429: UserWarning: KMeans is known to have a memory leak on Windows with MKL, when there are less chunks than available threads. You can avoid it by setting the environment variable OMP_NUM_THREADS=2.\n",
      "  warnings.warn(\n"
     ]
    },
    {
     "name": "stdout",
     "output_type": "stream",
     "text": [
      "Acc(NMI) = 0.6850 (0.8176)\n"
     ]
    },
    {
     "name": "stderr",
     "output_type": "stream",
     "text": [
      "C:\\Users\\lenovo\\AppData\\Local\\Temp\\ipykernel_1840\\282225574.py:35: RuntimeWarning: invalid value encountered in scalar divide\n",
      "  if abs(E_sq - prev_E) / (prev_E + 1e-12) < tol:\n",
      "D:\\Software\\Anaconda3\\anaconda3\\Lib\\site-packages\\sklearn\\cluster\\_kmeans.py:1429: UserWarning: KMeans is known to have a memory leak on Windows with MKL, when there are less chunks than available threads. You can avoid it by setting the environment variable OMP_NUM_THREADS=2.\n",
      "  warnings.warn(\n"
     ]
    },
    {
     "name": "stdout",
     "output_type": "stream",
     "text": [
      "Acc(NMI) = 0.7225 (0.8438)\n"
     ]
    },
    {
     "name": "stderr",
     "output_type": "stream",
     "text": [
      "C:\\Users\\lenovo\\AppData\\Local\\Temp\\ipykernel_1840\\282225574.py:35: RuntimeWarning: invalid value encountered in scalar divide\n",
      "  if abs(E_sq - prev_E) / (prev_E + 1e-12) < tol:\n",
      "D:\\Software\\Anaconda3\\anaconda3\\Lib\\site-packages\\sklearn\\cluster\\_kmeans.py:1429: UserWarning: KMeans is known to have a memory leak on Windows with MKL, when there are less chunks than available threads. You can avoid it by setting the environment variable OMP_NUM_THREADS=2.\n",
      "  warnings.warn(\n"
     ]
    },
    {
     "name": "stdout",
     "output_type": "stream",
     "text": [
      "Acc(NMI) = 0.6850 (0.8279)\n"
     ]
    },
    {
     "name": "stderr",
     "output_type": "stream",
     "text": [
      "C:\\Users\\lenovo\\AppData\\Local\\Temp\\ipykernel_1840\\282225574.py:35: RuntimeWarning: invalid value encountered in scalar divide\n",
      "  if abs(E_sq - prev_E) / (prev_E + 1e-12) < tol:\n",
      "D:\\Software\\Anaconda3\\anaconda3\\Lib\\site-packages\\sklearn\\cluster\\_kmeans.py:1429: UserWarning: KMeans is known to have a memory leak on Windows with MKL, when there are less chunks than available threads. You can avoid it by setting the environment variable OMP_NUM_THREADS=2.\n",
      "  warnings.warn(\n"
     ]
    },
    {
     "name": "stdout",
     "output_type": "stream",
     "text": [
      "Acc(NMI) = 0.6925 (0.8343)\n"
     ]
    },
    {
     "name": "stderr",
     "output_type": "stream",
     "text": [
      "C:\\Users\\lenovo\\AppData\\Local\\Temp\\ipykernel_1840\\282225574.py:35: RuntimeWarning: invalid value encountered in scalar divide\n",
      "  if abs(E_sq - prev_E) / (prev_E + 1e-12) < tol:\n",
      "D:\\Software\\Anaconda3\\anaconda3\\Lib\\site-packages\\sklearn\\cluster\\_kmeans.py:1429: UserWarning: KMeans is known to have a memory leak on Windows with MKL, when there are less chunks than available threads. You can avoid it by setting the environment variable OMP_NUM_THREADS=2.\n",
      "  warnings.warn(\n"
     ]
    },
    {
     "name": "stdout",
     "output_type": "stream",
     "text": [
      "Acc(NMI) = 0.6825 (0.8131)\n"
     ]
    },
    {
     "name": "stderr",
     "output_type": "stream",
     "text": [
      "C:\\Users\\lenovo\\AppData\\Local\\Temp\\ipykernel_1840\\282225574.py:35: RuntimeWarning: invalid value encountered in scalar divide\n",
      "  if abs(E_sq - prev_E) / (prev_E + 1e-12) < tol:\n",
      "D:\\Software\\Anaconda3\\anaconda3\\Lib\\site-packages\\sklearn\\cluster\\_kmeans.py:1429: UserWarning: KMeans is known to have a memory leak on Windows with MKL, when there are less chunks than available threads. You can avoid it by setting the environment variable OMP_NUM_THREADS=2.\n",
      "  warnings.warn(\n"
     ]
    },
    {
     "name": "stdout",
     "output_type": "stream",
     "text": [
      "Acc(NMI) = 0.6725 (0.8370)\n"
     ]
    },
    {
     "name": "stderr",
     "output_type": "stream",
     "text": [
      "C:\\Users\\lenovo\\AppData\\Local\\Temp\\ipykernel_1840\\282225574.py:35: RuntimeWarning: invalid value encountered in scalar divide\n",
      "  if abs(E_sq - prev_E) / (prev_E + 1e-12) < tol:\n",
      "D:\\Software\\Anaconda3\\anaconda3\\Lib\\site-packages\\sklearn\\cluster\\_kmeans.py:1429: UserWarning: KMeans is known to have a memory leak on Windows with MKL, when there are less chunks than available threads. You can avoid it by setting the environment variable OMP_NUM_THREADS=2.\n",
      "  warnings.warn(\n"
     ]
    },
    {
     "name": "stdout",
     "output_type": "stream",
     "text": [
      "Acc(NMI) = 0.7800 (0.8852)\n"
     ]
    },
    {
     "name": "stderr",
     "output_type": "stream",
     "text": [
      "C:\\Users\\lenovo\\AppData\\Local\\Temp\\ipykernel_1840\\282225574.py:35: RuntimeWarning: invalid value encountered in scalar divide\n",
      "  if abs(E_sq - prev_E) / (prev_E + 1e-12) < tol:\n",
      "D:\\Software\\Anaconda3\\anaconda3\\Lib\\site-packages\\sklearn\\cluster\\_kmeans.py:1429: UserWarning: KMeans is known to have a memory leak on Windows with MKL, when there are less chunks than available threads. You can avoid it by setting the environment variable OMP_NUM_THREADS=2.\n",
      "  warnings.warn(\n"
     ]
    },
    {
     "name": "stdout",
     "output_type": "stream",
     "text": [
      "Acc(NMI) = 0.6825 (0.8297)\n"
     ]
    },
    {
     "name": "stderr",
     "output_type": "stream",
     "text": [
      "C:\\Users\\lenovo\\AppData\\Local\\Temp\\ipykernel_1840\\282225574.py:35: RuntimeWarning: invalid value encountered in scalar divide\n",
      "  if abs(E_sq - prev_E) / (prev_E + 1e-12) < tol:\n",
      "D:\\Software\\Anaconda3\\anaconda3\\Lib\\site-packages\\sklearn\\cluster\\_kmeans.py:1429: UserWarning: KMeans is known to have a memory leak on Windows with MKL, when there are less chunks than available threads. You can avoid it by setting the environment variable OMP_NUM_THREADS=2.\n",
      "  warnings.warn(\n"
     ]
    },
    {
     "name": "stdout",
     "output_type": "stream",
     "text": [
      "Acc(NMI) = 0.7025 (0.8337)\n"
     ]
    },
    {
     "name": "stderr",
     "output_type": "stream",
     "text": [
      "C:\\Users\\lenovo\\AppData\\Local\\Temp\\ipykernel_1840\\282225574.py:35: RuntimeWarning: invalid value encountered in scalar divide\n",
      "  if abs(E_sq - prev_E) / (prev_E + 1e-12) < tol:\n"
     ]
    },
    {
     "name": "stdout",
     "output_type": "stream",
     "text": [
      "Acc(NMI) = 0.7375 (0.8557)\n"
     ]
    },
    {
     "name": "stderr",
     "output_type": "stream",
     "text": [
      "D:\\Software\\Anaconda3\\anaconda3\\Lib\\site-packages\\sklearn\\cluster\\_kmeans.py:1429: UserWarning: KMeans is known to have a memory leak on Windows with MKL, when there are less chunks than available threads. You can avoid it by setting the environment variable OMP_NUM_THREADS=2.\n",
      "  warnings.warn(\n"
     ]
    }
   ],
   "source": [
    "Algo = 'L1'\n",
    "Data = 'ORL'\n",
    "dataset = 'data/ORL'\n",
    "reduce = 3\n",
    "X, Y = load_data(dataset, reduce=reduce)\n",
    "eps=1e-8\n",
    "rank = 40\n",
    "steps = 10000\n",
    "lambdas = [(0.0,0.0),(0.01,0.005)]\n",
    "kmeans_init = 5\n",
    "verbose_nmf = False\n",
    "seeds = [0,1,2,3,4]\n",
    "pr_lst = [(0,0),(0.1,0.1),(0.2,0.2),(0.3,0.3),(0.4,0.4),(0.5,0.5)]\n",
    "tol = 1e-3\n",
    "record_L1_ORL = []\n",
    "\n",
    "for seed in seeds:\n",
    "    np.random.seed(seed)\n",
    "    for lambda_h, lambda_w in lambdas:\n",
    "        for p, r in pr_lst:\n",
    "            # X_noisy, noise = salt_pepper(X, p, r)\n",
    "            X_noisy, Y = load_data_salt_pepper(dataset, reduce, p, r)\n",
    "            start = time.time()\n",
    "            W, H, WH, step = l1_nmf_corrected(X, rank=rank, steps=steps, tol=tol, lambda_h=lambda_h, lambda_w=lambda_w, eps=eps)\n",
    "            end = time.time()\n",
    "            timeusing = end - start\n",
    "            rre = relative_reconstruction_error(X_noisy, WH)\n",
    "            acc, nmi = evaluate_clustering(H, Y)\n",
    "            record_L1_ORL.append(((p,r), (lambda_h,lambda_w), acc,nmi,rre,step, seed, timeusing))"
   ]
  },
  {
   "cell_type": "code",
   "execution_count": 15,
   "id": "6f8708b5-a6a2-42f9-adf3-bd6429dc950d",
   "metadata": {
    "scrolled": true
   },
   "outputs": [
    {
     "name": "stdout",
     "output_type": "stream",
     "text": [
      "         (p,r) (lambda_h,lambda_w)     acc       nmi       rre  step  seed  \\\n",
      "0       (0, 0)          (0.0, 0.0)  0.6800  0.816082  0.139027     8     0   \n",
      "1   (0.1, 0.1)          (0.0, 0.0)  0.6850  0.820772  0.354142     8     0   \n",
      "2   (0.2, 0.2)          (0.0, 0.0)  0.6950  0.837705  0.489061     8     0   \n",
      "3   (0.3, 0.3)          (0.0, 0.0)  0.7250  0.840985  0.583191     8     0   \n",
      "4   (0.4, 0.4)          (0.0, 0.0)  0.6700  0.801858  0.640879     8     0   \n",
      "5   (0.5, 0.5)          (0.0, 0.0)  0.7125  0.839191  0.664392     8     0   \n",
      "6       (0, 0)       (0.01, 0.005)  0.7125  0.831069  0.150310     7     0   \n",
      "7   (0.1, 0.1)       (0.01, 0.005)  0.6525  0.809277  0.357154     7     0   \n",
      "8   (0.2, 0.2)       (0.01, 0.005)  0.7375  0.863079  0.489907     7     0   \n",
      "9   (0.3, 0.3)       (0.01, 0.005)  0.7275  0.855431  0.583907     7     0   \n",
      "10  (0.4, 0.4)       (0.01, 0.005)  0.6850  0.829755  0.640463     7     0   \n",
      "11  (0.5, 0.5)       (0.01, 0.005)  0.6700  0.815357  0.664093     7     0   \n",
      "12      (0, 0)          (0.0, 0.0)  0.6725  0.844854  0.140228     8     1   \n",
      "13  (0.1, 0.1)          (0.0, 0.0)  0.7250  0.844284  0.354118     8     1   \n",
      "14  (0.2, 0.2)          (0.0, 0.0)  0.7425  0.864026  0.489378     8     1   \n",
      "15  (0.3, 0.3)          (0.0, 0.0)  0.6725  0.828287  0.583318     8     1   \n",
      "16  (0.4, 0.4)          (0.0, 0.0)  0.7400  0.851074  0.640959     8     1   \n",
      "17  (0.5, 0.5)          (0.0, 0.0)  0.7250  0.855349  0.664468     8     1   \n",
      "18      (0, 0)       (0.01, 0.005)  0.6775  0.839470  0.150974     7     1   \n",
      "19  (0.1, 0.1)       (0.01, 0.005)  0.7325  0.855762  0.357995     7     1   \n",
      "20  (0.2, 0.2)       (0.01, 0.005)  0.7000  0.832552  0.490725     7     1   \n",
      "21  (0.3, 0.3)       (0.01, 0.005)  0.7050  0.844425  0.583734     7     1   \n",
      "22  (0.4, 0.4)       (0.01, 0.005)  0.6875  0.832964  0.641080     7     1   \n",
      "23  (0.5, 0.5)       (0.01, 0.005)  0.6975  0.827245  0.663934     7     1   \n",
      "24      (0, 0)          (0.0, 0.0)  0.6925  0.825227  0.139507     8     2   \n",
      "25  (0.1, 0.1)          (0.0, 0.0)  0.7025  0.827061  0.354105     8     2   \n",
      "26  (0.2, 0.2)          (0.0, 0.0)  0.6950  0.830096  0.488622     8     2   \n",
      "27  (0.3, 0.3)          (0.0, 0.0)  0.7175  0.833731  0.583509     8     2   \n",
      "28  (0.4, 0.4)          (0.0, 0.0)  0.7800  0.868721  0.640546     8     2   \n",
      "29  (0.5, 0.5)          (0.0, 0.0)  0.7175  0.833339  0.664055     8     2   \n",
      "30      (0, 0)       (0.01, 0.005)  0.6825  0.821922  0.149973     7     2   \n",
      "31  (0.1, 0.1)       (0.01, 0.005)  0.7200  0.839429  0.356316     7     2   \n",
      "32  (0.2, 0.2)       (0.01, 0.005)  0.6975  0.837008  0.490662     7     2   \n",
      "33  (0.3, 0.3)       (0.01, 0.005)  0.6775  0.813597  0.584591     6     2   \n",
      "34  (0.4, 0.4)       (0.01, 0.005)  0.6475  0.803752  0.640453     7     2   \n",
      "35  (0.5, 0.5)       (0.01, 0.005)  0.6550  0.815782  0.663885     7     2   \n",
      "36      (0, 0)          (0.0, 0.0)  0.7000  0.829870  0.139880     8     3   \n",
      "37  (0.1, 0.1)          (0.0, 0.0)  0.7050  0.842571  0.353947     8     3   \n",
      "38  (0.2, 0.2)          (0.0, 0.0)  0.7225  0.838342  0.488799     8     3   \n",
      "39  (0.3, 0.3)          (0.0, 0.0)  0.7250  0.841612  0.583874     8     3   \n",
      "40  (0.4, 0.4)          (0.0, 0.0)  0.7100  0.842810  0.640393     8     3   \n",
      "41  (0.5, 0.5)          (0.0, 0.0)  0.7550  0.868950  0.664631     8     3   \n",
      "42      (0, 0)       (0.01, 0.005)  0.6875  0.824063  0.148384     7     3   \n",
      "43  (0.1, 0.1)       (0.01, 0.005)  0.7350  0.844144  0.357190     7     3   \n",
      "44  (0.2, 0.2)       (0.01, 0.005)  0.7125  0.844888  0.489654     7     3   \n",
      "45  (0.3, 0.3)       (0.01, 0.005)  0.7200  0.837159  0.584190     7     3   \n",
      "46  (0.4, 0.4)       (0.01, 0.005)  0.6700  0.818749  0.640962     6     3   \n",
      "47  (0.5, 0.5)       (0.01, 0.005)  0.7125  0.844059  0.663272     7     3   \n",
      "48      (0, 0)          (0.0, 0.0)  0.7600  0.873685  0.140825     8     4   \n",
      "49  (0.1, 0.1)          (0.0, 0.0)  0.7050  0.830151  0.354253     8     4   \n",
      "50  (0.2, 0.2)          (0.0, 0.0)  0.6850  0.817620  0.488619     8     4   \n",
      "51  (0.3, 0.3)          (0.0, 0.0)  0.7225  0.843807  0.583326     8     4   \n",
      "52  (0.4, 0.4)          (0.0, 0.0)  0.6850  0.827898  0.640697     8     4   \n",
      "53  (0.5, 0.5)          (0.0, 0.0)  0.6925  0.834268  0.663089     8     4   \n",
      "54      (0, 0)       (0.01, 0.005)  0.6825  0.813092  0.149036     7     4   \n",
      "55  (0.1, 0.1)       (0.01, 0.005)  0.6725  0.837045  0.357229     7     4   \n",
      "56  (0.2, 0.2)       (0.01, 0.005)  0.7800  0.885240  0.490044     7     4   \n",
      "57  (0.3, 0.3)       (0.01, 0.005)  0.6825  0.829662  0.583955     7     4   \n",
      "58  (0.4, 0.4)       (0.01, 0.005)  0.7025  0.833719  0.640458     7     4   \n",
      "59  (0.5, 0.5)       (0.01, 0.005)  0.7375  0.855741  0.663180     7     4   \n",
      "\n",
      "        time  \n",
      "0   1.427461  \n",
      "1   1.488686  \n",
      "2   1.397102  \n",
      "3   1.441356  \n",
      "4   1.445983  \n",
      "5   1.444759  \n",
      "6   1.139841  \n",
      "7   1.144711  \n",
      "8   1.159522  \n",
      "9   1.116570  \n",
      "10  1.163537  \n",
      "11  1.108722  \n",
      "12  1.507412  \n",
      "13  1.645974  \n",
      "14  1.491799  \n",
      "15  1.426909  \n",
      "16  1.431193  \n",
      "17  1.400392  \n",
      "18  1.104934  \n",
      "19  1.099034  \n",
      "20  1.111007  \n",
      "21  1.103868  \n",
      "22  1.090090  \n",
      "23  1.137984  \n",
      "24  1.460084  \n",
      "25  1.451407  \n",
      "26  1.459911  \n",
      "27  1.441847  \n",
      "28  1.422182  \n",
      "29  1.438507  \n",
      "30  1.151130  \n",
      "31  1.112241  \n",
      "32  1.063001  \n",
      "33  1.042313  \n",
      "34  1.079703  \n",
      "35  1.091294  \n",
      "36  1.484241  \n",
      "37  1.424105  \n",
      "38  1.430204  \n",
      "39  1.422744  \n",
      "40  1.463476  \n",
      "41  1.359289  \n",
      "42  1.143180  \n",
      "43  1.024496  \n",
      "44  1.108059  \n",
      "45  1.083143  \n",
      "46  1.014426  \n",
      "47  1.132094  \n",
      "48  1.365946  \n",
      "49  1.345102  \n",
      "50  1.468435  \n",
      "51  1.410372  \n",
      "52  1.445124  \n",
      "53  1.413725  \n",
      "54  1.144988  \n",
      "55  1.135364  \n",
      "56  1.189095  \n",
      "57  1.220992  \n",
      "58  1.165502  \n",
      "59  1.135348  \n",
      "        (p,r)  RRE_mean   RRE_std  ACC_mean   ACC_std  NMI_mean   NMI_std\n",
      "0      (0, 0)  0.144814  0.005252   0.69475  0.025751  0.831933  0.017592\n",
      "1  (0.1, 0.1)  0.355645  0.001664   0.70350  0.026828  0.835050  0.013469\n",
      "2  (0.2, 0.2)  0.489547  0.000786   0.71675  0.029346  0.845056  0.019990\n",
      "3  (0.3, 0.3)  0.583760  0.000437   0.70750  0.021731  0.836870  0.011384\n",
      "4  (0.4, 0.4)  0.640689  0.000259   0.69775  0.038323  0.831130  0.020356\n",
      "5  (0.5, 0.5)  0.663900  0.000551   0.70750  0.030000  0.838928  0.017515\n"
     ]
    }
   ],
   "source": [
    "df_L1_ORL = pd.DataFrame(record_L1_ORL, columns=['(p,r)', '(lambda_h,lambda_w)','acc','nmi','rre','step','seed','time'])\n",
    "print(df_L1_ORL)\n",
    "summary = df_L1_ORL.groupby(['(p,r)']).agg(\n",
    "    RRE_mean=('rre', 'mean'),\n",
    "    RRE_std=('rre', 'std'),\n",
    "    ACC_mean=('acc', 'mean'),\n",
    "    ACC_std=('acc', 'std'),\n",
    "    NMI_mean=('nmi', 'mean'),\n",
    "    NMI_std=('nmi', 'std')\n",
    ").reset_index()\n",
    "print(summary)\n",
    "df_L1_ORL.to_excel(f'{Algo}_{Data}.xlsx', index=True)"
   ]
  },
  {
   "cell_type": "markdown",
   "id": "54590656-8f04-4188-aab8-df272fa8e5ca",
   "metadata": {},
   "source": [
    "## Hypersurface Cost-Based NMF (HCNMF)"
   ]
  },
  {
   "cell_type": "code",
   "execution_count": 41,
   "id": "da963c8d-0f95-49e5-9440-c402a4642197",
   "metadata": {
    "scrolled": true
   },
   "outputs": [
    {
     "name": "stderr",
     "output_type": "stream",
     "text": [
      "D:\\Software\\Anaconda3\\anaconda3\\Lib\\site-packages\\sklearn\\cluster\\_kmeans.py:1429: UserWarning: KMeans is known to have a memory leak on Windows with MKL, when there are less chunks than available threads. You can avoid it by setting the environment variable OMP_NUM_THREADS=2.\n",
      "  warnings.warn(\n"
     ]
    },
    {
     "name": "stdout",
     "output_type": "stream",
     "text": [
      "Acc(NMI) = 0.6950 (0.8332)\n"
     ]
    },
    {
     "name": "stderr",
     "output_type": "stream",
     "text": [
      "D:\\Software\\Anaconda3\\anaconda3\\Lib\\site-packages\\sklearn\\cluster\\_kmeans.py:1429: UserWarning: KMeans is known to have a memory leak on Windows with MKL, when there are less chunks than available threads. You can avoid it by setting the environment variable OMP_NUM_THREADS=2.\n",
      "  warnings.warn(\n"
     ]
    },
    {
     "name": "stdout",
     "output_type": "stream",
     "text": [
      "Acc(NMI) = 0.6250 (0.8094)\n"
     ]
    },
    {
     "name": "stderr",
     "output_type": "stream",
     "text": [
      "D:\\Software\\Anaconda3\\anaconda3\\Lib\\site-packages\\sklearn\\cluster\\_kmeans.py:1429: UserWarning: KMeans is known to have a memory leak on Windows with MKL, when there are less chunks than available threads. You can avoid it by setting the environment variable OMP_NUM_THREADS=2.\n",
      "  warnings.warn(\n"
     ]
    },
    {
     "name": "stdout",
     "output_type": "stream",
     "text": [
      "Acc(NMI) = 0.4325 (0.6272)\n"
     ]
    },
    {
     "name": "stderr",
     "output_type": "stream",
     "text": [
      "D:\\Software\\Anaconda3\\anaconda3\\Lib\\site-packages\\sklearn\\cluster\\_kmeans.py:1429: UserWarning: KMeans is known to have a memory leak on Windows with MKL, when there are less chunks than available threads. You can avoid it by setting the environment variable OMP_NUM_THREADS=2.\n",
      "  warnings.warn(\n"
     ]
    },
    {
     "name": "stdout",
     "output_type": "stream",
     "text": [
      "Acc(NMI) = 0.3300 (0.5093)\n"
     ]
    },
    {
     "name": "stderr",
     "output_type": "stream",
     "text": [
      "D:\\Software\\Anaconda3\\anaconda3\\Lib\\site-packages\\sklearn\\cluster\\_kmeans.py:1429: UserWarning: KMeans is known to have a memory leak on Windows with MKL, when there are less chunks than available threads. You can avoid it by setting the environment variable OMP_NUM_THREADS=2.\n",
      "  warnings.warn(\n"
     ]
    },
    {
     "name": "stdout",
     "output_type": "stream",
     "text": [
      "Acc(NMI) = 0.2350 (0.4165)\n"
     ]
    },
    {
     "name": "stderr",
     "output_type": "stream",
     "text": [
      "D:\\Software\\Anaconda3\\anaconda3\\Lib\\site-packages\\sklearn\\cluster\\_kmeans.py:1429: UserWarning: KMeans is known to have a memory leak on Windows with MKL, when there are less chunks than available threads. You can avoid it by setting the environment variable OMP_NUM_THREADS=2.\n",
      "  warnings.warn(\n"
     ]
    },
    {
     "name": "stdout",
     "output_type": "stream",
     "text": [
      "Acc(NMI) = 0.2000 (0.3708)\n"
     ]
    },
    {
     "name": "stderr",
     "output_type": "stream",
     "text": [
      "D:\\Software\\Anaconda3\\anaconda3\\Lib\\site-packages\\sklearn\\cluster\\_kmeans.py:1429: UserWarning: KMeans is known to have a memory leak on Windows with MKL, when there are less chunks than available threads. You can avoid it by setting the environment variable OMP_NUM_THREADS=2.\n",
      "  warnings.warn(\n"
     ]
    },
    {
     "name": "stdout",
     "output_type": "stream",
     "text": [
      "Acc(NMI) = 0.7400 (0.8621)\n"
     ]
    },
    {
     "name": "stderr",
     "output_type": "stream",
     "text": [
      "D:\\Software\\Anaconda3\\anaconda3\\Lib\\site-packages\\sklearn\\cluster\\_kmeans.py:1429: UserWarning: KMeans is known to have a memory leak on Windows with MKL, when there are less chunks than available threads. You can avoid it by setting the environment variable OMP_NUM_THREADS=2.\n",
      "  warnings.warn(\n"
     ]
    },
    {
     "name": "stdout",
     "output_type": "stream",
     "text": [
      "Acc(NMI) = 0.5975 (0.7542)\n"
     ]
    },
    {
     "name": "stderr",
     "output_type": "stream",
     "text": [
      "D:\\Software\\Anaconda3\\anaconda3\\Lib\\site-packages\\sklearn\\cluster\\_kmeans.py:1429: UserWarning: KMeans is known to have a memory leak on Windows with MKL, when there are less chunks than available threads. You can avoid it by setting the environment variable OMP_NUM_THREADS=2.\n",
      "  warnings.warn(\n"
     ]
    },
    {
     "name": "stdout",
     "output_type": "stream",
     "text": [
      "Acc(NMI) = 0.4225 (0.6185)\n"
     ]
    },
    {
     "name": "stderr",
     "output_type": "stream",
     "text": [
      "D:\\Software\\Anaconda3\\anaconda3\\Lib\\site-packages\\sklearn\\cluster\\_kmeans.py:1429: UserWarning: KMeans is known to have a memory leak on Windows with MKL, when there are less chunks than available threads. You can avoid it by setting the environment variable OMP_NUM_THREADS=2.\n",
      "  warnings.warn(\n"
     ]
    },
    {
     "name": "stdout",
     "output_type": "stream",
     "text": [
      "Acc(NMI) = 0.3100 (0.4899)\n"
     ]
    },
    {
     "name": "stderr",
     "output_type": "stream",
     "text": [
      "D:\\Software\\Anaconda3\\anaconda3\\Lib\\site-packages\\sklearn\\cluster\\_kmeans.py:1429: UserWarning: KMeans is known to have a memory leak on Windows with MKL, when there are less chunks than available threads. You can avoid it by setting the environment variable OMP_NUM_THREADS=2.\n",
      "  warnings.warn(\n"
     ]
    },
    {
     "name": "stdout",
     "output_type": "stream",
     "text": [
      "Acc(NMI) = 0.2325 (0.4169)\n"
     ]
    },
    {
     "name": "stderr",
     "output_type": "stream",
     "text": [
      "D:\\Software\\Anaconda3\\anaconda3\\Lib\\site-packages\\sklearn\\cluster\\_kmeans.py:1429: UserWarning: KMeans is known to have a memory leak on Windows with MKL, when there are less chunks than available threads. You can avoid it by setting the environment variable OMP_NUM_THREADS=2.\n",
      "  warnings.warn(\n"
     ]
    },
    {
     "name": "stdout",
     "output_type": "stream",
     "text": [
      "Acc(NMI) = 0.1925 (0.3564)\n"
     ]
    },
    {
     "name": "stderr",
     "output_type": "stream",
     "text": [
      "D:\\Software\\Anaconda3\\anaconda3\\Lib\\site-packages\\sklearn\\cluster\\_kmeans.py:1429: UserWarning: KMeans is known to have a memory leak on Windows with MKL, when there are less chunks than available threads. You can avoid it by setting the environment variable OMP_NUM_THREADS=2.\n",
      "  warnings.warn(\n"
     ]
    },
    {
     "name": "stdout",
     "output_type": "stream",
     "text": [
      "Acc(NMI) = 0.6850 (0.8276)\n"
     ]
    },
    {
     "name": "stderr",
     "output_type": "stream",
     "text": [
      "D:\\Software\\Anaconda3\\anaconda3\\Lib\\site-packages\\sklearn\\cluster\\_kmeans.py:1429: UserWarning: KMeans is known to have a memory leak on Windows with MKL, when there are less chunks than available threads. You can avoid it by setting the environment variable OMP_NUM_THREADS=2.\n",
      "  warnings.warn(\n"
     ]
    },
    {
     "name": "stdout",
     "output_type": "stream",
     "text": [
      "Acc(NMI) = 0.6000 (0.7611)\n"
     ]
    },
    {
     "name": "stderr",
     "output_type": "stream",
     "text": [
      "D:\\Software\\Anaconda3\\anaconda3\\Lib\\site-packages\\sklearn\\cluster\\_kmeans.py:1429: UserWarning: KMeans is known to have a memory leak on Windows with MKL, when there are less chunks than available threads. You can avoid it by setting the environment variable OMP_NUM_THREADS=2.\n",
      "  warnings.warn(\n"
     ]
    },
    {
     "name": "stdout",
     "output_type": "stream",
     "text": [
      "Acc(NMI) = 0.4175 (0.6078)\n"
     ]
    },
    {
     "name": "stderr",
     "output_type": "stream",
     "text": [
      "D:\\Software\\Anaconda3\\anaconda3\\Lib\\site-packages\\sklearn\\cluster\\_kmeans.py:1429: UserWarning: KMeans is known to have a memory leak on Windows with MKL, when there are less chunks than available threads. You can avoid it by setting the environment variable OMP_NUM_THREADS=2.\n",
      "  warnings.warn(\n"
     ]
    },
    {
     "name": "stdout",
     "output_type": "stream",
     "text": [
      "Acc(NMI) = 0.2525 (0.4564)\n"
     ]
    },
    {
     "name": "stderr",
     "output_type": "stream",
     "text": [
      "D:\\Software\\Anaconda3\\anaconda3\\Lib\\site-packages\\sklearn\\cluster\\_kmeans.py:1429: UserWarning: KMeans is known to have a memory leak on Windows with MKL, when there are less chunks than available threads. You can avoid it by setting the environment variable OMP_NUM_THREADS=2.\n",
      "  warnings.warn(\n"
     ]
    },
    {
     "name": "stdout",
     "output_type": "stream",
     "text": [
      "Acc(NMI) = 0.2100 (0.3717)\n"
     ]
    },
    {
     "name": "stderr",
     "output_type": "stream",
     "text": [
      "D:\\Software\\Anaconda3\\anaconda3\\Lib\\site-packages\\sklearn\\cluster\\_kmeans.py:1429: UserWarning: KMeans is known to have a memory leak on Windows with MKL, when there are less chunks than available threads. You can avoid it by setting the environment variable OMP_NUM_THREADS=2.\n",
      "  warnings.warn(\n"
     ]
    },
    {
     "name": "stdout",
     "output_type": "stream",
     "text": [
      "Acc(NMI) = 0.1950 (0.3482)\n"
     ]
    },
    {
     "name": "stderr",
     "output_type": "stream",
     "text": [
      "D:\\Software\\Anaconda3\\anaconda3\\Lib\\site-packages\\sklearn\\cluster\\_kmeans.py:1429: UserWarning: KMeans is known to have a memory leak on Windows with MKL, when there are less chunks than available threads. You can avoid it by setting the environment variable OMP_NUM_THREADS=2.\n",
      "  warnings.warn(\n"
     ]
    },
    {
     "name": "stdout",
     "output_type": "stream",
     "text": [
      "Acc(NMI) = 0.7650 (0.8770)\n"
     ]
    },
    {
     "name": "stderr",
     "output_type": "stream",
     "text": [
      "D:\\Software\\Anaconda3\\anaconda3\\Lib\\site-packages\\sklearn\\cluster\\_kmeans.py:1429: UserWarning: KMeans is known to have a memory leak on Windows with MKL, when there are less chunks than available threads. You can avoid it by setting the environment variable OMP_NUM_THREADS=2.\n",
      "  warnings.warn(\n"
     ]
    },
    {
     "name": "stdout",
     "output_type": "stream",
     "text": [
      "Acc(NMI) = 0.6275 (0.7729)\n"
     ]
    },
    {
     "name": "stderr",
     "output_type": "stream",
     "text": [
      "D:\\Software\\Anaconda3\\anaconda3\\Lib\\site-packages\\sklearn\\cluster\\_kmeans.py:1429: UserWarning: KMeans is known to have a memory leak on Windows with MKL, when there are less chunks than available threads. You can avoid it by setting the environment variable OMP_NUM_THREADS=2.\n",
      "  warnings.warn(\n"
     ]
    },
    {
     "name": "stdout",
     "output_type": "stream",
     "text": [
      "Acc(NMI) = 0.4800 (0.6572)\n"
     ]
    },
    {
     "name": "stderr",
     "output_type": "stream",
     "text": [
      "D:\\Software\\Anaconda3\\anaconda3\\Lib\\site-packages\\sklearn\\cluster\\_kmeans.py:1429: UserWarning: KMeans is known to have a memory leak on Windows with MKL, when there are less chunks than available threads. You can avoid it by setting the environment variable OMP_NUM_THREADS=2.\n",
      "  warnings.warn(\n"
     ]
    },
    {
     "name": "stdout",
     "output_type": "stream",
     "text": [
      "Acc(NMI) = 0.3125 (0.5007)\n"
     ]
    },
    {
     "name": "stderr",
     "output_type": "stream",
     "text": [
      "D:\\Software\\Anaconda3\\anaconda3\\Lib\\site-packages\\sklearn\\cluster\\_kmeans.py:1429: UserWarning: KMeans is known to have a memory leak on Windows with MKL, when there are less chunks than available threads. You can avoid it by setting the environment variable OMP_NUM_THREADS=2.\n",
      "  warnings.warn(\n"
     ]
    },
    {
     "name": "stdout",
     "output_type": "stream",
     "text": [
      "Acc(NMI) = 0.2350 (0.4027)\n"
     ]
    },
    {
     "name": "stderr",
     "output_type": "stream",
     "text": [
      "D:\\Software\\Anaconda3\\anaconda3\\Lib\\site-packages\\sklearn\\cluster\\_kmeans.py:1429: UserWarning: KMeans is known to have a memory leak on Windows with MKL, when there are less chunks than available threads. You can avoid it by setting the environment variable OMP_NUM_THREADS=2.\n",
      "  warnings.warn(\n"
     ]
    },
    {
     "name": "stdout",
     "output_type": "stream",
     "text": [
      "Acc(NMI) = 0.1900 (0.3678)\n"
     ]
    },
    {
     "name": "stderr",
     "output_type": "stream",
     "text": [
      "D:\\Software\\Anaconda3\\anaconda3\\Lib\\site-packages\\sklearn\\cluster\\_kmeans.py:1429: UserWarning: KMeans is known to have a memory leak on Windows with MKL, when there are less chunks than available threads. You can avoid it by setting the environment variable OMP_NUM_THREADS=2.\n",
      "  warnings.warn(\n"
     ]
    },
    {
     "name": "stdout",
     "output_type": "stream",
     "text": [
      "Acc(NMI) = 0.7100 (0.8407)\n"
     ]
    },
    {
     "name": "stderr",
     "output_type": "stream",
     "text": [
      "D:\\Software\\Anaconda3\\anaconda3\\Lib\\site-packages\\sklearn\\cluster\\_kmeans.py:1429: UserWarning: KMeans is known to have a memory leak on Windows with MKL, when there are less chunks than available threads. You can avoid it by setting the environment variable OMP_NUM_THREADS=2.\n",
      "  warnings.warn(\n"
     ]
    },
    {
     "name": "stdout",
     "output_type": "stream",
     "text": [
      "Acc(NMI) = 0.6250 (0.7756)\n"
     ]
    },
    {
     "name": "stderr",
     "output_type": "stream",
     "text": [
      "D:\\Software\\Anaconda3\\anaconda3\\Lib\\site-packages\\sklearn\\cluster\\_kmeans.py:1429: UserWarning: KMeans is known to have a memory leak on Windows with MKL, when there are less chunks than available threads. You can avoid it by setting the environment variable OMP_NUM_THREADS=2.\n",
      "  warnings.warn(\n"
     ]
    },
    {
     "name": "stdout",
     "output_type": "stream",
     "text": [
      "Acc(NMI) = 0.4100 (0.6176)\n"
     ]
    },
    {
     "name": "stderr",
     "output_type": "stream",
     "text": [
      "D:\\Software\\Anaconda3\\anaconda3\\Lib\\site-packages\\sklearn\\cluster\\_kmeans.py:1429: UserWarning: KMeans is known to have a memory leak on Windows with MKL, when there are less chunks than available threads. You can avoid it by setting the environment variable OMP_NUM_THREADS=2.\n",
      "  warnings.warn(\n"
     ]
    },
    {
     "name": "stdout",
     "output_type": "stream",
     "text": [
      "Acc(NMI) = 0.2875 (0.4670)\n"
     ]
    },
    {
     "name": "stderr",
     "output_type": "stream",
     "text": [
      "D:\\Software\\Anaconda3\\anaconda3\\Lib\\site-packages\\sklearn\\cluster\\_kmeans.py:1429: UserWarning: KMeans is known to have a memory leak on Windows with MKL, when there are less chunks than available threads. You can avoid it by setting the environment variable OMP_NUM_THREADS=2.\n",
      "  warnings.warn(\n"
     ]
    },
    {
     "name": "stdout",
     "output_type": "stream",
     "text": [
      "Acc(NMI) = 0.2175 (0.3805)\n"
     ]
    },
    {
     "name": "stderr",
     "output_type": "stream",
     "text": [
      "D:\\Software\\Anaconda3\\anaconda3\\Lib\\site-packages\\sklearn\\cluster\\_kmeans.py:1429: UserWarning: KMeans is known to have a memory leak on Windows with MKL, when there are less chunks than available threads. You can avoid it by setting the environment variable OMP_NUM_THREADS=2.\n",
      "  warnings.warn(\n"
     ]
    },
    {
     "name": "stdout",
     "output_type": "stream",
     "text": [
      "Acc(NMI) = 0.1925 (0.3411)\n"
     ]
    },
    {
     "name": "stderr",
     "output_type": "stream",
     "text": [
      "D:\\Software\\Anaconda3\\anaconda3\\Lib\\site-packages\\sklearn\\cluster\\_kmeans.py:1429: UserWarning: KMeans is known to have a memory leak on Windows with MKL, when there are less chunks than available threads. You can avoid it by setting the environment variable OMP_NUM_THREADS=2.\n",
      "  warnings.warn(\n"
     ]
    },
    {
     "name": "stdout",
     "output_type": "stream",
     "text": [
      "Acc(NMI) = 0.6925 (0.8214)\n"
     ]
    },
    {
     "name": "stderr",
     "output_type": "stream",
     "text": [
      "D:\\Software\\Anaconda3\\anaconda3\\Lib\\site-packages\\sklearn\\cluster\\_kmeans.py:1429: UserWarning: KMeans is known to have a memory leak on Windows with MKL, when there are less chunks than available threads. You can avoid it by setting the environment variable OMP_NUM_THREADS=2.\n",
      "  warnings.warn(\n"
     ]
    },
    {
     "name": "stdout",
     "output_type": "stream",
     "text": [
      "Acc(NMI) = 0.5875 (0.7547)\n"
     ]
    },
    {
     "name": "stderr",
     "output_type": "stream",
     "text": [
      "D:\\Software\\Anaconda3\\anaconda3\\Lib\\site-packages\\sklearn\\cluster\\_kmeans.py:1429: UserWarning: KMeans is known to have a memory leak on Windows with MKL, when there are less chunks than available threads. You can avoid it by setting the environment variable OMP_NUM_THREADS=2.\n",
      "  warnings.warn(\n"
     ]
    },
    {
     "name": "stdout",
     "output_type": "stream",
     "text": [
      "Acc(NMI) = 0.4250 (0.6085)\n"
     ]
    },
    {
     "name": "stderr",
     "output_type": "stream",
     "text": [
      "D:\\Software\\Anaconda3\\anaconda3\\Lib\\site-packages\\sklearn\\cluster\\_kmeans.py:1429: UserWarning: KMeans is known to have a memory leak on Windows with MKL, when there are less chunks than available threads. You can avoid it by setting the environment variable OMP_NUM_THREADS=2.\n",
      "  warnings.warn(\n"
     ]
    },
    {
     "name": "stdout",
     "output_type": "stream",
     "text": [
      "Acc(NMI) = 0.2700 (0.4749)\n"
     ]
    },
    {
     "name": "stderr",
     "output_type": "stream",
     "text": [
      "D:\\Software\\Anaconda3\\anaconda3\\Lib\\site-packages\\sklearn\\cluster\\_kmeans.py:1429: UserWarning: KMeans is known to have a memory leak on Windows with MKL, when there are less chunks than available threads. You can avoid it by setting the environment variable OMP_NUM_THREADS=2.\n",
      "  warnings.warn(\n"
     ]
    },
    {
     "name": "stdout",
     "output_type": "stream",
     "text": [
      "Acc(NMI) = 0.2150 (0.4037)\n"
     ]
    },
    {
     "name": "stderr",
     "output_type": "stream",
     "text": [
      "D:\\Software\\Anaconda3\\anaconda3\\Lib\\site-packages\\sklearn\\cluster\\_kmeans.py:1429: UserWarning: KMeans is known to have a memory leak on Windows with MKL, when there are less chunks than available threads. You can avoid it by setting the environment variable OMP_NUM_THREADS=2.\n",
      "  warnings.warn(\n"
     ]
    },
    {
     "name": "stdout",
     "output_type": "stream",
     "text": [
      "Acc(NMI) = 0.1900 (0.3566)\n"
     ]
    },
    {
     "name": "stderr",
     "output_type": "stream",
     "text": [
      "D:\\Software\\Anaconda3\\anaconda3\\Lib\\site-packages\\sklearn\\cluster\\_kmeans.py:1429: UserWarning: KMeans is known to have a memory leak on Windows with MKL, when there are less chunks than available threads. You can avoid it by setting the environment variable OMP_NUM_THREADS=2.\n",
      "  warnings.warn(\n"
     ]
    },
    {
     "name": "stdout",
     "output_type": "stream",
     "text": [
      "Acc(NMI) = 0.7150 (0.8327)\n"
     ]
    },
    {
     "name": "stderr",
     "output_type": "stream",
     "text": [
      "D:\\Software\\Anaconda3\\anaconda3\\Lib\\site-packages\\sklearn\\cluster\\_kmeans.py:1429: UserWarning: KMeans is known to have a memory leak on Windows with MKL, when there are less chunks than available threads. You can avoid it by setting the environment variable OMP_NUM_THREADS=2.\n",
      "  warnings.warn(\n"
     ]
    },
    {
     "name": "stdout",
     "output_type": "stream",
     "text": [
      "Acc(NMI) = 0.6300 (0.7896)\n"
     ]
    },
    {
     "name": "stderr",
     "output_type": "stream",
     "text": [
      "D:\\Software\\Anaconda3\\anaconda3\\Lib\\site-packages\\sklearn\\cluster\\_kmeans.py:1429: UserWarning: KMeans is known to have a memory leak on Windows with MKL, when there are less chunks than available threads. You can avoid it by setting the environment variable OMP_NUM_THREADS=2.\n",
      "  warnings.warn(\n"
     ]
    },
    {
     "name": "stdout",
     "output_type": "stream",
     "text": [
      "Acc(NMI) = 0.5000 (0.6606)\n"
     ]
    },
    {
     "name": "stderr",
     "output_type": "stream",
     "text": [
      "D:\\Software\\Anaconda3\\anaconda3\\Lib\\site-packages\\sklearn\\cluster\\_kmeans.py:1429: UserWarning: KMeans is known to have a memory leak on Windows with MKL, when there are less chunks than available threads. You can avoid it by setting the environment variable OMP_NUM_THREADS=2.\n",
      "  warnings.warn(\n"
     ]
    },
    {
     "name": "stdout",
     "output_type": "stream",
     "text": [
      "Acc(NMI) = 0.3200 (0.5117)\n"
     ]
    },
    {
     "name": "stderr",
     "output_type": "stream",
     "text": [
      "D:\\Software\\Anaconda3\\anaconda3\\Lib\\site-packages\\sklearn\\cluster\\_kmeans.py:1429: UserWarning: KMeans is known to have a memory leak on Windows with MKL, when there are less chunks than available threads. You can avoid it by setting the environment variable OMP_NUM_THREADS=2.\n",
      "  warnings.warn(\n"
     ]
    },
    {
     "name": "stdout",
     "output_type": "stream",
     "text": [
      "Acc(NMI) = 0.2275 (0.4137)\n"
     ]
    },
    {
     "name": "stderr",
     "output_type": "stream",
     "text": [
      "D:\\Software\\Anaconda3\\anaconda3\\Lib\\site-packages\\sklearn\\cluster\\_kmeans.py:1429: UserWarning: KMeans is known to have a memory leak on Windows with MKL, when there are less chunks than available threads. You can avoid it by setting the environment variable OMP_NUM_THREADS=2.\n",
      "  warnings.warn(\n"
     ]
    },
    {
     "name": "stdout",
     "output_type": "stream",
     "text": [
      "Acc(NMI) = 0.1800 (0.3182)\n"
     ]
    },
    {
     "name": "stderr",
     "output_type": "stream",
     "text": [
      "D:\\Software\\Anaconda3\\anaconda3\\Lib\\site-packages\\sklearn\\cluster\\_kmeans.py:1429: UserWarning: KMeans is known to have a memory leak on Windows with MKL, when there are less chunks than available threads. You can avoid it by setting the environment variable OMP_NUM_THREADS=2.\n",
      "  warnings.warn(\n"
     ]
    },
    {
     "name": "stdout",
     "output_type": "stream",
     "text": [
      "Acc(NMI) = 0.6775 (0.8142)\n"
     ]
    },
    {
     "name": "stderr",
     "output_type": "stream",
     "text": [
      "D:\\Software\\Anaconda3\\anaconda3\\Lib\\site-packages\\sklearn\\cluster\\_kmeans.py:1429: UserWarning: KMeans is known to have a memory leak on Windows with MKL, when there are less chunks than available threads. You can avoid it by setting the environment variable OMP_NUM_THREADS=2.\n",
      "  warnings.warn(\n"
     ]
    },
    {
     "name": "stdout",
     "output_type": "stream",
     "text": [
      "Acc(NMI) = 0.6000 (0.7537)\n"
     ]
    },
    {
     "name": "stderr",
     "output_type": "stream",
     "text": [
      "D:\\Software\\Anaconda3\\anaconda3\\Lib\\site-packages\\sklearn\\cluster\\_kmeans.py:1429: UserWarning: KMeans is known to have a memory leak on Windows with MKL, when there are less chunks than available threads. You can avoid it by setting the environment variable OMP_NUM_THREADS=2.\n",
      "  warnings.warn(\n"
     ]
    },
    {
     "name": "stdout",
     "output_type": "stream",
     "text": [
      "Acc(NMI) = 0.4450 (0.6209)\n"
     ]
    },
    {
     "name": "stderr",
     "output_type": "stream",
     "text": [
      "D:\\Software\\Anaconda3\\anaconda3\\Lib\\site-packages\\sklearn\\cluster\\_kmeans.py:1429: UserWarning: KMeans is known to have a memory leak on Windows with MKL, when there are less chunks than available threads. You can avoid it by setting the environment variable OMP_NUM_THREADS=2.\n",
      "  warnings.warn(\n"
     ]
    },
    {
     "name": "stdout",
     "output_type": "stream",
     "text": [
      "Acc(NMI) = 0.2825 (0.4791)\n"
     ]
    },
    {
     "name": "stderr",
     "output_type": "stream",
     "text": [
      "D:\\Software\\Anaconda3\\anaconda3\\Lib\\site-packages\\sklearn\\cluster\\_kmeans.py:1429: UserWarning: KMeans is known to have a memory leak on Windows with MKL, when there are less chunks than available threads. You can avoid it by setting the environment variable OMP_NUM_THREADS=2.\n",
      "  warnings.warn(\n"
     ]
    },
    {
     "name": "stdout",
     "output_type": "stream",
     "text": [
      "Acc(NMI) = 0.2325 (0.4055)\n"
     ]
    },
    {
     "name": "stderr",
     "output_type": "stream",
     "text": [
      "D:\\Software\\Anaconda3\\anaconda3\\Lib\\site-packages\\sklearn\\cluster\\_kmeans.py:1429: UserWarning: KMeans is known to have a memory leak on Windows with MKL, when there are less chunks than available threads. You can avoid it by setting the environment variable OMP_NUM_THREADS=2.\n",
      "  warnings.warn(\n"
     ]
    },
    {
     "name": "stdout",
     "output_type": "stream",
     "text": [
      "Acc(NMI) = 0.2000 (0.3588)\n"
     ]
    },
    {
     "name": "stderr",
     "output_type": "stream",
     "text": [
      "D:\\Software\\Anaconda3\\anaconda3\\Lib\\site-packages\\sklearn\\cluster\\_kmeans.py:1429: UserWarning: KMeans is known to have a memory leak on Windows with MKL, when there are less chunks than available threads. You can avoid it by setting the environment variable OMP_NUM_THREADS=2.\n",
      "  warnings.warn(\n"
     ]
    },
    {
     "name": "stdout",
     "output_type": "stream",
     "text": [
      "Acc(NMI) = 0.7225 (0.8488)\n"
     ]
    },
    {
     "name": "stderr",
     "output_type": "stream",
     "text": [
      "D:\\Software\\Anaconda3\\anaconda3\\Lib\\site-packages\\sklearn\\cluster\\_kmeans.py:1429: UserWarning: KMeans is known to have a memory leak on Windows with MKL, when there are less chunks than available threads. You can avoid it by setting the environment variable OMP_NUM_THREADS=2.\n",
      "  warnings.warn(\n"
     ]
    },
    {
     "name": "stdout",
     "output_type": "stream",
     "text": [
      "Acc(NMI) = 0.6225 (0.7705)\n"
     ]
    },
    {
     "name": "stderr",
     "output_type": "stream",
     "text": [
      "D:\\Software\\Anaconda3\\anaconda3\\Lib\\site-packages\\sklearn\\cluster\\_kmeans.py:1429: UserWarning: KMeans is known to have a memory leak on Windows with MKL, when there are less chunks than available threads. You can avoid it by setting the environment variable OMP_NUM_THREADS=2.\n",
      "  warnings.warn(\n"
     ]
    },
    {
     "name": "stdout",
     "output_type": "stream",
     "text": [
      "Acc(NMI) = 0.3975 (0.5923)\n"
     ]
    },
    {
     "name": "stderr",
     "output_type": "stream",
     "text": [
      "D:\\Software\\Anaconda3\\anaconda3\\Lib\\site-packages\\sklearn\\cluster\\_kmeans.py:1429: UserWarning: KMeans is known to have a memory leak on Windows with MKL, when there are less chunks than available threads. You can avoid it by setting the environment variable OMP_NUM_THREADS=2.\n",
      "  warnings.warn(\n"
     ]
    },
    {
     "name": "stdout",
     "output_type": "stream",
     "text": [
      "Acc(NMI) = 0.2975 (0.4940)\n"
     ]
    },
    {
     "name": "stderr",
     "output_type": "stream",
     "text": [
      "D:\\Software\\Anaconda3\\anaconda3\\Lib\\site-packages\\sklearn\\cluster\\_kmeans.py:1429: UserWarning: KMeans is known to have a memory leak on Windows with MKL, when there are less chunks than available threads. You can avoid it by setting the environment variable OMP_NUM_THREADS=2.\n",
      "  warnings.warn(\n"
     ]
    },
    {
     "name": "stdout",
     "output_type": "stream",
     "text": [
      "Acc(NMI) = 0.2075 (0.3802)\n"
     ]
    },
    {
     "name": "stderr",
     "output_type": "stream",
     "text": [
      "D:\\Software\\Anaconda3\\anaconda3\\Lib\\site-packages\\sklearn\\cluster\\_kmeans.py:1429: UserWarning: KMeans is known to have a memory leak on Windows with MKL, when there are less chunks than available threads. You can avoid it by setting the environment variable OMP_NUM_THREADS=2.\n",
      "  warnings.warn(\n"
     ]
    },
    {
     "name": "stdout",
     "output_type": "stream",
     "text": [
      "Acc(NMI) = 0.2025 (0.3554)\n"
     ]
    },
    {
     "name": "stderr",
     "output_type": "stream",
     "text": [
      "D:\\Software\\Anaconda3\\anaconda3\\Lib\\site-packages\\sklearn\\cluster\\_kmeans.py:1429: UserWarning: KMeans is known to have a memory leak on Windows with MKL, when there are less chunks than available threads. You can avoid it by setting the environment variable OMP_NUM_THREADS=2.\n",
      "  warnings.warn(\n"
     ]
    },
    {
     "name": "stdout",
     "output_type": "stream",
     "text": [
      "Acc(NMI) = 0.7100 (0.8418)\n"
     ]
    },
    {
     "name": "stderr",
     "output_type": "stream",
     "text": [
      "D:\\Software\\Anaconda3\\anaconda3\\Lib\\site-packages\\sklearn\\cluster\\_kmeans.py:1429: UserWarning: KMeans is known to have a memory leak on Windows with MKL, when there are less chunks than available threads. You can avoid it by setting the environment variable OMP_NUM_THREADS=2.\n",
      "  warnings.warn(\n"
     ]
    },
    {
     "name": "stdout",
     "output_type": "stream",
     "text": [
      "Acc(NMI) = 0.6275 (0.7733)\n"
     ]
    },
    {
     "name": "stderr",
     "output_type": "stream",
     "text": [
      "D:\\Software\\Anaconda3\\anaconda3\\Lib\\site-packages\\sklearn\\cluster\\_kmeans.py:1429: UserWarning: KMeans is known to have a memory leak on Windows with MKL, when there are less chunks than available threads. You can avoid it by setting the environment variable OMP_NUM_THREADS=2.\n",
      "  warnings.warn(\n"
     ]
    },
    {
     "name": "stdout",
     "output_type": "stream",
     "text": [
      "Acc(NMI) = 0.4350 (0.6458)\n"
     ]
    },
    {
     "name": "stderr",
     "output_type": "stream",
     "text": [
      "D:\\Software\\Anaconda3\\anaconda3\\Lib\\site-packages\\sklearn\\cluster\\_kmeans.py:1429: UserWarning: KMeans is known to have a memory leak on Windows with MKL, when there are less chunks than available threads. You can avoid it by setting the environment variable OMP_NUM_THREADS=2.\n",
      "  warnings.warn(\n"
     ]
    },
    {
     "name": "stdout",
     "output_type": "stream",
     "text": [
      "Acc(NMI) = 0.3100 (0.5059)\n"
     ]
    },
    {
     "name": "stderr",
     "output_type": "stream",
     "text": [
      "D:\\Software\\Anaconda3\\anaconda3\\Lib\\site-packages\\sklearn\\cluster\\_kmeans.py:1429: UserWarning: KMeans is known to have a memory leak on Windows with MKL, when there are less chunks than available threads. You can avoid it by setting the environment variable OMP_NUM_THREADS=2.\n",
      "  warnings.warn(\n"
     ]
    },
    {
     "name": "stdout",
     "output_type": "stream",
     "text": [
      "Acc(NMI) = 0.2375 (0.4100)\n"
     ]
    },
    {
     "name": "stderr",
     "output_type": "stream",
     "text": [
      "D:\\Software\\Anaconda3\\anaconda3\\Lib\\site-packages\\sklearn\\cluster\\_kmeans.py:1429: UserWarning: KMeans is known to have a memory leak on Windows with MKL, when there are less chunks than available threads. You can avoid it by setting the environment variable OMP_NUM_THREADS=2.\n",
      "  warnings.warn(\n"
     ]
    },
    {
     "name": "stdout",
     "output_type": "stream",
     "text": [
      "Acc(NMI) = 0.1800 (0.3356)\n"
     ]
    },
    {
     "name": "stderr",
     "output_type": "stream",
     "text": [
      "D:\\Software\\Anaconda3\\anaconda3\\Lib\\site-packages\\sklearn\\cluster\\_kmeans.py:1429: UserWarning: KMeans is known to have a memory leak on Windows with MKL, when there are less chunks than available threads. You can avoid it by setting the environment variable OMP_NUM_THREADS=2.\n",
      "  warnings.warn(\n"
     ]
    },
    {
     "name": "stdout",
     "output_type": "stream",
     "text": [
      "Acc(NMI) = 0.7000 (0.8240)\n"
     ]
    },
    {
     "name": "stderr",
     "output_type": "stream",
     "text": [
      "D:\\Software\\Anaconda3\\anaconda3\\Lib\\site-packages\\sklearn\\cluster\\_kmeans.py:1429: UserWarning: KMeans is known to have a memory leak on Windows with MKL, when there are less chunks than available threads. You can avoid it by setting the environment variable OMP_NUM_THREADS=2.\n",
      "  warnings.warn(\n"
     ]
    },
    {
     "name": "stdout",
     "output_type": "stream",
     "text": [
      "Acc(NMI) = 0.5925 (0.7533)\n"
     ]
    },
    {
     "name": "stderr",
     "output_type": "stream",
     "text": [
      "D:\\Software\\Anaconda3\\anaconda3\\Lib\\site-packages\\sklearn\\cluster\\_kmeans.py:1429: UserWarning: KMeans is known to have a memory leak on Windows with MKL, when there are less chunks than available threads. You can avoid it by setting the environment variable OMP_NUM_THREADS=2.\n",
      "  warnings.warn(\n"
     ]
    },
    {
     "name": "stdout",
     "output_type": "stream",
     "text": [
      "Acc(NMI) = 0.4450 (0.6217)\n"
     ]
    },
    {
     "name": "stderr",
     "output_type": "stream",
     "text": [
      "D:\\Software\\Anaconda3\\anaconda3\\Lib\\site-packages\\sklearn\\cluster\\_kmeans.py:1429: UserWarning: KMeans is known to have a memory leak on Windows with MKL, when there are less chunks than available threads. You can avoid it by setting the environment variable OMP_NUM_THREADS=2.\n",
      "  warnings.warn(\n"
     ]
    },
    {
     "name": "stdout",
     "output_type": "stream",
     "text": [
      "Acc(NMI) = 0.2850 (0.4560)\n"
     ]
    },
    {
     "name": "stderr",
     "output_type": "stream",
     "text": [
      "D:\\Software\\Anaconda3\\anaconda3\\Lib\\site-packages\\sklearn\\cluster\\_kmeans.py:1429: UserWarning: KMeans is known to have a memory leak on Windows with MKL, when there are less chunks than available threads. You can avoid it by setting the environment variable OMP_NUM_THREADS=2.\n",
      "  warnings.warn(\n"
     ]
    },
    {
     "name": "stdout",
     "output_type": "stream",
     "text": [
      "Acc(NMI) = 0.2250 (0.4004)\n"
     ]
    },
    {
     "name": "stderr",
     "output_type": "stream",
     "text": [
      "D:\\Software\\Anaconda3\\anaconda3\\Lib\\site-packages\\sklearn\\cluster\\_kmeans.py:1429: UserWarning: KMeans is known to have a memory leak on Windows with MKL, when there are less chunks than available threads. You can avoid it by setting the environment variable OMP_NUM_THREADS=2.\n",
      "  warnings.warn(\n"
     ]
    },
    {
     "name": "stdout",
     "output_type": "stream",
     "text": [
      "Acc(NMI) = 0.1825 (0.3137)\n"
     ]
    },
    {
     "name": "stderr",
     "output_type": "stream",
     "text": [
      "D:\\Software\\Anaconda3\\anaconda3\\Lib\\site-packages\\sklearn\\cluster\\_kmeans.py:1429: UserWarning: KMeans is known to have a memory leak on Windows with MKL, when there are less chunks than available threads. You can avoid it by setting the environment variable OMP_NUM_THREADS=2.\n",
      "  warnings.warn(\n"
     ]
    },
    {
     "name": "stdout",
     "output_type": "stream",
     "text": [
      "Acc(NMI) = 0.7150 (0.8371)\n"
     ]
    },
    {
     "name": "stderr",
     "output_type": "stream",
     "text": [
      "D:\\Software\\Anaconda3\\anaconda3\\Lib\\site-packages\\sklearn\\cluster\\_kmeans.py:1429: UserWarning: KMeans is known to have a memory leak on Windows with MKL, when there are less chunks than available threads. You can avoid it by setting the environment variable OMP_NUM_THREADS=2.\n",
      "  warnings.warn(\n"
     ]
    },
    {
     "name": "stdout",
     "output_type": "stream",
     "text": [
      "Acc(NMI) = 0.5675 (0.7398)\n"
     ]
    },
    {
     "name": "stderr",
     "output_type": "stream",
     "text": [
      "D:\\Software\\Anaconda3\\anaconda3\\Lib\\site-packages\\sklearn\\cluster\\_kmeans.py:1429: UserWarning: KMeans is known to have a memory leak on Windows with MKL, when there are less chunks than available threads. You can avoid it by setting the environment variable OMP_NUM_THREADS=2.\n",
      "  warnings.warn(\n"
     ]
    },
    {
     "name": "stdout",
     "output_type": "stream",
     "text": [
      "Acc(NMI) = 0.4300 (0.6066)\n"
     ]
    },
    {
     "name": "stderr",
     "output_type": "stream",
     "text": [
      "D:\\Software\\Anaconda3\\anaconda3\\Lib\\site-packages\\sklearn\\cluster\\_kmeans.py:1429: UserWarning: KMeans is known to have a memory leak on Windows with MKL, when there are less chunks than available threads. You can avoid it by setting the environment variable OMP_NUM_THREADS=2.\n",
      "  warnings.warn(\n"
     ]
    },
    {
     "name": "stdout",
     "output_type": "stream",
     "text": [
      "Acc(NMI) = 0.2925 (0.4712)\n"
     ]
    },
    {
     "name": "stderr",
     "output_type": "stream",
     "text": [
      "D:\\Software\\Anaconda3\\anaconda3\\Lib\\site-packages\\sklearn\\cluster\\_kmeans.py:1429: UserWarning: KMeans is known to have a memory leak on Windows with MKL, when there are less chunks than available threads. You can avoid it by setting the environment variable OMP_NUM_THREADS=2.\n",
      "  warnings.warn(\n"
     ]
    },
    {
     "name": "stdout",
     "output_type": "stream",
     "text": [
      "Acc(NMI) = 0.2375 (0.4077)\n"
     ]
    },
    {
     "name": "stderr",
     "output_type": "stream",
     "text": [
      "D:\\Software\\Anaconda3\\anaconda3\\Lib\\site-packages\\sklearn\\cluster\\_kmeans.py:1429: UserWarning: KMeans is known to have a memory leak on Windows with MKL, when there are less chunks than available threads. You can avoid it by setting the environment variable OMP_NUM_THREADS=2.\n",
      "  warnings.warn(\n"
     ]
    },
    {
     "name": "stdout",
     "output_type": "stream",
     "text": [
      "Acc(NMI) = 0.1900 (0.3573)\n"
     ]
    },
    {
     "name": "stderr",
     "output_type": "stream",
     "text": [
      "D:\\Software\\Anaconda3\\anaconda3\\Lib\\site-packages\\sklearn\\cluster\\_kmeans.py:1429: UserWarning: KMeans is known to have a memory leak on Windows with MKL, when there are less chunks than available threads. You can avoid it by setting the environment variable OMP_NUM_THREADS=2.\n",
      "  warnings.warn(\n"
     ]
    },
    {
     "name": "stdout",
     "output_type": "stream",
     "text": [
      "Acc(NMI) = 0.6775 (0.8268)\n"
     ]
    },
    {
     "name": "stderr",
     "output_type": "stream",
     "text": [
      "D:\\Software\\Anaconda3\\anaconda3\\Lib\\site-packages\\sklearn\\cluster\\_kmeans.py:1429: UserWarning: KMeans is known to have a memory leak on Windows with MKL, when there are less chunks than available threads. You can avoid it by setting the environment variable OMP_NUM_THREADS=2.\n",
      "  warnings.warn(\n"
     ]
    },
    {
     "name": "stdout",
     "output_type": "stream",
     "text": [
      "Acc(NMI) = 0.6325 (0.7818)\n"
     ]
    },
    {
     "name": "stderr",
     "output_type": "stream",
     "text": [
      "D:\\Software\\Anaconda3\\anaconda3\\Lib\\site-packages\\sklearn\\cluster\\_kmeans.py:1429: UserWarning: KMeans is known to have a memory leak on Windows with MKL, when there are less chunks than available threads. You can avoid it by setting the environment variable OMP_NUM_THREADS=2.\n",
      "  warnings.warn(\n"
     ]
    },
    {
     "name": "stdout",
     "output_type": "stream",
     "text": [
      "Acc(NMI) = 0.4650 (0.6478)\n"
     ]
    },
    {
     "name": "stderr",
     "output_type": "stream",
     "text": [
      "D:\\Software\\Anaconda3\\anaconda3\\Lib\\site-packages\\sklearn\\cluster\\_kmeans.py:1429: UserWarning: KMeans is known to have a memory leak on Windows with MKL, when there are less chunks than available threads. You can avoid it by setting the environment variable OMP_NUM_THREADS=2.\n",
      "  warnings.warn(\n"
     ]
    },
    {
     "name": "stdout",
     "output_type": "stream",
     "text": [
      "Acc(NMI) = 0.3525 (0.5406)\n"
     ]
    },
    {
     "name": "stderr",
     "output_type": "stream",
     "text": [
      "D:\\Software\\Anaconda3\\anaconda3\\Lib\\site-packages\\sklearn\\cluster\\_kmeans.py:1429: UserWarning: KMeans is known to have a memory leak on Windows with MKL, when there are less chunks than available threads. You can avoid it by setting the environment variable OMP_NUM_THREADS=2.\n",
      "  warnings.warn(\n"
     ]
    },
    {
     "name": "stdout",
     "output_type": "stream",
     "text": [
      "Acc(NMI) = 0.2300 (0.3969)\n"
     ]
    },
    {
     "name": "stderr",
     "output_type": "stream",
     "text": [
      "D:\\Software\\Anaconda3\\anaconda3\\Lib\\site-packages\\sklearn\\cluster\\_kmeans.py:1429: UserWarning: KMeans is known to have a memory leak on Windows with MKL, when there are less chunks than available threads. You can avoid it by setting the environment variable OMP_NUM_THREADS=2.\n",
      "  warnings.warn(\n"
     ]
    },
    {
     "name": "stdout",
     "output_type": "stream",
     "text": [
      "Acc(NMI) = 0.1850 (0.3312)\n"
     ]
    },
    {
     "name": "stderr",
     "output_type": "stream",
     "text": [
      "D:\\Software\\Anaconda3\\anaconda3\\Lib\\site-packages\\sklearn\\cluster\\_kmeans.py:1429: UserWarning: KMeans is known to have a memory leak on Windows with MKL, when there are less chunks than available threads. You can avoid it by setting the environment variable OMP_NUM_THREADS=2.\n",
      "  warnings.warn(\n"
     ]
    },
    {
     "name": "stdout",
     "output_type": "stream",
     "text": [
      "Acc(NMI) = 0.7000 (0.8276)\n"
     ]
    },
    {
     "name": "stderr",
     "output_type": "stream",
     "text": [
      "D:\\Software\\Anaconda3\\anaconda3\\Lib\\site-packages\\sklearn\\cluster\\_kmeans.py:1429: UserWarning: KMeans is known to have a memory leak on Windows with MKL, when there are less chunks than available threads. You can avoid it by setting the environment variable OMP_NUM_THREADS=2.\n",
      "  warnings.warn(\n"
     ]
    },
    {
     "name": "stdout",
     "output_type": "stream",
     "text": [
      "Acc(NMI) = 0.6125 (0.7580)\n"
     ]
    },
    {
     "name": "stderr",
     "output_type": "stream",
     "text": [
      "D:\\Software\\Anaconda3\\anaconda3\\Lib\\site-packages\\sklearn\\cluster\\_kmeans.py:1429: UserWarning: KMeans is known to have a memory leak on Windows with MKL, when there are less chunks than available threads. You can avoid it by setting the environment variable OMP_NUM_THREADS=2.\n",
      "  warnings.warn(\n"
     ]
    },
    {
     "name": "stdout",
     "output_type": "stream",
     "text": [
      "Acc(NMI) = 0.4075 (0.5862)\n"
     ]
    },
    {
     "name": "stderr",
     "output_type": "stream",
     "text": [
      "D:\\Software\\Anaconda3\\anaconda3\\Lib\\site-packages\\sklearn\\cluster\\_kmeans.py:1429: UserWarning: KMeans is known to have a memory leak on Windows with MKL, when there are less chunks than available threads. You can avoid it by setting the environment variable OMP_NUM_THREADS=2.\n",
      "  warnings.warn(\n"
     ]
    },
    {
     "name": "stdout",
     "output_type": "stream",
     "text": [
      "Acc(NMI) = 0.2725 (0.4589)\n"
     ]
    },
    {
     "name": "stderr",
     "output_type": "stream",
     "text": [
      "D:\\Software\\Anaconda3\\anaconda3\\Lib\\site-packages\\sklearn\\cluster\\_kmeans.py:1429: UserWarning: KMeans is known to have a memory leak on Windows with MKL, when there are less chunks than available threads. You can avoid it by setting the environment variable OMP_NUM_THREADS=2.\n",
      "  warnings.warn(\n"
     ]
    },
    {
     "name": "stdout",
     "output_type": "stream",
     "text": [
      "Acc(NMI) = 0.2100 (0.4010)\n"
     ]
    },
    {
     "name": "stderr",
     "output_type": "stream",
     "text": [
      "D:\\Software\\Anaconda3\\anaconda3\\Lib\\site-packages\\sklearn\\cluster\\_kmeans.py:1429: UserWarning: KMeans is known to have a memory leak on Windows with MKL, when there are less chunks than available threads. You can avoid it by setting the environment variable OMP_NUM_THREADS=2.\n",
      "  warnings.warn(\n"
     ]
    },
    {
     "name": "stdout",
     "output_type": "stream",
     "text": [
      "Acc(NMI) = 0.1800 (0.3242)\n"
     ]
    },
    {
     "name": "stderr",
     "output_type": "stream",
     "text": [
      "D:\\Software\\Anaconda3\\anaconda3\\Lib\\site-packages\\sklearn\\cluster\\_kmeans.py:1429: UserWarning: KMeans is known to have a memory leak on Windows with MKL, when there are less chunks than available threads. You can avoid it by setting the environment variable OMP_NUM_THREADS=2.\n",
      "  warnings.warn(\n"
     ]
    },
    {
     "name": "stdout",
     "output_type": "stream",
     "text": [
      "Acc(NMI) = 0.7375 (0.8650)\n"
     ]
    },
    {
     "name": "stderr",
     "output_type": "stream",
     "text": [
      "D:\\Software\\Anaconda3\\anaconda3\\Lib\\site-packages\\sklearn\\cluster\\_kmeans.py:1429: UserWarning: KMeans is known to have a memory leak on Windows with MKL, when there are less chunks than available threads. You can avoid it by setting the environment variable OMP_NUM_THREADS=2.\n",
      "  warnings.warn(\n"
     ]
    },
    {
     "name": "stdout",
     "output_type": "stream",
     "text": [
      "Acc(NMI) = 0.5925 (0.7472)\n"
     ]
    },
    {
     "name": "stderr",
     "output_type": "stream",
     "text": [
      "D:\\Software\\Anaconda3\\anaconda3\\Lib\\site-packages\\sklearn\\cluster\\_kmeans.py:1429: UserWarning: KMeans is known to have a memory leak on Windows with MKL, when there are less chunks than available threads. You can avoid it by setting the environment variable OMP_NUM_THREADS=2.\n",
      "  warnings.warn(\n"
     ]
    },
    {
     "name": "stdout",
     "output_type": "stream",
     "text": [
      "Acc(NMI) = 0.4550 (0.6257)\n"
     ]
    },
    {
     "name": "stderr",
     "output_type": "stream",
     "text": [
      "D:\\Software\\Anaconda3\\anaconda3\\Lib\\site-packages\\sklearn\\cluster\\_kmeans.py:1429: UserWarning: KMeans is known to have a memory leak on Windows with MKL, when there are less chunks than available threads. You can avoid it by setting the environment variable OMP_NUM_THREADS=2.\n",
      "  warnings.warn(\n"
     ]
    },
    {
     "name": "stdout",
     "output_type": "stream",
     "text": [
      "Acc(NMI) = 0.2775 (0.4559)\n"
     ]
    },
    {
     "name": "stderr",
     "output_type": "stream",
     "text": [
      "D:\\Software\\Anaconda3\\anaconda3\\Lib\\site-packages\\sklearn\\cluster\\_kmeans.py:1429: UserWarning: KMeans is known to have a memory leak on Windows with MKL, when there are less chunks than available threads. You can avoid it by setting the environment variable OMP_NUM_THREADS=2.\n",
      "  warnings.warn(\n"
     ]
    },
    {
     "name": "stdout",
     "output_type": "stream",
     "text": [
      "Acc(NMI) = 0.2150 (0.3981)\n",
      "Acc(NMI) = 0.2000 (0.3599)\n"
     ]
    },
    {
     "name": "stderr",
     "output_type": "stream",
     "text": [
      "D:\\Software\\Anaconda3\\anaconda3\\Lib\\site-packages\\sklearn\\cluster\\_kmeans.py:1429: UserWarning: KMeans is known to have a memory leak on Windows with MKL, when there are less chunks than available threads. You can avoid it by setting the environment variable OMP_NUM_THREADS=2.\n",
      "  warnings.warn(\n"
     ]
    }
   ],
   "source": [
    "Algo = 'HC'\n",
    "Data = 'ORL'\n",
    "dataset = 'data/ORL'\n",
    "reduce = 3\n",
    "X, Y = load_data(dataset, reduce=reduce)\n",
    "rank = 30\n",
    "steps = 10000\n",
    "deltas = [0.05, 0.1, 0.2]\n",
    "eps = 1e-8\n",
    "verbose = False\n",
    "seeds = [0,1,2,3,4]\n",
    "pr_lst = [(0,0),(0.1,0.1),(0.2,0.2),(0.3,0.3),(0.4,0.4),(0.5,0.5)]\n",
    "record_HC_ORL = []\n",
    "tol = 1e-3\n",
    "\n",
    "for seed in seeds:\n",
    "    np.random.seed(seed)\n",
    "    for delta in deltas:\n",
    "        for p, r in pr_lst:\n",
    "            # X_noisy, noise = salt_pepper(X, p, r)\n",
    "            X_noisy, Y = load_data_salt_pepper(dataset, reduce, p, r)\n",
    "            start = time.time()\n",
    "            W, H, WH, step = hypersurface_nmf(X_noisy, rank, steps, tol, delta, eps, verbose)\n",
    "            end = time.time()\n",
    "            timeusing = end - start\n",
    "            rre = relative_reconstruction_error(X_noisy, WH)\n",
    "            acc, nmi = evaluate_clustering(H, Y)\n",
    "            record_HC_ORL.append(((p,r),delta,acc,nmi,rre,step, seed, timeusing))"
   ]
  },
  {
   "cell_type": "code",
   "execution_count": 44,
   "id": "415d7125-103d-45dc-9343-24024bb91018",
   "metadata": {
    "scrolled": true
   },
   "outputs": [
    {
     "name": "stdout",
     "output_type": "stream",
     "text": [
      "         (p,r)  delta     acc       nmi       rre  step  seed      time\n",
      "0       (0, 0)   0.05  0.6950  0.833225  0.150220   201     0  8.158253\n",
      "1   (0.1, 0.1)   0.05  0.6250  0.809417  0.350390   105     0  4.443236\n",
      "2   (0.2, 0.2)   0.05  0.4325  0.627173  0.468609    77     0  2.856597\n",
      "3   (0.3, 0.3)   0.05  0.3300  0.509313  0.543202    67     0  2.792086\n",
      "4   (0.4, 0.4)   0.05  0.2350  0.416473  0.581839    61     0  2.453914\n",
      "..         ...    ...     ...       ...       ...   ...   ...       ...\n",
      "85  (0.1, 0.1)   0.20  0.5925  0.747222  0.350215   104     4  3.726791\n",
      "86  (0.2, 0.2)   0.20  0.4550  0.625737  0.466958    79     4  2.779315\n",
      "87  (0.3, 0.3)   0.20  0.2775  0.455925  0.543176    65     4  2.212155\n",
      "88  (0.4, 0.4)   0.20  0.2150  0.398075  0.581242    59     4  2.165703\n",
      "89  (0.5, 0.5)   0.20  0.2000  0.359893  0.589682    55     4  1.878978\n",
      "\n",
      "[90 rows x 8 columns]\n",
      "         (p,r)  delta  RRE_mean   RRE_std  ACC_mean   ACC_std  NMI_mean  \\\n",
      "0       (0, 0)   0.05  0.150044  0.000435    0.7125  0.032787  0.842307   \n",
      "1       (0, 0)   0.10  0.150270  0.000629    0.7055  0.022666  0.833714   \n",
      "2       (0, 0)   0.20  0.150057  0.000278    0.7105  0.021607  0.839960   \n",
      "3   (0.1, 0.1)   0.05  0.349962  0.000770    0.6285  0.002850  0.785415   \n",
      "4   (0.1, 0.1)   0.10  0.349770  0.000605    0.6055  0.013158  0.758973   \n",
      "5   (0.1, 0.1)   0.20  0.349688  0.000582    0.5940  0.019969  0.754650   \n",
      "6   (0.2, 0.2)   0.05  0.468473  0.000315    0.4625  0.029047  0.647713   \n",
      "7   (0.2, 0.2)   0.10  0.467280  0.000385    0.4260  0.018252  0.612987   \n",
      "8   (0.2, 0.2)   0.20  0.467266  0.000382    0.4250  0.020842  0.608172   \n",
      "9   (0.3, 0.3)   0.05  0.543357  0.000270    0.3250  0.017230  0.513639   \n",
      "10  (0.3, 0.3)   0.10  0.542492  0.000415    0.2875  0.013807  0.470154   \n",
      "11  (0.3, 0.3)   0.20  0.542805  0.000399    0.2780  0.018062  0.470472   \n",
      "12  (0.4, 0.4)   0.05  0.582166  0.000259    0.2330  0.004108  0.407953   \n",
      "13  (0.4, 0.4)   0.10  0.581337  0.000305    0.2235  0.009779  0.400853   \n",
      "14  (0.4, 0.4)   0.20  0.581522  0.000372    0.2170  0.011911  0.392289   \n",
      "15  (0.5, 0.5)   0.05  0.590291  0.000241    0.1870  0.008367  0.344701   \n",
      "16  (0.5, 0.5)   0.10  0.590067  0.000206    0.1895  0.008178  0.338831   \n",
      "17  (0.5, 0.5)   0.20  0.589952  0.000312    0.1955  0.005701  0.355464   \n",
      "\n",
      "     NMI_std  \n",
      "0   0.020122  \n",
      "1   0.018465  \n",
      "2   0.017402  \n",
      "3   0.015075  \n",
      "4   0.009464  \n",
      "5   0.011941  \n",
      "6   0.013038  \n",
      "7   0.015056  \n",
      "8   0.011879  \n",
      "9   0.015643  \n",
      "10  0.014183  \n",
      "11  0.015657  \n",
      "12  0.008071  \n",
      "13  0.013176  \n",
      "14  0.015592  \n",
      "15  0.023372  \n",
      "16  0.019748  \n",
      "17  0.004388  \n"
     ]
    }
   ],
   "source": [
    "df_HC_ORL = pd.DataFrame(record_HC_ORL, columns=['(p,r)','delta','acc','nmi','rre','step','seed','time'])\n",
    "print(df_HC_ORL)\n",
    "summary = df_HC_ORL.groupby(['(p,r)','delta']).agg(\n",
    "    RRE_mean=('rre', 'mean'),\n",
    "    RRE_std=('rre', 'std'),\n",
    "    ACC_mean=('acc', 'mean'),\n",
    "    ACC_std=('acc', 'std'),\n",
    "    NMI_mean=('nmi', 'mean'),\n",
    "    NMI_std=('nmi', 'std')\n",
    ").reset_index()\n",
    "print(summary)\n",
    "df_HC_ORL.to_excel(f'{Algo}_{Data}.xlsx', index=True)"
   ]
  },
  {
   "cell_type": "markdown",
   "id": "67983b52-4a91-4b03-a0ba-214516b09002",
   "metadata": {},
   "source": [
    "## Stacked NMF"
   ]
  },
  {
   "cell_type": "code",
   "execution_count": 77,
   "id": "8d8ddf1b-86f5-4abc-98a1-84ac1076d510",
   "metadata": {
    "scrolled": true
   },
   "outputs": [
    {
     "name": "stdout",
     "output_type": "stream",
     "text": [
      "Converged at step 136, e = 14.4531, rel_change=9.744e-04\n",
      "Converged at step 61, e = 0.7623, rel_change=9.733e-04\n",
      "Acc(NMI) = 0.5325 (0.7157)\n"
     ]
    },
    {
     "name": "stderr",
     "output_type": "stream",
     "text": [
      "D:\\Software\\Anaconda3\\anaconda3\\Lib\\site-packages\\sklearn\\cluster\\_kmeans.py:1429: UserWarning: KMeans is known to have a memory leak on Windows with MKL, when there are less chunks than available threads. You can avoid it by setting the environment variable OMP_NUM_THREADS=2.\n",
      "  warnings.warn(\n"
     ]
    },
    {
     "name": "stdout",
     "output_type": "stream",
     "text": [
      "Converged at step 93, e = 55.2911, rel_change=9.793e-04\n",
      "Converged at step 132, e = 0.5305, rel_change=9.625e-04\n",
      "Acc(NMI) = 0.4975 (0.7017)\n"
     ]
    },
    {
     "name": "stderr",
     "output_type": "stream",
     "text": [
      "D:\\Software\\Anaconda3\\anaconda3\\Lib\\site-packages\\sklearn\\cluster\\_kmeans.py:1429: UserWarning: KMeans is known to have a memory leak on Windows with MKL, when there are less chunks than available threads. You can avoid it by setting the environment variable OMP_NUM_THREADS=2.\n",
      "  warnings.warn(\n"
     ]
    },
    {
     "name": "stdout",
     "output_type": "stream",
     "text": [
      "Converged at step 69, e = 95.5693, rel_change=9.968e-04\n",
      "Converged at step 64, e = 0.4888, rel_change=9.757e-04\n",
      "Acc(NMI) = 0.3950 (0.5924)\n"
     ]
    },
    {
     "name": "stderr",
     "output_type": "stream",
     "text": [
      "D:\\Software\\Anaconda3\\anaconda3\\Lib\\site-packages\\sklearn\\cluster\\_kmeans.py:1429: UserWarning: KMeans is known to have a memory leak on Windows with MKL, when there are less chunks than available threads. You can avoid it by setting the environment variable OMP_NUM_THREADS=2.\n",
      "  warnings.warn(\n"
     ]
    },
    {
     "name": "stdout",
     "output_type": "stream",
     "text": [
      "Converged at step 56, e = 127.2113, rel_change=9.831e-04\n",
      "Converged at step 71, e = 0.5016, rel_change=9.845e-04\n",
      "Acc(NMI) = 0.2675 (0.4709)\n"
     ]
    },
    {
     "name": "stderr",
     "output_type": "stream",
     "text": [
      "D:\\Software\\Anaconda3\\anaconda3\\Lib\\site-packages\\sklearn\\cluster\\_kmeans.py:1429: UserWarning: KMeans is known to have a memory leak on Windows with MKL, when there are less chunks than available threads. You can avoid it by setting the environment variable OMP_NUM_THREADS=2.\n",
      "  warnings.warn(\n"
     ]
    },
    {
     "name": "stdout",
     "output_type": "stream",
     "text": [
      "Converged at step 18, e = 149.0220, rel_change=9.908e-04\n",
      "Converged at step 87, e = 0.3611, rel_change=9.959e-04\n",
      "Acc(NMI) = 0.1825 (0.3335)\n"
     ]
    },
    {
     "name": "stderr",
     "output_type": "stream",
     "text": [
      "D:\\Software\\Anaconda3\\anaconda3\\Lib\\site-packages\\sklearn\\cluster\\_kmeans.py:1429: UserWarning: KMeans is known to have a memory leak on Windows with MKL, when there are less chunks than available threads. You can avoid it by setting the environment variable OMP_NUM_THREADS=2.\n",
      "  warnings.warn(\n"
     ]
    },
    {
     "name": "stdout",
     "output_type": "stream",
     "text": [
      "Converged at step 16, e = 151.6407, rel_change=9.699e-04\n",
      "Converged at step 81, e = 0.3359, rel_change=9.810e-04\n",
      "Acc(NMI) = 0.1675 (0.3225)\n"
     ]
    },
    {
     "name": "stderr",
     "output_type": "stream",
     "text": [
      "D:\\Software\\Anaconda3\\anaconda3\\Lib\\site-packages\\sklearn\\cluster\\_kmeans.py:1429: UserWarning: KMeans is known to have a memory leak on Windows with MKL, when there are less chunks than available threads. You can avoid it by setting the environment variable OMP_NUM_THREADS=2.\n",
      "  warnings.warn(\n"
     ]
    },
    {
     "name": "stdout",
     "output_type": "stream",
     "text": [
      "Converged at step 137, e = 14.8208, rel_change=9.895e-04\n",
      "Converged at step 70, e = 0.6893, rel_change=9.726e-04\n",
      "Acc(NMI) = 0.5525 (0.7528)\n"
     ]
    },
    {
     "name": "stderr",
     "output_type": "stream",
     "text": [
      "D:\\Software\\Anaconda3\\anaconda3\\Lib\\site-packages\\sklearn\\cluster\\_kmeans.py:1429: UserWarning: KMeans is known to have a memory leak on Windows with MKL, when there are less chunks than available threads. You can avoid it by setting the environment variable OMP_NUM_THREADS=2.\n",
      "  warnings.warn(\n"
     ]
    },
    {
     "name": "stdout",
     "output_type": "stream",
     "text": [
      "Converged at step 95, e = 55.1597, rel_change=9.760e-04\n",
      "Converged at step 77, e = 0.5538, rel_change=9.923e-04\n",
      "Acc(NMI) = 0.4975 (0.6983)\n"
     ]
    },
    {
     "name": "stderr",
     "output_type": "stream",
     "text": [
      "D:\\Software\\Anaconda3\\anaconda3\\Lib\\site-packages\\sklearn\\cluster\\_kmeans.py:1429: UserWarning: KMeans is known to have a memory leak on Windows with MKL, when there are less chunks than available threads. You can avoid it by setting the environment variable OMP_NUM_THREADS=2.\n",
      "  warnings.warn(\n"
     ]
    },
    {
     "name": "stdout",
     "output_type": "stream",
     "text": [
      "Converged at step 67, e = 95.3628, rel_change=9.771e-04\n",
      "Converged at step 78, e = 0.5184, rel_change=9.770e-04\n",
      "Acc(NMI) = 0.3550 (0.5667)\n"
     ]
    },
    {
     "name": "stderr",
     "output_type": "stream",
     "text": [
      "D:\\Software\\Anaconda3\\anaconda3\\Lib\\site-packages\\sklearn\\cluster\\_kmeans.py:1429: UserWarning: KMeans is known to have a memory leak on Windows with MKL, when there are less chunks than available threads. You can avoid it by setting the environment variable OMP_NUM_THREADS=2.\n",
      "  warnings.warn(\n"
     ]
    },
    {
     "name": "stdout",
     "output_type": "stream",
     "text": [
      "Converged at step 50, e = 127.6749, rel_change=9.763e-04\n",
      "Converged at step 72, e = 0.4907, rel_change=9.549e-04\n",
      "Acc(NMI) = 0.2525 (0.4473)\n"
     ]
    },
    {
     "name": "stderr",
     "output_type": "stream",
     "text": [
      "D:\\Software\\Anaconda3\\anaconda3\\Lib\\site-packages\\sklearn\\cluster\\_kmeans.py:1429: UserWarning: KMeans is known to have a memory leak on Windows with MKL, when there are less chunks than available threads. You can avoid it by setting the environment variable OMP_NUM_THREADS=2.\n",
      "  warnings.warn(\n"
     ]
    },
    {
     "name": "stdout",
     "output_type": "stream",
     "text": [
      "Converged at step 17, e = 149.0811, rel_change=9.985e-04\n",
      "Converged at step 82, e = 0.3402, rel_change=9.755e-04\n",
      "Acc(NMI) = 0.1600 (0.3275)\n"
     ]
    },
    {
     "name": "stderr",
     "output_type": "stream",
     "text": [
      "D:\\Software\\Anaconda3\\anaconda3\\Lib\\site-packages\\sklearn\\cluster\\_kmeans.py:1429: UserWarning: KMeans is known to have a memory leak on Windows with MKL, when there are less chunks than available threads. You can avoid it by setting the environment variable OMP_NUM_THREADS=2.\n",
      "  warnings.warn(\n"
     ]
    },
    {
     "name": "stdout",
     "output_type": "stream",
     "text": [
      "Converged at step 16, e = 151.6805, rel_change=9.639e-04\n",
      "Converged at step 103, e = 0.3529, rel_change=9.860e-04\n",
      "Acc(NMI) = 0.1500 (0.2901)\n"
     ]
    },
    {
     "name": "stderr",
     "output_type": "stream",
     "text": [
      "D:\\Software\\Anaconda3\\anaconda3\\Lib\\site-packages\\sklearn\\cluster\\_kmeans.py:1429: UserWarning: KMeans is known to have a memory leak on Windows with MKL, when there are less chunks than available threads. You can avoid it by setting the environment variable OMP_NUM_THREADS=2.\n",
      "  warnings.warn(\n"
     ]
    },
    {
     "name": "stdout",
     "output_type": "stream",
     "text": [
      "Converged at step 133, e = 14.5970, rel_change=9.837e-04\n",
      "Converged at step 59, e = 0.6992, rel_change=9.563e-04\n",
      "Acc(NMI) = 0.5100 (0.7054)\n"
     ]
    },
    {
     "name": "stderr",
     "output_type": "stream",
     "text": [
      "D:\\Software\\Anaconda3\\anaconda3\\Lib\\site-packages\\sklearn\\cluster\\_kmeans.py:1429: UserWarning: KMeans is known to have a memory leak on Windows with MKL, when there are less chunks than available threads. You can avoid it by setting the environment variable OMP_NUM_THREADS=2.\n",
      "  warnings.warn(\n"
     ]
    },
    {
     "name": "stdout",
     "output_type": "stream",
     "text": [
      "Converged at step 90, e = 54.7731, rel_change=9.885e-04\n",
      "Converged at step 58, e = 0.5407, rel_change=9.766e-04\n",
      "Acc(NMI) = 0.5175 (0.7159)\n"
     ]
    },
    {
     "name": "stderr",
     "output_type": "stream",
     "text": [
      "D:\\Software\\Anaconda3\\anaconda3\\Lib\\site-packages\\sklearn\\cluster\\_kmeans.py:1429: UserWarning: KMeans is known to have a memory leak on Windows with MKL, when there are less chunks than available threads. You can avoid it by setting the environment variable OMP_NUM_THREADS=2.\n",
      "  warnings.warn(\n"
     ]
    },
    {
     "name": "stdout",
     "output_type": "stream",
     "text": [
      "Converged at step 68, e = 95.5414, rel_change=9.736e-04\n",
      "Converged at step 69, e = 0.4878, rel_change=9.965e-04\n",
      "Acc(NMI) = 0.3950 (0.5931)\n"
     ]
    },
    {
     "name": "stderr",
     "output_type": "stream",
     "text": [
      "D:\\Software\\Anaconda3\\anaconda3\\Lib\\site-packages\\sklearn\\cluster\\_kmeans.py:1429: UserWarning: KMeans is known to have a memory leak on Windows with MKL, when there are less chunks than available threads. You can avoid it by setting the environment variable OMP_NUM_THREADS=2.\n",
      "  warnings.warn(\n"
     ]
    },
    {
     "name": "stdout",
     "output_type": "stream",
     "text": [
      "Converged at step 52, e = 127.9193, rel_change=9.889e-04\n",
      "Converged at step 57, e = 0.4855, rel_change=9.986e-04\n",
      "Acc(NMI) = 0.2450 (0.4300)\n"
     ]
    },
    {
     "name": "stderr",
     "output_type": "stream",
     "text": [
      "D:\\Software\\Anaconda3\\anaconda3\\Lib\\site-packages\\sklearn\\cluster\\_kmeans.py:1429: UserWarning: KMeans is known to have a memory leak on Windows with MKL, when there are less chunks than available threads. You can avoid it by setting the environment variable OMP_NUM_THREADS=2.\n",
      "  warnings.warn(\n"
     ]
    },
    {
     "name": "stdout",
     "output_type": "stream",
     "text": [
      "Converged at step 20, e = 148.5992, rel_change=9.893e-04\n",
      "Converged at step 68, e = 0.3768, rel_change=9.930e-04\n",
      "Acc(NMI) = 0.1825 (0.3549)\n"
     ]
    },
    {
     "name": "stderr",
     "output_type": "stream",
     "text": [
      "D:\\Software\\Anaconda3\\anaconda3\\Lib\\site-packages\\sklearn\\cluster\\_kmeans.py:1429: UserWarning: KMeans is known to have a memory leak on Windows with MKL, when there are less chunks than available threads. You can avoid it by setting the environment variable OMP_NUM_THREADS=2.\n",
      "  warnings.warn(\n"
     ]
    },
    {
     "name": "stdout",
     "output_type": "stream",
     "text": [
      "Converged at step 16, e = 151.7346, rel_change=9.622e-04\n",
      "Converged at step 81, e = 0.3365, rel_change=9.987e-04\n",
      "Acc(NMI) = 0.1675 (0.3109)\n"
     ]
    },
    {
     "name": "stderr",
     "output_type": "stream",
     "text": [
      "D:\\Software\\Anaconda3\\anaconda3\\Lib\\site-packages\\sklearn\\cluster\\_kmeans.py:1429: UserWarning: KMeans is known to have a memory leak on Windows with MKL, when there are less chunks than available threads. You can avoid it by setting the environment variable OMP_NUM_THREADS=2.\n",
      "  warnings.warn(\n"
     ]
    },
    {
     "name": "stdout",
     "output_type": "stream",
     "text": [
      "Converged at step 144, e = 15.1737, rel_change=9.814e-04\n",
      "Converged at step 63, e = 0.8144, rel_change=9.612e-04\n",
      "Acc(NMI) = 0.5425 (0.7168)\n"
     ]
    },
    {
     "name": "stderr",
     "output_type": "stream",
     "text": [
      "D:\\Software\\Anaconda3\\anaconda3\\Lib\\site-packages\\sklearn\\cluster\\_kmeans.py:1429: UserWarning: KMeans is known to have a memory leak on Windows with MKL, when there are less chunks than available threads. You can avoid it by setting the environment variable OMP_NUM_THREADS=2.\n",
      "  warnings.warn(\n"
     ]
    },
    {
     "name": "stdout",
     "output_type": "stream",
     "text": [
      "Converged at step 97, e = 55.4763, rel_change=9.887e-04\n",
      "Converged at step 43, e = 0.5625, rel_change=9.905e-04\n",
      "Acc(NMI) = 0.4750 (0.6709)\n"
     ]
    },
    {
     "name": "stderr",
     "output_type": "stream",
     "text": [
      "D:\\Software\\Anaconda3\\anaconda3\\Lib\\site-packages\\sklearn\\cluster\\_kmeans.py:1429: UserWarning: KMeans is known to have a memory leak on Windows with MKL, when there are less chunks than available threads. You can avoid it by setting the environment variable OMP_NUM_THREADS=2.\n",
      "  warnings.warn(\n"
     ]
    },
    {
     "name": "stdout",
     "output_type": "stream",
     "text": [
      "Converged at step 69, e = 95.3887, rel_change=9.897e-04\n",
      "Converged at step 66, e = 0.5318, rel_change=9.930e-04\n",
      "Acc(NMI) = 0.3450 (0.5443)\n"
     ]
    },
    {
     "name": "stderr",
     "output_type": "stream",
     "text": [
      "D:\\Software\\Anaconda3\\anaconda3\\Lib\\site-packages\\sklearn\\cluster\\_kmeans.py:1429: UserWarning: KMeans is known to have a memory leak on Windows with MKL, when there are less chunks than available threads. You can avoid it by setting the environment variable OMP_NUM_THREADS=2.\n",
      "  warnings.warn(\n"
     ]
    },
    {
     "name": "stdout",
     "output_type": "stream",
     "text": [
      "Converged at step 50, e = 127.6821, rel_change=9.973e-04\n",
      "Converged at step 70, e = 0.4901, rel_change=9.895e-04\n",
      "Acc(NMI) = 0.2900 (0.4621)\n"
     ]
    },
    {
     "name": "stderr",
     "output_type": "stream",
     "text": [
      "D:\\Software\\Anaconda3\\anaconda3\\Lib\\site-packages\\sklearn\\cluster\\_kmeans.py:1429: UserWarning: KMeans is known to have a memory leak on Windows with MKL, when there are less chunks than available threads. You can avoid it by setting the environment variable OMP_NUM_THREADS=2.\n",
      "  warnings.warn(\n"
     ]
    },
    {
     "name": "stdout",
     "output_type": "stream",
     "text": [
      "Converged at step 17, e = 148.9713, rel_change=9.910e-04\n",
      "Converged at step 74, e = 0.3495, rel_change=9.938e-04\n",
      "Acc(NMI) = 0.1650 (0.3255)\n"
     ]
    },
    {
     "name": "stderr",
     "output_type": "stream",
     "text": [
      "D:\\Software\\Anaconda3\\anaconda3\\Lib\\site-packages\\sklearn\\cluster\\_kmeans.py:1429: UserWarning: KMeans is known to have a memory leak on Windows with MKL, when there are less chunks than available threads. You can avoid it by setting the environment variable OMP_NUM_THREADS=2.\n",
      "  warnings.warn(\n"
     ]
    },
    {
     "name": "stdout",
     "output_type": "stream",
     "text": [
      "Converged at step 16, e = 151.6494, rel_change=9.632e-04\n",
      "Converged at step 79, e = 0.3509, rel_change=9.775e-04\n",
      "Acc(NMI) = 0.1625 (0.3082)\n"
     ]
    },
    {
     "name": "stderr",
     "output_type": "stream",
     "text": [
      "D:\\Software\\Anaconda3\\anaconda3\\Lib\\site-packages\\sklearn\\cluster\\_kmeans.py:1429: UserWarning: KMeans is known to have a memory leak on Windows with MKL, when there are less chunks than available threads. You can avoid it by setting the environment variable OMP_NUM_THREADS=2.\n",
      "  warnings.warn(\n"
     ]
    },
    {
     "name": "stdout",
     "output_type": "stream",
     "text": [
      "Converged at step 140, e = 14.6488, rel_change=9.815e-04\n",
      "Converged at step 71, e = 0.7092, rel_change=9.930e-04\n",
      "Acc(NMI) = 0.5825 (0.7411)\n"
     ]
    },
    {
     "name": "stderr",
     "output_type": "stream",
     "text": [
      "D:\\Software\\Anaconda3\\anaconda3\\Lib\\site-packages\\sklearn\\cluster\\_kmeans.py:1429: UserWarning: KMeans is known to have a memory leak on Windows with MKL, when there are less chunks than available threads. You can avoid it by setting the environment variable OMP_NUM_THREADS=2.\n",
      "  warnings.warn(\n"
     ]
    },
    {
     "name": "stdout",
     "output_type": "stream",
     "text": [
      "Converged at step 86, e = 55.5626, rel_change=9.849e-04\n",
      "Converged at step 95, e = 0.5220, rel_change=9.851e-04\n",
      "Acc(NMI) = 0.4975 (0.6898)\n"
     ]
    },
    {
     "name": "stderr",
     "output_type": "stream",
     "text": [
      "D:\\Software\\Anaconda3\\anaconda3\\Lib\\site-packages\\sklearn\\cluster\\_kmeans.py:1429: UserWarning: KMeans is known to have a memory leak on Windows with MKL, when there are less chunks than available threads. You can avoid it by setting the environment variable OMP_NUM_THREADS=2.\n",
      "  warnings.warn(\n"
     ]
    },
    {
     "name": "stdout",
     "output_type": "stream",
     "text": [
      "Converged at step 66, e = 94.9703, rel_change=9.722e-04\n",
      "Converged at step 56, e = 0.5058, rel_change=9.997e-04\n",
      "Acc(NMI) = 0.4100 (0.6056)\n"
     ]
    },
    {
     "name": "stderr",
     "output_type": "stream",
     "text": [
      "D:\\Software\\Anaconda3\\anaconda3\\Lib\\site-packages\\sklearn\\cluster\\_kmeans.py:1429: UserWarning: KMeans is known to have a memory leak on Windows with MKL, when there are less chunks than available threads. You can avoid it by setting the environment variable OMP_NUM_THREADS=2.\n",
      "  warnings.warn(\n"
     ]
    },
    {
     "name": "stdout",
     "output_type": "stream",
     "text": [
      "Converged at step 47, e = 128.1843, rel_change=9.897e-04\n",
      "Converged at step 66, e = 0.4774, rel_change=9.641e-04\n",
      "Acc(NMI) = 0.2575 (0.4348)\n"
     ]
    },
    {
     "name": "stderr",
     "output_type": "stream",
     "text": [
      "D:\\Software\\Anaconda3\\anaconda3\\Lib\\site-packages\\sklearn\\cluster\\_kmeans.py:1429: UserWarning: KMeans is known to have a memory leak on Windows with MKL, when there are less chunks than available threads. You can avoid it by setting the environment variable OMP_NUM_THREADS=2.\n",
      "  warnings.warn(\n"
     ]
    },
    {
     "name": "stdout",
     "output_type": "stream",
     "text": [
      "Converged at step 18, e = 148.6512, rel_change=9.951e-04\n",
      "Converged at step 61, e = 0.3476, rel_change=9.745e-04\n",
      "Acc(NMI) = 0.1800 (0.3157)\n"
     ]
    },
    {
     "name": "stderr",
     "output_type": "stream",
     "text": [
      "D:\\Software\\Anaconda3\\anaconda3\\Lib\\site-packages\\sklearn\\cluster\\_kmeans.py:1429: UserWarning: KMeans is known to have a memory leak on Windows with MKL, when there are less chunks than available threads. You can avoid it by setting the environment variable OMP_NUM_THREADS=2.\n",
      "  warnings.warn(\n"
     ]
    },
    {
     "name": "stdout",
     "output_type": "stream",
     "text": [
      "Converged at step 16, e = 151.8212, rel_change=9.588e-04\n",
      "Converged at step 85, e = 0.3594, rel_change=9.844e-04\n",
      "Acc(NMI) = 0.1700 (0.3273)\n"
     ]
    },
    {
     "name": "stderr",
     "output_type": "stream",
     "text": [
      "D:\\Software\\Anaconda3\\anaconda3\\Lib\\site-packages\\sklearn\\cluster\\_kmeans.py:1429: UserWarning: KMeans is known to have a memory leak on Windows with MKL, when there are less chunks than available threads. You can avoid it by setting the environment variable OMP_NUM_THREADS=2.\n",
      "  warnings.warn(\n"
     ]
    }
   ],
   "source": [
    "Algo = 'StackedNMF'\n",
    "Data = 'ORL'\n",
    "dataset = 'data/ORL'\n",
    "reduce = 3\n",
    "X, Y = load_data(dataset, reduce=reduce)\n",
    "seeds = [0,1,2,3,4]\n",
    "pr_lst = [(0,0),(0.1,0.1),(0.2,0.2),(0.3,0.3),(0.4,0.4),(0.5,0.5)]\n",
    "record_SNMF_ORL = []\n",
    "layer_ranks=[10, 6]\n",
    "steps_per_layer = 10000\n",
    "tol = 1e-3\n",
    "eps = 1e-9\n",
    "\n",
    "for seed in seeds:\n",
    "    np.random.seed(seed)\n",
    "    for p, r in pr_lst:\n",
    "        # X_noisy, noise = salt_pepper(X, p, r)\n",
    "        X_noisy, Y = load_data_salt_pepper(dataset, reduce, p, r)\n",
    "        start = time.time()\n",
    "        H_final, PH, step = stackedNMF(X_noisy, layer_ranks=layer_ranks, steps_per_layer = steps_per_layer, tol = tol, eps=eps)\n",
    "        end = time.time()\n",
    "        timeusing = end - start\n",
    "        rre = relative_reconstruction_error(X_noisy, PH)\n",
    "        acc, nmi = evaluate_clustering(H_final, Y)\n",
    "        record_SNMF_ORL.append(((p,r),acc,nmi,rre,lr,tol,step,seed,timeusing))"
   ]
  },
  {
   "cell_type": "code",
   "execution_count": 78,
   "id": "e4e8280d-caa9-4db4-9622-0a79aded4ca4",
   "metadata": {
    "scrolled": true
   },
   "outputs": [
    {
     "name": "stdout",
     "output_type": "stream",
     "text": [
      "         (p,r)     acc       nmi       rre     lr    tol  step  seed      time\n",
      "0       (0, 0)  0.5325  0.715674  0.219500  0.001  0.001    62     0  0.584959\n",
      "1   (0.1, 0.1)  0.4975  0.701678  0.381928  0.001  0.001   133     0  0.473217\n",
      "2   (0.2, 0.2)  0.3950  0.592424  0.493999  0.001  0.001    65     0  0.384119\n",
      "3   (0.3, 0.3)  0.2675  0.470878  0.568273  0.001  0.001    72     0  0.294048\n",
      "4   (0.4, 0.4)  0.1825  0.333489  0.611962  0.001  0.001    88     0  0.095504\n",
      "5   (0.5, 0.5)  0.1675  0.322474  0.616782  0.001  0.001    82     0  0.083764\n",
      "6       (0, 0)  0.5525  0.752816  0.224038  0.001  0.001    71     1  0.678495\n",
      "7   (0.1, 0.1)  0.4975  0.698349  0.382984  0.001  0.001    78     1  0.494241\n",
      "8   (0.2, 0.2)  0.3550  0.566730  0.493525  0.001  0.001    79     1  0.354545\n",
      "9   (0.3, 0.3)  0.2525  0.447318  0.568983  0.001  0.001    73     1  0.220610\n",
      "10  (0.4, 0.4)  0.1600  0.327497  0.611817  0.001  0.001    83     1  0.113051\n",
      "11  (0.5, 0.5)  0.1500  0.290090  0.617169  0.001  0.001   104     1  0.094073\n",
      "12      (0, 0)  0.5100  0.705373  0.222722  0.001  0.001    60     2  0.617249\n",
      "13  (0.1, 0.1)  0.5175  0.715896  0.380044  0.001  0.001    59     2  0.421131\n",
      "14  (0.2, 0.2)  0.3950  0.593090  0.494049  0.001  0.001    70     2  0.299738\n",
      "15  (0.3, 0.3)  0.2450  0.429997  0.569751  0.001  0.001    58     2  0.293258\n",
      "16  (0.4, 0.4)  0.1825  0.354876  0.611229  0.001  0.001    69     2  0.137597\n",
      "17  (0.5, 0.5)  0.1675  0.310883  0.617156  0.001  0.001    82     2  0.156886\n",
      "18      (0, 0)  0.5425  0.716799  0.224414  0.001  0.001    64     3  0.650025\n",
      "19  (0.1, 0.1)  0.4750  0.670863  0.382152  0.001  0.001    44     3  0.491995\n",
      "20  (0.2, 0.2)  0.3450  0.544324  0.494237  0.001  0.001    67     3  0.354530\n",
      "21  (0.3, 0.3)  0.2900  0.462060  0.569635  0.001  0.001    71     3  0.279398\n",
      "22  (0.4, 0.4)  0.1650  0.325488  0.611720  0.001  0.001    75     3  0.152759\n",
      "23  (0.5, 0.5)  0.1625  0.308246  0.617001  0.001  0.001    80     3  0.147210\n",
      "24      (0, 0)  0.5825  0.741067  0.221014  0.001  0.001    72     4  0.617066\n",
      "25  (0.1, 0.1)  0.4975  0.689761  0.381665  0.001  0.001    96     4  0.425006\n",
      "26  (0.2, 0.2)  0.4100  0.605640  0.492803  0.001  0.001    57     4  0.356262\n",
      "27  (0.3, 0.3)  0.2575  0.434755  0.569933  0.001  0.001    67     4  0.259565\n",
      "28  (0.4, 0.4)  0.1800  0.315709  0.611113  0.001  0.001    62     4  0.122163\n",
      "29  (0.5, 0.5)  0.1700  0.327331  0.617254  0.001  0.001    86     4  0.124473\n",
      "        (p,r)  RRE_mean   RRE_std  ACC_mean   ACC_std  NMI_mean   NMI_std\n",
      "0      (0, 0)  0.222338  0.002071    0.5440  0.026669  0.726346  0.019763\n",
      "1  (0.1, 0.1)  0.381755  0.001076    0.4970  0.015042  0.695310  0.016598\n",
      "2  (0.2, 0.2)  0.493723  0.000577    0.3800  0.028284  0.580442  0.024653\n",
      "3  (0.3, 0.3)  0.569315  0.000684    0.2625  0.017410  0.449002  0.017436\n",
      "4  (0.4, 0.4)  0.611568  0.000375    0.1740  0.010695  0.331412  0.014594\n",
      "5  (0.5, 0.5)  0.617073  0.000186    0.1635  0.008023  0.311805  0.014491\n"
     ]
    }
   ],
   "source": [
    "df_SNMF_ORL = pd.DataFrame(record_SNMF_ORL, columns=['(p,r)','acc','nmi','rre','lr','tol','step','seed','time'])\n",
    "print(df_SNMF_ORL)\n",
    "summary = df_SNMF_ORL.groupby(['(p,r)']).agg(\n",
    "    RRE_mean=('rre', 'mean'),\n",
    "    RRE_std=('rre', 'std'),\n",
    "    ACC_mean=('acc', 'mean'),\n",
    "    ACC_std=('acc', 'std'),\n",
    "    NMI_mean=('nmi', 'mean'),\n",
    "    NMI_std=('nmi', 'std')\n",
    ").reset_index()\n",
    "print(summary)\n",
    "df_SNMF_ORL.to_excel(f'{Algo}_{Data}.xlsx', index=True)"
   ]
  },
  {
   "cell_type": "markdown",
   "id": "19055cf0-5641-4d39-a9cc-f405d5e0c2cc",
   "metadata": {},
   "source": [
    "# Test on CroppedYaleB"
   ]
  },
  {
   "cell_type": "code",
   "execution_count": 79,
   "id": "adcc1ea4-bff6-4ec8-9d38-d5562a76f389",
   "metadata": {},
   "outputs": [],
   "source": [
    "Data = 'YaleB'"
   ]
  },
  {
   "cell_type": "markdown",
   "id": "9c296e4f-e25e-49de-a31d-260bf595edbe",
   "metadata": {},
   "source": [
    "## L2-Norm Based NMF"
   ]
  },
  {
   "cell_type": "code",
   "execution_count": 80,
   "id": "5436cf08-a0bf-48cc-9700-3ebe26117d95",
   "metadata": {
    "scrolled": true
   },
   "outputs": [
    {
     "name": "stdout",
     "output_type": "stream",
     "text": [
      "step:0, e:101811.4300\n",
      "step:10, e:1091.6720\n",
      "step:20, e:1017.0635\n",
      "step:30, e:996.6994\n",
      "step:40, e:983.5426\n",
      "step:50, e:972.4709\n",
      "step:60, e:961.2257\n",
      "step:70, e:947.5288\n",
      "step:80, e:928.5840\n",
      "step:90, e:901.1311\n",
      "step:100, e:862.1889\n",
      "step:110, e:811.0626\n",
      "step:120, e:751.4299\n",
      "step:130, e:690.9679\n",
      "step:140, e:637.5064\n",
      "step:150, e:594.5329\n",
      "step:160, e:561.3444\n",
      "step:170, e:535.4415\n",
      "step:180, e:514.3805\n",
      "step:190, e:496.4440\n",
      "step:200, e:480.6418\n",
      "step:210, e:466.4509\n",
      "step:220, e:453.5668\n",
      "step:230, e:441.7994\n",
      "step:240, e:430.9524\n",
      "step:250, e:420.8692\n",
      "step:260, e:411.4289\n",
      "step:270, e:402.5340\n",
      "step:280, e:394.1072\n",
      "step:290, e:386.0924\n",
      "step:300, e:378.4843\n",
      "step:310, e:371.2653\n",
      "step:320, e:364.4225\n",
      "step:330, e:357.9467\n",
      "step:340, e:351.8200\n",
      "step:350, e:346.0323\n",
      "step:360, e:340.5737\n",
      "step:370, e:335.4345\n",
      "step:380, e:330.5984\n",
      "step:390, e:326.0456\n",
      "step:400, e:321.7580\n",
      "step:410, e:317.7202\n",
      "step:420, e:313.9122\n",
      "step:430, e:310.3155\n",
      "step:440, e:306.9124\n",
      "step:450, e:303.6883\n",
      "Converged at step 459, e = 300.9283, rel_change=9.971e-04\n",
      "Acc(NMI) = 0.0696 (0.0370)\n"
     ]
    },
    {
     "name": "stderr",
     "output_type": "stream",
     "text": [
      "D:\\Software\\Anaconda3\\anaconda3\\Lib\\site-packages\\sklearn\\cluster\\_kmeans.py:1429: UserWarning: KMeans is known to have a memory leak on Windows with MKL, when there are less chunks than available threads. You can avoid it by setting the environment variable OMP_NUM_THREADS=10.\n",
      "  warnings.warn(\n"
     ]
    },
    {
     "name": "stdout",
     "output_type": "stream",
     "text": [
      "step:0, e:88227.1129\n",
      "step:10, e:1281.3523\n",
      "step:20, e:1193.7555\n",
      "step:30, e:1174.1839\n",
      "Converged at step 35, e = 1168.0103, rel_change=9.790e-04\n",
      "Acc(NMI) = 0.0746 (0.0592)\n"
     ]
    },
    {
     "name": "stderr",
     "output_type": "stream",
     "text": [
      "D:\\Software\\Anaconda3\\anaconda3\\Lib\\site-packages\\sklearn\\cluster\\_kmeans.py:1429: UserWarning: KMeans is known to have a memory leak on Windows with MKL, when there are less chunks than available threads. You can avoid it by setting the environment variable OMP_NUM_THREADS=10.\n",
      "  warnings.warn(\n"
     ]
    },
    {
     "name": "stdout",
     "output_type": "stream",
     "text": [
      "step:0, e:79456.7039\n",
      "step:10, e:1429.9660\n",
      "step:20, e:1334.9421\n",
      "Converged at step 29, e = 1318.0994, rel_change=9.765e-04\n",
      "Acc(NMI) = 0.0775 (0.0724)\n"
     ]
    },
    {
     "name": "stderr",
     "output_type": "stream",
     "text": [
      "D:\\Software\\Anaconda3\\anaconda3\\Lib\\site-packages\\sklearn\\cluster\\_kmeans.py:1429: UserWarning: KMeans is known to have a memory leak on Windows with MKL, when there are less chunks than available threads. You can avoid it by setting the environment variable OMP_NUM_THREADS=10.\n",
      "  warnings.warn(\n"
     ]
    },
    {
     "name": "stdout",
     "output_type": "stream",
     "text": [
      "step:0, e:75523.1017\n",
      "step:10, e:1502.7571\n",
      "step:20, e:1405.9495\n",
      "Converged at step 26, e = 1394.4466, rel_change=9.963e-04\n",
      "Acc(NMI) = 0.0750 (0.0610)\n"
     ]
    },
    {
     "name": "stderr",
     "output_type": "stream",
     "text": [
      "D:\\Software\\Anaconda3\\anaconda3\\Lib\\site-packages\\sklearn\\cluster\\_kmeans.py:1429: UserWarning: KMeans is known to have a memory leak on Windows with MKL, when there are less chunks than available threads. You can avoid it by setting the environment variable OMP_NUM_THREADS=10.\n",
      "  warnings.warn(\n"
     ]
    },
    {
     "name": "stdout",
     "output_type": "stream",
     "text": [
      "step:0, e:77931.4181\n",
      "step:10, e:1488.9313\n",
      "step:20, e:1399.0334\n",
      "Converged at step 25, e = 1390.2570, rel_change=9.496e-04\n",
      "Acc(NMI) = 0.0762 (0.0664)\n"
     ]
    },
    {
     "name": "stderr",
     "output_type": "stream",
     "text": [
      "D:\\Software\\Anaconda3\\anaconda3\\Lib\\site-packages\\sklearn\\cluster\\_kmeans.py:1429: UserWarning: KMeans is known to have a memory leak on Windows with MKL, when there are less chunks than available threads. You can avoid it by setting the environment variable OMP_NUM_THREADS=10.\n",
      "  warnings.warn(\n"
     ]
    },
    {
     "name": "stdout",
     "output_type": "stream",
     "text": [
      "step:0, e:84456.3036\n",
      "step:10, e:1399.9678\n",
      "step:20, e:1321.1178\n",
      "Converged at step 24, e = 1314.7457, rel_change=9.711e-04\n",
      "Acc(NMI) = 0.0787 (0.0675)\n"
     ]
    },
    {
     "name": "stderr",
     "output_type": "stream",
     "text": [
      "D:\\Software\\Anaconda3\\anaconda3\\Lib\\site-packages\\sklearn\\cluster\\_kmeans.py:1429: UserWarning: KMeans is known to have a memory leak on Windows with MKL, when there are less chunks than available threads. You can avoid it by setting the environment variable OMP_NUM_THREADS=10.\n",
      "  warnings.warn(\n"
     ]
    },
    {
     "name": "stdout",
     "output_type": "stream",
     "text": [
      "step:0, e:100858.6925\n",
      "step:10, e:1092.2437\n",
      "step:20, e:1017.4926\n",
      "step:30, e:997.2564\n",
      "step:40, e:984.2063\n",
      "step:50, e:973.2901\n",
      "step:60, e:962.3184\n",
      "step:70, e:949.0833\n",
      "step:80, e:930.8665\n",
      "step:90, e:904.4319\n",
      "step:100, e:866.7799\n",
      "step:110, e:817.1538\n",
      "step:120, e:759.1663\n",
      "step:130, e:700.2919\n",
      "step:140, e:648.0383\n",
      "step:150, e:605.6953\n",
      "step:160, e:572.8010\n",
      "step:170, e:547.1688\n",
      "step:180, e:526.4053\n",
      "step:190, e:508.7818\n",
      "step:200, e:493.2670\n",
      "step:210, e:479.2831\n",
      "step:220, e:466.4916\n",
      "step:230, e:454.7001\n",
      "step:240, e:443.7610\n",
      "step:250, e:433.5164\n",
      "step:260, e:423.8410\n",
      "step:270, e:414.6190\n",
      "step:280, e:405.7561\n",
      "step:290, e:397.2061\n",
      "step:300, e:388.9570\n",
      "step:310, e:380.9932\n",
      "step:320, e:373.3339\n",
      "step:330, e:366.0129\n",
      "step:340, e:359.0506\n",
      "step:350, e:352.4692\n",
      "step:360, e:346.2861\n",
      "step:370, e:340.4978\n",
      "step:380, e:335.1000\n",
      "step:390, e:330.0804\n",
      "step:400, e:325.3984\n",
      "step:410, e:321.0391\n",
      "step:420, e:316.9753\n",
      "step:430, e:313.1776\n",
      "step:440, e:309.6205\n",
      "step:450, e:306.2745\n",
      "step:460, e:303.1177\n",
      "Converged at step 464, e = 301.9020, rel_change=9.980e-04\n",
      "Acc(NMI) = 0.0679 (0.0372)\n"
     ]
    },
    {
     "name": "stderr",
     "output_type": "stream",
     "text": [
      "D:\\Software\\Anaconda3\\anaconda3\\Lib\\site-packages\\sklearn\\cluster\\_kmeans.py:1429: UserWarning: KMeans is known to have a memory leak on Windows with MKL, when there are less chunks than available threads. You can avoid it by setting the environment variable OMP_NUM_THREADS=10.\n",
      "  warnings.warn(\n"
     ]
    },
    {
     "name": "stdout",
     "output_type": "stream",
     "text": [
      "step:0, e:88444.9207\n",
      "step:10, e:1281.3157\n",
      "step:20, e:1193.5041\n",
      "step:30, e:1173.6416\n",
      "Converged at step 36, e = 1166.1392, rel_change=9.844e-04\n",
      "Acc(NMI) = 0.0721 (0.0570)\n"
     ]
    },
    {
     "name": "stderr",
     "output_type": "stream",
     "text": [
      "D:\\Software\\Anaconda3\\anaconda3\\Lib\\site-packages\\sklearn\\cluster\\_kmeans.py:1429: UserWarning: KMeans is known to have a memory leak on Windows with MKL, when there are less chunks than available threads. You can avoid it by setting the environment variable OMP_NUM_THREADS=10.\n",
      "  warnings.warn(\n"
     ]
    },
    {
     "name": "stdout",
     "output_type": "stream",
     "text": [
      "step:0, e:79474.2373\n",
      "step:10, e:1429.7147\n",
      "step:20, e:1334.3869\n",
      "Converged at step 29, e = 1317.4255, rel_change=9.864e-04\n",
      "Acc(NMI) = 0.0824 (0.0706)\n"
     ]
    },
    {
     "name": "stderr",
     "output_type": "stream",
     "text": [
      "D:\\Software\\Anaconda3\\anaconda3\\Lib\\site-packages\\sklearn\\cluster\\_kmeans.py:1429: UserWarning: KMeans is known to have a memory leak on Windows with MKL, when there are less chunks than available threads. You can avoid it by setting the environment variable OMP_NUM_THREADS=10.\n",
      "  warnings.warn(\n"
     ]
    },
    {
     "name": "stdout",
     "output_type": "stream",
     "text": [
      "step:0, e:76337.1629\n",
      "step:10, e:1502.9517\n",
      "step:20, e:1405.3590\n",
      "Converged at step 27, e = 1392.3942, rel_change=9.256e-04\n",
      "Acc(NMI) = 0.0783 (0.0602)\n"
     ]
    },
    {
     "name": "stderr",
     "output_type": "stream",
     "text": [
      "D:\\Software\\Anaconda3\\anaconda3\\Lib\\site-packages\\sklearn\\cluster\\_kmeans.py:1429: UserWarning: KMeans is known to have a memory leak on Windows with MKL, when there are less chunks than available threads. You can avoid it by setting the environment variable OMP_NUM_THREADS=10.\n",
      "  warnings.warn(\n"
     ]
    },
    {
     "name": "stdout",
     "output_type": "stream",
     "text": [
      "step:0, e:77786.1628\n",
      "step:10, e:1489.2079\n",
      "step:20, e:1399.2369\n",
      "Converged at step 25, e = 1390.4320, rel_change=9.536e-04\n",
      "Acc(NMI) = 0.0808 (0.0686)\n"
     ]
    },
    {
     "name": "stderr",
     "output_type": "stream",
     "text": [
      "D:\\Software\\Anaconda3\\anaconda3\\Lib\\site-packages\\sklearn\\cluster\\_kmeans.py:1429: UserWarning: KMeans is known to have a memory leak on Windows with MKL, when there are less chunks than available threads. You can avoid it by setting the environment variable OMP_NUM_THREADS=10.\n",
      "  warnings.warn(\n"
     ]
    },
    {
     "name": "stdout",
     "output_type": "stream",
     "text": [
      "step:0, e:84852.5305\n",
      "step:10, e:1400.2148\n",
      "step:20, e:1321.2997\n",
      "Converged at step 24, e = 1314.9084, rel_change=9.741e-04\n",
      "Acc(NMI) = 0.0775 (0.0630)\n"
     ]
    },
    {
     "name": "stderr",
     "output_type": "stream",
     "text": [
      "D:\\Software\\Anaconda3\\anaconda3\\Lib\\site-packages\\sklearn\\cluster\\_kmeans.py:1429: UserWarning: KMeans is known to have a memory leak on Windows with MKL, when there are less chunks than available threads. You can avoid it by setting the environment variable OMP_NUM_THREADS=10.\n",
      "  warnings.warn(\n"
     ]
    },
    {
     "name": "stdout",
     "output_type": "stream",
     "text": [
      "step:0, e:100412.6579\n",
      "step:10, e:1094.4545\n",
      "step:20, e:1017.9475\n",
      "step:30, e:997.3808\n",
      "step:40, e:984.1608\n",
      "step:50, e:973.0235\n",
      "step:60, e:961.6368\n",
      "step:70, e:947.6281\n",
      "step:80, e:928.0976\n",
      "step:90, e:899.6365\n",
      "step:100, e:859.2726\n",
      "step:110, e:806.7035\n",
      "step:120, e:746.5234\n",
      "step:130, e:687.2454\n",
      "step:140, e:636.1185\n",
      "step:150, e:595.8538\n",
      "step:160, e:565.1752\n",
      "step:170, e:541.3253\n",
      "step:180, e:521.7879\n",
      "step:190, e:505.0223\n",
      "step:200, e:490.1789\n",
      "step:210, e:476.7428\n",
      "step:220, e:464.4407\n",
      "step:230, e:453.0354\n",
      "step:240, e:442.3343\n",
      "step:250, e:432.1973\n",
      "step:260, e:422.4925\n",
      "step:270, e:413.1316\n",
      "step:280, e:404.0773\n",
      "step:290, e:395.2931\n",
      "step:300, e:386.7703\n",
      "step:310, e:378.5387\n",
      "step:320, e:370.6459\n",
      "step:330, e:363.1203\n",
      "step:340, e:355.9915\n",
      "step:350, e:349.2707\n",
      "step:360, e:342.9660\n",
      "step:370, e:337.0704\n",
      "step:380, e:331.5701\n",
      "step:390, e:326.4367\n",
      "step:400, e:321.6444\n",
      "step:410, e:317.1644\n",
      "step:420, e:312.9706\n",
      "step:430, e:309.0311\n",
      "step:440, e:305.3152\n",
      "step:450, e:301.7980\n",
      "step:460, e:298.4643\n",
      "step:470, e:295.2963\n",
      "step:480, e:292.2724\n",
      "Converged at step 484, e = 291.1000, rel_change=9.993e-04\n",
      "Acc(NMI) = 0.0667 (0.0364)\n"
     ]
    },
    {
     "name": "stderr",
     "output_type": "stream",
     "text": [
      "D:\\Software\\Anaconda3\\anaconda3\\Lib\\site-packages\\sklearn\\cluster\\_kmeans.py:1429: UserWarning: KMeans is known to have a memory leak on Windows with MKL, when there are less chunks than available threads. You can avoid it by setting the environment variable OMP_NUM_THREADS=10.\n",
      "  warnings.warn(\n"
     ]
    },
    {
     "name": "stdout",
     "output_type": "stream",
     "text": [
      "step:0, e:88130.5470\n",
      "step:10, e:1281.8323\n",
      "step:20, e:1193.8137\n",
      "step:30, e:1174.2281\n",
      "Converged at step 35, e = 1168.1013, rel_change=9.693e-04\n",
      "Acc(NMI) = 0.0783 (0.0665)\n"
     ]
    },
    {
     "name": "stderr",
     "output_type": "stream",
     "text": [
      "D:\\Software\\Anaconda3\\anaconda3\\Lib\\site-packages\\sklearn\\cluster\\_kmeans.py:1429: UserWarning: KMeans is known to have a memory leak on Windows with MKL, when there are less chunks than available threads. You can avoid it by setting the environment variable OMP_NUM_THREADS=10.\n",
      "  warnings.warn(\n"
     ]
    },
    {
     "name": "stdout",
     "output_type": "stream",
     "text": [
      "step:0, e:79860.5106\n",
      "step:10, e:1428.9455\n",
      "step:20, e:1334.0804\n",
      "Converged at step 29, e = 1317.2786, rel_change=9.762e-04\n",
      "Acc(NMI) = 0.0787 (0.0718)\n"
     ]
    },
    {
     "name": "stderr",
     "output_type": "stream",
     "text": [
      "D:\\Software\\Anaconda3\\anaconda3\\Lib\\site-packages\\sklearn\\cluster\\_kmeans.py:1429: UserWarning: KMeans is known to have a memory leak on Windows with MKL, when there are less chunks than available threads. You can avoid it by setting the environment variable OMP_NUM_THREADS=10.\n",
      "  warnings.warn(\n"
     ]
    },
    {
     "name": "stdout",
     "output_type": "stream",
     "text": [
      "step:0, e:76392.3554\n",
      "step:10, e:1500.7404\n",
      "step:20, e:1405.5619\n",
      "Converged at step 26, e = 1394.1919, rel_change=9.896e-04\n",
      "Acc(NMI) = 0.0775 (0.0669)\n"
     ]
    },
    {
     "name": "stderr",
     "output_type": "stream",
     "text": [
      "D:\\Software\\Anaconda3\\anaconda3\\Lib\\site-packages\\sklearn\\cluster\\_kmeans.py:1429: UserWarning: KMeans is known to have a memory leak on Windows with MKL, when there are less chunks than available threads. You can avoid it by setting the environment variable OMP_NUM_THREADS=10.\n",
      "  warnings.warn(\n"
     ]
    },
    {
     "name": "stdout",
     "output_type": "stream",
     "text": [
      "step:0, e:77081.6240\n",
      "step:10, e:1490.8848\n",
      "step:20, e:1399.3740\n",
      "Converged at step 25, e = 1390.4467, rel_change=9.636e-04\n",
      "Acc(NMI) = 0.0754 (0.0671)\n"
     ]
    },
    {
     "name": "stderr",
     "output_type": "stream",
     "text": [
      "D:\\Software\\Anaconda3\\anaconda3\\Lib\\site-packages\\sklearn\\cluster\\_kmeans.py:1429: UserWarning: KMeans is known to have a memory leak on Windows with MKL, when there are less chunks than available threads. You can avoid it by setting the environment variable OMP_NUM_THREADS=10.\n",
      "  warnings.warn(\n"
     ]
    },
    {
     "name": "stdout",
     "output_type": "stream",
     "text": [
      "step:0, e:84643.1292\n",
      "step:10, e:1400.3613\n",
      "step:20, e:1321.4396\n",
      "Converged at step 24, e = 1315.0494, rel_change=9.735e-04\n",
      "Acc(NMI) = 0.0775 (0.0589)\n"
     ]
    },
    {
     "name": "stderr",
     "output_type": "stream",
     "text": [
      "D:\\Software\\Anaconda3\\anaconda3\\Lib\\site-packages\\sklearn\\cluster\\_kmeans.py:1429: UserWarning: KMeans is known to have a memory leak on Windows with MKL, when there are less chunks than available threads. You can avoid it by setting the environment variable OMP_NUM_THREADS=10.\n",
      "  warnings.warn(\n"
     ]
    },
    {
     "name": "stdout",
     "output_type": "stream",
     "text": [
      "step:0, e:100945.9686\n",
      "step:10, e:1093.4290\n",
      "step:20, e:1018.1653\n",
      "step:30, e:997.5826\n",
      "step:40, e:984.1848\n",
      "step:50, e:972.8071\n",
      "step:60, e:961.1129\n",
      "step:70, e:946.7096\n",
      "step:80, e:926.6908\n",
      "step:90, e:897.7273\n",
      "step:100, e:856.9717\n",
      "step:110, e:804.2543\n",
      "step:120, e:744.3610\n",
      "step:130, e:685.2125\n",
      "step:140, e:633.4347\n",
      "step:150, e:591.8064\n",
      "step:160, e:559.5260\n",
      "step:170, e:534.2782\n",
      "step:180, e:513.8433\n",
      "step:190, e:496.6558\n",
      "step:200, e:481.6834\n",
      "step:210, e:468.2815\n",
      "step:220, e:456.0817\n",
      "step:230, e:444.8279\n",
      "step:240, e:434.3159\n",
      "step:250, e:424.3454\n",
      "step:260, e:414.7916\n",
      "step:270, e:405.5592\n",
      "step:280, e:396.5842\n",
      "step:290, e:387.8498\n",
      "step:300, e:379.3748\n",
      "step:310, e:371.1991\n",
      "step:320, e:363.3656\n",
      "step:330, e:355.9208\n",
      "step:340, e:348.8940\n",
      "step:350, e:342.3050\n",
      "step:360, e:336.1747\n",
      "step:370, e:330.4930\n",
      "step:380, e:325.2430\n",
      "step:390, e:320.4027\n",
      "step:400, e:315.9457\n",
      "step:410, e:311.8339\n",
      "step:420, e:308.0365\n",
      "step:430, e:304.5183\n",
      "step:440, e:301.2422\n",
      "step:450, e:298.1788\n",
      "Converged at step 450, e = 298.1788, rel_change=9.968e-04\n",
      "Acc(NMI) = 0.0642 (0.0310)\n"
     ]
    },
    {
     "name": "stderr",
     "output_type": "stream",
     "text": [
      "D:\\Software\\Anaconda3\\anaconda3\\Lib\\site-packages\\sklearn\\cluster\\_kmeans.py:1429: UserWarning: KMeans is known to have a memory leak on Windows with MKL, when there are less chunks than available threads. You can avoid it by setting the environment variable OMP_NUM_THREADS=10.\n",
      "  warnings.warn(\n"
     ]
    },
    {
     "name": "stdout",
     "output_type": "stream",
     "text": [
      "step:0, e:87572.1659\n",
      "step:10, e:1282.0657\n",
      "step:20, e:1194.1600\n",
      "step:30, e:1174.4876\n",
      "Converged at step 35, e = 1168.2862, rel_change=9.826e-04\n",
      "Acc(NMI) = 0.0812 (0.0658)\n"
     ]
    },
    {
     "name": "stderr",
     "output_type": "stream",
     "text": [
      "D:\\Software\\Anaconda3\\anaconda3\\Lib\\site-packages\\sklearn\\cluster\\_kmeans.py:1429: UserWarning: KMeans is known to have a memory leak on Windows with MKL, when there are less chunks than available threads. You can avoid it by setting the environment variable OMP_NUM_THREADS=10.\n",
      "  warnings.warn(\n"
     ]
    },
    {
     "name": "stdout",
     "output_type": "stream",
     "text": [
      "step:0, e:78960.7511\n",
      "step:10, e:1430.5036\n",
      "step:20, e:1334.5683\n",
      "Converged at step 29, e = 1317.7171, rel_change=9.714e-04\n",
      "Acc(NMI) = 0.0754 (0.0594)\n"
     ]
    },
    {
     "name": "stderr",
     "output_type": "stream",
     "text": [
      "D:\\Software\\Anaconda3\\anaconda3\\Lib\\site-packages\\sklearn\\cluster\\_kmeans.py:1429: UserWarning: KMeans is known to have a memory leak on Windows with MKL, when there are less chunks than available threads. You can avoid it by setting the environment variable OMP_NUM_THREADS=10.\n",
      "  warnings.warn(\n"
     ]
    },
    {
     "name": "stdout",
     "output_type": "stream",
     "text": [
      "step:0, e:75460.5594\n",
      "step:10, e:1502.4536\n",
      "step:20, e:1406.2988\n",
      "Converged at step 27, e = 1393.4954, rel_change=9.170e-04\n",
      "Acc(NMI) = 0.0754 (0.0613)\n"
     ]
    },
    {
     "name": "stderr",
     "output_type": "stream",
     "text": [
      "D:\\Software\\Anaconda3\\anaconda3\\Lib\\site-packages\\sklearn\\cluster\\_kmeans.py:1429: UserWarning: KMeans is known to have a memory leak on Windows with MKL, when there are less chunks than available threads. You can avoid it by setting the environment variable OMP_NUM_THREADS=10.\n",
      "  warnings.warn(\n"
     ]
    },
    {
     "name": "stdout",
     "output_type": "stream",
     "text": [
      "step:0, e:77601.1305\n",
      "step:10, e:1489.0033\n",
      "step:20, e:1398.7503\n",
      "Converged at step 25, e = 1389.9968, rel_change=9.452e-04\n",
      "Acc(NMI) = 0.0816 (0.0577)\n"
     ]
    },
    {
     "name": "stderr",
     "output_type": "stream",
     "text": [
      "D:\\Software\\Anaconda3\\anaconda3\\Lib\\site-packages\\sklearn\\cluster\\_kmeans.py:1429: UserWarning: KMeans is known to have a memory leak on Windows with MKL, when there are less chunks than available threads. You can avoid it by setting the environment variable OMP_NUM_THREADS=10.\n",
      "  warnings.warn(\n"
     ]
    },
    {
     "name": "stdout",
     "output_type": "stream",
     "text": [
      "step:0, e:84871.5410\n",
      "step:10, e:1401.3565\n",
      "step:20, e:1321.5501\n",
      "Converged at step 24, e = 1315.0513, rel_change=9.903e-04\n",
      "Acc(NMI) = 0.0775 (0.0612)\n"
     ]
    },
    {
     "name": "stderr",
     "output_type": "stream",
     "text": [
      "D:\\Software\\Anaconda3\\anaconda3\\Lib\\site-packages\\sklearn\\cluster\\_kmeans.py:1429: UserWarning: KMeans is known to have a memory leak on Windows with MKL, when there are less chunks than available threads. You can avoid it by setting the environment variable OMP_NUM_THREADS=10.\n",
      "  warnings.warn(\n"
     ]
    },
    {
     "name": "stdout",
     "output_type": "stream",
     "text": [
      "step:0, e:100594.3813\n",
      "step:10, e:1092.7160\n",
      "step:20, e:1017.9741\n",
      "step:30, e:997.5248\n",
      "step:40, e:984.1667\n",
      "step:50, e:972.8109\n",
      "step:60, e:961.1374\n",
      "step:70, e:946.7653\n",
      "step:80, e:926.7874\n",
      "step:90, e:897.8426\n",
      "step:100, e:857.0895\n",
      "step:110, e:804.4595\n",
      "step:120, e:744.6762\n",
      "step:130, e:685.9058\n",
      "step:140, e:634.8527\n",
      "step:150, e:594.1742\n",
      "step:160, e:562.6849\n",
      "step:170, e:537.8833\n",
      "step:180, e:517.5468\n",
      "step:190, e:500.1132\n",
      "step:200, e:484.6217\n",
      "step:210, e:470.5220\n",
      "step:220, e:457.5140\n",
      "step:230, e:445.4153\n",
      "step:240, e:434.1047\n",
      "step:250, e:423.4735\n",
      "step:260, e:413.4082\n",
      "step:270, e:403.8193\n",
      "step:280, e:394.6766\n",
      "step:290, e:385.9617\n",
      "step:300, e:377.6646\n",
      "step:310, e:369.7848\n",
      "step:320, e:362.3314\n",
      "step:330, e:355.3101\n",
      "step:340, e:348.7307\n",
      "step:350, e:342.5871\n",
      "step:360, e:336.8692\n",
      "step:370, e:331.5589\n",
      "step:380, e:326.6325\n",
      "step:390, e:322.0569\n",
      "step:400, e:317.8002\n",
      "step:410, e:313.8244\n",
      "step:420, e:310.1001\n",
      "step:430, e:306.5925\n",
      "step:440, e:303.2781\n",
      "step:450, e:300.1398\n",
      "Converged at step 455, e = 298.6310, rel_change=9.991e-04\n",
      "Acc(NMI) = 0.0592 (0.0289)\n"
     ]
    },
    {
     "name": "stderr",
     "output_type": "stream",
     "text": [
      "D:\\Software\\Anaconda3\\anaconda3\\Lib\\site-packages\\sklearn\\cluster\\_kmeans.py:1429: UserWarning: KMeans is known to have a memory leak on Windows with MKL, when there are less chunks than available threads. You can avoid it by setting the environment variable OMP_NUM_THREADS=10.\n",
      "  warnings.warn(\n"
     ]
    },
    {
     "name": "stdout",
     "output_type": "stream",
     "text": [
      "step:0, e:88261.3270\n",
      "step:10, e:1281.5165\n",
      "step:20, e:1193.7314\n",
      "step:30, e:1174.0835\n",
      "Converged at step 35, e = 1167.8430, rel_change=9.923e-04\n",
      "Acc(NMI) = 0.0733 (0.0579)\n"
     ]
    },
    {
     "name": "stderr",
     "output_type": "stream",
     "text": [
      "D:\\Software\\Anaconda3\\anaconda3\\Lib\\site-packages\\sklearn\\cluster\\_kmeans.py:1429: UserWarning: KMeans is known to have a memory leak on Windows with MKL, when there are less chunks than available threads. You can avoid it by setting the environment variable OMP_NUM_THREADS=10.\n",
      "  warnings.warn(\n"
     ]
    },
    {
     "name": "stdout",
     "output_type": "stream",
     "text": [
      "step:0, e:79350.1886\n",
      "step:10, e:1430.0383\n",
      "step:20, e:1334.7883\n",
      "Converged at step 29, e = 1317.9499, rel_change=9.734e-04\n",
      "Acc(NMI) = 0.0779 (0.0626)\n"
     ]
    },
    {
     "name": "stderr",
     "output_type": "stream",
     "text": [
      "D:\\Software\\Anaconda3\\anaconda3\\Lib\\site-packages\\sklearn\\cluster\\_kmeans.py:1429: UserWarning: KMeans is known to have a memory leak on Windows with MKL, when there are less chunks than available threads. You can avoid it by setting the environment variable OMP_NUM_THREADS=10.\n",
      "  warnings.warn(\n"
     ]
    },
    {
     "name": "stdout",
     "output_type": "stream",
     "text": [
      "step:0, e:75792.9008\n",
      "step:10, e:1500.8781\n",
      "step:20, e:1405.7582\n",
      "Converged at step 26, e = 1394.5093, rel_change=9.788e-04\n",
      "Acc(NMI) = 0.0733 (0.0665)\n"
     ]
    },
    {
     "name": "stderr",
     "output_type": "stream",
     "text": [
      "D:\\Software\\Anaconda3\\anaconda3\\Lib\\site-packages\\sklearn\\cluster\\_kmeans.py:1429: UserWarning: KMeans is known to have a memory leak on Windows with MKL, when there are less chunks than available threads. You can avoid it by setting the environment variable OMP_NUM_THREADS=10.\n",
      "  warnings.warn(\n"
     ]
    },
    {
     "name": "stdout",
     "output_type": "stream",
     "text": [
      "step:0, e:77921.3624\n",
      "step:10, e:1489.3346\n",
      "step:20, e:1398.8971\n",
      "Converged at step 25, e = 1390.1006, rel_change=9.494e-04\n",
      "Acc(NMI) = 0.0775 (0.0621)\n"
     ]
    },
    {
     "name": "stderr",
     "output_type": "stream",
     "text": [
      "D:\\Software\\Anaconda3\\anaconda3\\Lib\\site-packages\\sklearn\\cluster\\_kmeans.py:1429: UserWarning: KMeans is known to have a memory leak on Windows with MKL, when there are less chunks than available threads. You can avoid it by setting the environment variable OMP_NUM_THREADS=10.\n",
      "  warnings.warn(\n"
     ]
    },
    {
     "name": "stdout",
     "output_type": "stream",
     "text": [
      "step:0, e:84656.5748\n",
      "step:10, e:1402.1024\n",
      "step:20, e:1321.6316\n",
      "Converged at step 24, e = 1315.1256, rel_change=9.895e-04\n",
      "Acc(NMI) = 0.0771 (0.0681)\n"
     ]
    },
    {
     "name": "stderr",
     "output_type": "stream",
     "text": [
      "D:\\Software\\Anaconda3\\anaconda3\\Lib\\site-packages\\sklearn\\cluster\\_kmeans.py:1429: UserWarning: KMeans is known to have a memory leak on Windows with MKL, when there are less chunks than available threads. You can avoid it by setting the environment variable OMP_NUM_THREADS=10.\n",
      "  warnings.warn(\n"
     ]
    }
   ],
   "source": [
    "Algo = 'L2'\n",
    "Data = 'YaleB'\n",
    "dataset = 'data/CroppedYaleB'\n",
    "reduce = 3\n",
    "X, Y = load_data(dataset, reduce=reduce)\n",
    "K = len(set(Y))\n",
    "seeds = [0,1,2,3,4]\n",
    "pr_lst = [(0,0),(0.1,0.1),(0.2,0.2),(0.3,0.3),(0.4,0.4),(0.5,0.5)]\n",
    "record_L2_Yale = []\n",
    "steps = 10000\n",
    "lrs = [1e-3]\n",
    "tol = 1e-3\n",
    "\n",
    "for seed in seeds:\n",
    "    np.random.seed(seed)\n",
    "    for lr in lrs:\n",
    "        for p, r in pr_lst:\n",
    "            # X_noisy, noise = salt_pepper(X, p, r)\n",
    "            X_noisy, Y = load_data_salt_pepper(dataset, reduce, p, r)\n",
    "            start = time.time()\n",
    "            W, H ,WH, step = L2_nmf(X_noisy, K, lr, steps, tol, verbose=True)\n",
    "            end = time.time()\n",
    "            timeusing = end - start\n",
    "            rre = relative_reconstruction_error(X_noisy, WH)\n",
    "            acc, nmi = evaluate_clustering(H, Y)\n",
    "            record_L2_Yale.append(((p,r),acc,nmi,rre,lr,tol,step,seed,timeusing))"
   ]
  },
  {
   "cell_type": "code",
   "execution_count": 81,
   "id": "b3d40e37-a8df-4a32-9dc3-0051c990dab3",
   "metadata": {
    "scrolled": true
   },
   "outputs": [
    {
     "name": "stdout",
     "output_type": "stream",
     "text": [
      "         (p,r)       acc       nmi       rre     lr    tol  step  seed  \\\n",
      "0       (0, 0)  0.069594  0.036998  0.353072  0.001  0.001   460     0   \n",
      "1   (0.1, 0.1)  0.074565  0.059213  0.695592  0.001  0.001    36     0   \n",
      "2   (0.2, 0.2)  0.077465  0.072377  0.738934  0.001  0.001    30     0   \n",
      "3   (0.3, 0.3)  0.074979  0.060988  0.760033  0.001  0.001    27     0   \n",
      "4   (0.4, 0.4)  0.076222  0.066373  0.758891  0.001  0.001    26     0   \n",
      "5   (0.5, 0.5)  0.078708  0.067490  0.737993  0.001  0.001    25     0   \n",
      "6       (0, 0)  0.067937  0.037178  0.353642  0.001  0.001   465     1   \n",
      "7   (0.1, 0.1)  0.072080  0.056955  0.695035  0.001  0.001    37     1   \n",
      "8   (0.2, 0.2)  0.082436  0.070626  0.738745  0.001  0.001    30     1   \n",
      "9   (0.3, 0.3)  0.078293  0.060236  0.759473  0.001  0.001    28     1   \n",
      "10  (0.4, 0.4)  0.080779  0.068633  0.758938  0.001  0.001    26     1   \n",
      "11  (0.5, 0.5)  0.077465  0.063036  0.738039  0.001  0.001    25     1   \n",
      "12      (0, 0)  0.066694  0.036382  0.347258  0.001  0.001   485     2   \n",
      "13  (0.1, 0.1)  0.078293  0.066495  0.695619  0.001  0.001    36     2   \n",
      "14  (0.2, 0.2)  0.078708  0.071785  0.738704  0.001  0.001    30     2   \n",
      "15  (0.3, 0.3)  0.077465  0.066878  0.759963  0.001  0.001    27     2   \n",
      "16  (0.4, 0.4)  0.075394  0.067137  0.758942  0.001  0.001    26     2   \n",
      "17  (0.5, 0.5)  0.077465  0.058946  0.738078  0.001  0.001    25     2   \n",
      "18      (0, 0)  0.064209  0.030970  0.351455  0.001  0.001   451     3   \n",
      "19  (0.1, 0.1)  0.081193  0.065840  0.695674  0.001  0.001    36     3   \n",
      "20  (0.2, 0.2)  0.075394  0.059432  0.738827  0.001  0.001    30     3   \n",
      "21  (0.3, 0.3)  0.075394  0.061287  0.759774  0.001  0.001    28     3   \n",
      "22  (0.4, 0.4)  0.081607  0.057694  0.758820  0.001  0.001    26     3   \n",
      "23  (0.5, 0.5)  0.077465  0.061174  0.738079  0.001  0.001    25     3   \n",
      "24      (0, 0)  0.059238  0.028851  0.351721  0.001  0.001   456     4   \n",
      "25  (0.1, 0.1)  0.073322  0.057950  0.695542  0.001  0.001    36     4   \n",
      "26  (0.2, 0.2)  0.077879  0.062561  0.738892  0.001  0.001    30     4   \n",
      "27  (0.3, 0.3)  0.073322  0.066536  0.760050  0.001  0.001    27     4   \n",
      "28  (0.4, 0.4)  0.077465  0.062078  0.758848  0.001  0.001    26     4   \n",
      "29  (0.5, 0.5)  0.077051  0.068128  0.738100  0.001  0.001    25     4   \n",
      "\n",
      "         time  \n",
      "0   37.412610  \n",
      "1    2.834167  \n",
      "2    2.359308  \n",
      "3    2.133365  \n",
      "4    2.045396  \n",
      "5    1.994037  \n",
      "6   36.593779  \n",
      "7    2.927031  \n",
      "8    2.424169  \n",
      "9    2.192138  \n",
      "10   2.083324  \n",
      "11   1.975428  \n",
      "12  37.762885  \n",
      "13   2.825408  \n",
      "14   2.356062  \n",
      "15   2.139599  \n",
      "16   2.066792  \n",
      "17   1.942456  \n",
      "18  35.999178  \n",
      "19   2.814074  \n",
      "20   2.416391  \n",
      "21   2.504954  \n",
      "22   2.266543  \n",
      "23   2.112537  \n",
      "24  36.481196  \n",
      "25   2.831883  \n",
      "26   2.364154  \n",
      "27   2.128463  \n",
      "28   2.062883  \n",
      "29   1.988606  \n",
      "        (p,r)  RRE_mean   RRE_std  ACC_mean   ACC_std  NMI_mean   NMI_std\n",
      "0      (0, 0)  0.351430  0.002504  0.065534  0.004031  0.034076  0.003887\n",
      "1  (0.1, 0.1)  0.695493  0.000260  0.075891  0.003767  0.061291  0.004530\n",
      "2  (0.2, 0.2)  0.738820  0.000097  0.078376  0.002577  0.067356  0.005944\n",
      "3  (0.3, 0.3)  0.759859  0.000242  0.075891  0.001995  0.063185  0.003240\n",
      "4  (0.4, 0.4)  0.758888  0.000054  0.078293  0.002763  0.064383  0.004463\n",
      "5  (0.5, 0.5)  0.738058  0.000042  0.077630  0.000628  0.063755  0.003981\n"
     ]
    }
   ],
   "source": [
    "df_L2_Yale = pd.DataFrame(record_L2_Yale, columns=['(p,r)','acc','nmi','rre','lr','tol','step','seed','time'])\n",
    "print(df_L2_Yale)\n",
    "summary = df_L2_Yale.groupby(['(p,r)']).agg(\n",
    "    RRE_mean=('rre', 'mean'),\n",
    "    RRE_std=('rre', 'std'),\n",
    "    ACC_mean=('acc', 'mean'),\n",
    "    ACC_std=('acc', 'std'),\n",
    "    NMI_mean=('nmi', 'mean'),\n",
    "    NMI_std=('nmi', 'std')\n",
    ").reset_index()\n",
    "print(summary)\n",
    "df_L2_Yale.to_excel(f'{Algo}_{Data}.xlsx', index=True)"
   ]
  },
  {
   "cell_type": "markdown",
   "id": "8597c8d7-cccd-4cd9-840b-1ec7d5fc5698",
   "metadata": {},
   "source": [
    "## Lee--Seung Multiplicative Update NMF (MU-L2)"
   ]
  },
  {
   "cell_type": "code",
   "execution_count": 82,
   "id": "ce18ec4c-fa2c-4ba1-b877-6a617e0adaca",
   "metadata": {
    "scrolled": true
   },
   "outputs": [
    {
     "name": "stdout",
     "output_type": "stream",
     "text": [
      "step:0, e:101811.4300\n",
      "step:10, e:581.8430\n",
      "step:20, e:335.0237\n",
      "step:30, e:270.8006\n",
      "step:40, e:239.8093\n",
      "step:50, e:219.9102\n",
      "step:60, e:205.2410\n",
      "step:70, e:193.5952\n",
      "step:80, e:184.3717\n",
      "step:90, e:177.3380\n",
      "step:100, e:172.0629\n",
      "step:110, e:168.0988\n",
      "step:120, e:165.0522\n",
      "step:130, e:162.6597\n",
      "step:140, e:160.7750\n",
      "Converged at step 143, e = 160.2855, rel_change=9.960e-04\n",
      "Acc(NMI) = 0.1624 (0.2657)\n"
     ]
    },
    {
     "name": "stderr",
     "output_type": "stream",
     "text": [
      "D:\\Software\\Anaconda3\\anaconda3\\Lib\\site-packages\\sklearn\\cluster\\_kmeans.py:1429: UserWarning: KMeans is known to have a memory leak on Windows with MKL, when there are less chunks than available threads. You can avoid it by setting the environment variable OMP_NUM_THREADS=10.\n",
      "  warnings.warn(\n"
     ]
    },
    {
     "name": "stdout",
     "output_type": "stream",
     "text": [
      "step:0, e:88227.1129\n",
      "step:10, e:851.2188\n",
      "step:20, e:680.5429\n",
      "step:30, e:623.5162\n",
      "step:40, e:601.9416\n",
      "step:50, e:585.8857\n",
      "step:60, e:573.9052\n",
      "step:70, e:564.6042\n",
      "step:80, e:557.1729\n",
      "Converged at step 88, e = 552.3641, rel_change=9.970e-04\n",
      "Acc(NMI) = 0.1417 (0.2021)\n"
     ]
    },
    {
     "name": "stderr",
     "output_type": "stream",
     "text": [
      "D:\\Software\\Anaconda3\\anaconda3\\Lib\\site-packages\\sklearn\\cluster\\_kmeans.py:1429: UserWarning: KMeans is known to have a memory leak on Windows with MKL, when there are less chunks than available threads. You can avoid it by setting the environment variable OMP_NUM_THREADS=10.\n",
      "  warnings.warn(\n"
     ]
    },
    {
     "name": "stdout",
     "output_type": "stream",
     "text": [
      "step:0, e:79456.7039\n",
      "Converged at step 2, e = 1270.3754, rel_change=8.097e-04\n"
     ]
    },
    {
     "name": "stderr",
     "output_type": "stream",
     "text": [
      "D:\\Software\\Anaconda3\\anaconda3\\Lib\\site-packages\\sklearn\\cluster\\_kmeans.py:1429: UserWarning: KMeans is known to have a memory leak on Windows with MKL, when there are less chunks than available threads. You can avoid it by setting the environment variable OMP_NUM_THREADS=10.\n",
      "  warnings.warn(\n"
     ]
    },
    {
     "name": "stdout",
     "output_type": "stream",
     "text": [
      "Acc(NMI) = 0.0750 (0.0625)\n",
      "step:0, e:75523.1017\n",
      "Converged at step 2, e = 1348.0965, rel_change=5.705e-04\n"
     ]
    },
    {
     "name": "stderr",
     "output_type": "stream",
     "text": [
      "D:\\Software\\Anaconda3\\anaconda3\\Lib\\site-packages\\sklearn\\cluster\\_kmeans.py:1429: UserWarning: KMeans is known to have a memory leak on Windows with MKL, when there are less chunks than available threads. You can avoid it by setting the environment variable OMP_NUM_THREADS=10.\n",
      "  warnings.warn(\n"
     ]
    },
    {
     "name": "stdout",
     "output_type": "stream",
     "text": [
      "Acc(NMI) = 0.0771 (0.0657)\n",
      "step:0, e:77931.4181\n",
      "Converged at step 2, e = 1345.4349, rel_change=5.113e-04\n"
     ]
    },
    {
     "name": "stderr",
     "output_type": "stream",
     "text": [
      "D:\\Software\\Anaconda3\\anaconda3\\Lib\\site-packages\\sklearn\\cluster\\_kmeans.py:1429: UserWarning: KMeans is known to have a memory leak on Windows with MKL, when there are less chunks than available threads. You can avoid it by setting the environment variable OMP_NUM_THREADS=10.\n",
      "  warnings.warn(\n"
     ]
    },
    {
     "name": "stdout",
     "output_type": "stream",
     "text": [
      "Acc(NMI) = 0.0758 (0.0669)\n",
      "step:0, e:84456.3036\n",
      "Converged at step 2, e = 1268.7095, rel_change=4.907e-04\n"
     ]
    },
    {
     "name": "stderr",
     "output_type": "stream",
     "text": [
      "D:\\Software\\Anaconda3\\anaconda3\\Lib\\site-packages\\sklearn\\cluster\\_kmeans.py:1429: UserWarning: KMeans is known to have a memory leak on Windows with MKL, when there are less chunks than available threads. You can avoid it by setting the environment variable OMP_NUM_THREADS=10.\n",
      "  warnings.warn(\n"
     ]
    },
    {
     "name": "stdout",
     "output_type": "stream",
     "text": [
      "Acc(NMI) = 0.0804 (0.0711)\n",
      "step:0, e:100858.6925\n",
      "step:10, e:595.1583\n",
      "step:20, e:343.5214\n",
      "step:30, e:273.7574\n",
      "step:40, e:242.5497\n",
      "step:50, e:220.8932\n",
      "step:60, e:204.2953\n",
      "step:70, e:191.7071\n",
      "step:80, e:182.6113\n",
      "step:90, e:176.0335\n",
      "step:100, e:171.1855\n",
      "step:110, e:167.5138\n",
      "step:120, e:164.6895\n",
      "step:130, e:162.4769\n",
      "step:140, e:160.6906\n",
      "Converged at step 141, e = 160.5322, rel_change=9.856e-04\n",
      "Acc(NMI) = 0.1524 (0.2494)\n"
     ]
    },
    {
     "name": "stderr",
     "output_type": "stream",
     "text": [
      "D:\\Software\\Anaconda3\\anaconda3\\Lib\\site-packages\\sklearn\\cluster\\_kmeans.py:1429: UserWarning: KMeans is known to have a memory leak on Windows with MKL, when there are less chunks than available threads. You can avoid it by setting the environment variable OMP_NUM_THREADS=10.\n",
      "  warnings.warn(\n"
     ]
    },
    {
     "name": "stdout",
     "output_type": "stream",
     "text": [
      "step:0, e:88444.9207\n",
      "step:10, e:836.0779\n",
      "step:20, e:678.4275\n",
      "step:30, e:616.8328\n",
      "step:40, e:594.7911\n",
      "step:50, e:579.3251\n",
      "step:60, e:567.7486\n",
      "step:70, e:558.6889\n",
      "step:80, e:551.4428\n",
      "Converged at step 88, e = 546.7575, rel_change=9.781e-04\n",
      "Acc(NMI) = 0.1350 (0.2025)\n"
     ]
    },
    {
     "name": "stderr",
     "output_type": "stream",
     "text": [
      "D:\\Software\\Anaconda3\\anaconda3\\Lib\\site-packages\\sklearn\\cluster\\_kmeans.py:1429: UserWarning: KMeans is known to have a memory leak on Windows with MKL, when there are less chunks than available threads. You can avoid it by setting the environment variable OMP_NUM_THREADS=10.\n",
      "  warnings.warn(\n"
     ]
    },
    {
     "name": "stdout",
     "output_type": "stream",
     "text": [
      "step:0, e:79474.2373\n",
      "Converged at step 2, e = 1270.0681, rel_change=8.501e-04\n"
     ]
    },
    {
     "name": "stderr",
     "output_type": "stream",
     "text": [
      "D:\\Software\\Anaconda3\\anaconda3\\Lib\\site-packages\\sklearn\\cluster\\_kmeans.py:1429: UserWarning: KMeans is known to have a memory leak on Windows with MKL, when there are less chunks than available threads. You can avoid it by setting the environment variable OMP_NUM_THREADS=10.\n",
      "  warnings.warn(\n"
     ]
    },
    {
     "name": "stdout",
     "output_type": "stream",
     "text": [
      "Acc(NMI) = 0.0771 (0.0621)\n",
      "step:0, e:76337.1629\n",
      "Converged at step 2, e = 1347.7242, rel_change=6.280e-04\n"
     ]
    },
    {
     "name": "stderr",
     "output_type": "stream",
     "text": [
      "D:\\Software\\Anaconda3\\anaconda3\\Lib\\site-packages\\sklearn\\cluster\\_kmeans.py:1429: UserWarning: KMeans is known to have a memory leak on Windows with MKL, when there are less chunks than available threads. You can avoid it by setting the environment variable OMP_NUM_THREADS=10.\n",
      "  warnings.warn(\n"
     ]
    },
    {
     "name": "stdout",
     "output_type": "stream",
     "text": [
      "Acc(NMI) = 0.0750 (0.0687)\n",
      "step:0, e:77786.1628\n",
      "Converged at step 2, e = 1345.6907, rel_change=5.216e-04\n"
     ]
    },
    {
     "name": "stderr",
     "output_type": "stream",
     "text": [
      "D:\\Software\\Anaconda3\\anaconda3\\Lib\\site-packages\\sklearn\\cluster\\_kmeans.py:1429: UserWarning: KMeans is known to have a memory leak on Windows with MKL, when there are less chunks than available threads. You can avoid it by setting the environment variable OMP_NUM_THREADS=10.\n",
      "  warnings.warn(\n"
     ]
    },
    {
     "name": "stdout",
     "output_type": "stream",
     "text": [
      "Acc(NMI) = 0.0762 (0.0580)\n",
      "step:0, e:84852.5305\n",
      "Converged at step 2, e = 1268.7492, rel_change=4.937e-04\n"
     ]
    },
    {
     "name": "stderr",
     "output_type": "stream",
     "text": [
      "D:\\Software\\Anaconda3\\anaconda3\\Lib\\site-packages\\sklearn\\cluster\\_kmeans.py:1429: UserWarning: KMeans is known to have a memory leak on Windows with MKL, when there are less chunks than available threads. You can avoid it by setting the environment variable OMP_NUM_THREADS=10.\n",
      "  warnings.warn(\n"
     ]
    },
    {
     "name": "stdout",
     "output_type": "stream",
     "text": [
      "Acc(NMI) = 0.0766 (0.0629)\n",
      "step:0, e:100412.6579\n",
      "step:10, e:588.6660\n",
      "step:20, e:338.4569\n",
      "step:30, e:269.9857\n",
      "step:40, e:238.1498\n",
      "step:50, e:217.3409\n",
      "step:60, e:202.2652\n",
      "step:70, e:191.3681\n",
      "step:80, e:183.4362\n",
      "step:90, e:177.5255\n",
      "step:100, e:173.0162\n",
      "step:110, e:169.4870\n",
      "step:120, e:166.6593\n",
      "step:130, e:164.3211\n",
      "step:140, e:162.3383\n",
      "step:150, e:160.6397\n",
      "Converged at step 150, e = 160.6397, rel_change=9.854e-04\n",
      "Acc(NMI) = 0.1537 (0.2339)\n"
     ]
    },
    {
     "name": "stderr",
     "output_type": "stream",
     "text": [
      "D:\\Software\\Anaconda3\\anaconda3\\Lib\\site-packages\\sklearn\\cluster\\_kmeans.py:1429: UserWarning: KMeans is known to have a memory leak on Windows with MKL, when there are less chunks than available threads. You can avoid it by setting the environment variable OMP_NUM_THREADS=10.\n",
      "  warnings.warn(\n"
     ]
    },
    {
     "name": "stdout",
     "output_type": "stream",
     "text": [
      "step:0, e:88130.5470\n",
      "Converged at step 3, e = 1120.9512, rel_change=9.195e-04\n",
      "Acc(NMI) = 0.0750 (0.0558)\n"
     ]
    },
    {
     "name": "stderr",
     "output_type": "stream",
     "text": [
      "D:\\Software\\Anaconda3\\anaconda3\\Lib\\site-packages\\sklearn\\cluster\\_kmeans.py:1429: UserWarning: KMeans is known to have a memory leak on Windows with MKL, when there are less chunks than available threads. You can avoid it by setting the environment variable OMP_NUM_THREADS=10.\n",
      "  warnings.warn(\n"
     ]
    },
    {
     "name": "stdout",
     "output_type": "stream",
     "text": [
      "step:0, e:79860.5106\n",
      "Converged at step 2, e = 1270.1296, rel_change=7.844e-04\n"
     ]
    },
    {
     "name": "stderr",
     "output_type": "stream",
     "text": [
      "D:\\Software\\Anaconda3\\anaconda3\\Lib\\site-packages\\sklearn\\cluster\\_kmeans.py:1429: UserWarning: KMeans is known to have a memory leak on Windows with MKL, when there are less chunks than available threads. You can avoid it by setting the environment variable OMP_NUM_THREADS=10.\n",
      "  warnings.warn(\n"
     ]
    },
    {
     "name": "stdout",
     "output_type": "stream",
     "text": [
      "Acc(NMI) = 0.0758 (0.0634)\n",
      "step:0, e:76392.3554\n",
      "Converged at step 2, e = 1348.0241, rel_change=5.867e-04\n"
     ]
    },
    {
     "name": "stderr",
     "output_type": "stream",
     "text": [
      "D:\\Software\\Anaconda3\\anaconda3\\Lib\\site-packages\\sklearn\\cluster\\_kmeans.py:1429: UserWarning: KMeans is known to have a memory leak on Windows with MKL, when there are less chunks than available threads. You can avoid it by setting the environment variable OMP_NUM_THREADS=10.\n",
      "  warnings.warn(\n"
     ]
    },
    {
     "name": "stdout",
     "output_type": "stream",
     "text": [
      "Acc(NMI) = 0.0746 (0.0672)\n",
      "step:0, e:77081.6240\n",
      "Converged at step 2, e = 1345.3263, rel_change=5.105e-04\n"
     ]
    },
    {
     "name": "stderr",
     "output_type": "stream",
     "text": [
      "D:\\Software\\Anaconda3\\anaconda3\\Lib\\site-packages\\sklearn\\cluster\\_kmeans.py:1429: UserWarning: KMeans is known to have a memory leak on Windows with MKL, when there are less chunks than available threads. You can avoid it by setting the environment variable OMP_NUM_THREADS=10.\n",
      "  warnings.warn(\n"
     ]
    },
    {
     "name": "stdout",
     "output_type": "stream",
     "text": [
      "Acc(NMI) = 0.0737 (0.0656)\n",
      "step:0, e:84643.1292\n",
      "Converged at step 2, e = 1268.8792, rel_change=4.999e-04\n"
     ]
    },
    {
     "name": "stderr",
     "output_type": "stream",
     "text": [
      "D:\\Software\\Anaconda3\\anaconda3\\Lib\\site-packages\\sklearn\\cluster\\_kmeans.py:1429: UserWarning: KMeans is known to have a memory leak on Windows with MKL, when there are less chunks than available threads. You can avoid it by setting the environment variable OMP_NUM_THREADS=10.\n",
      "  warnings.warn(\n"
     ]
    },
    {
     "name": "stdout",
     "output_type": "stream",
     "text": [
      "Acc(NMI) = 0.0766 (0.0704)\n",
      "step:0, e:100945.9686\n",
      "step:10, e:563.9526\n",
      "step:20, e:340.7467\n",
      "step:30, e:270.4480\n",
      "step:40, e:238.6174\n",
      "step:50, e:219.1772\n",
      "step:60, e:205.1873\n",
      "step:70, e:194.4575\n",
      "step:80, e:186.2369\n",
      "step:90, e:179.9291\n",
      "step:100, e:175.0758\n",
      "step:110, e:171.3060\n",
      "step:120, e:168.3465\n",
      "step:130, e:165.9953\n",
      "step:140, e:164.0960\n",
      "Converged at step 143, e = 163.5999, rel_change=9.891e-04\n",
      "Acc(NMI) = 0.1827 (0.2532)\n"
     ]
    },
    {
     "name": "stderr",
     "output_type": "stream",
     "text": [
      "D:\\Software\\Anaconda3\\anaconda3\\Lib\\site-packages\\sklearn\\cluster\\_kmeans.py:1429: UserWarning: KMeans is known to have a memory leak on Windows with MKL, when there are less chunks than available threads. You can avoid it by setting the environment variable OMP_NUM_THREADS=10.\n",
      "  warnings.warn(\n"
     ]
    },
    {
     "name": "stdout",
     "output_type": "stream",
     "text": [
      "step:0, e:87572.1659\n",
      "Converged at step 3, e = 1121.1272, rel_change=9.279e-04\n",
      "Acc(NMI) = 0.0758 (0.0611)\n"
     ]
    },
    {
     "name": "stderr",
     "output_type": "stream",
     "text": [
      "D:\\Software\\Anaconda3\\anaconda3\\Lib\\site-packages\\sklearn\\cluster\\_kmeans.py:1429: UserWarning: KMeans is known to have a memory leak on Windows with MKL, when there are less chunks than available threads. You can avoid it by setting the environment variable OMP_NUM_THREADS=10.\n",
      "  warnings.warn(\n"
     ]
    },
    {
     "name": "stdout",
     "output_type": "stream",
     "text": [
      "step:0, e:78960.7511\n",
      "Converged at step 2, e = 1270.4266, rel_change=7.926e-04\n"
     ]
    },
    {
     "name": "stderr",
     "output_type": "stream",
     "text": [
      "D:\\Software\\Anaconda3\\anaconda3\\Lib\\site-packages\\sklearn\\cluster\\_kmeans.py:1429: UserWarning: KMeans is known to have a memory leak on Windows with MKL, when there are less chunks than available threads. You can avoid it by setting the environment variable OMP_NUM_THREADS=10.\n",
      "  warnings.warn(\n"
     ]
    },
    {
     "name": "stdout",
     "output_type": "stream",
     "text": [
      "Acc(NMI) = 0.0779 (0.0597)\n",
      "step:0, e:75460.5594\n",
      "Converged at step 2, e = 1348.1491, rel_change=5.987e-04\n"
     ]
    },
    {
     "name": "stderr",
     "output_type": "stream",
     "text": [
      "D:\\Software\\Anaconda3\\anaconda3\\Lib\\site-packages\\sklearn\\cluster\\_kmeans.py:1429: UserWarning: KMeans is known to have a memory leak on Windows with MKL, when there are less chunks than available threads. You can avoid it by setting the environment variable OMP_NUM_THREADS=10.\n",
      "  warnings.warn(\n"
     ]
    },
    {
     "name": "stdout",
     "output_type": "stream",
     "text": [
      "Acc(NMI) = 0.0762 (0.0643)\n",
      "step:0, e:77601.1305\n",
      "Converged at step 2, e = 1345.3786, rel_change=5.128e-04\n"
     ]
    },
    {
     "name": "stderr",
     "output_type": "stream",
     "text": [
      "D:\\Software\\Anaconda3\\anaconda3\\Lib\\site-packages\\sklearn\\cluster\\_kmeans.py:1429: UserWarning: KMeans is known to have a memory leak on Windows with MKL, when there are less chunks than available threads. You can avoid it by setting the environment variable OMP_NUM_THREADS=10.\n",
      "  warnings.warn(\n"
     ]
    },
    {
     "name": "stdout",
     "output_type": "stream",
     "text": [
      "Acc(NMI) = 0.0762 (0.0678)\n",
      "step:0, e:84871.5410\n",
      "Converged at step 2, e = 1268.7618, rel_change=4.992e-04\n"
     ]
    },
    {
     "name": "stderr",
     "output_type": "stream",
     "text": [
      "D:\\Software\\Anaconda3\\anaconda3\\Lib\\site-packages\\sklearn\\cluster\\_kmeans.py:1429: UserWarning: KMeans is known to have a memory leak on Windows with MKL, when there are less chunks than available threads. You can avoid it by setting the environment variable OMP_NUM_THREADS=10.\n",
      "  warnings.warn(\n"
     ]
    },
    {
     "name": "stdout",
     "output_type": "stream",
     "text": [
      "Acc(NMI) = 0.0762 (0.0609)\n",
      "step:0, e:100594.3813\n",
      "step:10, e:566.4007\n",
      "step:20, e:335.3071\n",
      "step:30, e:265.1510\n",
      "step:40, e:235.1251\n",
      "step:50, e:216.3495\n",
      "step:60, e:202.2222\n",
      "step:70, e:191.4077\n",
      "step:80, e:183.1637\n",
      "step:90, e:176.8859\n",
      "step:100, e:172.1162\n",
      "step:110, e:168.4570\n",
      "step:120, e:165.5946\n",
      "step:130, e:163.2872\n",
      "step:140, e:161.4238\n",
      "Converged at step 143, e = 160.9339, rel_change=9.938e-04\n",
      "Acc(NMI) = 0.1603 (0.2384)\n"
     ]
    },
    {
     "name": "stderr",
     "output_type": "stream",
     "text": [
      "D:\\Software\\Anaconda3\\anaconda3\\Lib\\site-packages\\sklearn\\cluster\\_kmeans.py:1429: UserWarning: KMeans is known to have a memory leak on Windows with MKL, when there are less chunks than available threads. You can avoid it by setting the environment variable OMP_NUM_THREADS=10.\n",
      "  warnings.warn(\n"
     ]
    },
    {
     "name": "stdout",
     "output_type": "stream",
     "text": [
      "step:0, e:88261.3270\n",
      "Converged at step 3, e = 1121.0292, rel_change=9.327e-04\n",
      "Acc(NMI) = 0.0737 (0.0715)\n"
     ]
    },
    {
     "name": "stderr",
     "output_type": "stream",
     "text": [
      "D:\\Software\\Anaconda3\\anaconda3\\Lib\\site-packages\\sklearn\\cluster\\_kmeans.py:1429: UserWarning: KMeans is known to have a memory leak on Windows with MKL, when there are less chunks than available threads. You can avoid it by setting the environment variable OMP_NUM_THREADS=10.\n",
      "  warnings.warn(\n"
     ]
    },
    {
     "name": "stdout",
     "output_type": "stream",
     "text": [
      "step:0, e:79350.1886\n",
      "Converged at step 2, e = 1270.2955, rel_change=7.895e-04\n"
     ]
    },
    {
     "name": "stderr",
     "output_type": "stream",
     "text": [
      "D:\\Software\\Anaconda3\\anaconda3\\Lib\\site-packages\\sklearn\\cluster\\_kmeans.py:1429: UserWarning: KMeans is known to have a memory leak on Windows with MKL, when there are less chunks than available threads. You can avoid it by setting the environment variable OMP_NUM_THREADS=10.\n",
      "  warnings.warn(\n"
     ]
    },
    {
     "name": "stdout",
     "output_type": "stream",
     "text": [
      "Acc(NMI) = 0.0766 (0.0678)\n",
      "step:0, e:75792.9008\n",
      "Converged at step 2, e = 1348.4438, rel_change=5.899e-04\n"
     ]
    },
    {
     "name": "stderr",
     "output_type": "stream",
     "text": [
      "D:\\Software\\Anaconda3\\anaconda3\\Lib\\site-packages\\sklearn\\cluster\\_kmeans.py:1429: UserWarning: KMeans is known to have a memory leak on Windows with MKL, when there are less chunks than available threads. You can avoid it by setting the environment variable OMP_NUM_THREADS=10.\n",
      "  warnings.warn(\n"
     ]
    },
    {
     "name": "stdout",
     "output_type": "stream",
     "text": [
      "Acc(NMI) = 0.0779 (0.0706)\n",
      "step:0, e:77921.3624\n",
      "Converged at step 2, e = 1345.5945, rel_change=5.087e-04\n"
     ]
    },
    {
     "name": "stderr",
     "output_type": "stream",
     "text": [
      "D:\\Software\\Anaconda3\\anaconda3\\Lib\\site-packages\\sklearn\\cluster\\_kmeans.py:1429: UserWarning: KMeans is known to have a memory leak on Windows with MKL, when there are less chunks than available threads. You can avoid it by setting the environment variable OMP_NUM_THREADS=10.\n",
      "  warnings.warn(\n"
     ]
    },
    {
     "name": "stdout",
     "output_type": "stream",
     "text": [
      "Acc(NMI) = 0.0766 (0.0633)\n",
      "step:0, e:84656.5748\n",
      "Converged at step 2, e = 1268.9052, rel_change=4.973e-04\n",
      "Acc(NMI) = 0.0804 (0.0676)\n"
     ]
    },
    {
     "name": "stderr",
     "output_type": "stream",
     "text": [
      "D:\\Software\\Anaconda3\\anaconda3\\Lib\\site-packages\\sklearn\\cluster\\_kmeans.py:1429: UserWarning: KMeans is known to have a memory leak on Windows with MKL, when there are less chunks than available threads. You can avoid it by setting the environment variable OMP_NUM_THREADS=10.\n",
      "  warnings.warn(\n"
     ]
    }
   ],
   "source": [
    "Algo = 'MU'\n",
    "Data = 'YaleB'\n",
    "dataset = 'data/CroppedYaleB'\n",
    "reduce = 3\n",
    "X, Y = load_data(dataset, reduce=reduce)\n",
    "K = len(set(Y))\n",
    "seeds = [0,1,2,3,4]\n",
    "pr_lst = [(0,0),(0.1,0.1),(0.2,0.2),(0.3,0.3),(0.4,0.4),(0.5,0.5)]\n",
    "record_MU_Yale = []\n",
    "steps = 10000\n",
    "tol = 1e-3\n",
    "epsilon=1e-9\n",
    "\n",
    "for seed in seeds:\n",
    "    np.random.seed(seed)\n",
    "    for p, r in pr_lst:\n",
    "        # X_noisy, noise = salt_pepper(X, p, r)\n",
    "        X_noisy, Y = load_data_salt_pepper(dataset, reduce, p, r)\n",
    "        start = time.time()\n",
    "        W, H, WH, step = L2Lee_Seung(X_noisy, K, steps, tol, epsilon, verbose=True)\n",
    "        end = time.time()\n",
    "        timeusing = end - start\n",
    "        rre = relative_reconstruction_error(X_noisy, WH)\n",
    "        acc, nmi = evaluate_clustering(H, Y)\n",
    "        record_MU_Yale.append(((p,r),acc,nmi,rre,tol,step,seed,timeusing))"
   ]
  },
  {
   "cell_type": "code",
   "execution_count": 83,
   "id": "8e87f8df-ec3e-47a8-89da-a845cc45623a",
   "metadata": {
    "scrolled": true
   },
   "outputs": [
    {
     "name": "stdout",
     "output_type": "stream",
     "text": [
      "         (p,r)       acc       nmi       rre    tol  step  seed       time\n",
      "0       (0, 0)  0.162386  0.265696  0.257679  0.001   144     0  12.274826\n",
      "1   (0.1, 0.1)  0.141674  0.202107  0.478348  0.001    89     0   7.628738\n",
      "2   (0.2, 0.2)  0.074979  0.062532  0.725433  0.001     3     0   0.256994\n",
      "3   (0.3, 0.3)  0.077051  0.065703  0.747295  0.001     3     0   0.265795\n",
      "4   (0.4, 0.4)  0.075808  0.066915  0.746557  0.001     3     0   0.258014\n",
      "5   (0.5, 0.5)  0.080365  0.071123  0.724958  0.001     3     0   0.267761\n",
      "6       (0, 0)  0.152444  0.249392  0.257877  0.001   142     1  13.848859\n",
      "7   (0.1, 0.1)  0.135046  0.202497  0.475914  0.001    89     1   8.237255\n",
      "8   (0.2, 0.2)  0.077051  0.062117  0.725345  0.001     3     1   0.266633\n",
      "9   (0.3, 0.3)  0.074979  0.068729  0.747192  0.001     3     1   0.265741\n",
      "10  (0.4, 0.4)  0.076222  0.057950  0.746628  0.001     3     1   0.267510\n",
      "11  (0.5, 0.5)  0.076636  0.062910  0.724969  0.001     3     1   0.273579\n",
      "12      (0, 0)  0.153687  0.233871  0.257963  0.001   151     2  12.886088\n",
      "13  (0.1, 0.1)  0.074979  0.055831  0.681436  0.001     4     2   0.350572\n",
      "14  (0.2, 0.2)  0.075808  0.063391  0.725363  0.001     3     2   0.263818\n",
      "15  (0.3, 0.3)  0.074565  0.067216  0.747275  0.001     3     2   0.267667\n",
      "16  (0.4, 0.4)  0.073737  0.065602  0.746527  0.001     3     2   0.259532\n",
      "17  (0.5, 0.5)  0.076636  0.070437  0.725006  0.001     3     2   0.258007\n",
      "18      (0, 0)  0.182684  0.253233  0.260329  0.001   144     3  12.275790\n",
      "19  (0.1, 0.1)  0.075808  0.061121  0.681489  0.001     4     3   0.340799\n",
      "20  (0.2, 0.2)  0.077879  0.059681  0.725448  0.001     3     3   0.277951\n",
      "21  (0.3, 0.3)  0.076222  0.064276  0.747309  0.001     3     3   0.267591\n",
      "22  (0.4, 0.4)  0.076222  0.067839  0.746541  0.001     3     3   0.263753\n",
      "23  (0.5, 0.5)  0.076222  0.060896  0.724972  0.001     3     3   0.268982\n",
      "24      (0, 0)  0.160315  0.238405  0.258199  0.001   144     4  12.656468\n",
      "25  (0.1, 0.1)  0.073737  0.071479  0.681459  0.001     4     4   0.349040\n",
      "26  (0.2, 0.2)  0.076636  0.067830  0.725410  0.001     3     4   0.262834\n",
      "27  (0.3, 0.3)  0.077879  0.070619  0.747391  0.001     3     4   0.269981\n",
      "28  (0.4, 0.4)  0.076636  0.063337  0.746601  0.001     3     4   0.257679\n",
      "29  (0.5, 0.5)  0.080365  0.067615  0.725013  0.001     3     4   0.259968\n",
      "        (p,r)  RRE_mean   RRE_std  ACC_mean   ACC_std  NMI_mean   NMI_std\n",
      "0      (0, 0)  0.258409  0.001089  0.162303  0.012153  0.248119  0.012591\n",
      "1  (0.1, 0.1)  0.599729  0.111919  0.100249  0.034877  0.118607  0.076610\n",
      "2  (0.2, 0.2)  0.725400  0.000044  0.076471  0.001119  0.063110  0.002977\n",
      "3  (0.3, 0.3)  0.747292  0.000072  0.076139  0.001386  0.067308  0.002488\n",
      "4  (0.4, 0.4)  0.746571  0.000042  0.075725  0.001149  0.064329  0.003947\n",
      "5  (0.5, 0.5)  0.724984  0.000025  0.078045  0.002124  0.066596  0.004537\n"
     ]
    }
   ],
   "source": [
    "df_MU_Yale = pd.DataFrame(record_MU_Yale, columns=['(p,r)','acc','nmi','rre','tol','step','seed','time'])\n",
    "print(df_MU_Yale)\n",
    "summary = df_MU_Yale.groupby(['(p,r)']).agg(\n",
    "    RRE_mean=('rre', 'mean'),\n",
    "    RRE_std=('rre', 'std'),\n",
    "    ACC_mean=('acc', 'mean'),\n",
    "    ACC_std=('acc', 'std'),\n",
    "    NMI_mean=('nmi', 'mean'),\n",
    "    NMI_std=('nmi', 'std')\n",
    ").reset_index()\n",
    "print(summary)\n",
    "df_MU_Yale.to_excel(f'{Algo}_{Data}.xlsx', index=True)"
   ]
  },
  {
   "cell_type": "markdown",
   "id": "21e4c692-4ade-4835-ab30-6f5679d3d80d",
   "metadata": {},
   "source": [
    "## L1-Norm Regularized Robust NMF"
   ]
  },
  {
   "cell_type": "code",
   "execution_count": 16,
   "id": "b7f563ae-ddf5-47b1-81c3-9acc74ad98f6",
   "metadata": {
    "scrolled": true
   },
   "outputs": [
    {
     "name": "stderr",
     "output_type": "stream",
     "text": [
      "C:\\Users\\lenovo\\AppData\\Local\\Temp\\ipykernel_1840\\282225574.py:35: RuntimeWarning: invalid value encountered in scalar divide\n",
      "  if abs(E_sq - prev_E) / (prev_E + 1e-12) < tol:\n",
      "D:\\Software\\Anaconda3\\anaconda3\\Lib\\site-packages\\sklearn\\cluster\\_kmeans.py:1429: UserWarning: KMeans is known to have a memory leak on Windows with MKL, when there are less chunks than available threads. You can avoid it by setting the environment variable OMP_NUM_THREADS=10.\n",
      "  warnings.warn(\n"
     ]
    },
    {
     "name": "stdout",
     "output_type": "stream",
     "text": [
      "Acc(NMI) = 0.1549 (0.2344)\n"
     ]
    },
    {
     "name": "stderr",
     "output_type": "stream",
     "text": [
      "C:\\Users\\lenovo\\AppData\\Local\\Temp\\ipykernel_1840\\282225574.py:35: RuntimeWarning: invalid value encountered in scalar divide\n",
      "  if abs(E_sq - prev_E) / (prev_E + 1e-12) < tol:\n",
      "D:\\Software\\Anaconda3\\anaconda3\\Lib\\site-packages\\sklearn\\cluster\\_kmeans.py:1429: UserWarning: KMeans is known to have a memory leak on Windows with MKL, when there are less chunks than available threads. You can avoid it by setting the environment variable OMP_NUM_THREADS=10.\n",
      "  warnings.warn(\n"
     ]
    },
    {
     "name": "stdout",
     "output_type": "stream",
     "text": [
      "Acc(NMI) = 0.1628 (0.2597)\n"
     ]
    },
    {
     "name": "stderr",
     "output_type": "stream",
     "text": [
      "C:\\Users\\lenovo\\AppData\\Local\\Temp\\ipykernel_1840\\282225574.py:35: RuntimeWarning: invalid value encountered in scalar divide\n",
      "  if abs(E_sq - prev_E) / (prev_E + 1e-12) < tol:\n",
      "D:\\Software\\Anaconda3\\anaconda3\\Lib\\site-packages\\sklearn\\cluster\\_kmeans.py:1429: UserWarning: KMeans is known to have a memory leak on Windows with MKL, when there are less chunks than available threads. You can avoid it by setting the environment variable OMP_NUM_THREADS=10.\n",
      "  warnings.warn(\n"
     ]
    },
    {
     "name": "stdout",
     "output_type": "stream",
     "text": [
      "Acc(NMI) = 0.1574 (0.2387)\n"
     ]
    },
    {
     "name": "stderr",
     "output_type": "stream",
     "text": [
      "C:\\Users\\lenovo\\AppData\\Local\\Temp\\ipykernel_1840\\282225574.py:35: RuntimeWarning: invalid value encountered in scalar divide\n",
      "  if abs(E_sq - prev_E) / (prev_E + 1e-12) < tol:\n",
      "D:\\Software\\Anaconda3\\anaconda3\\Lib\\site-packages\\sklearn\\cluster\\_kmeans.py:1429: UserWarning: KMeans is known to have a memory leak on Windows with MKL, when there are less chunks than available threads. You can avoid it by setting the environment variable OMP_NUM_THREADS=10.\n",
      "  warnings.warn(\n"
     ]
    },
    {
     "name": "stdout",
     "output_type": "stream",
     "text": [
      "Acc(NMI) = 0.1483 (0.2398)\n"
     ]
    },
    {
     "name": "stderr",
     "output_type": "stream",
     "text": [
      "C:\\Users\\lenovo\\AppData\\Local\\Temp\\ipykernel_1840\\282225574.py:35: RuntimeWarning: invalid value encountered in scalar divide\n",
      "  if abs(E_sq - prev_E) / (prev_E + 1e-12) < tol:\n",
      "D:\\Software\\Anaconda3\\anaconda3\\Lib\\site-packages\\sklearn\\cluster\\_kmeans.py:1429: UserWarning: KMeans is known to have a memory leak on Windows with MKL, when there are less chunks than available threads. You can avoid it by setting the environment variable OMP_NUM_THREADS=10.\n",
      "  warnings.warn(\n"
     ]
    },
    {
     "name": "stdout",
     "output_type": "stream",
     "text": [
      "Acc(NMI) = 0.1632 (0.2413)\n"
     ]
    },
    {
     "name": "stderr",
     "output_type": "stream",
     "text": [
      "C:\\Users\\lenovo\\AppData\\Local\\Temp\\ipykernel_1840\\282225574.py:35: RuntimeWarning: invalid value encountered in scalar divide\n",
      "  if abs(E_sq - prev_E) / (prev_E + 1e-12) < tol:\n",
      "D:\\Software\\Anaconda3\\anaconda3\\Lib\\site-packages\\sklearn\\cluster\\_kmeans.py:1429: UserWarning: KMeans is known to have a memory leak on Windows with MKL, when there are less chunks than available threads. You can avoid it by setting the environment variable OMP_NUM_THREADS=10.\n",
      "  warnings.warn(\n"
     ]
    },
    {
     "name": "stdout",
     "output_type": "stream",
     "text": [
      "Acc(NMI) = 0.1707 (0.2645)\n"
     ]
    },
    {
     "name": "stderr",
     "output_type": "stream",
     "text": [
      "C:\\Users\\lenovo\\AppData\\Local\\Temp\\ipykernel_1840\\282225574.py:35: RuntimeWarning: invalid value encountered in scalar divide\n",
      "  if abs(E_sq - prev_E) / (prev_E + 1e-12) < tol:\n",
      "D:\\Software\\Anaconda3\\anaconda3\\Lib\\site-packages\\sklearn\\cluster\\_kmeans.py:1429: UserWarning: KMeans is known to have a memory leak on Windows with MKL, when there are less chunks than available threads. You can avoid it by setting the environment variable OMP_NUM_THREADS=10.\n",
      "  warnings.warn(\n"
     ]
    },
    {
     "name": "stdout",
     "output_type": "stream",
     "text": [
      "Acc(NMI) = 0.1939 (0.2746)\n"
     ]
    },
    {
     "name": "stderr",
     "output_type": "stream",
     "text": [
      "C:\\Users\\lenovo\\AppData\\Local\\Temp\\ipykernel_1840\\282225574.py:35: RuntimeWarning: invalid value encountered in scalar divide\n",
      "  if abs(E_sq - prev_E) / (prev_E + 1e-12) < tol:\n",
      "D:\\Software\\Anaconda3\\anaconda3\\Lib\\site-packages\\sklearn\\cluster\\_kmeans.py:1429: UserWarning: KMeans is known to have a memory leak on Windows with MKL, when there are less chunks than available threads. You can avoid it by setting the environment variable OMP_NUM_THREADS=10.\n",
      "  warnings.warn(\n"
     ]
    },
    {
     "name": "stdout",
     "output_type": "stream",
     "text": [
      "Acc(NMI) = 0.1997 (0.2843)\n"
     ]
    },
    {
     "name": "stderr",
     "output_type": "stream",
     "text": [
      "C:\\Users\\lenovo\\AppData\\Local\\Temp\\ipykernel_1840\\282225574.py:35: RuntimeWarning: invalid value encountered in scalar divide\n",
      "  if abs(E_sq - prev_E) / (prev_E + 1e-12) < tol:\n",
      "D:\\Software\\Anaconda3\\anaconda3\\Lib\\site-packages\\sklearn\\cluster\\_kmeans.py:1429: UserWarning: KMeans is known to have a memory leak on Windows with MKL, when there are less chunks than available threads. You can avoid it by setting the environment variable OMP_NUM_THREADS=10.\n",
      "  warnings.warn(\n"
     ]
    },
    {
     "name": "stdout",
     "output_type": "stream",
     "text": [
      "Acc(NMI) = 0.1736 (0.2602)\n"
     ]
    },
    {
     "name": "stderr",
     "output_type": "stream",
     "text": [
      "C:\\Users\\lenovo\\AppData\\Local\\Temp\\ipykernel_1840\\282225574.py:35: RuntimeWarning: invalid value encountered in scalar divide\n",
      "  if abs(E_sq - prev_E) / (prev_E + 1e-12) < tol:\n",
      "D:\\Software\\Anaconda3\\anaconda3\\Lib\\site-packages\\sklearn\\cluster\\_kmeans.py:1429: UserWarning: KMeans is known to have a memory leak on Windows with MKL, when there are less chunks than available threads. You can avoid it by setting the environment variable OMP_NUM_THREADS=10.\n",
      "  warnings.warn(\n"
     ]
    },
    {
     "name": "stdout",
     "output_type": "stream",
     "text": [
      "Acc(NMI) = 0.2001 (0.2902)\n"
     ]
    },
    {
     "name": "stderr",
     "output_type": "stream",
     "text": [
      "C:\\Users\\lenovo\\AppData\\Local\\Temp\\ipykernel_1840\\282225574.py:35: RuntimeWarning: invalid value encountered in scalar divide\n",
      "  if abs(E_sq - prev_E) / (prev_E + 1e-12) < tol:\n",
      "D:\\Software\\Anaconda3\\anaconda3\\Lib\\site-packages\\sklearn\\cluster\\_kmeans.py:1429: UserWarning: KMeans is known to have a memory leak on Windows with MKL, when there are less chunks than available threads. You can avoid it by setting the environment variable OMP_NUM_THREADS=10.\n",
      "  warnings.warn(\n"
     ]
    },
    {
     "name": "stdout",
     "output_type": "stream",
     "text": [
      "Acc(NMI) = 0.2162 (0.2868)\n"
     ]
    },
    {
     "name": "stderr",
     "output_type": "stream",
     "text": [
      "C:\\Users\\lenovo\\AppData\\Local\\Temp\\ipykernel_1840\\282225574.py:35: RuntimeWarning: invalid value encountered in scalar divide\n",
      "  if abs(E_sq - prev_E) / (prev_E + 1e-12) < tol:\n",
      "D:\\Software\\Anaconda3\\anaconda3\\Lib\\site-packages\\sklearn\\cluster\\_kmeans.py:1429: UserWarning: KMeans is known to have a memory leak on Windows with MKL, when there are less chunks than available threads. You can avoid it by setting the environment variable OMP_NUM_THREADS=10.\n",
      "  warnings.warn(\n"
     ]
    },
    {
     "name": "stdout",
     "output_type": "stream",
     "text": [
      "Acc(NMI) = 0.1707 (0.2593)\n"
     ]
    },
    {
     "name": "stderr",
     "output_type": "stream",
     "text": [
      "C:\\Users\\lenovo\\AppData\\Local\\Temp\\ipykernel_1840\\282225574.py:35: RuntimeWarning: invalid value encountered in scalar divide\n",
      "  if abs(E_sq - prev_E) / (prev_E + 1e-12) < tol:\n",
      "D:\\Software\\Anaconda3\\anaconda3\\Lib\\site-packages\\sklearn\\cluster\\_kmeans.py:1429: UserWarning: KMeans is known to have a memory leak on Windows with MKL, when there are less chunks than available threads. You can avoid it by setting the environment variable OMP_NUM_THREADS=10.\n",
      "  warnings.warn(\n"
     ]
    },
    {
     "name": "stdout",
     "output_type": "stream",
     "text": [
      "Acc(NMI) = 0.1674 (0.2430)\n"
     ]
    },
    {
     "name": "stderr",
     "output_type": "stream",
     "text": [
      "C:\\Users\\lenovo\\AppData\\Local\\Temp\\ipykernel_1840\\282225574.py:35: RuntimeWarning: invalid value encountered in scalar divide\n",
      "  if abs(E_sq - prev_E) / (prev_E + 1e-12) < tol:\n",
      "D:\\Software\\Anaconda3\\anaconda3\\Lib\\site-packages\\sklearn\\cluster\\_kmeans.py:1429: UserWarning: KMeans is known to have a memory leak on Windows with MKL, when there are less chunks than available threads. You can avoid it by setting the environment variable OMP_NUM_THREADS=10.\n",
      "  warnings.warn(\n"
     ]
    },
    {
     "name": "stdout",
     "output_type": "stream",
     "text": [
      "Acc(NMI) = 0.1603 (0.2497)\n"
     ]
    },
    {
     "name": "stderr",
     "output_type": "stream",
     "text": [
      "C:\\Users\\lenovo\\AppData\\Local\\Temp\\ipykernel_1840\\282225574.py:35: RuntimeWarning: invalid value encountered in scalar divide\n",
      "  if abs(E_sq - prev_E) / (prev_E + 1e-12) < tol:\n",
      "D:\\Software\\Anaconda3\\anaconda3\\Lib\\site-packages\\sklearn\\cluster\\_kmeans.py:1429: UserWarning: KMeans is known to have a memory leak on Windows with MKL, when there are less chunks than available threads. You can avoid it by setting the environment variable OMP_NUM_THREADS=10.\n",
      "  warnings.warn(\n"
     ]
    },
    {
     "name": "stdout",
     "output_type": "stream",
     "text": [
      "Acc(NMI) = 0.1570 (0.2315)\n"
     ]
    },
    {
     "name": "stderr",
     "output_type": "stream",
     "text": [
      "C:\\Users\\lenovo\\AppData\\Local\\Temp\\ipykernel_1840\\282225574.py:35: RuntimeWarning: invalid value encountered in scalar divide\n",
      "  if abs(E_sq - prev_E) / (prev_E + 1e-12) < tol:\n",
      "D:\\Software\\Anaconda3\\anaconda3\\Lib\\site-packages\\sklearn\\cluster\\_kmeans.py:1429: UserWarning: KMeans is known to have a memory leak on Windows with MKL, when there are less chunks than available threads. You can avoid it by setting the environment variable OMP_NUM_THREADS=10.\n",
      "  warnings.warn(\n"
     ]
    },
    {
     "name": "stdout",
     "output_type": "stream",
     "text": [
      "Acc(NMI) = 0.1578 (0.2413)\n"
     ]
    },
    {
     "name": "stderr",
     "output_type": "stream",
     "text": [
      "C:\\Users\\lenovo\\AppData\\Local\\Temp\\ipykernel_1840\\282225574.py:35: RuntimeWarning: invalid value encountered in scalar divide\n",
      "  if abs(E_sq - prev_E) / (prev_E + 1e-12) < tol:\n",
      "D:\\Software\\Anaconda3\\anaconda3\\Lib\\site-packages\\sklearn\\cluster\\_kmeans.py:1429: UserWarning: KMeans is known to have a memory leak on Windows with MKL, when there are less chunks than available threads. You can avoid it by setting the environment variable OMP_NUM_THREADS=10.\n",
      "  warnings.warn(\n"
     ]
    },
    {
     "name": "stdout",
     "output_type": "stream",
     "text": [
      "Acc(NMI) = 0.1645 (0.2405)\n"
     ]
    },
    {
     "name": "stderr",
     "output_type": "stream",
     "text": [
      "C:\\Users\\lenovo\\AppData\\Local\\Temp\\ipykernel_1840\\282225574.py:35: RuntimeWarning: invalid value encountered in scalar divide\n",
      "  if abs(E_sq - prev_E) / (prev_E + 1e-12) < tol:\n",
      "D:\\Software\\Anaconda3\\anaconda3\\Lib\\site-packages\\sklearn\\cluster\\_kmeans.py:1429: UserWarning: KMeans is known to have a memory leak on Windows with MKL, when there are less chunks than available threads. You can avoid it by setting the environment variable OMP_NUM_THREADS=10.\n",
      "  warnings.warn(\n"
     ]
    },
    {
     "name": "stdout",
     "output_type": "stream",
     "text": [
      "Acc(NMI) = 0.1632 (0.2382)\n"
     ]
    },
    {
     "name": "stderr",
     "output_type": "stream",
     "text": [
      "C:\\Users\\lenovo\\AppData\\Local\\Temp\\ipykernel_1840\\282225574.py:35: RuntimeWarning: invalid value encountered in scalar divide\n",
      "  if abs(E_sq - prev_E) / (prev_E + 1e-12) < tol:\n",
      "D:\\Software\\Anaconda3\\anaconda3\\Lib\\site-packages\\sklearn\\cluster\\_kmeans.py:1429: UserWarning: KMeans is known to have a memory leak on Windows with MKL, when there are less chunks than available threads. You can avoid it by setting the environment variable OMP_NUM_THREADS=10.\n",
      "  warnings.warn(\n"
     ]
    },
    {
     "name": "stdout",
     "output_type": "stream",
     "text": [
      "Acc(NMI) = 0.1852 (0.3023)\n"
     ]
    },
    {
     "name": "stderr",
     "output_type": "stream",
     "text": [
      "C:\\Users\\lenovo\\AppData\\Local\\Temp\\ipykernel_1840\\282225574.py:35: RuntimeWarning: invalid value encountered in scalar divide\n",
      "  if abs(E_sq - prev_E) / (prev_E + 1e-12) < tol:\n",
      "D:\\Software\\Anaconda3\\anaconda3\\Lib\\site-packages\\sklearn\\cluster\\_kmeans.py:1429: UserWarning: KMeans is known to have a memory leak on Windows with MKL, when there are less chunks than available threads. You can avoid it by setting the environment variable OMP_NUM_THREADS=10.\n",
      "  warnings.warn(\n"
     ]
    },
    {
     "name": "stdout",
     "output_type": "stream",
     "text": [
      "Acc(NMI) = 0.1910 (0.2835)\n"
     ]
    },
    {
     "name": "stderr",
     "output_type": "stream",
     "text": [
      "C:\\Users\\lenovo\\AppData\\Local\\Temp\\ipykernel_1840\\282225574.py:35: RuntimeWarning: invalid value encountered in scalar divide\n",
      "  if abs(E_sq - prev_E) / (prev_E + 1e-12) < tol:\n",
      "D:\\Software\\Anaconda3\\anaconda3\\Lib\\site-packages\\sklearn\\cluster\\_kmeans.py:1429: UserWarning: KMeans is known to have a memory leak on Windows with MKL, when there are less chunks than available threads. You can avoid it by setting the environment variable OMP_NUM_THREADS=10.\n",
      "  warnings.warn(\n"
     ]
    },
    {
     "name": "stdout",
     "output_type": "stream",
     "text": [
      "Acc(NMI) = 0.1806 (0.2724)\n"
     ]
    },
    {
     "name": "stderr",
     "output_type": "stream",
     "text": [
      "C:\\Users\\lenovo\\AppData\\Local\\Temp\\ipykernel_1840\\282225574.py:35: RuntimeWarning: invalid value encountered in scalar divide\n",
      "  if abs(E_sq - prev_E) / (prev_E + 1e-12) < tol:\n",
      "D:\\Software\\Anaconda3\\anaconda3\\Lib\\site-packages\\sklearn\\cluster\\_kmeans.py:1429: UserWarning: KMeans is known to have a memory leak on Windows with MKL, when there are less chunks than available threads. You can avoid it by setting the environment variable OMP_NUM_THREADS=10.\n",
      "  warnings.warn(\n"
     ]
    },
    {
     "name": "stdout",
     "output_type": "stream",
     "text": [
      "Acc(NMI) = 0.1777 (0.2985)\n"
     ]
    },
    {
     "name": "stderr",
     "output_type": "stream",
     "text": [
      "C:\\Users\\lenovo\\AppData\\Local\\Temp\\ipykernel_1840\\282225574.py:35: RuntimeWarning: invalid value encountered in scalar divide\n",
      "  if abs(E_sq - prev_E) / (prev_E + 1e-12) < tol:\n",
      "D:\\Software\\Anaconda3\\anaconda3\\Lib\\site-packages\\sklearn\\cluster\\_kmeans.py:1429: UserWarning: KMeans is known to have a memory leak on Windows with MKL, when there are less chunks than available threads. You can avoid it by setting the environment variable OMP_NUM_THREADS=10.\n",
      "  warnings.warn(\n"
     ]
    },
    {
     "name": "stdout",
     "output_type": "stream",
     "text": [
      "Acc(NMI) = 0.1765 (0.2631)\n"
     ]
    },
    {
     "name": "stderr",
     "output_type": "stream",
     "text": [
      "C:\\Users\\lenovo\\AppData\\Local\\Temp\\ipykernel_1840\\282225574.py:35: RuntimeWarning: invalid value encountered in scalar divide\n",
      "  if abs(E_sq - prev_E) / (prev_E + 1e-12) < tol:\n",
      "D:\\Software\\Anaconda3\\anaconda3\\Lib\\site-packages\\sklearn\\cluster\\_kmeans.py:1429: UserWarning: KMeans is known to have a memory leak on Windows with MKL, when there are less chunks than available threads. You can avoid it by setting the environment variable OMP_NUM_THREADS=10.\n",
      "  warnings.warn(\n"
     ]
    },
    {
     "name": "stdout",
     "output_type": "stream",
     "text": [
      "Acc(NMI) = 0.1848 (0.2769)\n"
     ]
    },
    {
     "name": "stderr",
     "output_type": "stream",
     "text": [
      "C:\\Users\\lenovo\\AppData\\Local\\Temp\\ipykernel_1840\\282225574.py:35: RuntimeWarning: invalid value encountered in scalar divide\n",
      "  if abs(E_sq - prev_E) / (prev_E + 1e-12) < tol:\n",
      "D:\\Software\\Anaconda3\\anaconda3\\Lib\\site-packages\\sklearn\\cluster\\_kmeans.py:1429: UserWarning: KMeans is known to have a memory leak on Windows with MKL, when there are less chunks than available threads. You can avoid it by setting the environment variable OMP_NUM_THREADS=10.\n",
      "  warnings.warn(\n"
     ]
    },
    {
     "name": "stdout",
     "output_type": "stream",
     "text": [
      "Acc(NMI) = 0.1595 (0.2446)\n"
     ]
    },
    {
     "name": "stderr",
     "output_type": "stream",
     "text": [
      "C:\\Users\\lenovo\\AppData\\Local\\Temp\\ipykernel_1840\\282225574.py:35: RuntimeWarning: invalid value encountered in scalar divide\n",
      "  if abs(E_sq - prev_E) / (prev_E + 1e-12) < tol:\n",
      "D:\\Software\\Anaconda3\\anaconda3\\Lib\\site-packages\\sklearn\\cluster\\_kmeans.py:1429: UserWarning: KMeans is known to have a memory leak on Windows with MKL, when there are less chunks than available threads. You can avoid it by setting the environment variable OMP_NUM_THREADS=10.\n",
      "  warnings.warn(\n"
     ]
    },
    {
     "name": "stdout",
     "output_type": "stream",
     "text": [
      "Acc(NMI) = 0.1533 (0.2373)\n"
     ]
    },
    {
     "name": "stderr",
     "output_type": "stream",
     "text": [
      "C:\\Users\\lenovo\\AppData\\Local\\Temp\\ipykernel_1840\\282225574.py:35: RuntimeWarning: invalid value encountered in scalar divide\n",
      "  if abs(E_sq - prev_E) / (prev_E + 1e-12) < tol:\n",
      "D:\\Software\\Anaconda3\\anaconda3\\Lib\\site-packages\\sklearn\\cluster\\_kmeans.py:1429: UserWarning: KMeans is known to have a memory leak on Windows with MKL, when there are less chunks than available threads. You can avoid it by setting the environment variable OMP_NUM_THREADS=10.\n",
      "  warnings.warn(\n"
     ]
    },
    {
     "name": "stdout",
     "output_type": "stream",
     "text": [
      "Acc(NMI) = 0.1611 (0.2440)\n"
     ]
    },
    {
     "name": "stderr",
     "output_type": "stream",
     "text": [
      "C:\\Users\\lenovo\\AppData\\Local\\Temp\\ipykernel_1840\\282225574.py:35: RuntimeWarning: invalid value encountered in scalar divide\n",
      "  if abs(E_sq - prev_E) / (prev_E + 1e-12) < tol:\n",
      "D:\\Software\\Anaconda3\\anaconda3\\Lib\\site-packages\\sklearn\\cluster\\_kmeans.py:1429: UserWarning: KMeans is known to have a memory leak on Windows with MKL, when there are less chunks than available threads. You can avoid it by setting the environment variable OMP_NUM_THREADS=10.\n",
      "  warnings.warn(\n"
     ]
    },
    {
     "name": "stdout",
     "output_type": "stream",
     "text": [
      "Acc(NMI) = 0.1541 (0.2430)\n"
     ]
    },
    {
     "name": "stderr",
     "output_type": "stream",
     "text": [
      "C:\\Users\\lenovo\\AppData\\Local\\Temp\\ipykernel_1840\\282225574.py:35: RuntimeWarning: invalid value encountered in scalar divide\n",
      "  if abs(E_sq - prev_E) / (prev_E + 1e-12) < tol:\n",
      "D:\\Software\\Anaconda3\\anaconda3\\Lib\\site-packages\\sklearn\\cluster\\_kmeans.py:1429: UserWarning: KMeans is known to have a memory leak on Windows with MKL, when there are less chunks than available threads. You can avoid it by setting the environment variable OMP_NUM_THREADS=10.\n",
      "  warnings.warn(\n"
     ]
    },
    {
     "name": "stdout",
     "output_type": "stream",
     "text": [
      "Acc(NMI) = 0.1491 (0.2225)\n"
     ]
    },
    {
     "name": "stderr",
     "output_type": "stream",
     "text": [
      "C:\\Users\\lenovo\\AppData\\Local\\Temp\\ipykernel_1840\\282225574.py:35: RuntimeWarning: invalid value encountered in scalar divide\n",
      "  if abs(E_sq - prev_E) / (prev_E + 1e-12) < tol:\n",
      "D:\\Software\\Anaconda3\\anaconda3\\Lib\\site-packages\\sklearn\\cluster\\_kmeans.py:1429: UserWarning: KMeans is known to have a memory leak on Windows with MKL, when there are less chunks than available threads. You can avoid it by setting the environment variable OMP_NUM_THREADS=10.\n",
      "  warnings.warn(\n"
     ]
    },
    {
     "name": "stdout",
     "output_type": "stream",
     "text": [
      "Acc(NMI) = 0.1657 (0.2452)\n"
     ]
    },
    {
     "name": "stderr",
     "output_type": "stream",
     "text": [
      "C:\\Users\\lenovo\\AppData\\Local\\Temp\\ipykernel_1840\\282225574.py:35: RuntimeWarning: invalid value encountered in scalar divide\n",
      "  if abs(E_sq - prev_E) / (prev_E + 1e-12) < tol:\n",
      "D:\\Software\\Anaconda3\\anaconda3\\Lib\\site-packages\\sklearn\\cluster\\_kmeans.py:1429: UserWarning: KMeans is known to have a memory leak on Windows with MKL, when there are less chunks than available threads. You can avoid it by setting the environment variable OMP_NUM_THREADS=10.\n",
      "  warnings.warn(\n"
     ]
    },
    {
     "name": "stdout",
     "output_type": "stream",
     "text": [
      "Acc(NMI) = 0.1901 (0.2831)\n"
     ]
    },
    {
     "name": "stderr",
     "output_type": "stream",
     "text": [
      "C:\\Users\\lenovo\\AppData\\Local\\Temp\\ipykernel_1840\\282225574.py:35: RuntimeWarning: invalid value encountered in scalar divide\n",
      "  if abs(E_sq - prev_E) / (prev_E + 1e-12) < tol:\n",
      "D:\\Software\\Anaconda3\\anaconda3\\Lib\\site-packages\\sklearn\\cluster\\_kmeans.py:1429: UserWarning: KMeans is known to have a memory leak on Windows with MKL, when there are less chunks than available threads. You can avoid it by setting the environment variable OMP_NUM_THREADS=10.\n",
      "  warnings.warn(\n"
     ]
    },
    {
     "name": "stdout",
     "output_type": "stream",
     "text": [
      "Acc(NMI) = 0.2092 (0.3107)\n"
     ]
    },
    {
     "name": "stderr",
     "output_type": "stream",
     "text": [
      "C:\\Users\\lenovo\\AppData\\Local\\Temp\\ipykernel_1840\\282225574.py:35: RuntimeWarning: invalid value encountered in scalar divide\n",
      "  if abs(E_sq - prev_E) / (prev_E + 1e-12) < tol:\n",
      "D:\\Software\\Anaconda3\\anaconda3\\Lib\\site-packages\\sklearn\\cluster\\_kmeans.py:1429: UserWarning: KMeans is known to have a memory leak on Windows with MKL, when there are less chunks than available threads. You can avoid it by setting the environment variable OMP_NUM_THREADS=10.\n",
      "  warnings.warn(\n"
     ]
    },
    {
     "name": "stdout",
     "output_type": "stream",
     "text": [
      "Acc(NMI) = 0.1885 (0.2958)\n"
     ]
    },
    {
     "name": "stderr",
     "output_type": "stream",
     "text": [
      "C:\\Users\\lenovo\\AppData\\Local\\Temp\\ipykernel_1840\\282225574.py:35: RuntimeWarning: invalid value encountered in scalar divide\n",
      "  if abs(E_sq - prev_E) / (prev_E + 1e-12) < tol:\n",
      "D:\\Software\\Anaconda3\\anaconda3\\Lib\\site-packages\\sklearn\\cluster\\_kmeans.py:1429: UserWarning: KMeans is known to have a memory leak on Windows with MKL, when there are less chunks than available threads. You can avoid it by setting the environment variable OMP_NUM_THREADS=10.\n",
      "  warnings.warn(\n"
     ]
    },
    {
     "name": "stdout",
     "output_type": "stream",
     "text": [
      "Acc(NMI) = 0.1798 (0.2607)\n"
     ]
    },
    {
     "name": "stderr",
     "output_type": "stream",
     "text": [
      "C:\\Users\\lenovo\\AppData\\Local\\Temp\\ipykernel_1840\\282225574.py:35: RuntimeWarning: invalid value encountered in scalar divide\n",
      "  if abs(E_sq - prev_E) / (prev_E + 1e-12) < tol:\n",
      "D:\\Software\\Anaconda3\\anaconda3\\Lib\\site-packages\\sklearn\\cluster\\_kmeans.py:1429: UserWarning: KMeans is known to have a memory leak on Windows with MKL, when there are less chunks than available threads. You can avoid it by setting the environment variable OMP_NUM_THREADS=10.\n",
      "  warnings.warn(\n"
     ]
    },
    {
     "name": "stdout",
     "output_type": "stream",
     "text": [
      "Acc(NMI) = 0.1910 (0.2756)\n"
     ]
    },
    {
     "name": "stderr",
     "output_type": "stream",
     "text": [
      "C:\\Users\\lenovo\\AppData\\Local\\Temp\\ipykernel_1840\\282225574.py:35: RuntimeWarning: invalid value encountered in scalar divide\n",
      "  if abs(E_sq - prev_E) / (prev_E + 1e-12) < tol:\n",
      "D:\\Software\\Anaconda3\\anaconda3\\Lib\\site-packages\\sklearn\\cluster\\_kmeans.py:1429: UserWarning: KMeans is known to have a memory leak on Windows with MKL, when there are less chunks than available threads. You can avoid it by setting the environment variable OMP_NUM_THREADS=10.\n",
      "  warnings.warn(\n"
     ]
    },
    {
     "name": "stdout",
     "output_type": "stream",
     "text": [
      "Acc(NMI) = 0.2212 (0.3077)\n"
     ]
    },
    {
     "name": "stderr",
     "output_type": "stream",
     "text": [
      "C:\\Users\\lenovo\\AppData\\Local\\Temp\\ipykernel_1840\\282225574.py:35: RuntimeWarning: invalid value encountered in scalar divide\n",
      "  if abs(E_sq - prev_E) / (prev_E + 1e-12) < tol:\n",
      "D:\\Software\\Anaconda3\\anaconda3\\Lib\\site-packages\\sklearn\\cluster\\_kmeans.py:1429: UserWarning: KMeans is known to have a memory leak on Windows with MKL, when there are less chunks than available threads. You can avoid it by setting the environment variable OMP_NUM_THREADS=10.\n",
      "  warnings.warn(\n"
     ]
    },
    {
     "name": "stdout",
     "output_type": "stream",
     "text": [
      "Acc(NMI) = 0.1495 (0.2168)\n"
     ]
    },
    {
     "name": "stderr",
     "output_type": "stream",
     "text": [
      "C:\\Users\\lenovo\\AppData\\Local\\Temp\\ipykernel_1840\\282225574.py:35: RuntimeWarning: invalid value encountered in scalar divide\n",
      "  if abs(E_sq - prev_E) / (prev_E + 1e-12) < tol:\n",
      "D:\\Software\\Anaconda3\\anaconda3\\Lib\\site-packages\\sklearn\\cluster\\_kmeans.py:1429: UserWarning: KMeans is known to have a memory leak on Windows with MKL, when there are less chunks than available threads. You can avoid it by setting the environment variable OMP_NUM_THREADS=10.\n",
      "  warnings.warn(\n"
     ]
    },
    {
     "name": "stdout",
     "output_type": "stream",
     "text": [
      "Acc(NMI) = 0.1516 (0.2273)\n"
     ]
    },
    {
     "name": "stderr",
     "output_type": "stream",
     "text": [
      "C:\\Users\\lenovo\\AppData\\Local\\Temp\\ipykernel_1840\\282225574.py:35: RuntimeWarning: invalid value encountered in scalar divide\n",
      "  if abs(E_sq - prev_E) / (prev_E + 1e-12) < tol:\n",
      "D:\\Software\\Anaconda3\\anaconda3\\Lib\\site-packages\\sklearn\\cluster\\_kmeans.py:1429: UserWarning: KMeans is known to have a memory leak on Windows with MKL, when there are less chunks than available threads. You can avoid it by setting the environment variable OMP_NUM_THREADS=10.\n",
      "  warnings.warn(\n"
     ]
    },
    {
     "name": "stdout",
     "output_type": "stream",
     "text": [
      "Acc(NMI) = 0.1661 (0.2432)\n"
     ]
    },
    {
     "name": "stderr",
     "output_type": "stream",
     "text": [
      "C:\\Users\\lenovo\\AppData\\Local\\Temp\\ipykernel_1840\\282225574.py:35: RuntimeWarning: invalid value encountered in scalar divide\n",
      "  if abs(E_sq - prev_E) / (prev_E + 1e-12) < tol:\n",
      "D:\\Software\\Anaconda3\\anaconda3\\Lib\\site-packages\\sklearn\\cluster\\_kmeans.py:1429: UserWarning: KMeans is known to have a memory leak on Windows with MKL, when there are less chunks than available threads. You can avoid it by setting the environment variable OMP_NUM_THREADS=10.\n",
      "  warnings.warn(\n"
     ]
    },
    {
     "name": "stdout",
     "output_type": "stream",
     "text": [
      "Acc(NMI) = 0.1558 (0.2419)\n"
     ]
    },
    {
     "name": "stderr",
     "output_type": "stream",
     "text": [
      "C:\\Users\\lenovo\\AppData\\Local\\Temp\\ipykernel_1840\\282225574.py:35: RuntimeWarning: invalid value encountered in scalar divide\n",
      "  if abs(E_sq - prev_E) / (prev_E + 1e-12) < tol:\n",
      "D:\\Software\\Anaconda3\\anaconda3\\Lib\\site-packages\\sklearn\\cluster\\_kmeans.py:1429: UserWarning: KMeans is known to have a memory leak on Windows with MKL, when there are less chunks than available threads. You can avoid it by setting the environment variable OMP_NUM_THREADS=10.\n",
      "  warnings.warn(\n"
     ]
    },
    {
     "name": "stdout",
     "output_type": "stream",
     "text": [
      "Acc(NMI) = 0.1384 (0.2198)\n"
     ]
    },
    {
     "name": "stderr",
     "output_type": "stream",
     "text": [
      "C:\\Users\\lenovo\\AppData\\Local\\Temp\\ipykernel_1840\\282225574.py:35: RuntimeWarning: invalid value encountered in scalar divide\n",
      "  if abs(E_sq - prev_E) / (prev_E + 1e-12) < tol:\n",
      "D:\\Software\\Anaconda3\\anaconda3\\Lib\\site-packages\\sklearn\\cluster\\_kmeans.py:1429: UserWarning: KMeans is known to have a memory leak on Windows with MKL, when there are less chunks than available threads. You can avoid it by setting the environment variable OMP_NUM_THREADS=10.\n",
      "  warnings.warn(\n"
     ]
    },
    {
     "name": "stdout",
     "output_type": "stream",
     "text": [
      "Acc(NMI) = 0.1686 (0.2553)\n"
     ]
    },
    {
     "name": "stderr",
     "output_type": "stream",
     "text": [
      "C:\\Users\\lenovo\\AppData\\Local\\Temp\\ipykernel_1840\\282225574.py:35: RuntimeWarning: invalid value encountered in scalar divide\n",
      "  if abs(E_sq - prev_E) / (prev_E + 1e-12) < tol:\n",
      "D:\\Software\\Anaconda3\\anaconda3\\Lib\\site-packages\\sklearn\\cluster\\_kmeans.py:1429: UserWarning: KMeans is known to have a memory leak on Windows with MKL, when there are less chunks than available threads. You can avoid it by setting the environment variable OMP_NUM_THREADS=10.\n",
      "  warnings.warn(\n"
     ]
    },
    {
     "name": "stdout",
     "output_type": "stream",
     "text": [
      "Acc(NMI) = 0.1947 (0.2949)\n"
     ]
    },
    {
     "name": "stderr",
     "output_type": "stream",
     "text": [
      "C:\\Users\\lenovo\\AppData\\Local\\Temp\\ipykernel_1840\\282225574.py:35: RuntimeWarning: invalid value encountered in scalar divide\n",
      "  if abs(E_sq - prev_E) / (prev_E + 1e-12) < tol:\n",
      "D:\\Software\\Anaconda3\\anaconda3\\Lib\\site-packages\\sklearn\\cluster\\_kmeans.py:1429: UserWarning: KMeans is known to have a memory leak on Windows with MKL, when there are less chunks than available threads. You can avoid it by setting the environment variable OMP_NUM_THREADS=10.\n",
      "  warnings.warn(\n"
     ]
    },
    {
     "name": "stdout",
     "output_type": "stream",
     "text": [
      "Acc(NMI) = 0.1885 (0.2745)\n"
     ]
    },
    {
     "name": "stderr",
     "output_type": "stream",
     "text": [
      "C:\\Users\\lenovo\\AppData\\Local\\Temp\\ipykernel_1840\\282225574.py:35: RuntimeWarning: invalid value encountered in scalar divide\n",
      "  if abs(E_sq - prev_E) / (prev_E + 1e-12) < tol:\n",
      "D:\\Software\\Anaconda3\\anaconda3\\Lib\\site-packages\\sklearn\\cluster\\_kmeans.py:1429: UserWarning: KMeans is known to have a memory leak on Windows with MKL, when there are less chunks than available threads. You can avoid it by setting the environment variable OMP_NUM_THREADS=10.\n",
      "  warnings.warn(\n"
     ]
    },
    {
     "name": "stdout",
     "output_type": "stream",
     "text": [
      "Acc(NMI) = 0.2001 (0.2894)\n"
     ]
    },
    {
     "name": "stderr",
     "output_type": "stream",
     "text": [
      "C:\\Users\\lenovo\\AppData\\Local\\Temp\\ipykernel_1840\\282225574.py:35: RuntimeWarning: invalid value encountered in scalar divide\n",
      "  if abs(E_sq - prev_E) / (prev_E + 1e-12) < tol:\n",
      "D:\\Software\\Anaconda3\\anaconda3\\Lib\\site-packages\\sklearn\\cluster\\_kmeans.py:1429: UserWarning: KMeans is known to have a memory leak on Windows with MKL, when there are less chunks than available threads. You can avoid it by setting the environment variable OMP_NUM_THREADS=10.\n",
      "  warnings.warn(\n"
     ]
    },
    {
     "name": "stdout",
     "output_type": "stream",
     "text": [
      "Acc(NMI) = 0.1922 (0.2684)\n"
     ]
    },
    {
     "name": "stderr",
     "output_type": "stream",
     "text": [
      "C:\\Users\\lenovo\\AppData\\Local\\Temp\\ipykernel_1840\\282225574.py:35: RuntimeWarning: invalid value encountered in scalar divide\n",
      "  if abs(E_sq - prev_E) / (prev_E + 1e-12) < tol:\n",
      "D:\\Software\\Anaconda3\\anaconda3\\Lib\\site-packages\\sklearn\\cluster\\_kmeans.py:1429: UserWarning: KMeans is known to have a memory leak on Windows with MKL, when there are less chunks than available threads. You can avoid it by setting the environment variable OMP_NUM_THREADS=10.\n",
      "  warnings.warn(\n"
     ]
    },
    {
     "name": "stdout",
     "output_type": "stream",
     "text": [
      "Acc(NMI) = 0.1640 (0.2614)\n"
     ]
    },
    {
     "name": "stderr",
     "output_type": "stream",
     "text": [
      "C:\\Users\\lenovo\\AppData\\Local\\Temp\\ipykernel_1840\\282225574.py:35: RuntimeWarning: invalid value encountered in scalar divide\n",
      "  if abs(E_sq - prev_E) / (prev_E + 1e-12) < tol:\n",
      "D:\\Software\\Anaconda3\\anaconda3\\Lib\\site-packages\\sklearn\\cluster\\_kmeans.py:1429: UserWarning: KMeans is known to have a memory leak on Windows with MKL, when there are less chunks than available threads. You can avoid it by setting the environment variable OMP_NUM_THREADS=10.\n",
      "  warnings.warn(\n"
     ]
    },
    {
     "name": "stdout",
     "output_type": "stream",
     "text": [
      "Acc(NMI) = 0.1657 (0.2695)\n"
     ]
    },
    {
     "name": "stderr",
     "output_type": "stream",
     "text": [
      "C:\\Users\\lenovo\\AppData\\Local\\Temp\\ipykernel_1840\\282225574.py:35: RuntimeWarning: invalid value encountered in scalar divide\n",
      "  if abs(E_sq - prev_E) / (prev_E + 1e-12) < tol:\n",
      "D:\\Software\\Anaconda3\\anaconda3\\Lib\\site-packages\\sklearn\\cluster\\_kmeans.py:1429: UserWarning: KMeans is known to have a memory leak on Windows with MKL, when there are less chunks than available threads. You can avoid it by setting the environment variable OMP_NUM_THREADS=10.\n",
      "  warnings.warn(\n"
     ]
    },
    {
     "name": "stdout",
     "output_type": "stream",
     "text": [
      "Acc(NMI) = 0.1537 (0.2428)\n"
     ]
    },
    {
     "name": "stderr",
     "output_type": "stream",
     "text": [
      "C:\\Users\\lenovo\\AppData\\Local\\Temp\\ipykernel_1840\\282225574.py:35: RuntimeWarning: invalid value encountered in scalar divide\n",
      "  if abs(E_sq - prev_E) / (prev_E + 1e-12) < tol:\n",
      "D:\\Software\\Anaconda3\\anaconda3\\Lib\\site-packages\\sklearn\\cluster\\_kmeans.py:1429: UserWarning: KMeans is known to have a memory leak on Windows with MKL, when there are less chunks than available threads. You can avoid it by setting the environment variable OMP_NUM_THREADS=10.\n",
      "  warnings.warn(\n"
     ]
    },
    {
     "name": "stdout",
     "output_type": "stream",
     "text": [
      "Acc(NMI) = 0.1512 (0.2325)\n"
     ]
    },
    {
     "name": "stderr",
     "output_type": "stream",
     "text": [
      "C:\\Users\\lenovo\\AppData\\Local\\Temp\\ipykernel_1840\\282225574.py:35: RuntimeWarning: invalid value encountered in scalar divide\n",
      "  if abs(E_sq - prev_E) / (prev_E + 1e-12) < tol:\n",
      "D:\\Software\\Anaconda3\\anaconda3\\Lib\\site-packages\\sklearn\\cluster\\_kmeans.py:1429: UserWarning: KMeans is known to have a memory leak on Windows with MKL, when there are less chunks than available threads. You can avoid it by setting the environment variable OMP_NUM_THREADS=10.\n",
      "  warnings.warn(\n"
     ]
    },
    {
     "name": "stdout",
     "output_type": "stream",
     "text": [
      "Acc(NMI) = 0.1520 (0.2421)\n"
     ]
    },
    {
     "name": "stderr",
     "output_type": "stream",
     "text": [
      "C:\\Users\\lenovo\\AppData\\Local\\Temp\\ipykernel_1840\\282225574.py:35: RuntimeWarning: invalid value encountered in scalar divide\n",
      "  if abs(E_sq - prev_E) / (prev_E + 1e-12) < tol:\n",
      "D:\\Software\\Anaconda3\\anaconda3\\Lib\\site-packages\\sklearn\\cluster\\_kmeans.py:1429: UserWarning: KMeans is known to have a memory leak on Windows with MKL, when there are less chunks than available threads. You can avoid it by setting the environment variable OMP_NUM_THREADS=10.\n",
      "  warnings.warn(\n"
     ]
    },
    {
     "name": "stdout",
     "output_type": "stream",
     "text": [
      "Acc(NMI) = 0.1367 (0.2082)\n"
     ]
    },
    {
     "name": "stderr",
     "output_type": "stream",
     "text": [
      "C:\\Users\\lenovo\\AppData\\Local\\Temp\\ipykernel_1840\\282225574.py:35: RuntimeWarning: invalid value encountered in scalar divide\n",
      "  if abs(E_sq - prev_E) / (prev_E + 1e-12) < tol:\n",
      "D:\\Software\\Anaconda3\\anaconda3\\Lib\\site-packages\\sklearn\\cluster\\_kmeans.py:1429: UserWarning: KMeans is known to have a memory leak on Windows with MKL, when there are less chunks than available threads. You can avoid it by setting the environment variable OMP_NUM_THREADS=10.\n",
      "  warnings.warn(\n"
     ]
    },
    {
     "name": "stdout",
     "output_type": "stream",
     "text": [
      "Acc(NMI) = 0.1487 (0.2234)\n"
     ]
    },
    {
     "name": "stderr",
     "output_type": "stream",
     "text": [
      "C:\\Users\\lenovo\\AppData\\Local\\Temp\\ipykernel_1840\\282225574.py:35: RuntimeWarning: invalid value encountered in scalar divide\n",
      "  if abs(E_sq - prev_E) / (prev_E + 1e-12) < tol:\n",
      "D:\\Software\\Anaconda3\\anaconda3\\Lib\\site-packages\\sklearn\\cluster\\_kmeans.py:1429: UserWarning: KMeans is known to have a memory leak on Windows with MKL, when there are less chunks than available threads. You can avoid it by setting the environment variable OMP_NUM_THREADS=10.\n",
      "  warnings.warn(\n"
     ]
    },
    {
     "name": "stdout",
     "output_type": "stream",
     "text": [
      "Acc(NMI) = 0.1487 (0.2280)\n"
     ]
    },
    {
     "name": "stderr",
     "output_type": "stream",
     "text": [
      "C:\\Users\\lenovo\\AppData\\Local\\Temp\\ipykernel_1840\\282225574.py:35: RuntimeWarning: invalid value encountered in scalar divide\n",
      "  if abs(E_sq - prev_E) / (prev_E + 1e-12) < tol:\n",
      "D:\\Software\\Anaconda3\\anaconda3\\Lib\\site-packages\\sklearn\\cluster\\_kmeans.py:1429: UserWarning: KMeans is known to have a memory leak on Windows with MKL, when there are less chunks than available threads. You can avoid it by setting the environment variable OMP_NUM_THREADS=10.\n",
      "  warnings.warn(\n"
     ]
    },
    {
     "name": "stdout",
     "output_type": "stream",
     "text": [
      "Acc(NMI) = 0.1500 (0.2075)\n"
     ]
    },
    {
     "name": "stderr",
     "output_type": "stream",
     "text": [
      "C:\\Users\\lenovo\\AppData\\Local\\Temp\\ipykernel_1840\\282225574.py:35: RuntimeWarning: invalid value encountered in scalar divide\n",
      "  if abs(E_sq - prev_E) / (prev_E + 1e-12) < tol:\n",
      "D:\\Software\\Anaconda3\\anaconda3\\Lib\\site-packages\\sklearn\\cluster\\_kmeans.py:1429: UserWarning: KMeans is known to have a memory leak on Windows with MKL, when there are less chunks than available threads. You can avoid it by setting the environment variable OMP_NUM_THREADS=10.\n",
      "  warnings.warn(\n"
     ]
    },
    {
     "name": "stdout",
     "output_type": "stream",
     "text": [
      "Acc(NMI) = 0.1926 (0.2755)\n"
     ]
    },
    {
     "name": "stderr",
     "output_type": "stream",
     "text": [
      "C:\\Users\\lenovo\\AppData\\Local\\Temp\\ipykernel_1840\\282225574.py:35: RuntimeWarning: invalid value encountered in scalar divide\n",
      "  if abs(E_sq - prev_E) / (prev_E + 1e-12) < tol:\n",
      "D:\\Software\\Anaconda3\\anaconda3\\Lib\\site-packages\\sklearn\\cluster\\_kmeans.py:1429: UserWarning: KMeans is known to have a memory leak on Windows with MKL, when there are less chunks than available threads. You can avoid it by setting the environment variable OMP_NUM_THREADS=10.\n",
      "  warnings.warn(\n"
     ]
    },
    {
     "name": "stdout",
     "output_type": "stream",
     "text": [
      "Acc(NMI) = 0.2125 (0.3134)\n"
     ]
    },
    {
     "name": "stderr",
     "output_type": "stream",
     "text": [
      "C:\\Users\\lenovo\\AppData\\Local\\Temp\\ipykernel_1840\\282225574.py:35: RuntimeWarning: invalid value encountered in scalar divide\n",
      "  if abs(E_sq - prev_E) / (prev_E + 1e-12) < tol:\n",
      "D:\\Software\\Anaconda3\\anaconda3\\Lib\\site-packages\\sklearn\\cluster\\_kmeans.py:1429: UserWarning: KMeans is known to have a memory leak on Windows with MKL, when there are less chunks than available threads. You can avoid it by setting the environment variable OMP_NUM_THREADS=10.\n",
      "  warnings.warn(\n"
     ]
    },
    {
     "name": "stdout",
     "output_type": "stream",
     "text": [
      "Acc(NMI) = 0.1881 (0.2795)\n"
     ]
    },
    {
     "name": "stderr",
     "output_type": "stream",
     "text": [
      "C:\\Users\\lenovo\\AppData\\Local\\Temp\\ipykernel_1840\\282225574.py:35: RuntimeWarning: invalid value encountered in scalar divide\n",
      "  if abs(E_sq - prev_E) / (prev_E + 1e-12) < tol:\n",
      "D:\\Software\\Anaconda3\\anaconda3\\Lib\\site-packages\\sklearn\\cluster\\_kmeans.py:1429: UserWarning: KMeans is known to have a memory leak on Windows with MKL, when there are less chunks than available threads. You can avoid it by setting the environment variable OMP_NUM_THREADS=10.\n",
      "  warnings.warn(\n"
     ]
    },
    {
     "name": "stdout",
     "output_type": "stream",
     "text": [
      "Acc(NMI) = 0.1848 (0.2812)\n"
     ]
    },
    {
     "name": "stderr",
     "output_type": "stream",
     "text": [
      "C:\\Users\\lenovo\\AppData\\Local\\Temp\\ipykernel_1840\\282225574.py:35: RuntimeWarning: invalid value encountered in scalar divide\n",
      "  if abs(E_sq - prev_E) / (prev_E + 1e-12) < tol:\n"
     ]
    },
    {
     "name": "stdout",
     "output_type": "stream",
     "text": [
      "Acc(NMI) = 0.1777 (0.2689)\n"
     ]
    },
    {
     "name": "stderr",
     "output_type": "stream",
     "text": [
      "D:\\Software\\Anaconda3\\anaconda3\\Lib\\site-packages\\sklearn\\cluster\\_kmeans.py:1429: UserWarning: KMeans is known to have a memory leak on Windows with MKL, when there are less chunks than available threads. You can avoid it by setting the environment variable OMP_NUM_THREADS=10.\n",
      "  warnings.warn(\n"
     ]
    }
   ],
   "source": [
    "Algo = 'L1'\n",
    "Data = 'YaleB'\n",
    "dataset = 'data/CroppedYaleB'\n",
    "reduce = 3\n",
    "X, Y = load_data(dataset, reduce=reduce)\n",
    "eps=1e-8\n",
    "rank = 40\n",
    "steps = 10000\n",
    "lambdas = [(0.0,0.0),(0.01,0.005)]\n",
    "kmeans_init = 5\n",
    "verbose_nmf = False\n",
    "seeds = [0,1,2,3,4]\n",
    "pr_lst = [(0,0),(0.1,0.1),(0.2,0.2),(0.3,0.3),(0.4,0.4),(0.5,0.5)]\n",
    "record_L1_Yale = []\n",
    "tol = 1e-3\n",
    "\n",
    "for seed in seeds:\n",
    "    np.random.seed(seed)\n",
    "    for lambda_h, lambda_w in lambdas:\n",
    "        for p, r in pr_lst:\n",
    "            # X_noisy, noise = salt_pepper(X, p, r)\n",
    "            X_noisy, Y = load_data_salt_pepper(dataset, reduce, p, r)\n",
    "            start = time.time()\n",
    "            W, H, WH, step = l1_nmf_corrected(X, rank=rank, steps=steps, tol=tol, lambda_h=lambda_h, lambda_w=lambda_w, eps=eps)\n",
    "            end = time.time()\n",
    "            timeusing = end - start\n",
    "            rre = relative_reconstruction_error(X_noisy, WH)\n",
    "            acc, nmi = evaluate_clustering(H, Y)\n",
    "            record_L1_Yale.append(((p,r),(lambda_h,lambda_w),acc,nmi,rre,step,seed,timeusing))"
   ]
  },
  {
   "cell_type": "code",
   "execution_count": 17,
   "id": "e4e3c545-4317-47d4-b1d7-6a56c78c53e3",
   "metadata": {
    "scrolled": true
   },
   "outputs": [
    {
     "name": "stdout",
     "output_type": "stream",
     "text": [
      "         (p,r) (lambda_h,lambda_w)       acc       nmi       rre  step  seed  \\\n",
      "0       (0, 0)          (0.0, 0.0)  0.154930  0.234400  0.261749     5     0   \n",
      "1   (0.1, 0.1)          (0.0, 0.0)  0.162800  0.259703  0.482694     5     0   \n",
      "2   (0.2, 0.2)          (0.0, 0.0)  0.157415  0.238696  0.645564     5     0   \n",
      "3   (0.3, 0.3)          (0.0, 0.0)  0.148302  0.239827  0.747685     5     0   \n",
      "4   (0.4, 0.4)          (0.0, 0.0)  0.163215  0.241310  0.804215     5     0   \n",
      "5   (0.5, 0.5)          (0.0, 0.0)  0.170671  0.264484  0.826153     5     0   \n",
      "6       (0, 0)       (0.01, 0.005)  0.193869  0.274555  0.262421     5     0   \n",
      "7   (0.1, 0.1)       (0.01, 0.005)  0.199669  0.284270  0.483122     5     0   \n",
      "8   (0.2, 0.2)       (0.01, 0.005)  0.173571  0.260163  0.645174     5     0   \n",
      "9   (0.3, 0.3)       (0.01, 0.005)  0.200083  0.290216  0.748197     5     0   \n",
      "10  (0.4, 0.4)       (0.01, 0.005)  0.216239  0.286825  0.805111     5     0   \n",
      "11  (0.5, 0.5)       (0.01, 0.005)  0.170671  0.259266  0.827736     5     0   \n",
      "12      (0, 0)          (0.0, 0.0)  0.167357  0.242990  0.262060     5     1   \n",
      "13  (0.1, 0.1)          (0.0, 0.0)  0.160315  0.249733  0.482441     5     1   \n",
      "14  (0.2, 0.2)          (0.0, 0.0)  0.157001  0.231487  0.645648     5     1   \n",
      "15  (0.3, 0.3)          (0.0, 0.0)  0.157829  0.241283  0.747097     5     1   \n",
      "16  (0.4, 0.4)          (0.0, 0.0)  0.164457  0.240465  0.804426     5     1   \n",
      "17  (0.5, 0.5)          (0.0, 0.0)  0.163215  0.238232  0.826058     5     1   \n",
      "18      (0, 0)       (0.01, 0.005)  0.185170  0.302320  0.262369     5     1   \n",
      "19  (0.1, 0.1)       (0.01, 0.005)  0.190969  0.283517  0.482944     5     1   \n",
      "20  (0.2, 0.2)       (0.01, 0.005)  0.180613  0.272436  0.645111     5     1   \n",
      "21  (0.3, 0.3)       (0.01, 0.005)  0.177713  0.298537  0.748473     5     1   \n",
      "22  (0.4, 0.4)       (0.01, 0.005)  0.176471  0.263136  0.804643     5     1   \n",
      "23  (0.5, 0.5)       (0.01, 0.005)  0.184756  0.276859  0.827106     5     1   \n",
      "24      (0, 0)          (0.0, 0.0)  0.159486  0.244607  0.261178     5     2   \n",
      "25  (0.1, 0.1)          (0.0, 0.0)  0.153273  0.237337  0.482845     5     2   \n",
      "26  (0.2, 0.2)          (0.0, 0.0)  0.161143  0.244022  0.645359     5     2   \n",
      "27  (0.3, 0.3)          (0.0, 0.0)  0.154101  0.243046  0.747329     5     2   \n",
      "28  (0.4, 0.4)          (0.0, 0.0)  0.149130  0.222482  0.804198     5     2   \n",
      "29  (0.5, 0.5)          (0.0, 0.0)  0.165700  0.245226  0.826304     5     2   \n",
      "30      (0, 0)       (0.01, 0.005)  0.190141  0.283125  0.261470     5     2   \n",
      "31  (0.1, 0.1)       (0.01, 0.005)  0.209196  0.310700  0.483406     5     2   \n",
      "32  (0.2, 0.2)       (0.01, 0.005)  0.188484  0.295803  0.645802     5     2   \n",
      "33  (0.3, 0.3)       (0.01, 0.005)  0.179785  0.260712  0.748991     5     2   \n",
      "34  (0.4, 0.4)       (0.01, 0.005)  0.190969  0.275569  0.805296     5     2   \n",
      "35  (0.5, 0.5)       (0.01, 0.005)  0.221210  0.307715  0.826808     5     2   \n",
      "36      (0, 0)          (0.0, 0.0)  0.149544  0.216788  0.262178     5     3   \n",
      "37  (0.1, 0.1)          (0.0, 0.0)  0.151616  0.227315  0.482788     5     3   \n",
      "38  (0.2, 0.2)          (0.0, 0.0)  0.166114  0.243201  0.644630     5     3   \n",
      "39  (0.3, 0.3)          (0.0, 0.0)  0.155758  0.241857  0.748222     5     3   \n",
      "40  (0.4, 0.4)          (0.0, 0.0)  0.138360  0.219808  0.803999     5     3   \n",
      "41  (0.5, 0.5)          (0.0, 0.0)  0.168600  0.255323  0.826065     5     3   \n",
      "42      (0, 0)       (0.01, 0.005)  0.194698  0.294885  0.260770     5     3   \n",
      "43  (0.1, 0.1)       (0.01, 0.005)  0.188484  0.274474  0.482595     5     3   \n",
      "44  (0.2, 0.2)       (0.01, 0.005)  0.200083  0.289381  0.646067     5     3   \n",
      "45  (0.3, 0.3)       (0.01, 0.005)  0.192212  0.268389  0.747790     5     3   \n",
      "46  (0.4, 0.4)       (0.01, 0.005)  0.164043  0.261433  0.804133     5     3   \n",
      "47  (0.5, 0.5)       (0.01, 0.005)  0.165700  0.269476  0.826944     5     3   \n",
      "48      (0, 0)          (0.0, 0.0)  0.153687  0.242766  0.261881     5     4   \n",
      "49  (0.1, 0.1)          (0.0, 0.0)  0.151201  0.232493  0.482703     5     4   \n",
      "50  (0.2, 0.2)          (0.0, 0.0)  0.152030  0.242124  0.644969     5     4   \n",
      "51  (0.3, 0.3)          (0.0, 0.0)  0.136703  0.208173  0.748309     5     4   \n",
      "52  (0.4, 0.4)          (0.0, 0.0)  0.148716  0.223353  0.804007     5     4   \n",
      "53  (0.5, 0.5)          (0.0, 0.0)  0.148716  0.228005  0.825693     5     4   \n",
      "54      (0, 0)       (0.01, 0.005)  0.149959  0.207498  0.262290     5     4   \n",
      "55  (0.1, 0.1)       (0.01, 0.005)  0.192626  0.275486  0.482973     5     4   \n",
      "56  (0.2, 0.2)       (0.01, 0.005)  0.212510  0.313439  0.646437     5     4   \n",
      "57  (0.3, 0.3)       (0.01, 0.005)  0.188070  0.279498  0.748185     5     4   \n",
      "58  (0.4, 0.4)       (0.01, 0.005)  0.184756  0.281162  0.805686     5     4   \n",
      "59  (0.5, 0.5)       (0.01, 0.005)  0.177713  0.268932  0.826766     5     4   \n",
      "\n",
      "         time  \n",
      "0   15.031257  \n",
      "1   14.904854  \n",
      "2   15.612382  \n",
      "3   15.295986  \n",
      "4   16.670923  \n",
      "5   15.383725  \n",
      "6   16.795525  \n",
      "7   18.416177  \n",
      "8   14.359962  \n",
      "9   16.377049  \n",
      "10  15.023773  \n",
      "11  17.260839  \n",
      "12  16.265835  \n",
      "13  17.613024  \n",
      "14  16.869553  \n",
      "15  16.462950  \n",
      "16  15.434803  \n",
      "17  17.782542  \n",
      "18  17.115548  \n",
      "19  14.765652  \n",
      "20  15.537281  \n",
      "21  15.191288  \n",
      "22  17.238598  \n",
      "23  14.639696  \n",
      "24  14.886270  \n",
      "25  14.889816  \n",
      "26  16.047380  \n",
      "27  15.787433  \n",
      "28  15.936234  \n",
      "29  15.184062  \n",
      "30  16.243184  \n",
      "31  17.390795  \n",
      "32  16.063858  \n",
      "33  15.685474  \n",
      "34  15.177508  \n",
      "35  16.631401  \n",
      "36  15.984877  \n",
      "37  15.751374  \n",
      "38  18.185677  \n",
      "39  14.977679  \n",
      "40  15.019579  \n",
      "41  15.285307  \n",
      "42  17.112699  \n",
      "43  15.009197  \n",
      "44  16.086508  \n",
      "45  18.562533  \n",
      "46  15.243841  \n",
      "47  14.488676  \n",
      "48  14.917640  \n",
      "49  15.779917  \n",
      "50  14.833473  \n",
      "51  15.308194  \n",
      "52  15.097091  \n",
      "53  15.460380  \n",
      "54  15.386251  \n",
      "55  15.440613  \n",
      "56  16.453713  \n",
      "57  17.379256  \n",
      "58  15.192078  \n",
      "59  15.166345  \n",
      "        (p,r)  RRE_mean   RRE_std  ACC_mean   ACC_std  NMI_mean   NMI_std\n",
      "0      (0, 0)  0.261837  0.000549  0.169884  0.018992  0.254393  0.032562\n",
      "1  (0.1, 0.1)  0.482851  0.000277  0.176015  0.022273  0.263503  0.026839\n",
      "2  (0.2, 0.2)  0.645476  0.000540  0.174896  0.020230  0.263075  0.028255\n",
      "3  (0.3, 0.3)  0.748028  0.000560  0.169056  0.021225  0.257154  0.027544\n",
      "4  (0.4, 0.4)  0.804571  0.000595  0.169635  0.023185  0.251554  0.025398\n",
      "5  (0.5, 0.5)  0.826563  0.000616  0.173695  0.019154  0.261352  0.022287\n"
     ]
    }
   ],
   "source": [
    "df_L1_Yale = pd.DataFrame(record_L1_Yale, columns=['(p,r)','(lambda_h,lambda_w)','acc','nmi','rre','step','seed','time'])\n",
    "print(df_L1_Yale)\n",
    "summary = df_L1_Yale.groupby(['(p,r)']).agg(\n",
    "    RRE_mean=('rre', 'mean'),\n",
    "    RRE_std=('rre', 'std'),\n",
    "    ACC_mean=('acc', 'mean'),\n",
    "    ACC_std=('acc', 'std'),\n",
    "    NMI_mean=('nmi', 'mean'),\n",
    "    NMI_std=('nmi', 'std')\n",
    ").reset_index()\n",
    "print(summary)\n",
    "df_L1_Yale.to_excel(f'{Algo}_{Data}.xlsx', index=True)"
   ]
  },
  {
   "cell_type": "markdown",
   "id": "b8e6606f-0c22-4475-8485-50f5c566802a",
   "metadata": {},
   "source": [
    "## Hypersurface Cost-Based NMF (HCNMF)"
   ]
  },
  {
   "cell_type": "code",
   "execution_count": 45,
   "id": "9823d192-ced7-4a92-b374-3c2b4c7b6c51",
   "metadata": {
    "scrolled": true
   },
   "outputs": [
    {
     "name": "stderr",
     "output_type": "stream",
     "text": [
      "D:\\Software\\Anaconda3\\anaconda3\\Lib\\site-packages\\sklearn\\cluster\\_kmeans.py:1429: UserWarning: KMeans is known to have a memory leak on Windows with MKL, when there are less chunks than available threads. You can avoid it by setting the environment variable OMP_NUM_THREADS=10.\n",
      "  warnings.warn(\n"
     ]
    },
    {
     "name": "stdout",
     "output_type": "stream",
     "text": [
      "Acc(NMI) = 0.1355 (0.2321)\n"
     ]
    },
    {
     "name": "stderr",
     "output_type": "stream",
     "text": [
      "D:\\Software\\Anaconda3\\anaconda3\\Lib\\site-packages\\sklearn\\cluster\\_kmeans.py:1429: UserWarning: KMeans is known to have a memory leak on Windows with MKL, when there are less chunks than available threads. You can avoid it by setting the environment variable OMP_NUM_THREADS=10.\n",
      "  warnings.warn(\n"
     ]
    },
    {
     "name": "stdout",
     "output_type": "stream",
     "text": [
      "Acc(NMI) = 0.1355 (0.1983)\n"
     ]
    },
    {
     "name": "stderr",
     "output_type": "stream",
     "text": [
      "D:\\Software\\Anaconda3\\anaconda3\\Lib\\site-packages\\sklearn\\cluster\\_kmeans.py:1429: UserWarning: KMeans is known to have a memory leak on Windows with MKL, when there are less chunks than available threads. You can avoid it by setting the environment variable OMP_NUM_THREADS=10.\n",
      "  warnings.warn(\n"
     ]
    },
    {
     "name": "stdout",
     "output_type": "stream",
     "text": [
      "Acc(NMI) = 0.0953 (0.1124)\n"
     ]
    },
    {
     "name": "stderr",
     "output_type": "stream",
     "text": [
      "D:\\Software\\Anaconda3\\anaconda3\\Lib\\site-packages\\sklearn\\cluster\\_kmeans.py:1429: UserWarning: KMeans is known to have a memory leak on Windows with MKL, when there are less chunks than available threads. You can avoid it by setting the environment variable OMP_NUM_THREADS=10.\n",
      "  warnings.warn(\n"
     ]
    },
    {
     "name": "stdout",
     "output_type": "stream",
     "text": [
      "Acc(NMI) = 0.0808 (0.0662)\n"
     ]
    },
    {
     "name": "stderr",
     "output_type": "stream",
     "text": [
      "D:\\Software\\Anaconda3\\anaconda3\\Lib\\site-packages\\sklearn\\cluster\\_kmeans.py:1429: UserWarning: KMeans is known to have a memory leak on Windows with MKL, when there are less chunks than available threads. You can avoid it by setting the environment variable OMP_NUM_THREADS=10.\n",
      "  warnings.warn(\n"
     ]
    },
    {
     "name": "stdout",
     "output_type": "stream",
     "text": [
      "Acc(NMI) = 0.0733 (0.0592)\n"
     ]
    },
    {
     "name": "stderr",
     "output_type": "stream",
     "text": [
      "D:\\Software\\Anaconda3\\anaconda3\\Lib\\site-packages\\sklearn\\cluster\\_kmeans.py:1429: UserWarning: KMeans is known to have a memory leak on Windows with MKL, when there are less chunks than available threads. You can avoid it by setting the environment variable OMP_NUM_THREADS=10.\n",
      "  warnings.warn(\n"
     ]
    },
    {
     "name": "stdout",
     "output_type": "stream",
     "text": [
      "Acc(NMI) = 0.0750 (0.0616)\n"
     ]
    },
    {
     "name": "stderr",
     "output_type": "stream",
     "text": [
      "D:\\Software\\Anaconda3\\anaconda3\\Lib\\site-packages\\sklearn\\cluster\\_kmeans.py:1429: UserWarning: KMeans is known to have a memory leak on Windows with MKL, when there are less chunks than available threads. You can avoid it by setting the environment variable OMP_NUM_THREADS=10.\n",
      "  warnings.warn(\n"
     ]
    },
    {
     "name": "stdout",
     "output_type": "stream",
     "text": [
      "Acc(NMI) = 0.1433 (0.2166)\n"
     ]
    },
    {
     "name": "stderr",
     "output_type": "stream",
     "text": [
      "D:\\Software\\Anaconda3\\anaconda3\\Lib\\site-packages\\sklearn\\cluster\\_kmeans.py:1429: UserWarning: KMeans is known to have a memory leak on Windows with MKL, when there are less chunks than available threads. You can avoid it by setting the environment variable OMP_NUM_THREADS=10.\n",
      "  warnings.warn(\n"
     ]
    },
    {
     "name": "stdout",
     "output_type": "stream",
     "text": [
      "Acc(NMI) = 0.1297 (0.1595)\n"
     ]
    },
    {
     "name": "stderr",
     "output_type": "stream",
     "text": [
      "D:\\Software\\Anaconda3\\anaconda3\\Lib\\site-packages\\sklearn\\cluster\\_kmeans.py:1429: UserWarning: KMeans is known to have a memory leak on Windows with MKL, when there are less chunks than available threads. You can avoid it by setting the environment variable OMP_NUM_THREADS=10.\n",
      "  warnings.warn(\n"
     ]
    },
    {
     "name": "stdout",
     "output_type": "stream",
     "text": [
      "Acc(NMI) = 0.0857 (0.0971)\n"
     ]
    },
    {
     "name": "stderr",
     "output_type": "stream",
     "text": [
      "D:\\Software\\Anaconda3\\anaconda3\\Lib\\site-packages\\sklearn\\cluster\\_kmeans.py:1429: UserWarning: KMeans is known to have a memory leak on Windows with MKL, when there are less chunks than available threads. You can avoid it by setting the environment variable OMP_NUM_THREADS=10.\n",
      "  warnings.warn(\n"
     ]
    },
    {
     "name": "stdout",
     "output_type": "stream",
     "text": [
      "Acc(NMI) = 0.0771 (0.0662)\n"
     ]
    },
    {
     "name": "stderr",
     "output_type": "stream",
     "text": [
      "D:\\Software\\Anaconda3\\anaconda3\\Lib\\site-packages\\sklearn\\cluster\\_kmeans.py:1429: UserWarning: KMeans is known to have a memory leak on Windows with MKL, when there are less chunks than available threads. You can avoid it by setting the environment variable OMP_NUM_THREADS=10.\n",
      "  warnings.warn(\n"
     ]
    },
    {
     "name": "stdout",
     "output_type": "stream",
     "text": [
      "Acc(NMI) = 0.0775 (0.0697)\n"
     ]
    },
    {
     "name": "stderr",
     "output_type": "stream",
     "text": [
      "D:\\Software\\Anaconda3\\anaconda3\\Lib\\site-packages\\sklearn\\cluster\\_kmeans.py:1429: UserWarning: KMeans is known to have a memory leak on Windows with MKL, when there are less chunks than available threads. You can avoid it by setting the environment variable OMP_NUM_THREADS=10.\n",
      "  warnings.warn(\n"
     ]
    },
    {
     "name": "stdout",
     "output_type": "stream",
     "text": [
      "Acc(NMI) = 0.0766 (0.0578)\n"
     ]
    },
    {
     "name": "stderr",
     "output_type": "stream",
     "text": [
      "D:\\Software\\Anaconda3\\anaconda3\\Lib\\site-packages\\sklearn\\cluster\\_kmeans.py:1429: UserWarning: KMeans is known to have a memory leak on Windows with MKL, when there are less chunks than available threads. You can avoid it by setting the environment variable OMP_NUM_THREADS=10.\n",
      "  warnings.warn(\n"
     ]
    },
    {
     "name": "stdout",
     "output_type": "stream",
     "text": [
      "Acc(NMI) = 0.1487 (0.2015)\n"
     ]
    },
    {
     "name": "stderr",
     "output_type": "stream",
     "text": [
      "D:\\Software\\Anaconda3\\anaconda3\\Lib\\site-packages\\sklearn\\cluster\\_kmeans.py:1429: UserWarning: KMeans is known to have a memory leak on Windows with MKL, when there are less chunks than available threads. You can avoid it by setting the environment variable OMP_NUM_THREADS=10.\n",
      "  warnings.warn(\n"
     ]
    },
    {
     "name": "stdout",
     "output_type": "stream",
     "text": [
      "Acc(NMI) = 0.1185 (0.1780)\n"
     ]
    },
    {
     "name": "stderr",
     "output_type": "stream",
     "text": [
      "D:\\Software\\Anaconda3\\anaconda3\\Lib\\site-packages\\sklearn\\cluster\\_kmeans.py:1429: UserWarning: KMeans is known to have a memory leak on Windows with MKL, when there are less chunks than available threads. You can avoid it by setting the environment variable OMP_NUM_THREADS=10.\n",
      "  warnings.warn(\n"
     ]
    },
    {
     "name": "stdout",
     "output_type": "stream",
     "text": [
      "Acc(NMI) = 0.0882 (0.0844)\n"
     ]
    },
    {
     "name": "stderr",
     "output_type": "stream",
     "text": [
      "D:\\Software\\Anaconda3\\anaconda3\\Lib\\site-packages\\sklearn\\cluster\\_kmeans.py:1429: UserWarning: KMeans is known to have a memory leak on Windows with MKL, when there are less chunks than available threads. You can avoid it by setting the environment variable OMP_NUM_THREADS=10.\n",
      "  warnings.warn(\n"
     ]
    },
    {
     "name": "stdout",
     "output_type": "stream",
     "text": [
      "Acc(NMI) = 0.0746 (0.0576)\n"
     ]
    },
    {
     "name": "stderr",
     "output_type": "stream",
     "text": [
      "D:\\Software\\Anaconda3\\anaconda3\\Lib\\site-packages\\sklearn\\cluster\\_kmeans.py:1429: UserWarning: KMeans is known to have a memory leak on Windows with MKL, when there are less chunks than available threads. You can avoid it by setting the environment variable OMP_NUM_THREADS=10.\n",
      "  warnings.warn(\n"
     ]
    },
    {
     "name": "stdout",
     "output_type": "stream",
     "text": [
      "Acc(NMI) = 0.0779 (0.0691)\n"
     ]
    },
    {
     "name": "stderr",
     "output_type": "stream",
     "text": [
      "D:\\Software\\Anaconda3\\anaconda3\\Lib\\site-packages\\sklearn\\cluster\\_kmeans.py:1429: UserWarning: KMeans is known to have a memory leak on Windows with MKL, when there are less chunks than available threads. You can avoid it by setting the environment variable OMP_NUM_THREADS=10.\n",
      "  warnings.warn(\n"
     ]
    },
    {
     "name": "stdout",
     "output_type": "stream",
     "text": [
      "Acc(NMI) = 0.0804 (0.0681)\n"
     ]
    },
    {
     "name": "stderr",
     "output_type": "stream",
     "text": [
      "D:\\Software\\Anaconda3\\anaconda3\\Lib\\site-packages\\sklearn\\cluster\\_kmeans.py:1429: UserWarning: KMeans is known to have a memory leak on Windows with MKL, when there are less chunks than available threads. You can avoid it by setting the environment variable OMP_NUM_THREADS=10.\n",
      "  warnings.warn(\n"
     ]
    },
    {
     "name": "stdout",
     "output_type": "stream",
     "text": [
      "Acc(NMI) = 0.1703 (0.2497)\n"
     ]
    },
    {
     "name": "stderr",
     "output_type": "stream",
     "text": [
      "D:\\Software\\Anaconda3\\anaconda3\\Lib\\site-packages\\sklearn\\cluster\\_kmeans.py:1429: UserWarning: KMeans is known to have a memory leak on Windows with MKL, when there are less chunks than available threads. You can avoid it by setting the environment variable OMP_NUM_THREADS=10.\n",
      "  warnings.warn(\n"
     ]
    },
    {
     "name": "stdout",
     "output_type": "stream",
     "text": [
      "Acc(NMI) = 0.1247 (0.1743)\n"
     ]
    },
    {
     "name": "stderr",
     "output_type": "stream",
     "text": [
      "D:\\Software\\Anaconda3\\anaconda3\\Lib\\site-packages\\sklearn\\cluster\\_kmeans.py:1429: UserWarning: KMeans is known to have a memory leak on Windows with MKL, when there are less chunks than available threads. You can avoid it by setting the environment variable OMP_NUM_THREADS=10.\n",
      "  warnings.warn(\n"
     ]
    },
    {
     "name": "stdout",
     "output_type": "stream",
     "text": [
      "Acc(NMI) = 0.0920 (0.0995)\n"
     ]
    },
    {
     "name": "stderr",
     "output_type": "stream",
     "text": [
      "D:\\Software\\Anaconda3\\anaconda3\\Lib\\site-packages\\sklearn\\cluster\\_kmeans.py:1429: UserWarning: KMeans is known to have a memory leak on Windows with MKL, when there are less chunks than available threads. You can avoid it by setting the environment variable OMP_NUM_THREADS=10.\n",
      "  warnings.warn(\n"
     ]
    },
    {
     "name": "stdout",
     "output_type": "stream",
     "text": [
      "Acc(NMI) = 0.0766 (0.0640)\n"
     ]
    },
    {
     "name": "stderr",
     "output_type": "stream",
     "text": [
      "D:\\Software\\Anaconda3\\anaconda3\\Lib\\site-packages\\sklearn\\cluster\\_kmeans.py:1429: UserWarning: KMeans is known to have a memory leak on Windows with MKL, when there are less chunks than available threads. You can avoid it by setting the environment variable OMP_NUM_THREADS=10.\n",
      "  warnings.warn(\n"
     ]
    },
    {
     "name": "stdout",
     "output_type": "stream",
     "text": [
      "Acc(NMI) = 0.0758 (0.0697)\n"
     ]
    },
    {
     "name": "stderr",
     "output_type": "stream",
     "text": [
      "D:\\Software\\Anaconda3\\anaconda3\\Lib\\site-packages\\sklearn\\cluster\\_kmeans.py:1429: UserWarning: KMeans is known to have a memory leak on Windows with MKL, when there are less chunks than available threads. You can avoid it by setting the environment variable OMP_NUM_THREADS=10.\n",
      "  warnings.warn(\n"
     ]
    },
    {
     "name": "stdout",
     "output_type": "stream",
     "text": [
      "Acc(NMI) = 0.0766 (0.0621)\n"
     ]
    },
    {
     "name": "stderr",
     "output_type": "stream",
     "text": [
      "D:\\Software\\Anaconda3\\anaconda3\\Lib\\site-packages\\sklearn\\cluster\\_kmeans.py:1429: UserWarning: KMeans is known to have a memory leak on Windows with MKL, when there are less chunks than available threads. You can avoid it by setting the environment variable OMP_NUM_THREADS=10.\n",
      "  warnings.warn(\n"
     ]
    },
    {
     "name": "stdout",
     "output_type": "stream",
     "text": [
      "Acc(NMI) = 0.1442 (0.2489)\n"
     ]
    },
    {
     "name": "stderr",
     "output_type": "stream",
     "text": [
      "D:\\Software\\Anaconda3\\anaconda3\\Lib\\site-packages\\sklearn\\cluster\\_kmeans.py:1429: UserWarning: KMeans is known to have a memory leak on Windows with MKL, when there are less chunks than available threads. You can avoid it by setting the environment variable OMP_NUM_THREADS=10.\n",
      "  warnings.warn(\n"
     ]
    },
    {
     "name": "stdout",
     "output_type": "stream",
     "text": [
      "Acc(NMI) = 0.1272 (0.1804)\n"
     ]
    },
    {
     "name": "stderr",
     "output_type": "stream",
     "text": [
      "D:\\Software\\Anaconda3\\anaconda3\\Lib\\site-packages\\sklearn\\cluster\\_kmeans.py:1429: UserWarning: KMeans is known to have a memory leak on Windows with MKL, when there are less chunks than available threads. You can avoid it by setting the environment variable OMP_NUM_THREADS=10.\n",
      "  warnings.warn(\n"
     ]
    },
    {
     "name": "stdout",
     "output_type": "stream",
     "text": [
      "Acc(NMI) = 0.0841 (0.0859)\n"
     ]
    },
    {
     "name": "stderr",
     "output_type": "stream",
     "text": [
      "D:\\Software\\Anaconda3\\anaconda3\\Lib\\site-packages\\sklearn\\cluster\\_kmeans.py:1429: UserWarning: KMeans is known to have a memory leak on Windows with MKL, when there are less chunks than available threads. You can avoid it by setting the environment variable OMP_NUM_THREADS=10.\n",
      "  warnings.warn(\n"
     ]
    },
    {
     "name": "stdout",
     "output_type": "stream",
     "text": [
      "Acc(NMI) = 0.0746 (0.0658)\n"
     ]
    },
    {
     "name": "stderr",
     "output_type": "stream",
     "text": [
      "D:\\Software\\Anaconda3\\anaconda3\\Lib\\site-packages\\sklearn\\cluster\\_kmeans.py:1429: UserWarning: KMeans is known to have a memory leak on Windows with MKL, when there are less chunks than available threads. You can avoid it by setting the environment variable OMP_NUM_THREADS=10.\n",
      "  warnings.warn(\n"
     ]
    },
    {
     "name": "stdout",
     "output_type": "stream",
     "text": [
      "Acc(NMI) = 0.0766 (0.0548)\n"
     ]
    },
    {
     "name": "stderr",
     "output_type": "stream",
     "text": [
      "D:\\Software\\Anaconda3\\anaconda3\\Lib\\site-packages\\sklearn\\cluster\\_kmeans.py:1429: UserWarning: KMeans is known to have a memory leak on Windows with MKL, when there are less chunks than available threads. You can avoid it by setting the environment variable OMP_NUM_THREADS=10.\n",
      "  warnings.warn(\n"
     ]
    },
    {
     "name": "stdout",
     "output_type": "stream",
     "text": [
      "Acc(NMI) = 0.0771 (0.0669)\n"
     ]
    },
    {
     "name": "stderr",
     "output_type": "stream",
     "text": [
      "D:\\Software\\Anaconda3\\anaconda3\\Lib\\site-packages\\sklearn\\cluster\\_kmeans.py:1429: UserWarning: KMeans is known to have a memory leak on Windows with MKL, when there are less chunks than available threads. You can avoid it by setting the environment variable OMP_NUM_THREADS=10.\n",
      "  warnings.warn(\n"
     ]
    },
    {
     "name": "stdout",
     "output_type": "stream",
     "text": [
      "Acc(NMI) = 0.1450 (0.2077)\n"
     ]
    },
    {
     "name": "stderr",
     "output_type": "stream",
     "text": [
      "D:\\Software\\Anaconda3\\anaconda3\\Lib\\site-packages\\sklearn\\cluster\\_kmeans.py:1429: UserWarning: KMeans is known to have a memory leak on Windows with MKL, when there are less chunks than available threads. You can avoid it by setting the environment variable OMP_NUM_THREADS=10.\n",
      "  warnings.warn(\n"
     ]
    },
    {
     "name": "stdout",
     "output_type": "stream",
     "text": [
      "Acc(NMI) = 0.1181 (0.1715)\n"
     ]
    },
    {
     "name": "stderr",
     "output_type": "stream",
     "text": [
      "D:\\Software\\Anaconda3\\anaconda3\\Lib\\site-packages\\sklearn\\cluster\\_kmeans.py:1429: UserWarning: KMeans is known to have a memory leak on Windows with MKL, when there are less chunks than available threads. You can avoid it by setting the environment variable OMP_NUM_THREADS=10.\n",
      "  warnings.warn(\n"
     ]
    },
    {
     "name": "stdout",
     "output_type": "stream",
     "text": [
      "Acc(NMI) = 0.0899 (0.0902)\n"
     ]
    },
    {
     "name": "stderr",
     "output_type": "stream",
     "text": [
      "D:\\Software\\Anaconda3\\anaconda3\\Lib\\site-packages\\sklearn\\cluster\\_kmeans.py:1429: UserWarning: KMeans is known to have a memory leak on Windows with MKL, when there are less chunks than available threads. You can avoid it by setting the environment variable OMP_NUM_THREADS=10.\n",
      "  warnings.warn(\n"
     ]
    },
    {
     "name": "stdout",
     "output_type": "stream",
     "text": [
      "Acc(NMI) = 0.0795 (0.0591)\n"
     ]
    },
    {
     "name": "stderr",
     "output_type": "stream",
     "text": [
      "D:\\Software\\Anaconda3\\anaconda3\\Lib\\site-packages\\sklearn\\cluster\\_kmeans.py:1429: UserWarning: KMeans is known to have a memory leak on Windows with MKL, when there are less chunks than available threads. You can avoid it by setting the environment variable OMP_NUM_THREADS=10.\n",
      "  warnings.warn(\n"
     ]
    },
    {
     "name": "stdout",
     "output_type": "stream",
     "text": [
      "Acc(NMI) = 0.0729 (0.0609)\n"
     ]
    },
    {
     "name": "stderr",
     "output_type": "stream",
     "text": [
      "D:\\Software\\Anaconda3\\anaconda3\\Lib\\site-packages\\sklearn\\cluster\\_kmeans.py:1429: UserWarning: KMeans is known to have a memory leak on Windows with MKL, when there are less chunks than available threads. You can avoid it by setting the environment variable OMP_NUM_THREADS=10.\n",
      "  warnings.warn(\n"
     ]
    },
    {
     "name": "stdout",
     "output_type": "stream",
     "text": [
      "Acc(NMI) = 0.0754 (0.0716)\n"
     ]
    },
    {
     "name": "stderr",
     "output_type": "stream",
     "text": [
      "D:\\Software\\Anaconda3\\anaconda3\\Lib\\site-packages\\sklearn\\cluster\\_kmeans.py:1429: UserWarning: KMeans is known to have a memory leak on Windows with MKL, when there are less chunks than available threads. You can avoid it by setting the environment variable OMP_NUM_THREADS=10.\n",
      "  warnings.warn(\n"
     ]
    },
    {
     "name": "stdout",
     "output_type": "stream",
     "text": [
      "Acc(NMI) = 0.1512 (0.2258)\n"
     ]
    },
    {
     "name": "stderr",
     "output_type": "stream",
     "text": [
      "D:\\Software\\Anaconda3\\anaconda3\\Lib\\site-packages\\sklearn\\cluster\\_kmeans.py:1429: UserWarning: KMeans is known to have a memory leak on Windows with MKL, when there are less chunks than available threads. You can avoid it by setting the environment variable OMP_NUM_THREADS=10.\n",
      "  warnings.warn(\n"
     ]
    },
    {
     "name": "stdout",
     "output_type": "stream",
     "text": [
      "Acc(NMI) = 0.1297 (0.1997)\n"
     ]
    },
    {
     "name": "stderr",
     "output_type": "stream",
     "text": [
      "D:\\Software\\Anaconda3\\anaconda3\\Lib\\site-packages\\sklearn\\cluster\\_kmeans.py:1429: UserWarning: KMeans is known to have a memory leak on Windows with MKL, when there are less chunks than available threads. You can avoid it by setting the environment variable OMP_NUM_THREADS=10.\n",
      "  warnings.warn(\n"
     ]
    },
    {
     "name": "stdout",
     "output_type": "stream",
     "text": [
      "Acc(NMI) = 0.0965 (0.0968)\n"
     ]
    },
    {
     "name": "stderr",
     "output_type": "stream",
     "text": [
      "D:\\Software\\Anaconda3\\anaconda3\\Lib\\site-packages\\sklearn\\cluster\\_kmeans.py:1429: UserWarning: KMeans is known to have a memory leak on Windows with MKL, when there are less chunks than available threads. You can avoid it by setting the environment variable OMP_NUM_THREADS=10.\n",
      "  warnings.warn(\n"
     ]
    },
    {
     "name": "stdout",
     "output_type": "stream",
     "text": [
      "Acc(NMI) = 0.0762 (0.0642)\n"
     ]
    },
    {
     "name": "stderr",
     "output_type": "stream",
     "text": [
      "D:\\Software\\Anaconda3\\anaconda3\\Lib\\site-packages\\sklearn\\cluster\\_kmeans.py:1429: UserWarning: KMeans is known to have a memory leak on Windows with MKL, when there are less chunks than available threads. You can avoid it by setting the environment variable OMP_NUM_THREADS=10.\n",
      "  warnings.warn(\n"
     ]
    },
    {
     "name": "stdout",
     "output_type": "stream",
     "text": [
      "Acc(NMI) = 0.0758 (0.0662)\n"
     ]
    },
    {
     "name": "stderr",
     "output_type": "stream",
     "text": [
      "D:\\Software\\Anaconda3\\anaconda3\\Lib\\site-packages\\sklearn\\cluster\\_kmeans.py:1429: UserWarning: KMeans is known to have a memory leak on Windows with MKL, when there are less chunks than available threads. You can avoid it by setting the environment variable OMP_NUM_THREADS=10.\n",
      "  warnings.warn(\n"
     ]
    },
    {
     "name": "stdout",
     "output_type": "stream",
     "text": [
      "Acc(NMI) = 0.0737 (0.0620)\n"
     ]
    },
    {
     "name": "stderr",
     "output_type": "stream",
     "text": [
      "D:\\Software\\Anaconda3\\anaconda3\\Lib\\site-packages\\sklearn\\cluster\\_kmeans.py:1429: UserWarning: KMeans is known to have a memory leak on Windows with MKL, when there are less chunks than available threads. You can avoid it by setting the environment variable OMP_NUM_THREADS=10.\n",
      "  warnings.warn(\n"
     ]
    },
    {
     "name": "stdout",
     "output_type": "stream",
     "text": [
      "Acc(NMI) = 0.1413 (0.2149)\n"
     ]
    },
    {
     "name": "stderr",
     "output_type": "stream",
     "text": [
      "D:\\Software\\Anaconda3\\anaconda3\\Lib\\site-packages\\sklearn\\cluster\\_kmeans.py:1429: UserWarning: KMeans is known to have a memory leak on Windows with MKL, when there are less chunks than available threads. You can avoid it by setting the environment variable OMP_NUM_THREADS=10.\n",
      "  warnings.warn(\n"
     ]
    },
    {
     "name": "stdout",
     "output_type": "stream",
     "text": [
      "Acc(NMI) = 0.1226 (0.1847)\n"
     ]
    },
    {
     "name": "stderr",
     "output_type": "stream",
     "text": [
      "D:\\Software\\Anaconda3\\anaconda3\\Lib\\site-packages\\sklearn\\cluster\\_kmeans.py:1429: UserWarning: KMeans is known to have a memory leak on Windows with MKL, when there are less chunks than available threads. You can avoid it by setting the environment variable OMP_NUM_THREADS=10.\n",
      "  warnings.warn(\n"
     ]
    },
    {
     "name": "stdout",
     "output_type": "stream",
     "text": [
      "Acc(NMI) = 0.0891 (0.0857)\n"
     ]
    },
    {
     "name": "stderr",
     "output_type": "stream",
     "text": [
      "D:\\Software\\Anaconda3\\anaconda3\\Lib\\site-packages\\sklearn\\cluster\\_kmeans.py:1429: UserWarning: KMeans is known to have a memory leak on Windows with MKL, when there are less chunks than available threads. You can avoid it by setting the environment variable OMP_NUM_THREADS=10.\n",
      "  warnings.warn(\n"
     ]
    },
    {
     "name": "stdout",
     "output_type": "stream",
     "text": [
      "Acc(NMI) = 0.0787 (0.0677)\n"
     ]
    },
    {
     "name": "stderr",
     "output_type": "stream",
     "text": [
      "D:\\Software\\Anaconda3\\anaconda3\\Lib\\site-packages\\sklearn\\cluster\\_kmeans.py:1429: UserWarning: KMeans is known to have a memory leak on Windows with MKL, when there are less chunks than available threads. You can avoid it by setting the environment variable OMP_NUM_THREADS=10.\n",
      "  warnings.warn(\n"
     ]
    },
    {
     "name": "stdout",
     "output_type": "stream",
     "text": [
      "Acc(NMI) = 0.0779 (0.0626)\n"
     ]
    },
    {
     "name": "stderr",
     "output_type": "stream",
     "text": [
      "D:\\Software\\Anaconda3\\anaconda3\\Lib\\site-packages\\sklearn\\cluster\\_kmeans.py:1429: UserWarning: KMeans is known to have a memory leak on Windows with MKL, when there are less chunks than available threads. You can avoid it by setting the environment variable OMP_NUM_THREADS=10.\n",
      "  warnings.warn(\n"
     ]
    },
    {
     "name": "stdout",
     "output_type": "stream",
     "text": [
      "Acc(NMI) = 0.0742 (0.0642)\n"
     ]
    },
    {
     "name": "stderr",
     "output_type": "stream",
     "text": [
      "D:\\Software\\Anaconda3\\anaconda3\\Lib\\site-packages\\sklearn\\cluster\\_kmeans.py:1429: UserWarning: KMeans is known to have a memory leak on Windows with MKL, when there are less chunks than available threads. You can avoid it by setting the environment variable OMP_NUM_THREADS=10.\n",
      "  warnings.warn(\n"
     ]
    },
    {
     "name": "stdout",
     "output_type": "stream",
     "text": [
      "Acc(NMI) = 0.1379 (0.2134)\n"
     ]
    },
    {
     "name": "stderr",
     "output_type": "stream",
     "text": [
      "D:\\Software\\Anaconda3\\anaconda3\\Lib\\site-packages\\sklearn\\cluster\\_kmeans.py:1429: UserWarning: KMeans is known to have a memory leak on Windows with MKL, when there are less chunks than available threads. You can avoid it by setting the environment variable OMP_NUM_THREADS=10.\n",
      "  warnings.warn(\n"
     ]
    },
    {
     "name": "stdout",
     "output_type": "stream",
     "text": [
      "Acc(NMI) = 0.1272 (0.1724)\n"
     ]
    },
    {
     "name": "stderr",
     "output_type": "stream",
     "text": [
      "D:\\Software\\Anaconda3\\anaconda3\\Lib\\site-packages\\sklearn\\cluster\\_kmeans.py:1429: UserWarning: KMeans is known to have a memory leak on Windows with MKL, when there are less chunks than available threads. You can avoid it by setting the environment variable OMP_NUM_THREADS=10.\n",
      "  warnings.warn(\n"
     ]
    },
    {
     "name": "stdout",
     "output_type": "stream",
     "text": [
      "Acc(NMI) = 0.0874 (0.0969)\n"
     ]
    },
    {
     "name": "stderr",
     "output_type": "stream",
     "text": [
      "D:\\Software\\Anaconda3\\anaconda3\\Lib\\site-packages\\sklearn\\cluster\\_kmeans.py:1429: UserWarning: KMeans is known to have a memory leak on Windows with MKL, when there are less chunks than available threads. You can avoid it by setting the environment variable OMP_NUM_THREADS=10.\n",
      "  warnings.warn(\n"
     ]
    },
    {
     "name": "stdout",
     "output_type": "stream",
     "text": [
      "Acc(NMI) = 0.0771 (0.0610)\n"
     ]
    },
    {
     "name": "stderr",
     "output_type": "stream",
     "text": [
      "D:\\Software\\Anaconda3\\anaconda3\\Lib\\site-packages\\sklearn\\cluster\\_kmeans.py:1429: UserWarning: KMeans is known to have a memory leak on Windows with MKL, when there are less chunks than available threads. You can avoid it by setting the environment variable OMP_NUM_THREADS=10.\n",
      "  warnings.warn(\n"
     ]
    },
    {
     "name": "stdout",
     "output_type": "stream",
     "text": [
      "Acc(NMI) = 0.0791 (0.0702)\n"
     ]
    },
    {
     "name": "stderr",
     "output_type": "stream",
     "text": [
      "D:\\Software\\Anaconda3\\anaconda3\\Lib\\site-packages\\sklearn\\cluster\\_kmeans.py:1429: UserWarning: KMeans is known to have a memory leak on Windows with MKL, when there are less chunks than available threads. You can avoid it by setting the environment variable OMP_NUM_THREADS=10.\n",
      "  warnings.warn(\n"
     ]
    },
    {
     "name": "stdout",
     "output_type": "stream",
     "text": [
      "Acc(NMI) = 0.0795 (0.0622)\n"
     ]
    },
    {
     "name": "stderr",
     "output_type": "stream",
     "text": [
      "D:\\Software\\Anaconda3\\anaconda3\\Lib\\site-packages\\sklearn\\cluster\\_kmeans.py:1429: UserWarning: KMeans is known to have a memory leak on Windows with MKL, when there are less chunks than available threads. You can avoid it by setting the environment variable OMP_NUM_THREADS=10.\n",
      "  warnings.warn(\n"
     ]
    },
    {
     "name": "stdout",
     "output_type": "stream",
     "text": [
      "Acc(NMI) = 0.1462 (0.2291)\n"
     ]
    },
    {
     "name": "stderr",
     "output_type": "stream",
     "text": [
      "D:\\Software\\Anaconda3\\anaconda3\\Lib\\site-packages\\sklearn\\cluster\\_kmeans.py:1429: UserWarning: KMeans is known to have a memory leak on Windows with MKL, when there are less chunks than available threads. You can avoid it by setting the environment variable OMP_NUM_THREADS=10.\n",
      "  warnings.warn(\n"
     ]
    },
    {
     "name": "stdout",
     "output_type": "stream",
     "text": [
      "Acc(NMI) = 0.1172 (0.1772)\n"
     ]
    },
    {
     "name": "stderr",
     "output_type": "stream",
     "text": [
      "D:\\Software\\Anaconda3\\anaconda3\\Lib\\site-packages\\sklearn\\cluster\\_kmeans.py:1429: UserWarning: KMeans is known to have a memory leak on Windows with MKL, when there are less chunks than available threads. You can avoid it by setting the environment variable OMP_NUM_THREADS=10.\n",
      "  warnings.warn(\n"
     ]
    },
    {
     "name": "stdout",
     "output_type": "stream",
     "text": [
      "Acc(NMI) = 0.0915 (0.0952)\n"
     ]
    },
    {
     "name": "stderr",
     "output_type": "stream",
     "text": [
      "D:\\Software\\Anaconda3\\anaconda3\\Lib\\site-packages\\sklearn\\cluster\\_kmeans.py:1429: UserWarning: KMeans is known to have a memory leak on Windows with MKL, when there are less chunks than available threads. You can avoid it by setting the environment variable OMP_NUM_THREADS=10.\n",
      "  warnings.warn(\n"
     ]
    },
    {
     "name": "stdout",
     "output_type": "stream",
     "text": [
      "Acc(NMI) = 0.0742 (0.0606)\n"
     ]
    },
    {
     "name": "stderr",
     "output_type": "stream",
     "text": [
      "D:\\Software\\Anaconda3\\anaconda3\\Lib\\site-packages\\sklearn\\cluster\\_kmeans.py:1429: UserWarning: KMeans is known to have a memory leak on Windows with MKL, when there are less chunks than available threads. You can avoid it by setting the environment variable OMP_NUM_THREADS=10.\n",
      "  warnings.warn(\n"
     ]
    },
    {
     "name": "stdout",
     "output_type": "stream",
     "text": [
      "Acc(NMI) = 0.0766 (0.0725)\n"
     ]
    },
    {
     "name": "stderr",
     "output_type": "stream",
     "text": [
      "D:\\Software\\Anaconda3\\anaconda3\\Lib\\site-packages\\sklearn\\cluster\\_kmeans.py:1429: UserWarning: KMeans is known to have a memory leak on Windows with MKL, when there are less chunks than available threads. You can avoid it by setting the environment variable OMP_NUM_THREADS=10.\n",
      "  warnings.warn(\n"
     ]
    },
    {
     "name": "stdout",
     "output_type": "stream",
     "text": [
      "Acc(NMI) = 0.0779 (0.0698)\n"
     ]
    },
    {
     "name": "stderr",
     "output_type": "stream",
     "text": [
      "D:\\Software\\Anaconda3\\anaconda3\\Lib\\site-packages\\sklearn\\cluster\\_kmeans.py:1429: UserWarning: KMeans is known to have a memory leak on Windows with MKL, when there are less chunks than available threads. You can avoid it by setting the environment variable OMP_NUM_THREADS=10.\n",
      "  warnings.warn(\n"
     ]
    },
    {
     "name": "stdout",
     "output_type": "stream",
     "text": [
      "Acc(NMI) = 0.1421 (0.2088)\n"
     ]
    },
    {
     "name": "stderr",
     "output_type": "stream",
     "text": [
      "D:\\Software\\Anaconda3\\anaconda3\\Lib\\site-packages\\sklearn\\cluster\\_kmeans.py:1429: UserWarning: KMeans is known to have a memory leak on Windows with MKL, when there are less chunks than available threads. You can avoid it by setting the environment variable OMP_NUM_THREADS=10.\n",
      "  warnings.warn(\n"
     ]
    },
    {
     "name": "stdout",
     "output_type": "stream",
     "text": [
      "Acc(NMI) = 0.1222 (0.1749)\n"
     ]
    },
    {
     "name": "stderr",
     "output_type": "stream",
     "text": [
      "D:\\Software\\Anaconda3\\anaconda3\\Lib\\site-packages\\sklearn\\cluster\\_kmeans.py:1429: UserWarning: KMeans is known to have a memory leak on Windows with MKL, when there are less chunks than available threads. You can avoid it by setting the environment variable OMP_NUM_THREADS=10.\n",
      "  warnings.warn(\n"
     ]
    },
    {
     "name": "stdout",
     "output_type": "stream",
     "text": [
      "Acc(NMI) = 0.0944 (0.0957)\n"
     ]
    },
    {
     "name": "stderr",
     "output_type": "stream",
     "text": [
      "D:\\Software\\Anaconda3\\anaconda3\\Lib\\site-packages\\sklearn\\cluster\\_kmeans.py:1429: UserWarning: KMeans is known to have a memory leak on Windows with MKL, when there are less chunks than available threads. You can avoid it by setting the environment variable OMP_NUM_THREADS=10.\n",
      "  warnings.warn(\n"
     ]
    },
    {
     "name": "stdout",
     "output_type": "stream",
     "text": [
      "Acc(NMI) = 0.0804 (0.0716)\n"
     ]
    },
    {
     "name": "stderr",
     "output_type": "stream",
     "text": [
      "D:\\Software\\Anaconda3\\anaconda3\\Lib\\site-packages\\sklearn\\cluster\\_kmeans.py:1429: UserWarning: KMeans is known to have a memory leak on Windows with MKL, when there are less chunks than available threads. You can avoid it by setting the environment variable OMP_NUM_THREADS=10.\n",
      "  warnings.warn(\n"
     ]
    },
    {
     "name": "stdout",
     "output_type": "stream",
     "text": [
      "Acc(NMI) = 0.0791 (0.0698)\n"
     ]
    },
    {
     "name": "stderr",
     "output_type": "stream",
     "text": [
      "D:\\Software\\Anaconda3\\anaconda3\\Lib\\site-packages\\sklearn\\cluster\\_kmeans.py:1429: UserWarning: KMeans is known to have a memory leak on Windows with MKL, when there are less chunks than available threads. You can avoid it by setting the environment variable OMP_NUM_THREADS=10.\n",
      "  warnings.warn(\n"
     ]
    },
    {
     "name": "stdout",
     "output_type": "stream",
     "text": [
      "Acc(NMI) = 0.0729 (0.0566)\n"
     ]
    },
    {
     "name": "stderr",
     "output_type": "stream",
     "text": [
      "D:\\Software\\Anaconda3\\anaconda3\\Lib\\site-packages\\sklearn\\cluster\\_kmeans.py:1429: UserWarning: KMeans is known to have a memory leak on Windows with MKL, when there are less chunks than available threads. You can avoid it by setting the environment variable OMP_NUM_THREADS=10.\n",
      "  warnings.warn(\n"
     ]
    },
    {
     "name": "stdout",
     "output_type": "stream",
     "text": [
      "Acc(NMI) = 0.1516 (0.2206)\n"
     ]
    },
    {
     "name": "stderr",
     "output_type": "stream",
     "text": [
      "D:\\Software\\Anaconda3\\anaconda3\\Lib\\site-packages\\sklearn\\cluster\\_kmeans.py:1429: UserWarning: KMeans is known to have a memory leak on Windows with MKL, when there are less chunks than available threads. You can avoid it by setting the environment variable OMP_NUM_THREADS=10.\n",
      "  warnings.warn(\n"
     ]
    },
    {
     "name": "stdout",
     "output_type": "stream",
     "text": [
      "Acc(NMI) = 0.1297 (0.1736)\n"
     ]
    },
    {
     "name": "stderr",
     "output_type": "stream",
     "text": [
      "D:\\Software\\Anaconda3\\anaconda3\\Lib\\site-packages\\sklearn\\cluster\\_kmeans.py:1429: UserWarning: KMeans is known to have a memory leak on Windows with MKL, when there are less chunks than available threads. You can avoid it by setting the environment variable OMP_NUM_THREADS=10.\n",
      "  warnings.warn(\n"
     ]
    },
    {
     "name": "stdout",
     "output_type": "stream",
     "text": [
      "Acc(NMI) = 0.0795 (0.0830)\n"
     ]
    },
    {
     "name": "stderr",
     "output_type": "stream",
     "text": [
      "D:\\Software\\Anaconda3\\anaconda3\\Lib\\site-packages\\sklearn\\cluster\\_kmeans.py:1429: UserWarning: KMeans is known to have a memory leak on Windows with MKL, when there are less chunks than available threads. You can avoid it by setting the environment variable OMP_NUM_THREADS=10.\n",
      "  warnings.warn(\n"
     ]
    },
    {
     "name": "stdout",
     "output_type": "stream",
     "text": [
      "Acc(NMI) = 0.0754 (0.0639)\n"
     ]
    },
    {
     "name": "stderr",
     "output_type": "stream",
     "text": [
      "D:\\Software\\Anaconda3\\anaconda3\\Lib\\site-packages\\sklearn\\cluster\\_kmeans.py:1429: UserWarning: KMeans is known to have a memory leak on Windows with MKL, when there are less chunks than available threads. You can avoid it by setting the environment variable OMP_NUM_THREADS=10.\n",
      "  warnings.warn(\n"
     ]
    },
    {
     "name": "stdout",
     "output_type": "stream",
     "text": [
      "Acc(NMI) = 0.0771 (0.0685)\n"
     ]
    },
    {
     "name": "stderr",
     "output_type": "stream",
     "text": [
      "D:\\Software\\Anaconda3\\anaconda3\\Lib\\site-packages\\sklearn\\cluster\\_kmeans.py:1429: UserWarning: KMeans is known to have a memory leak on Windows with MKL, when there are less chunks than available threads. You can avoid it by setting the environment variable OMP_NUM_THREADS=10.\n",
      "  warnings.warn(\n"
     ]
    },
    {
     "name": "stdout",
     "output_type": "stream",
     "text": [
      "Acc(NMI) = 0.0787 (0.0685)\n"
     ]
    },
    {
     "name": "stderr",
     "output_type": "stream",
     "text": [
      "D:\\Software\\Anaconda3\\anaconda3\\Lib\\site-packages\\sklearn\\cluster\\_kmeans.py:1429: UserWarning: KMeans is known to have a memory leak on Windows with MKL, when there are less chunks than available threads. You can avoid it by setting the environment variable OMP_NUM_THREADS=10.\n",
      "  warnings.warn(\n"
     ]
    },
    {
     "name": "stdout",
     "output_type": "stream",
     "text": [
      "Acc(NMI) = 0.1553 (0.2471)\n"
     ]
    },
    {
     "name": "stderr",
     "output_type": "stream",
     "text": [
      "D:\\Software\\Anaconda3\\anaconda3\\Lib\\site-packages\\sklearn\\cluster\\_kmeans.py:1429: UserWarning: KMeans is known to have a memory leak on Windows with MKL, when there are less chunks than available threads. You can avoid it by setting the environment variable OMP_NUM_THREADS=10.\n",
      "  warnings.warn(\n"
     ]
    },
    {
     "name": "stdout",
     "output_type": "stream",
     "text": [
      "Acc(NMI) = 0.1413 (0.1927)\n"
     ]
    },
    {
     "name": "stderr",
     "output_type": "stream",
     "text": [
      "D:\\Software\\Anaconda3\\anaconda3\\Lib\\site-packages\\sklearn\\cluster\\_kmeans.py:1429: UserWarning: KMeans is known to have a memory leak on Windows with MKL, when there are less chunks than available threads. You can avoid it by setting the environment variable OMP_NUM_THREADS=10.\n",
      "  warnings.warn(\n"
     ]
    },
    {
     "name": "stdout",
     "output_type": "stream",
     "text": [
      "Acc(NMI) = 0.0841 (0.0832)\n"
     ]
    },
    {
     "name": "stderr",
     "output_type": "stream",
     "text": [
      "D:\\Software\\Anaconda3\\anaconda3\\Lib\\site-packages\\sklearn\\cluster\\_kmeans.py:1429: UserWarning: KMeans is known to have a memory leak on Windows with MKL, when there are less chunks than available threads. You can avoid it by setting the environment variable OMP_NUM_THREADS=10.\n",
      "  warnings.warn(\n"
     ]
    },
    {
     "name": "stdout",
     "output_type": "stream",
     "text": [
      "Acc(NMI) = 0.0771 (0.0651)\n"
     ]
    },
    {
     "name": "stderr",
     "output_type": "stream",
     "text": [
      "D:\\Software\\Anaconda3\\anaconda3\\Lib\\site-packages\\sklearn\\cluster\\_kmeans.py:1429: UserWarning: KMeans is known to have a memory leak on Windows with MKL, when there are less chunks than available threads. You can avoid it by setting the environment variable OMP_NUM_THREADS=10.\n",
      "  warnings.warn(\n"
     ]
    },
    {
     "name": "stdout",
     "output_type": "stream",
     "text": [
      "Acc(NMI) = 0.0746 (0.0683)\n"
     ]
    },
    {
     "name": "stderr",
     "output_type": "stream",
     "text": [
      "D:\\Software\\Anaconda3\\anaconda3\\Lib\\site-packages\\sklearn\\cluster\\_kmeans.py:1429: UserWarning: KMeans is known to have a memory leak on Windows with MKL, when there are less chunks than available threads. You can avoid it by setting the environment variable OMP_NUM_THREADS=10.\n",
      "  warnings.warn(\n"
     ]
    },
    {
     "name": "stdout",
     "output_type": "stream",
     "text": [
      "Acc(NMI) = 0.0762 (0.0639)\n"
     ]
    },
    {
     "name": "stderr",
     "output_type": "stream",
     "text": [
      "D:\\Software\\Anaconda3\\anaconda3\\Lib\\site-packages\\sklearn\\cluster\\_kmeans.py:1429: UserWarning: KMeans is known to have a memory leak on Windows with MKL, when there are less chunks than available threads. You can avoid it by setting the environment variable OMP_NUM_THREADS=10.\n",
      "  warnings.warn(\n"
     ]
    },
    {
     "name": "stdout",
     "output_type": "stream",
     "text": [
      "Acc(NMI) = 0.1578 (0.2537)\n"
     ]
    },
    {
     "name": "stderr",
     "output_type": "stream",
     "text": [
      "D:\\Software\\Anaconda3\\anaconda3\\Lib\\site-packages\\sklearn\\cluster\\_kmeans.py:1429: UserWarning: KMeans is known to have a memory leak on Windows with MKL, when there are less chunks than available threads. You can avoid it by setting the environment variable OMP_NUM_THREADS=10.\n",
      "  warnings.warn(\n"
     ]
    },
    {
     "name": "stdout",
     "output_type": "stream",
     "text": [
      "Acc(NMI) = 0.1284 (0.1825)\n"
     ]
    },
    {
     "name": "stderr",
     "output_type": "stream",
     "text": [
      "D:\\Software\\Anaconda3\\anaconda3\\Lib\\site-packages\\sklearn\\cluster\\_kmeans.py:1429: UserWarning: KMeans is known to have a memory leak on Windows with MKL, when there are less chunks than available threads. You can avoid it by setting the environment variable OMP_NUM_THREADS=10.\n",
      "  warnings.warn(\n"
     ]
    },
    {
     "name": "stdout",
     "output_type": "stream",
     "text": [
      "Acc(NMI) = 0.0953 (0.1108)\n"
     ]
    },
    {
     "name": "stderr",
     "output_type": "stream",
     "text": [
      "D:\\Software\\Anaconda3\\anaconda3\\Lib\\site-packages\\sklearn\\cluster\\_kmeans.py:1429: UserWarning: KMeans is known to have a memory leak on Windows with MKL, when there are less chunks than available threads. You can avoid it by setting the environment variable OMP_NUM_THREADS=10.\n",
      "  warnings.warn(\n"
     ]
    },
    {
     "name": "stdout",
     "output_type": "stream",
     "text": [
      "Acc(NMI) = 0.0737 (0.0601)\n"
     ]
    },
    {
     "name": "stderr",
     "output_type": "stream",
     "text": [
      "D:\\Software\\Anaconda3\\anaconda3\\Lib\\site-packages\\sklearn\\cluster\\_kmeans.py:1429: UserWarning: KMeans is known to have a memory leak on Windows with MKL, when there are less chunks than available threads. You can avoid it by setting the environment variable OMP_NUM_THREADS=10.\n",
      "  warnings.warn(\n"
     ]
    },
    {
     "name": "stdout",
     "output_type": "stream",
     "text": [
      "Acc(NMI) = 0.0766 (0.0622)\n"
     ]
    },
    {
     "name": "stderr",
     "output_type": "stream",
     "text": [
      "D:\\Software\\Anaconda3\\anaconda3\\Lib\\site-packages\\sklearn\\cluster\\_kmeans.py:1429: UserWarning: KMeans is known to have a memory leak on Windows with MKL, when there are less chunks than available threads. You can avoid it by setting the environment variable OMP_NUM_THREADS=10.\n",
      "  warnings.warn(\n"
     ]
    },
    {
     "name": "stdout",
     "output_type": "stream",
     "text": [
      "Acc(NMI) = 0.0779 (0.0621)\n"
     ]
    },
    {
     "name": "stderr",
     "output_type": "stream",
     "text": [
      "D:\\Software\\Anaconda3\\anaconda3\\Lib\\site-packages\\sklearn\\cluster\\_kmeans.py:1429: UserWarning: KMeans is known to have a memory leak on Windows with MKL, when there are less chunks than available threads. You can avoid it by setting the environment variable OMP_NUM_THREADS=10.\n",
      "  warnings.warn(\n"
     ]
    },
    {
     "name": "stdout",
     "output_type": "stream",
     "text": [
      "Acc(NMI) = 0.1570 (0.2326)\n"
     ]
    },
    {
     "name": "stderr",
     "output_type": "stream",
     "text": [
      "D:\\Software\\Anaconda3\\anaconda3\\Lib\\site-packages\\sklearn\\cluster\\_kmeans.py:1429: UserWarning: KMeans is known to have a memory leak on Windows with MKL, when there are less chunks than available threads. You can avoid it by setting the environment variable OMP_NUM_THREADS=10.\n",
      "  warnings.warn(\n"
     ]
    },
    {
     "name": "stdout",
     "output_type": "stream",
     "text": [
      "Acc(NMI) = 0.1251 (0.1888)\n"
     ]
    },
    {
     "name": "stderr",
     "output_type": "stream",
     "text": [
      "D:\\Software\\Anaconda3\\anaconda3\\Lib\\site-packages\\sklearn\\cluster\\_kmeans.py:1429: UserWarning: KMeans is known to have a memory leak on Windows with MKL, when there are less chunks than available threads. You can avoid it by setting the environment variable OMP_NUM_THREADS=10.\n",
      "  warnings.warn(\n"
     ]
    },
    {
     "name": "stdout",
     "output_type": "stream",
     "text": [
      "Acc(NMI) = 0.0915 (0.0935)\n"
     ]
    },
    {
     "name": "stderr",
     "output_type": "stream",
     "text": [
      "D:\\Software\\Anaconda3\\anaconda3\\Lib\\site-packages\\sklearn\\cluster\\_kmeans.py:1429: UserWarning: KMeans is known to have a memory leak on Windows with MKL, when there are less chunks than available threads. You can avoid it by setting the environment variable OMP_NUM_THREADS=10.\n",
      "  warnings.warn(\n"
     ]
    },
    {
     "name": "stdout",
     "output_type": "stream",
     "text": [
      "Acc(NMI) = 0.0742 (0.0627)\n"
     ]
    },
    {
     "name": "stderr",
     "output_type": "stream",
     "text": [
      "D:\\Software\\Anaconda3\\anaconda3\\Lib\\site-packages\\sklearn\\cluster\\_kmeans.py:1429: UserWarning: KMeans is known to have a memory leak on Windows with MKL, when there are less chunks than available threads. You can avoid it by setting the environment variable OMP_NUM_THREADS=10.\n",
      "  warnings.warn(\n"
     ]
    },
    {
     "name": "stdout",
     "output_type": "stream",
     "text": [
      "Acc(NMI) = 0.0742 (0.0601)\n",
      "Acc(NMI) = 0.0742 (0.0616)\n"
     ]
    },
    {
     "name": "stderr",
     "output_type": "stream",
     "text": [
      "D:\\Software\\Anaconda3\\anaconda3\\Lib\\site-packages\\sklearn\\cluster\\_kmeans.py:1429: UserWarning: KMeans is known to have a memory leak on Windows with MKL, when there are less chunks than available threads. You can avoid it by setting the environment variable OMP_NUM_THREADS=10.\n",
      "  warnings.warn(\n"
     ]
    }
   ],
   "source": [
    "Algo = 'HC'\n",
    "Data = 'YaleB'\n",
    "dataset = 'data/CroppedYaleB'\n",
    "reduce = 3\n",
    "X, Y = load_data(dataset, reduce=reduce)\n",
    "rank = 30\n",
    "steps = 10000\n",
    "deltas = [0.1,0.2,0.5]\n",
    "eps = 1e-8\n",
    "verbose = False\n",
    "seeds = [0,1,2,3,4]\n",
    "pr_lst = [(0,0),(0.1,0.1),(0.2,0.2),(0.3,0.3),(0.4,0.4),(0.5,0.5)]\n",
    "record_HC_Yale = []\n",
    "tol = 1e-3\n",
    "\n",
    "for seed in seeds:\n",
    "    np.random.seed(seed)\n",
    "    for delta in deltas:\n",
    "        for p, r in pr_lst:\n",
    "            # X_noisy, noise = salt_pepper(X, p, r)\n",
    "            X_noisy, Y = load_data_salt_pepper(dataset, reduce, p, r)\n",
    "            start = time.time()\n",
    "            W, H, WH, step = hypersurface_nmf(X_noisy, rank, steps, tol, delta, eps, verbose)\n",
    "            end = time.time()\n",
    "            timeusing = end - start\n",
    "            rre = relative_reconstruction_error(X_noisy, WH)\n",
    "            acc, nmi = evaluate_clustering(H, Y)\n",
    "            record_HC_Yale.append(((p,r),delta,acc,nmi,rre, step, seed, timeusing))"
   ]
  },
  {
   "cell_type": "code",
   "execution_count": 47,
   "id": "a8089736-85b8-431d-92a8-6c5649bbe2a5",
   "metadata": {
    "scrolled": true
   },
   "outputs": [
    {
     "name": "stdout",
     "output_type": "stream",
     "text": [
      "         (p,r)  delta       acc       nmi       rre  step  seed       time\n",
      "0       (0, 0)    0.1  0.135460  0.232057  0.273604   129     0  77.480723\n",
      "1   (0.1, 0.1)    0.1  0.135460  0.198274  0.481477    85     0  52.030591\n",
      "2   (0.2, 0.2)    0.1  0.095278  0.112425  0.620534    54     0  32.791454\n",
      "3   (0.3, 0.3)    0.1  0.080779  0.066166  0.692525    41     0  24.278158\n",
      "4   (0.4, 0.4)    0.1  0.073322  0.059158  0.747842     3     0   1.824203\n",
      "..         ...    ...       ...       ...       ...   ...   ...        ...\n",
      "85  (0.1, 0.1)    0.5  0.125104  0.188803  0.481680    80     4  49.991976\n",
      "86  (0.2, 0.2)    0.5  0.091549  0.093508  0.620890    51     4  31.168733\n",
      "87  (0.3, 0.3)    0.5  0.074151  0.062704  0.692604    41     4  26.399241\n",
      "88  (0.4, 0.4)    0.5  0.074151  0.060136  0.747455     4     4   2.660162\n",
      "89  (0.5, 0.5)    0.5  0.074151  0.061599  0.726080     4     4   2.540248\n",
      "\n",
      "[90 rows x 8 columns]\n",
      "         (p,r)  delta  RRE_mean   RRE_std  ACC_mean   ACC_std  NMI_mean  \\\n",
      "0       (0, 0)    0.1  0.274025  0.000781  0.151698  0.012763  0.236755   \n",
      "1       (0, 0)    0.2  0.273112  0.001788  0.145733  0.006853  0.228581   \n",
      "2       (0, 0)    0.5  0.272686  0.000615  0.148053  0.007155  0.215139   \n",
      "3   (0.1, 0.1)    0.1  0.481480  0.000441  0.129660  0.009318  0.188434   \n",
      "4   (0.1, 0.1)    0.2  0.482126  0.000804  0.126015  0.003408  0.176416   \n",
      "5   (0.1, 0.1)    0.5  0.481999  0.001135  0.123695  0.005212  0.176858   \n",
      "6   (0.2, 0.2)    0.1  0.621222  0.000510  0.091881  0.004843  0.097420   \n",
      "7   (0.2, 0.2)    0.2  0.621495  0.000798  0.089727  0.005028  0.095029   \n",
      "8   (0.2, 0.2)    0.5  0.621349  0.000355  0.087324  0.004635  0.089612   \n",
      "9   (0.3, 0.3)    0.1  0.692509  0.000274  0.076968  0.002405  0.064009   \n",
      "10  (0.3, 0.3)    0.2  0.692539  0.000398  0.076885  0.002773  0.066278   \n",
      "11  (0.3, 0.3)    0.5  0.692772  0.000459  0.076139  0.002200  0.060865   \n",
      "12  (0.4, 0.4)    0.1  0.747545  0.000170  0.075228  0.001297  0.067155   \n",
      "13  (0.4, 0.4)    0.2  0.747459  0.000056  0.077548  0.001031  0.063798   \n",
      "14  (0.4, 0.4)    0.5  0.741975  0.012235  0.076222  0.002604  0.065768   \n",
      "15  (0.5, 0.5)    0.1  0.725940  0.000160  0.075891  0.001588  0.063876   \n",
      "16  (0.5, 0.5)    0.2  0.725965  0.000174  0.075725  0.002100  0.061503   \n",
      "17  (0.5, 0.5)    0.5  0.726097  0.000038  0.077630  0.002710  0.066409   \n",
      "\n",
      "     NMI_std  \n",
      "0   0.010889  \n",
      "1   0.021010  \n",
      "2   0.012040  \n",
      "3   0.011911  \n",
      "4   0.010129  \n",
      "5   0.007128  \n",
      "6   0.010453  \n",
      "7   0.010288  \n",
      "8   0.005913  \n",
      "9   0.002067  \n",
      "10  0.004158  \n",
      "11  0.002589  \n",
      "12  0.005037  \n",
      "13  0.006245  \n",
      "14  0.004849  \n",
      "15  0.003436  \n",
      "16  0.004321  \n",
      "17  0.004348  \n"
     ]
    }
   ],
   "source": [
    "df_HC_Yale = pd.DataFrame(record_HC_Yale, columns=['(p,r)','delta','acc','nmi','rre','step','seed','time'])\n",
    "print(df_HC_Yale)\n",
    "summary = df_HC_Yale.groupby(['(p,r)','delta']).agg(\n",
    "    RRE_mean=('rre', 'mean'),\n",
    "    RRE_std=('rre', 'std'),\n",
    "    ACC_mean=('acc', 'mean'),\n",
    "    ACC_std=('acc', 'std'),\n",
    "    NMI_mean=('nmi', 'mean'),\n",
    "    NMI_std=('nmi', 'std')\n",
    ").reset_index()\n",
    "print(summary)\n",
    "df_HC_Yale.to_excel(f'{Algo}_{Data}.xlsx', index=True)"
   ]
  },
  {
   "cell_type": "markdown",
   "id": "7074ef2a-c9ee-43da-be4f-0664281d203d",
   "metadata": {},
   "source": [
    "## Stack NMF"
   ]
  },
  {
   "cell_type": "code",
   "execution_count": 14,
   "id": "424ea3bb-3a99-40bd-93a3-f1ccca999396",
   "metadata": {
    "scrolled": true
   },
   "outputs": [
    {
     "name": "stdout",
     "output_type": "stream",
     "text": [
      "Converged at step 77, e = 266.2816, rel_change=9.877e-04\n",
      "Converged at step 54, e = 3.2216, rel_change=9.766e-04\n"
     ]
    },
    {
     "name": "stderr",
     "output_type": "stream",
     "text": [
      "D:\\Software\\Anaconda3\\anaconda3\\Lib\\site-packages\\sklearn\\cluster\\_kmeans.py:1429: UserWarning: KMeans is known to have a memory leak on Windows with MKL, when there are less chunks than available threads. You can avoid it by setting the environment variable OMP_NUM_THREADS=10.\n",
      "  warnings.warn(\n"
     ]
    },
    {
     "name": "stdout",
     "output_type": "stream",
     "text": [
      "Acc(NMI) = 0.0667 (0.0389)\n",
      "Converged at step 58, e = 613.2671, rel_change=9.944e-04\n",
      "Converged at step 66, e = 2.5081, rel_change=9.427e-04\n",
      "Acc(NMI) = 0.0646 (0.0397)\n"
     ]
    },
    {
     "name": "stderr",
     "output_type": "stream",
     "text": [
      "D:\\Software\\Anaconda3\\anaconda3\\Lib\\site-packages\\sklearn\\cluster\\_kmeans.py:1429: UserWarning: KMeans is known to have a memory leak on Windows with MKL, when there are less chunks than available threads. You can avoid it by setting the environment variable OMP_NUM_THREADS=10.\n",
      "  warnings.warn(\n"
     ]
    },
    {
     "name": "stdout",
     "output_type": "stream",
     "text": [
      "Converged at step 43, e = 963.0315, rel_change=9.627e-04\n",
      "Converged at step 91, e = 1.1991, rel_change=9.951e-04\n",
      "Acc(NMI) = 0.0713 (0.0478)\n"
     ]
    },
    {
     "name": "stderr",
     "output_type": "stream",
     "text": [
      "D:\\Software\\Anaconda3\\anaconda3\\Lib\\site-packages\\sklearn\\cluster\\_kmeans.py:1429: UserWarning: KMeans is known to have a memory leak on Windows with MKL, when there are less chunks than available threads. You can avoid it by setting the environment variable OMP_NUM_THREADS=10.\n",
      "  warnings.warn(\n"
     ]
    },
    {
     "name": "stdout",
     "output_type": "stream",
     "text": [
      "Converged at step 3, e = 1354.5400, rel_change=9.578e-04\n",
      "Converged at step 60, e = 1.2682, rel_change=9.907e-04\n",
      "Acc(NMI) = 0.0737 (0.0591)\n"
     ]
    },
    {
     "name": "stderr",
     "output_type": "stream",
     "text": [
      "D:\\Software\\Anaconda3\\anaconda3\\Lib\\site-packages\\sklearn\\cluster\\_kmeans.py:1429: UserWarning: KMeans is known to have a memory leak on Windows with MKL, when there are less chunks than available threads. You can avoid it by setting the environment variable OMP_NUM_THREADS=10.\n",
      "  warnings.warn(\n"
     ]
    },
    {
     "name": "stdout",
     "output_type": "stream",
     "text": [
      "Converged at step 3, e = 1351.9529, rel_change=9.554e-04\n",
      "Converged at step 78, e = 1.2613, rel_change=9.839e-04\n",
      "Acc(NMI) = 0.0762 (0.0538)\n"
     ]
    },
    {
     "name": "stderr",
     "output_type": "stream",
     "text": [
      "D:\\Software\\Anaconda3\\anaconda3\\Lib\\site-packages\\sklearn\\cluster\\_kmeans.py:1429: UserWarning: KMeans is known to have a memory leak on Windows with MKL, when there are less chunks than available threads. You can avoid it by setting the environment variable OMP_NUM_THREADS=10.\n",
      "  warnings.warn(\n"
     ]
    },
    {
     "name": "stdout",
     "output_type": "stream",
     "text": [
      "Converged at step 4, e = 1274.5394, rel_change=9.043e-04\n",
      "Converged at step 75, e = 1.3101, rel_change=9.958e-04\n"
     ]
    },
    {
     "name": "stderr",
     "output_type": "stream",
     "text": [
      "D:\\Software\\Anaconda3\\anaconda3\\Lib\\site-packages\\sklearn\\cluster\\_kmeans.py:1429: UserWarning: KMeans is known to have a memory leak on Windows with MKL, when there are less chunks than available threads. You can avoid it by setting the environment variable OMP_NUM_THREADS=10.\n",
      "  warnings.warn(\n"
     ]
    },
    {
     "name": "stdout",
     "output_type": "stream",
     "text": [
      "Acc(NMI) = 0.0733 (0.0531)\n",
      "Converged at step 81, e = 267.7754, rel_change=9.820e-04\n",
      "Converged at step 41, e = 3.3510, rel_change=9.996e-04\n"
     ]
    },
    {
     "name": "stderr",
     "output_type": "stream",
     "text": [
      "D:\\Software\\Anaconda3\\anaconda3\\Lib\\site-packages\\sklearn\\cluster\\_kmeans.py:1429: UserWarning: KMeans is known to have a memory leak on Windows with MKL, when there are less chunks than available threads. You can avoid it by setting the environment variable OMP_NUM_THREADS=10.\n",
      "  warnings.warn(\n"
     ]
    },
    {
     "name": "stdout",
     "output_type": "stream",
     "text": [
      "Acc(NMI) = 0.0721 (0.0641)\n",
      "Converged at step 56, e = 620.7616, rel_change=9.883e-04\n",
      "Converged at step 45, e = 1.8496, rel_change=9.815e-04\n",
      "Acc(NMI) = 0.0667 (0.0368)\n"
     ]
    },
    {
     "name": "stderr",
     "output_type": "stream",
     "text": [
      "D:\\Software\\Anaconda3\\anaconda3\\Lib\\site-packages\\sklearn\\cluster\\_kmeans.py:1429: UserWarning: KMeans is known to have a memory leak on Windows with MKL, when there are less chunks than available threads. You can avoid it by setting the environment variable OMP_NUM_THREADS=10.\n",
      "  warnings.warn(\n"
     ]
    },
    {
     "name": "stdout",
     "output_type": "stream",
     "text": [
      "Converged at step 50, e = 959.1727, rel_change=9.665e-04\n",
      "Converged at step 95, e = 1.4524, rel_change=9.952e-04\n",
      "Acc(NMI) = 0.0721 (0.0492)\n"
     ]
    },
    {
     "name": "stderr",
     "output_type": "stream",
     "text": [
      "D:\\Software\\Anaconda3\\anaconda3\\Lib\\site-packages\\sklearn\\cluster\\_kmeans.py:1429: UserWarning: KMeans is known to have a memory leak on Windows with MKL, when there are less chunks than available threads. You can avoid it by setting the environment variable OMP_NUM_THREADS=10.\n",
      "  warnings.warn(\n"
     ]
    },
    {
     "name": "stdout",
     "output_type": "stream",
     "text": [
      "Converged at step 3, e = 1354.1200, rel_change=9.579e-04\n",
      "Converged at step 84, e = 1.2211, rel_change=9.816e-04\n",
      "Acc(NMI) = 0.0750 (0.0658)\n"
     ]
    },
    {
     "name": "stderr",
     "output_type": "stream",
     "text": [
      "D:\\Software\\Anaconda3\\anaconda3\\Lib\\site-packages\\sklearn\\cluster\\_kmeans.py:1429: UserWarning: KMeans is known to have a memory leak on Windows with MKL, when there are less chunks than available threads. You can avoid it by setting the environment variable OMP_NUM_THREADS=10.\n",
      "  warnings.warn(\n"
     ]
    },
    {
     "name": "stdout",
     "output_type": "stream",
     "text": [
      "Converged at step 3, e = 1351.6177, rel_change=9.854e-04\n",
      "Converged at step 63, e = 1.2364, rel_change=9.833e-04\n",
      "Acc(NMI) = 0.0829 (0.0735)\n"
     ]
    },
    {
     "name": "stderr",
     "output_type": "stream",
     "text": [
      "D:\\Software\\Anaconda3\\anaconda3\\Lib\\site-packages\\sklearn\\cluster\\_kmeans.py:1429: UserWarning: KMeans is known to have a memory leak on Windows with MKL, when there are less chunks than available threads. You can avoid it by setting the environment variable OMP_NUM_THREADS=10.\n",
      "  warnings.warn(\n"
     ]
    },
    {
     "name": "stdout",
     "output_type": "stream",
     "text": [
      "Converged at step 4, e = 1274.3175, rel_change=9.034e-04\n",
      "Converged at step 70, e = 1.2895, rel_change=9.939e-04\n",
      "Acc(NMI) = 0.0746 (0.0650)\n"
     ]
    },
    {
     "name": "stderr",
     "output_type": "stream",
     "text": [
      "D:\\Software\\Anaconda3\\anaconda3\\Lib\\site-packages\\sklearn\\cluster\\_kmeans.py:1429: UserWarning: KMeans is known to have a memory leak on Windows with MKL, when there are less chunks than available threads. You can avoid it by setting the environment variable OMP_NUM_THREADS=10.\n",
      "  warnings.warn(\n"
     ]
    },
    {
     "name": "stdout",
     "output_type": "stream",
     "text": [
      "Converged at step 87, e = 272.6847, rel_change=9.707e-04\n",
      "Converged at step 48, e = 2.9884, rel_change=9.772e-04\n",
      "Acc(NMI) = 0.0646 (0.0444)\n"
     ]
    },
    {
     "name": "stderr",
     "output_type": "stream",
     "text": [
      "D:\\Software\\Anaconda3\\anaconda3\\Lib\\site-packages\\sklearn\\cluster\\_kmeans.py:1429: UserWarning: KMeans is known to have a memory leak on Windows with MKL, when there are less chunks than available threads. You can avoid it by setting the environment variable OMP_NUM_THREADS=10.\n",
      "  warnings.warn(\n"
     ]
    },
    {
     "name": "stdout",
     "output_type": "stream",
     "text": [
      "Converged at step 62, e = 612.9973, rel_change=9.984e-04\n",
      "Converged at step 44, e = 2.5516, rel_change=9.957e-04\n",
      "Acc(NMI) = 0.0684 (0.0453)\n"
     ]
    },
    {
     "name": "stderr",
     "output_type": "stream",
     "text": [
      "D:\\Software\\Anaconda3\\anaconda3\\Lib\\site-packages\\sklearn\\cluster\\_kmeans.py:1429: UserWarning: KMeans is known to have a memory leak on Windows with MKL, when there are less chunks than available threads. You can avoid it by setting the environment variable OMP_NUM_THREADS=10.\n",
      "  warnings.warn(\n"
     ]
    },
    {
     "name": "stdout",
     "output_type": "stream",
     "text": [
      "Converged at step 45, e = 961.1477, rel_change=9.660e-04\n",
      "Converged at step 48, e = 1.2808, rel_change=9.140e-04\n",
      "Acc(NMI) = 0.0746 (0.0600)\n"
     ]
    },
    {
     "name": "stderr",
     "output_type": "stream",
     "text": [
      "D:\\Software\\Anaconda3\\anaconda3\\Lib\\site-packages\\sklearn\\cluster\\_kmeans.py:1429: UserWarning: KMeans is known to have a memory leak on Windows with MKL, when there are less chunks than available threads. You can avoid it by setting the environment variable OMP_NUM_THREADS=10.\n",
      "  warnings.warn(\n"
     ]
    },
    {
     "name": "stdout",
     "output_type": "stream",
     "text": [
      "Converged at step 4, e = 1353.2918, rel_change=9.597e-04\n",
      "Converged at step 73, e = 1.2387, rel_change=9.776e-04\n",
      "Acc(NMI) = 0.0717 (0.0570)\n"
     ]
    },
    {
     "name": "stderr",
     "output_type": "stream",
     "text": [
      "D:\\Software\\Anaconda3\\anaconda3\\Lib\\site-packages\\sklearn\\cluster\\_kmeans.py:1429: UserWarning: KMeans is known to have a memory leak on Windows with MKL, when there are less chunks than available threads. You can avoid it by setting the environment variable OMP_NUM_THREADS=10.\n",
      "  warnings.warn(\n"
     ]
    },
    {
     "name": "stdout",
     "output_type": "stream",
     "text": [
      "Converged at step 3, e = 1351.6428, rel_change=9.438e-04\n",
      "Converged at step 60, e = 1.2798, rel_change=9.856e-04\n",
      "Acc(NMI) = 0.0758 (0.0579)\n"
     ]
    },
    {
     "name": "stderr",
     "output_type": "stream",
     "text": [
      "D:\\Software\\Anaconda3\\anaconda3\\Lib\\site-packages\\sklearn\\cluster\\_kmeans.py:1429: UserWarning: KMeans is known to have a memory leak on Windows with MKL, when there are less chunks than available threads. You can avoid it by setting the environment variable OMP_NUM_THREADS=10.\n",
      "  warnings.warn(\n"
     ]
    },
    {
     "name": "stdout",
     "output_type": "stream",
     "text": [
      "Converged at step 4, e = 1274.5190, rel_change=8.876e-04\n",
      "Converged at step 69, e = 1.2689, rel_change=9.942e-04\n",
      "Acc(NMI) = 0.0771 (0.0654)\n"
     ]
    },
    {
     "name": "stderr",
     "output_type": "stream",
     "text": [
      "D:\\Software\\Anaconda3\\anaconda3\\Lib\\site-packages\\sklearn\\cluster\\_kmeans.py:1429: UserWarning: KMeans is known to have a memory leak on Windows with MKL, when there are less chunks than available threads. You can avoid it by setting the environment variable OMP_NUM_THREADS=10.\n",
      "  warnings.warn(\n"
     ]
    },
    {
     "name": "stdout",
     "output_type": "stream",
     "text": [
      "Converged at step 86, e = 268.6880, rel_change=9.851e-04\n",
      "Converged at step 84, e = 2.9438, rel_change=9.472e-04\n",
      "Acc(NMI) = 0.0605 (0.0298)\n"
     ]
    },
    {
     "name": "stderr",
     "output_type": "stream",
     "text": [
      "D:\\Software\\Anaconda3\\anaconda3\\Lib\\site-packages\\sklearn\\cluster\\_kmeans.py:1429: UserWarning: KMeans is known to have a memory leak on Windows with MKL, when there are less chunks than available threads. You can avoid it by setting the environment variable OMP_NUM_THREADS=10.\n",
      "  warnings.warn(\n"
     ]
    },
    {
     "name": "stdout",
     "output_type": "stream",
     "text": [
      "Converged at step 56, e = 621.7365, rel_change=9.848e-04\n",
      "Converged at step 112, e = 2.1365, rel_change=9.488e-04\n",
      "Acc(NMI) = 0.0650 (0.0377)\n"
     ]
    },
    {
     "name": "stderr",
     "output_type": "stream",
     "text": [
      "D:\\Software\\Anaconda3\\anaconda3\\Lib\\site-packages\\sklearn\\cluster\\_kmeans.py:1429: UserWarning: KMeans is known to have a memory leak on Windows with MKL, when there are less chunks than available threads. You can avoid it by setting the environment variable OMP_NUM_THREADS=10.\n",
      "  warnings.warn(\n"
     ]
    },
    {
     "name": "stdout",
     "output_type": "stream",
     "text": [
      "Converged at step 46, e = 959.1487, rel_change=9.757e-04\n",
      "Converged at step 58, e = 1.3113, rel_change=9.852e-04\n",
      "Acc(NMI) = 0.0650 (0.0431)\n"
     ]
    },
    {
     "name": "stderr",
     "output_type": "stream",
     "text": [
      "D:\\Software\\Anaconda3\\anaconda3\\Lib\\site-packages\\sklearn\\cluster\\_kmeans.py:1429: UserWarning: KMeans is known to have a memory leak on Windows with MKL, when there are less chunks than available threads. You can avoid it by setting the environment variable OMP_NUM_THREADS=10.\n",
      "  warnings.warn(\n"
     ]
    },
    {
     "name": "stdout",
     "output_type": "stream",
     "text": [
      "Converged at step 39, e = 1175.3605, rel_change=9.582e-04\n",
      "Converged at step 99, e = 0.9151, rel_change=9.929e-04\n",
      "Acc(NMI) = 0.0729 (0.0602)\n"
     ]
    },
    {
     "name": "stderr",
     "output_type": "stream",
     "text": [
      "D:\\Software\\Anaconda3\\anaconda3\\Lib\\site-packages\\sklearn\\cluster\\_kmeans.py:1429: UserWarning: KMeans is known to have a memory leak on Windows with MKL, when there are less chunks than available threads. You can avoid it by setting the environment variable OMP_NUM_THREADS=10.\n",
      "  warnings.warn(\n"
     ]
    },
    {
     "name": "stdout",
     "output_type": "stream",
     "text": [
      "Converged at step 3, e = 1351.8121, rel_change=9.426e-04\n",
      "Converged at step 66, e = 1.2961, rel_change=9.841e-04\n",
      "Acc(NMI) = 0.0800 (0.0681)\n"
     ]
    },
    {
     "name": "stderr",
     "output_type": "stream",
     "text": [
      "D:\\Software\\Anaconda3\\anaconda3\\Lib\\site-packages\\sklearn\\cluster\\_kmeans.py:1429: UserWarning: KMeans is known to have a memory leak on Windows with MKL, when there are less chunks than available threads. You can avoid it by setting the environment variable OMP_NUM_THREADS=10.\n",
      "  warnings.warn(\n"
     ]
    },
    {
     "name": "stdout",
     "output_type": "stream",
     "text": [
      "Converged at step 4, e = 1274.9109, rel_change=9.149e-04\n",
      "Converged at step 82, e = 1.2611, rel_change=9.987e-04\n",
      "Acc(NMI) = 0.0783 (0.0626)\n"
     ]
    },
    {
     "name": "stderr",
     "output_type": "stream",
     "text": [
      "D:\\Software\\Anaconda3\\anaconda3\\Lib\\site-packages\\sklearn\\cluster\\_kmeans.py:1429: UserWarning: KMeans is known to have a memory leak on Windows with MKL, when there are less chunks than available threads. You can avoid it by setting the environment variable OMP_NUM_THREADS=10.\n",
      "  warnings.warn(\n"
     ]
    },
    {
     "name": "stdout",
     "output_type": "stream",
     "text": [
      "Converged at step 74, e = 262.4783, rel_change=9.837e-04\n",
      "Converged at step 40, e = 3.2985, rel_change=9.615e-04\n",
      "Acc(NMI) = 0.0713 (0.0506)\n"
     ]
    },
    {
     "name": "stderr",
     "output_type": "stream",
     "text": [
      "D:\\Software\\Anaconda3\\anaconda3\\Lib\\site-packages\\sklearn\\cluster\\_kmeans.py:1429: UserWarning: KMeans is known to have a memory leak on Windows with MKL, when there are less chunks than available threads. You can avoid it by setting the environment variable OMP_NUM_THREADS=10.\n",
      "  warnings.warn(\n"
     ]
    },
    {
     "name": "stdout",
     "output_type": "stream",
     "text": [
      "Converged at step 64, e = 614.6481, rel_change=9.907e-04\n",
      "Converged at step 43, e = 2.1477, rel_change=9.747e-04\n",
      "Acc(NMI) = 0.0634 (0.0365)\n"
     ]
    },
    {
     "name": "stderr",
     "output_type": "stream",
     "text": [
      "D:\\Software\\Anaconda3\\anaconda3\\Lib\\site-packages\\sklearn\\cluster\\_kmeans.py:1429: UserWarning: KMeans is known to have a memory leak on Windows with MKL, when there are less chunks than available threads. You can avoid it by setting the environment variable OMP_NUM_THREADS=10.\n",
      "  warnings.warn(\n"
     ]
    },
    {
     "name": "stdout",
     "output_type": "stream",
     "text": [
      "Converged at step 44, e = 956.6315, rel_change=9.972e-04\n",
      "Converged at step 56, e = 1.4399, rel_change=9.966e-04\n",
      "Acc(NMI) = 0.0679 (0.0450)\n"
     ]
    },
    {
     "name": "stderr",
     "output_type": "stream",
     "text": [
      "D:\\Software\\Anaconda3\\anaconda3\\Lib\\site-packages\\sklearn\\cluster\\_kmeans.py:1429: UserWarning: KMeans is known to have a memory leak on Windows with MKL, when there are less chunks than available threads. You can avoid it by setting the environment variable OMP_NUM_THREADS=10.\n",
      "  warnings.warn(\n"
     ]
    },
    {
     "name": "stdout",
     "output_type": "stream",
     "text": [
      "Converged at step 3, e = 1354.4908, rel_change=9.806e-04\n",
      "Converged at step 69, e = 1.2699, rel_change=9.846e-04\n",
      "Acc(NMI) = 0.0783 (0.0669)\n"
     ]
    },
    {
     "name": "stderr",
     "output_type": "stream",
     "text": [
      "D:\\Software\\Anaconda3\\anaconda3\\Lib\\site-packages\\sklearn\\cluster\\_kmeans.py:1429: UserWarning: KMeans is known to have a memory leak on Windows with MKL, when there are less chunks than available threads. You can avoid it by setting the environment variable OMP_NUM_THREADS=10.\n",
      "  warnings.warn(\n"
     ]
    },
    {
     "name": "stdout",
     "output_type": "stream",
     "text": [
      "Converged at step 3, e = 1351.4633, rel_change=9.471e-04\n",
      "Converged at step 67, e = 1.2455, rel_change=9.960e-04\n",
      "Acc(NMI) = 0.0729 (0.0635)\n"
     ]
    },
    {
     "name": "stderr",
     "output_type": "stream",
     "text": [
      "D:\\Software\\Anaconda3\\anaconda3\\Lib\\site-packages\\sklearn\\cluster\\_kmeans.py:1429: UserWarning: KMeans is known to have a memory leak on Windows with MKL, when there are less chunks than available threads. You can avoid it by setting the environment variable OMP_NUM_THREADS=10.\n",
      "  warnings.warn(\n"
     ]
    },
    {
     "name": "stdout",
     "output_type": "stream",
     "text": [
      "Converged at step 4, e = 1274.7925, rel_change=9.160e-04\n",
      "Converged at step 73, e = 1.3101, rel_change=9.877e-04\n",
      "Acc(NMI) = 0.0791 (0.0737)\n"
     ]
    },
    {
     "name": "stderr",
     "output_type": "stream",
     "text": [
      "D:\\Software\\Anaconda3\\anaconda3\\Lib\\site-packages\\sklearn\\cluster\\_kmeans.py:1429: UserWarning: KMeans is known to have a memory leak on Windows with MKL, when there are less chunks than available threads. You can avoid it by setting the environment variable OMP_NUM_THREADS=10.\n",
      "  warnings.warn(\n"
     ]
    }
   ],
   "source": [
    "Algo = 'StackedNMF'\n",
    "Data = 'YaleB'\n",
    "dataset = 'data/CroppedYaleB'\n",
    "reduce = 3\n",
    "X, Y = load_data(dataset, reduce=reduce)\n",
    "seeds = [0,1,2,3,4]\n",
    "pr_lst = [(0,0),(0.1,0.1),(0.2,0.2),(0.3,0.3),(0.4,0.4),(0.5,0.5)]\n",
    "record_SNMF_Yale = []\n",
    "layer_ranks=[10, 6]\n",
    "steps_per_layer = 10000\n",
    "tol = 1e-3\n",
    "eps = 1e-9\n",
    "\n",
    "for seed in seeds:\n",
    "    np.random.seed(seed)\n",
    "    for p, r in pr_lst:\n",
    "        # X_noisy, noise = salt_pepper(X, p, r)\n",
    "        X_noisy, Y = load_data_salt_pepper(dataset, reduce, p, r)\n",
    "        start = time.time()\n",
    "        H_final, PH, step = stackedNMF(X_noisy, layer_ranks=layer_ranks, steps_per_layer = steps_per_layer, tol = tol, eps=eps)\n",
    "        end = time.time()\n",
    "        timeusing = end - start\n",
    "        rre = relative_reconstruction_error(X_noisy, PH)\n",
    "        acc, nmi = evaluate_clustering(H_final, Y)\n",
    "        record_SNMF_Yale.append(((p,r),acc,nmi,rre,tol,step,seed,timeusing))"
   ]
  },
  {
   "cell_type": "code",
   "execution_count": 15,
   "id": "87c97055-a834-4226-97ee-90f27342da72",
   "metadata": {
    "scrolled": true
   },
   "outputs": [
    {
     "name": "stdout",
     "output_type": "stream",
     "text": [
      "         (p,r)       acc       nmi       rre    tol  step  seed       time\n",
      "0       (0, 0)  0.066694  0.038871  0.374514  0.001    55     0  18.243205\n",
      "1   (0.1, 0.1)  0.064623  0.039698  0.521901  0.001    67     0  13.451988\n",
      "2   (0.2, 0.2)  0.071251  0.047830  0.634970  0.001    92     0  10.755128\n",
      "3   (0.3, 0.3)  0.073737  0.059138  0.747737  0.001    61     0   1.307281\n",
      "4   (0.4, 0.4)  0.076222  0.053765  0.747035  0.001    79     0   1.314829\n",
      "5   (0.5, 0.5)  0.073322  0.053129  0.725264  0.001    76     0   1.484611\n",
      "6       (0, 0)  0.072080  0.064078  0.377293  0.001    42     1  18.211822\n",
      "7   (0.1, 0.1)  0.066694  0.036753  0.518907  0.001    46     1  12.805039\n",
      "8   (0.2, 0.2)  0.072080  0.049175  0.635479  0.001    96     1  12.431298\n",
      "9   (0.3, 0.3)  0.074979  0.065816  0.747690  0.001    85     1   1.445989\n",
      "10  (0.4, 0.4)  0.082850  0.073509  0.746978  0.001    64     1   1.326759\n",
      "11  (0.5, 0.5)  0.074565  0.065014  0.725254  0.001    71     1   1.313086\n",
      "12      (0, 0)  0.064623  0.044412  0.372107  0.001    49     2  19.937205\n",
      "13  (0.1, 0.1)  0.068351  0.045271  0.525365  0.001    45     2  14.320850\n",
      "14  (0.2, 0.2)  0.074565  0.060007  0.635533  0.001    49     2  10.621382\n",
      "15  (0.3, 0.3)  0.071665  0.057013  0.747560  0.001    74     2   1.725435\n",
      "16  (0.4, 0.4)  0.075808  0.057873  0.746935  0.001    61     2   1.822317\n",
      "17  (0.5, 0.5)  0.077051  0.065390  0.725352  0.001    70     2   2.372186\n",
      "18      (0, 0)  0.060481  0.029750  0.370357  0.001    85     3  19.744714\n",
      "19  (0.1, 0.1)  0.065037  0.037664  0.521197  0.001   113     3  13.693804\n",
      "20  (0.2, 0.2)  0.065037  0.043081  0.634339  0.001    59     3  11.151928\n",
      "21  (0.3, 0.3)  0.072908  0.060153  0.698679  0.001   100     3   9.197871\n",
      "22  (0.4, 0.4)  0.079950  0.068063  0.746901  0.001    67     3   1.999387\n",
      "23  (0.5, 0.5)  0.078293  0.062619  0.725442  0.001    83     3   2.004392\n",
      "24      (0, 0)  0.071251  0.050560  0.382011  0.001    41     4  17.050275\n",
      "25  (0.1, 0.1)  0.063380  0.036549  0.519629  0.001    44     4  14.558200\n",
      "26  (0.2, 0.2)  0.067937  0.044997  0.634387  0.001    57     4  10.747710\n",
      "27  (0.3, 0.3)  0.078293  0.066882  0.747749  0.001    70     4   1.599943\n",
      "28  (0.4, 0.4)  0.072908  0.063518  0.746931  0.001    68     4   1.568563\n",
      "29  (0.5, 0.5)  0.079122  0.073676  0.725332  0.001    74     4   1.623711\n",
      "        (p,r)  RRE_mean   RRE_std  ACC_mean   ACC_std  NMI_mean   NMI_std\n",
      "0      (0, 0)  0.375257  0.004589  0.067026  0.004799  0.045534  0.012883\n",
      "1  (0.1, 0.1)  0.521400  0.002518  0.065617  0.001934  0.039187  0.003622\n",
      "2  (0.2, 0.2)  0.634942  0.000572  0.070174  0.003724  0.049018  0.006588\n",
      "3  (0.3, 0.3)  0.737883  0.021916  0.074316  0.002530  0.061801  0.004321\n",
      "4  (0.4, 0.4)  0.746956  0.000052  0.077548  0.003879  0.063345  0.007863\n",
      "5  (0.5, 0.5)  0.725329  0.000076  0.076471  0.002461  0.063966  0.007360\n"
     ]
    }
   ],
   "source": [
    "df_SNMF_Yale = pd.DataFrame(record_SNMF_Yale, columns=['(p,r)','acc','nmi','rre','tol','step','seed','time'])\n",
    "print(df_SNMF_Yale)\n",
    "summary = df_SNMF_Yale.groupby(['(p,r)']).agg(\n",
    "    RRE_mean=('rre', 'mean'),\n",
    "    RRE_std=('rre', 'std'),\n",
    "    ACC_mean=('acc', 'mean'),\n",
    "    ACC_std=('acc', 'std'),\n",
    "    NMI_mean=('nmi', 'mean'),\n",
    "    NMI_std=('nmi', 'std')\n",
    ").reset_index()\n",
    "print(summary)\n",
    "df_SNMF_Yale.to_excel(f'{Algo}_{Data}.xlsx', index=True)"
   ]
  },
  {
   "cell_type": "code",
   "execution_count": 18,
   "id": "bfd3d8e3-6e1b-48b7-ac65-ab556734a5d9",
   "metadata": {},
   "outputs": [
    {
     "name": "stdout",
     "output_type": "stream",
     "text": [
      "Looking in indexes: https://mirrors.aliyun.com/pypi/simple/\n",
      "Requirement already satisfied: psutil in d:\\software\\anaconda3\\anaconda3\\lib\\site-packages (5.9.0)\n"
     ]
    },
    {
     "name": "stderr",
     "output_type": "stream",
     "text": [
      "\n",
      "[notice] A new release of pip is available: 25.1.1 -> 25.2\n",
      "[notice] To update, run: python.exe -m pip install --upgrade pip\n"
     ]
    }
   ],
   "source": [
    "!pip install psutil"
   ]
  },
  {
   "cell_type": "code",
   "execution_count": 19,
   "id": "04536212-9712-4596-9217-222e8db88024",
   "metadata": {},
   "outputs": [
    {
     "name": "stdout",
     "output_type": "stream",
     "text": [
      "======================================== System Information ========================================\n",
      "Operating System: Windows 11\n",
      "Version: 10.0.26100\n",
      "Architecture: AMD64\n",
      "Processor: Intel64 Family 6 Model 183 Stepping 1, GenuineIntel\n",
      "Hostname: wilsonng\n",
      "Current Time: 2025-10-23 19:57:27\n",
      "\n",
      " ======================================== CPU Information ========================================\n",
      "Physical Cores: 14\n",
      "Total Cores (Logical): 20\n",
      "Max Frequency: 2600.00Mhz\n",
      "Current Frequency: 2600.00Mhz\n",
      "\n",
      " ======================================== Memory Information ========================================\n",
      "Total: 23.73GB\n",
      "Used: 15.05GB\n",
      "Available: 8.68GB\n",
      "Percentage: 63.4%\n",
      "\n",
      " ======================================== Python Environment ========================================\n",
      "Python Version: 3.12.3 | packaged by conda-forge | (main, Apr 15 2024, 18:20:11) [MSC v.1938 64 bit (AMD64)]\n",
      "Jupyter Kernel: CPython 3.12.3\n"
     ]
    }
   ],
   "source": [
    "import platform\n",
    "import psutil\n",
    "import datetime\n",
    "import sys\n",
    "\n",
    "def get_size(bytes, suffix=\"B\"):\n",
    "    \"\"\"\n",
    "    Scale bytes to its proper format (e.g., 1024 -> 1KB)\n",
    "    \"\"\"\n",
    "    factor = 1024\n",
    "    for unit in [\"\", \"K\", \"M\", \"G\", \"T\", \"P\"]:\n",
    "        if bytes < factor:\n",
    "            return f\"{bytes:.2f}{unit}{suffix}\"\n",
    "        bytes /= factor\n",
    "\n",
    "print(\"=\"*40, \"System Information\", \"=\"*40)\n",
    "uname = platform.uname()\n",
    "print(f\"Operating System: {uname.system} {uname.release}\")\n",
    "print(f\"Version: {uname.version}\")\n",
    "print(f\"Architecture: {uname.machine}\")\n",
    "print(f\"Processor: {uname.processor}\")\n",
    "print(f\"Hostname: {uname.node}\")\n",
    "print(f\"Current Time: {datetime.datetime.now().strftime('%Y-%m-%d %H:%M:%S')}\")\n",
    "\n",
    "print(\"\\n\", \"=\"*40, \"CPU Information\", \"=\"*40)\n",
    "print(f\"Physical Cores: {psutil.cpu_count(logical=False)}\")\n",
    "print(f\"Total Cores (Logical): {psutil.cpu_count(logical=True)}\")\n",
    "cpufreq = psutil.cpu_freq()\n",
    "print(f\"Max Frequency: {cpufreq.max:.2f}Mhz\")\n",
    "print(f\"Current Frequency: {cpufreq.current:.2f}Mhz\")\n",
    "\n",
    "print(\"\\n\", \"=\"*40, \"Memory Information\", \"=\"*40)\n",
    "svmem = psutil.virtual_memory()\n",
    "print(f\"Total: {get_size(svmem.total)}\")\n",
    "print(f\"Used: {get_size(svmem.used)}\")\n",
    "print(f\"Available: {get_size(svmem.available)}\")\n",
    "print(f\"Percentage: {svmem.percent}%\")\n",
    "\n",
    "print(\"\\n\", \"=\"*40, \"Python Environment\", \"=\"*40)\n",
    "print(f\"Python Version: {sys.version}\")\n",
    "print(f\"Jupyter Kernel: {platform.python_implementation()} {platform.python_version()}\")"
   ]
  },
  {
   "cell_type": "code",
   "execution_count": 20,
   "id": "8e0020cd-1ce8-4706-84e3-bd0eff24540e",
   "metadata": {},
   "outputs": [
    {
     "name": "stdout",
     "output_type": "stream",
     "text": [
      "======================================== Key Library Versions ========================================\n",
      "NumPy Version: 1.26.4\n",
      "Pandas Version: 2.2.2\n",
      "SciPy Version: 1.13.1\n",
      "Matplotlib Version: 3.10.3\n",
      "Scikit-learn Version: 1.5.1\n",
      "PyTorch Version: 2.5.1\n",
      "CUDA Available: Yes\n",
      "GPU Device: NVIDIA GeForce RTX 4060 Laptop GPU\n",
      "TensorFlow Version: 2.19.0\n"
     ]
    }
   ],
   "source": [
    "import numpy\n",
    "import pandas\n",
    "import scipy\n",
    "import matplotlib\n",
    "import sklearn\n",
    "\n",
    "print(\"=\"*40, \"Key Library Versions\", \"=\"*40)\n",
    "print(f\"NumPy Version: {numpy.__version__}\")\n",
    "print(f\"Pandas Version: {pandas.__version__}\")\n",
    "print(f\"SciPy Version: {scipy.__version__}\")\n",
    "print(f\"Matplotlib Version: {matplotlib.__version__}\")\n",
    "print(f\"Scikit-learn Version: {sklearn.__version__}\")\n",
    "\n",
    "# Example for deep learning frameworks\n",
    "try:\n",
    "    import torch\n",
    "    print(f\"PyTorch Version: {torch.__version__}\")\n",
    "    if torch.cuda.is_available():\n",
    "        print(f\"CUDA Available: Yes\")\n",
    "        print(f\"GPU Device: {torch.cuda.get_device_name(0)}\")\n",
    "except ImportError:\n",
    "    print(\"PyTorch not installed.\")\n",
    "\n",
    "try:\n",
    "    import tensorflow\n",
    "    print(f\"TensorFlow Version: {tensorflow.__version__}\")\n",
    "except ImportError:\n",
    "    print(\"TensorFlow not installed.\")"
   ]
  }
 ],
 "metadata": {
  "kernelspec": {
   "display_name": "Python 3 (ipykernel)",
   "language": "python",
   "name": "python3"
  },
  "language_info": {
   "codemirror_mode": {
    "name": "ipython",
    "version": 3
   },
   "file_extension": ".py",
   "mimetype": "text/x-python",
   "name": "python",
   "nbconvert_exporter": "python",
   "pygments_lexer": "ipython3",
   "version": "3.12.3"
  }
 },
 "nbformat": 4,
 "nbformat_minor": 5
}
